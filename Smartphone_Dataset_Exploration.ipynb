{
 "cells": [
  {
   "cell_type": "code",
   "execution_count": 19,
   "metadata": {},
   "outputs": [],
   "source": [
    "import numpy as np\n",
    "import pandas as pd\n",
    "import matplotlib.pyplot as plt\n",
    "import seaborn as sns\n",
    "import warnings\n",
    "warnings.filterwarnings(\"ignore\")\n",
    "import plotly.express as px\n",
    "import plotly.graph_objects as go"
   ]
  },
  {
   "cell_type": "code",
   "execution_count": 20,
   "metadata": {},
   "outputs": [
    {
     "data": {
      "text/html": [
       "<div>\n",
       "<style scoped>\n",
       "    .dataframe tbody tr th:only-of-type {\n",
       "        vertical-align: middle;\n",
       "    }\n",
       "\n",
       "    .dataframe tbody tr th {\n",
       "        vertical-align: top;\n",
       "    }\n",
       "\n",
       "    .dataframe thead th {\n",
       "        text-align: right;\n",
       "    }\n",
       "</style>\n",
       "<table border=\"1\" class=\"dataframe\">\n",
       "  <thead>\n",
       "    <tr style=\"text-align: right;\">\n",
       "      <th></th>\n",
       "      <th>model</th>\n",
       "      <th>price</th>\n",
       "      <th>rating</th>\n",
       "      <th>sim</th>\n",
       "      <th>processor</th>\n",
       "      <th>ram</th>\n",
       "      <th>battery</th>\n",
       "      <th>display</th>\n",
       "      <th>camera</th>\n",
       "      <th>card</th>\n",
       "      <th>os</th>\n",
       "    </tr>\n",
       "  </thead>\n",
       "  <tbody>\n",
       "    <tr>\n",
       "      <th>0</th>\n",
       "      <td>OnePlus 11 5G</td>\n",
       "      <td>?54,999</td>\n",
       "      <td>89.0</td>\n",
       "      <td>Dual Sim, 3G, 4G, 5G, VoLTE, Wi-Fi, NFC</td>\n",
       "      <td>Snapdragon 8 Gen2, Octa Core, 3.2?GHz Processor</td>\n",
       "      <td>12?GB RAM, 256?GB inbuilt</td>\n",
       "      <td>5000?mAh Battery with 100W Fast Charging</td>\n",
       "      <td>6.7 inches, 1440?x?3216?px, 120 Hz Display wit...</td>\n",
       "      <td>50?MP + 48?MP + 32?MP Triple Rear &amp; 16?MP Fron...</td>\n",
       "      <td>Memory Card Not Supported</td>\n",
       "      <td>Android v13</td>\n",
       "    </tr>\n",
       "    <tr>\n",
       "      <th>1</th>\n",
       "      <td>OnePlus Nord CE 2 Lite 5G</td>\n",
       "      <td>?19,989</td>\n",
       "      <td>81.0</td>\n",
       "      <td>Dual Sim, 3G, 4G, 5G, VoLTE, Wi-Fi</td>\n",
       "      <td>Snapdragon 695, Octa Core, 2.2?GHz Processor</td>\n",
       "      <td>6?GB RAM, 128?GB inbuilt</td>\n",
       "      <td>5000?mAh Battery with 33W Fast Charging</td>\n",
       "      <td>6.59 inches, 1080?x?2412?px, 120 Hz Display wi...</td>\n",
       "      <td>64?MP + 2?MP + 2?MP Triple Rear &amp; 16?MP Front ...</td>\n",
       "      <td>Memory Card (Hybrid), upto 1?TB</td>\n",
       "      <td>Android v12</td>\n",
       "    </tr>\n",
       "    <tr>\n",
       "      <th>2</th>\n",
       "      <td>Samsung Galaxy A14 5G</td>\n",
       "      <td>?16,499</td>\n",
       "      <td>75.0</td>\n",
       "      <td>Dual Sim, 3G, 4G, 5G, VoLTE, Wi-Fi</td>\n",
       "      <td>Exynos 1330, Octa Core, 2.4?GHz Processor</td>\n",
       "      <td>4?GB RAM, 64?GB inbuilt</td>\n",
       "      <td>5000?mAh Battery with 15W Fast Charging</td>\n",
       "      <td>6.6 inches, 1080?x?2408?px, 90 Hz Display with...</td>\n",
       "      <td>50?MP + 2?MP + 2?MP Triple Rear &amp; 13?MP Front ...</td>\n",
       "      <td>Memory Card Supported, upto 1?TB</td>\n",
       "      <td>Android v13</td>\n",
       "    </tr>\n",
       "    <tr>\n",
       "      <th>3</th>\n",
       "      <td>Motorola Moto G62 5G</td>\n",
       "      <td>?14,999</td>\n",
       "      <td>81.0</td>\n",
       "      <td>Dual Sim, 3G, 4G, 5G, VoLTE, Wi-Fi</td>\n",
       "      <td>Snapdragon  695, Octa Core, 2.2?GHz Processor</td>\n",
       "      <td>6?GB RAM, 128?GB inbuilt</td>\n",
       "      <td>5000?mAh Battery with Fast Charging</td>\n",
       "      <td>6.55 inches, 1080?x?2400?px, 120 Hz Display wi...</td>\n",
       "      <td>50?MP + 8?MP + 2?MP Triple Rear &amp; 16?MP Front ...</td>\n",
       "      <td>Memory Card (Hybrid), upto 1?TB</td>\n",
       "      <td>Android v12</td>\n",
       "    </tr>\n",
       "    <tr>\n",
       "      <th>4</th>\n",
       "      <td>Realme 10 Pro Plus</td>\n",
       "      <td>?24,999</td>\n",
       "      <td>82.0</td>\n",
       "      <td>Dual Sim, 3G, 4G, 5G, VoLTE, Wi-Fi</td>\n",
       "      <td>Dimensity 1080, Octa Core, 2.6?GHz Processor</td>\n",
       "      <td>6?GB RAM, 128?GB inbuilt</td>\n",
       "      <td>5000?mAh Battery with 67W Fast Charging</td>\n",
       "      <td>6.7 inches, 1080?x?2412?px, 120 Hz Display wit...</td>\n",
       "      <td>108?MP + 8?MP + 2?MP Triple Rear &amp; 16?MP Front...</td>\n",
       "      <td>Memory Card Not Supported</td>\n",
       "      <td>Android v13</td>\n",
       "    </tr>\n",
       "  </tbody>\n",
       "</table>\n",
       "</div>"
      ],
      "text/plain": [
       "                       model    price  rating  \\\n",
       "0              OnePlus 11 5G  ?54,999    89.0   \n",
       "1  OnePlus Nord CE 2 Lite 5G  ?19,989    81.0   \n",
       "2      Samsung Galaxy A14 5G  ?16,499    75.0   \n",
       "3       Motorola Moto G62 5G  ?14,999    81.0   \n",
       "4         Realme 10 Pro Plus  ?24,999    82.0   \n",
       "\n",
       "                                       sim  \\\n",
       "0  Dual Sim, 3G, 4G, 5G, VoLTE, Wi-Fi, NFC   \n",
       "1       Dual Sim, 3G, 4G, 5G, VoLTE, Wi-Fi   \n",
       "2       Dual Sim, 3G, 4G, 5G, VoLTE, Wi-Fi   \n",
       "3       Dual Sim, 3G, 4G, 5G, VoLTE, Wi-Fi   \n",
       "4       Dual Sim, 3G, 4G, 5G, VoLTE, Wi-Fi   \n",
       "\n",
       "                                         processor                        ram  \\\n",
       "0  Snapdragon 8 Gen2, Octa Core, 3.2?GHz Processor  12?GB RAM, 256?GB inbuilt   \n",
       "1     Snapdragon 695, Octa Core, 2.2?GHz Processor   6?GB RAM, 128?GB inbuilt   \n",
       "2        Exynos 1330, Octa Core, 2.4?GHz Processor    4?GB RAM, 64?GB inbuilt   \n",
       "3    Snapdragon  695, Octa Core, 2.2?GHz Processor   6?GB RAM, 128?GB inbuilt   \n",
       "4     Dimensity 1080, Octa Core, 2.6?GHz Processor   6?GB RAM, 128?GB inbuilt   \n",
       "\n",
       "                                    battery  \\\n",
       "0  5000?mAh Battery with 100W Fast Charging   \n",
       "1   5000?mAh Battery with 33W Fast Charging   \n",
       "2   5000?mAh Battery with 15W Fast Charging   \n",
       "3       5000?mAh Battery with Fast Charging   \n",
       "4   5000?mAh Battery with 67W Fast Charging   \n",
       "\n",
       "                                             display  \\\n",
       "0  6.7 inches, 1440?x?3216?px, 120 Hz Display wit...   \n",
       "1  6.59 inches, 1080?x?2412?px, 120 Hz Display wi...   \n",
       "2  6.6 inches, 1080?x?2408?px, 90 Hz Display with...   \n",
       "3  6.55 inches, 1080?x?2400?px, 120 Hz Display wi...   \n",
       "4  6.7 inches, 1080?x?2412?px, 120 Hz Display wit...   \n",
       "\n",
       "                                              camera  \\\n",
       "0  50?MP + 48?MP + 32?MP Triple Rear & 16?MP Fron...   \n",
       "1  64?MP + 2?MP + 2?MP Triple Rear & 16?MP Front ...   \n",
       "2  50?MP + 2?MP + 2?MP Triple Rear & 13?MP Front ...   \n",
       "3  50?MP + 8?MP + 2?MP Triple Rear & 16?MP Front ...   \n",
       "4  108?MP + 8?MP + 2?MP Triple Rear & 16?MP Front...   \n",
       "\n",
       "                               card           os  \n",
       "0         Memory Card Not Supported  Android v13  \n",
       "1   Memory Card (Hybrid), upto 1?TB  Android v12  \n",
       "2  Memory Card Supported, upto 1?TB  Android v13  \n",
       "3   Memory Card (Hybrid), upto 1?TB  Android v12  \n",
       "4         Memory Card Not Supported  Android v13  "
      ]
     },
     "execution_count": 20,
     "metadata": {},
     "output_type": "execute_result"
    }
   ],
   "source": [
    "df = pd.read_csv('Smartphone.csv')\n",
    "df.head()"
   ]
  },
  {
   "cell_type": "code",
   "execution_count": 21,
   "metadata": {},
   "outputs": [
    {
     "data": {
      "text/plain": [
       "model          1\n",
       "price          0\n",
       "rating       141\n",
       "sim            0\n",
       "processor      0\n",
       "ram            0\n",
       "battery        0\n",
       "display        0\n",
       "camera         1\n",
       "card           7\n",
       "os            17\n",
       "dtype: int64"
      ]
     },
     "execution_count": 21,
     "metadata": {},
     "output_type": "execute_result"
    }
   ],
   "source": [
    "df.isnull().sum()"
   ]
  },
  {
   "cell_type": "code",
   "execution_count": 22,
   "metadata": {},
   "outputs": [
    {
     "data": {
      "text/plain": [
       "model        0\n",
       "price        0\n",
       "rating       0\n",
       "sim          0\n",
       "processor    0\n",
       "ram          0\n",
       "battery      0\n",
       "display      0\n",
       "camera       0\n",
       "card         0\n",
       "os           0\n",
       "dtype: int64"
      ]
     },
     "execution_count": 22,
     "metadata": {},
     "output_type": "execute_result"
    }
   ],
   "source": [
    "df.dropna(subset = ['os'], inplace=True)\n",
    "df.dropna(subset = ['model'], inplace=True)\n",
    "df.dropna(subset = ['card'], inplace = True)\n",
    "df.dropna(subset = ['camera'], inplace = True)\n",
    "df.dropna(subset = ['rating'], inplace = True)\n",
    "df.isnull().sum()"
   ]
  },
  {
   "cell_type": "code",
   "execution_count": 23,
   "metadata": {},
   "outputs": [
    {
     "data": {
      "text/plain": [
       "Text(0, 0.5, 'Count of Mobile OS Model')"
      ]
     },
     "execution_count": 23,
     "metadata": {},
     "output_type": "execute_result"
    },
    {
     "data": {
      "image/png": "[encoded data removed]",
      "text/plain": [
       "<Figure size 640x480 with 1 Axes>"
      ]
     },
     "metadata": {},
     "output_type": "display_data"
    }
   ],
   "source": [
    "plt.xticks(rotation=90, fontsize=10)\n",
    "sns.countplot(x= df['os'], data=df)\n",
    "plt.ylabel('Count of Mobile OS Model')"
   ]
  },
  {
   "cell_type": "code",
   "execution_count": 24,
   "metadata": {},
   "outputs": [
    {
     "data": {
      "text/html": [
       "<div>\n",
       "<style scoped>\n",
       "    .dataframe tbody tr th:only-of-type {\n",
       "        vertical-align: middle;\n",
       "    }\n",
       "\n",
       "    .dataframe tbody tr th {\n",
       "        vertical-align: top;\n",
       "    }\n",
       "\n",
       "    .dataframe thead th {\n",
       "        text-align: right;\n",
       "    }\n",
       "</style>\n",
       "<table border=\"1\" class=\"dataframe\">\n",
       "  <thead>\n",
       "    <tr style=\"text-align: right;\">\n",
       "      <th></th>\n",
       "      <th>screen_length</th>\n",
       "      <th>pixels</th>\n",
       "      <th>processor_name</th>\n",
       "      <th>processor</th>\n",
       "      <th>core</th>\n",
       "      <th>mobile_model</th>\n",
       "      <th>model_spec_name</th>\n",
       "      <th>price</th>\n",
       "      <th>os</th>\n",
       "      <th>battery</th>\n",
       "      <th>card</th>\n",
       "      <th>camera</th>\n",
       "      <th>sim</th>\n",
       "      <th>rating</th>\n",
       "      <th>ram</th>\n",
       "      <th>rom</th>\n",
       "    </tr>\n",
       "  </thead>\n",
       "  <tbody>\n",
       "    <tr>\n",
       "      <th>0</th>\n",
       "      <td>6.7 inches</td>\n",
       "      <td>120 Hz Display with Punch Hole</td>\n",
       "      <td>Snapdragon 8 Gen2</td>\n",
       "      <td>Snapdragon</td>\n",
       "      <td>3.2?GHz Processor</td>\n",
       "      <td>OnePlus</td>\n",
       "      <td>115G</td>\n",
       "      <td>54999</td>\n",
       "      <td>Android v13</td>\n",
       "      <td>5000?mAh Battery with 100W Fast Charging</td>\n",
       "      <td>Memory Card Not Supported</td>\n",
       "      <td>50?MP + 48?MP + 32?MP Triple Rear &amp; 16?MP Fron...</td>\n",
       "      <td>Dual Sim, 3G, 4G, 5G, VoLTE, Wi-Fi, NFC</td>\n",
       "      <td>89.0</td>\n",
       "      <td>12?GB RAM</td>\n",
       "      <td>256?GB inbuilt</td>\n",
       "    </tr>\n",
       "    <tr>\n",
       "      <th>1</th>\n",
       "      <td>6.59 inches</td>\n",
       "      <td>120 Hz Display with Punch Hole</td>\n",
       "      <td>Snapdragon 695</td>\n",
       "      <td>Snapdragon</td>\n",
       "      <td>2.2?GHz Processor</td>\n",
       "      <td>OnePlus</td>\n",
       "      <td>NordCE2Lite5G</td>\n",
       "      <td>19989</td>\n",
       "      <td>Android v12</td>\n",
       "      <td>5000?mAh Battery with 33W Fast Charging</td>\n",
       "      <td>Memory Card (Hybrid), upto 1?TB</td>\n",
       "      <td>64?MP + 2?MP + 2?MP Triple Rear &amp; 16?MP Front ...</td>\n",
       "      <td>Dual Sim, 3G, 4G, 5G, VoLTE, Wi-Fi</td>\n",
       "      <td>81.0</td>\n",
       "      <td>6?GB RAM</td>\n",
       "      <td>128?GB inbuilt</td>\n",
       "    </tr>\n",
       "    <tr>\n",
       "      <th>2</th>\n",
       "      <td>6.6 inches</td>\n",
       "      <td>90 Hz Display with Water Drop Notch</td>\n",
       "      <td>Exynos 1330</td>\n",
       "      <td>Exynos</td>\n",
       "      <td>2.4?GHz Processor</td>\n",
       "      <td>Samsung</td>\n",
       "      <td>GalaxyA145G</td>\n",
       "      <td>16499</td>\n",
       "      <td>Android v13</td>\n",
       "      <td>5000?mAh Battery with 15W Fast Charging</td>\n",
       "      <td>Memory Card Supported, upto 1?TB</td>\n",
       "      <td>50?MP + 2?MP + 2?MP Triple Rear &amp; 13?MP Front ...</td>\n",
       "      <td>Dual Sim, 3G, 4G, 5G, VoLTE, Wi-Fi</td>\n",
       "      <td>75.0</td>\n",
       "      <td>4?GB RAM</td>\n",
       "      <td>64?GB inbuilt</td>\n",
       "    </tr>\n",
       "    <tr>\n",
       "      <th>3</th>\n",
       "      <td>6.55 inches</td>\n",
       "      <td>120 Hz Display with Punch Hole</td>\n",
       "      <td>Snapdragon  695</td>\n",
       "      <td>Snapdragon</td>\n",
       "      <td>2.2?GHz Processor</td>\n",
       "      <td>Motorola</td>\n",
       "      <td>MotoG625G</td>\n",
       "      <td>14999</td>\n",
       "      <td>Android v12</td>\n",
       "      <td>5000?mAh Battery with Fast Charging</td>\n",
       "      <td>Memory Card (Hybrid), upto 1?TB</td>\n",
       "      <td>50?MP + 8?MP + 2?MP Triple Rear &amp; 16?MP Front ...</td>\n",
       "      <td>Dual Sim, 3G, 4G, 5G, VoLTE, Wi-Fi</td>\n",
       "      <td>81.0</td>\n",
       "      <td>6?GB RAM</td>\n",
       "      <td>128?GB inbuilt</td>\n",
       "    </tr>\n",
       "    <tr>\n",
       "      <th>4</th>\n",
       "      <td>6.7 inches</td>\n",
       "      <td>120 Hz Display with Punch Hole</td>\n",
       "      <td>Dimensity 1080</td>\n",
       "      <td>Dimensity</td>\n",
       "      <td>2.6?GHz Processor</td>\n",
       "      <td>Realme</td>\n",
       "      <td>10ProPlus</td>\n",
       "      <td>24999</td>\n",
       "      <td>Android v13</td>\n",
       "      <td>5000?mAh Battery with 67W Fast Charging</td>\n",
       "      <td>Memory Card Not Supported</td>\n",
       "      <td>108?MP + 8?MP + 2?MP Triple Rear &amp; 16?MP Front...</td>\n",
       "      <td>Dual Sim, 3G, 4G, 5G, VoLTE, Wi-Fi</td>\n",
       "      <td>82.0</td>\n",
       "      <td>6?GB RAM</td>\n",
       "      <td>128?GB inbuilt</td>\n",
       "    </tr>\n",
       "    <tr>\n",
       "      <th>...</th>\n",
       "      <td>...</td>\n",
       "      <td>...</td>\n",
       "      <td>...</td>\n",
       "      <td>...</td>\n",
       "      <td>...</td>\n",
       "      <td>...</td>\n",
       "      <td>...</td>\n",
       "      <td>...</td>\n",
       "      <td>...</td>\n",
       "      <td>...</td>\n",
       "      <td>...</td>\n",
       "      <td>...</td>\n",
       "      <td>...</td>\n",
       "      <td>...</td>\n",
       "      <td>...</td>\n",
       "      <td>...</td>\n",
       "    </tr>\n",
       "    <tr>\n",
       "      <th>1015</th>\n",
       "      <td>6.67 inches</td>\n",
       "      <td>120 Hz Display with Punch Hole</td>\n",
       "      <td>Snapdragon 8 Gen1</td>\n",
       "      <td>Snapdragon</td>\n",
       "      <td>3?GHz Processor</td>\n",
       "      <td>Motorola</td>\n",
       "      <td>MotoEdgeS30Pro</td>\n",
       "      <td>34990</td>\n",
       "      <td>No FM Radio</td>\n",
       "      <td>5000?mAh Battery with 68.2W Fast Charging</td>\n",
       "      <td>Android v12</td>\n",
       "      <td>64?MP + 8?MP + 2?MP Triple Rear &amp; 16?MP Front ...</td>\n",
       "      <td>Dual Sim, 3G, 4G, 5G, VoLTE, Wi-Fi</td>\n",
       "      <td>83.0</td>\n",
       "      <td>8?GB RAM</td>\n",
       "      <td>128?GB inbuilt</td>\n",
       "    </tr>\n",
       "    <tr>\n",
       "      <th>1016</th>\n",
       "      <td>6.5 inches</td>\n",
       "      <td>720?x?1600?px Display with Water Drop Notch</td>\n",
       "      <td>Snapdragon  480+</td>\n",
       "      <td>Snapdragon</td>\n",
       "      <td>2.2?GHz Processor</td>\n",
       "      <td>Honor</td>\n",
       "      <td>X85G</td>\n",
       "      <td>14990</td>\n",
       "      <td>Android v11</td>\n",
       "      <td>5000?mAh Battery with 22.5W Fast Charging</td>\n",
       "      <td>Memory Card Supported, upto 1?TB</td>\n",
       "      <td>48?MP + 2?MP + Depth Sensor Triple Rear &amp; 8?MP...</td>\n",
       "      <td>Dual Sim, 3G, 4G, 5G, VoLTE, Wi-Fi</td>\n",
       "      <td>75.0</td>\n",
       "      <td>6?GB RAM</td>\n",
       "      <td>128?GB inbuilt</td>\n",
       "    </tr>\n",
       "    <tr>\n",
       "      <th>1017</th>\n",
       "      <td>6.6 inches</td>\n",
       "      <td>144 Hz Display with Punch Hole</td>\n",
       "      <td>Dimensity 8100</td>\n",
       "      <td>Dimensity</td>\n",
       "      <td>2.85?GHz Processor</td>\n",
       "      <td>POCO</td>\n",
       "      <td>X4GT5G(8GBRAM+256GB)</td>\n",
       "      <td>28990</td>\n",
       "      <td>Android v12</td>\n",
       "      <td>5080?mAh Battery with 67W Fast Charging</td>\n",
       "      <td>Memory Card Not Supported</td>\n",
       "      <td>64?MP + 8?MP + 2?MP Triple Rear &amp; 16?MP Front ...</td>\n",
       "      <td>Dual Sim, 3G, 4G, 5G, VoLTE, Wi-Fi, NFC, IR Bl...</td>\n",
       "      <td>85.0</td>\n",
       "      <td>8?GB RAM</td>\n",
       "      <td>256?GB inbuilt</td>\n",
       "    </tr>\n",
       "    <tr>\n",
       "      <th>1018</th>\n",
       "      <td>6.8 inches</td>\n",
       "      <td>1080?x?2400?px Display with Punch Hole</td>\n",
       "      <td>Snapdragon 695</td>\n",
       "      <td>Snapdragon</td>\n",
       "      <td>2.2?GHz Processor</td>\n",
       "      <td>Motorola</td>\n",
       "      <td>MotoG915G</td>\n",
       "      <td>19990</td>\n",
       "      <td>Android v12</td>\n",
       "      <td>5000?mAh Battery with Fast Charging</td>\n",
       "      <td>Memory Card Supported, upto 1?TB</td>\n",
       "      <td>108?MP + 8?MP + 2?MP Triple Rear &amp; 32?MP Front...</td>\n",
       "      <td>Dual Sim, 3G, 4G, 5G, VoLTE, Wi-Fi, NFC</td>\n",
       "      <td>80.0</td>\n",
       "      <td>6?GB RAM</td>\n",
       "      <td>128?GB inbuilt</td>\n",
       "    </tr>\n",
       "    <tr>\n",
       "      <th>1019</th>\n",
       "      <td>6.5 inches</td>\n",
       "      <td>1080?x?2400?px Display with Water Drop Notch</td>\n",
       "      <td>Octa Core Processor</td>\n",
       "      <td>Octa</td>\n",
       "      <td>Octa Core Processor</td>\n",
       "      <td>Samsung</td>\n",
       "      <td>GalaxyM52s5G</td>\n",
       "      <td>24990</td>\n",
       "      <td>Android v12</td>\n",
       "      <td>5000?mAh Battery with Fast Charging</td>\n",
       "      <td>Memory Card Supported, upto 1?TB</td>\n",
       "      <td>64?MP + 8?MP + 5?MP Triple Rear &amp; 32?MP Front ...</td>\n",
       "      <td>Dual Sim, 3G, 4G, 5G, VoLTE, Wi-Fi</td>\n",
       "      <td>74.0</td>\n",
       "      <td>8?GB RAM</td>\n",
       "      <td>128?GB inbuilt</td>\n",
       "    </tr>\n",
       "  </tbody>\n",
       "</table>\n",
       "<p>878 rows × 16 columns</p>\n",
       "</div>"
      ],
      "text/plain": [
       "     screen_length                                         pixels  \\\n",
       "0       6.7 inches                 120 Hz Display with Punch Hole   \n",
       "1      6.59 inches                 120 Hz Display with Punch Hole   \n",
       "2       6.6 inches            90 Hz Display with Water Drop Notch   \n",
       "3      6.55 inches                 120 Hz Display with Punch Hole   \n",
       "4       6.7 inches                 120 Hz Display with Punch Hole   \n",
       "...            ...                                            ...   \n",
       "1015   6.67 inches                 120 Hz Display with Punch Hole   \n",
       "1016    6.5 inches    720?x?1600?px Display with Water Drop Notch   \n",
       "1017    6.6 inches                 144 Hz Display with Punch Hole   \n",
       "1018    6.8 inches         1080?x?2400?px Display with Punch Hole   \n",
       "1019    6.5 inches   1080?x?2400?px Display with Water Drop Notch   \n",
       "\n",
       "           processor_name   processor                 core mobile_model  \\\n",
       "0       Snapdragon 8 Gen2  Snapdragon    3.2?GHz Processor      OnePlus   \n",
       "1          Snapdragon 695  Snapdragon    2.2?GHz Processor      OnePlus   \n",
       "2             Exynos 1330      Exynos    2.4?GHz Processor      Samsung   \n",
       "3         Snapdragon  695  Snapdragon    2.2?GHz Processor     Motorola   \n",
       "4          Dimensity 1080   Dimensity    2.6?GHz Processor       Realme   \n",
       "...                   ...         ...                  ...          ...   \n",
       "1015    Snapdragon 8 Gen1  Snapdragon      3?GHz Processor     Motorola   \n",
       "1016     Snapdragon  480+  Snapdragon    2.2?GHz Processor        Honor   \n",
       "1017       Dimensity 8100   Dimensity   2.85?GHz Processor         POCO   \n",
       "1018       Snapdragon 695  Snapdragon    2.2?GHz Processor     Motorola   \n",
       "1019  Octa Core Processor        Octa  Octa Core Processor      Samsung   \n",
       "\n",
       "           model_spec_name  price           os  \\\n",
       "0                     115G  54999  Android v13   \n",
       "1            NordCE2Lite5G  19989  Android v12   \n",
       "2              GalaxyA145G  16499  Android v13   \n",
       "3                MotoG625G  14999  Android v12   \n",
       "4                10ProPlus  24999  Android v13   \n",
       "...                    ...    ...          ...   \n",
       "1015        MotoEdgeS30Pro  34990  No FM Radio   \n",
       "1016                  X85G  14990  Android v11   \n",
       "1017  X4GT5G(8GBRAM+256GB)  28990  Android v12   \n",
       "1018             MotoG915G  19990  Android v12   \n",
       "1019          GalaxyM52s5G  24990  Android v12   \n",
       "\n",
       "                                        battery  \\\n",
       "0      5000?mAh Battery with 100W Fast Charging   \n",
       "1       5000?mAh Battery with 33W Fast Charging   \n",
       "2       5000?mAh Battery with 15W Fast Charging   \n",
       "3           5000?mAh Battery with Fast Charging   \n",
       "4       5000?mAh Battery with 67W Fast Charging   \n",
       "...                                         ...   \n",
       "1015  5000?mAh Battery with 68.2W Fast Charging   \n",
       "1016  5000?mAh Battery with 22.5W Fast Charging   \n",
       "1017    5080?mAh Battery with 67W Fast Charging   \n",
       "1018        5000?mAh Battery with Fast Charging   \n",
       "1019        5000?mAh Battery with Fast Charging   \n",
       "\n",
       "                                  card  \\\n",
       "0            Memory Card Not Supported   \n",
       "1      Memory Card (Hybrid), upto 1?TB   \n",
       "2     Memory Card Supported, upto 1?TB   \n",
       "3      Memory Card (Hybrid), upto 1?TB   \n",
       "4            Memory Card Not Supported   \n",
       "...                                ...   \n",
       "1015                       Android v12   \n",
       "1016  Memory Card Supported, upto 1?TB   \n",
       "1017         Memory Card Not Supported   \n",
       "1018  Memory Card Supported, upto 1?TB   \n",
       "1019  Memory Card Supported, upto 1?TB   \n",
       "\n",
       "                                                 camera  \\\n",
       "0     50?MP + 48?MP + 32?MP Triple Rear & 16?MP Fron...   \n",
       "1     64?MP + 2?MP + 2?MP Triple Rear & 16?MP Front ...   \n",
       "2     50?MP + 2?MP + 2?MP Triple Rear & 13?MP Front ...   \n",
       "3     50?MP + 8?MP + 2?MP Triple Rear & 16?MP Front ...   \n",
       "4     108?MP + 8?MP + 2?MP Triple Rear & 16?MP Front...   \n",
       "...                                                 ...   \n",
       "1015  64?MP + 8?MP + 2?MP Triple Rear & 16?MP Front ...   \n",
       "1016  48?MP + 2?MP + Depth Sensor Triple Rear & 8?MP...   \n",
       "1017  64?MP + 8?MP + 2?MP Triple Rear & 16?MP Front ...   \n",
       "1018  108?MP + 8?MP + 2?MP Triple Rear & 32?MP Front...   \n",
       "1019  64?MP + 8?MP + 5?MP Triple Rear & 32?MP Front ...   \n",
       "\n",
       "                                                    sim  rating        ram  \\\n",
       "0               Dual Sim, 3G, 4G, 5G, VoLTE, Wi-Fi, NFC    89.0  12?GB RAM   \n",
       "1                    Dual Sim, 3G, 4G, 5G, VoLTE, Wi-Fi    81.0   6?GB RAM   \n",
       "2                    Dual Sim, 3G, 4G, 5G, VoLTE, Wi-Fi    75.0   4?GB RAM   \n",
       "3                    Dual Sim, 3G, 4G, 5G, VoLTE, Wi-Fi    81.0   6?GB RAM   \n",
       "4                    Dual Sim, 3G, 4G, 5G, VoLTE, Wi-Fi    82.0   6?GB RAM   \n",
       "...                                                 ...     ...        ...   \n",
       "1015                 Dual Sim, 3G, 4G, 5G, VoLTE, Wi-Fi    83.0   8?GB RAM   \n",
       "1016                 Dual Sim, 3G, 4G, 5G, VoLTE, Wi-Fi    75.0   6?GB RAM   \n",
       "1017  Dual Sim, 3G, 4G, 5G, VoLTE, Wi-Fi, NFC, IR Bl...    85.0   8?GB RAM   \n",
       "1018            Dual Sim, 3G, 4G, 5G, VoLTE, Wi-Fi, NFC    80.0   6?GB RAM   \n",
       "1019                 Dual Sim, 3G, 4G, 5G, VoLTE, Wi-Fi    74.0   8?GB RAM   \n",
       "\n",
       "                  rom  \n",
       "0      256?GB inbuilt  \n",
       "1      128?GB inbuilt  \n",
       "2       64?GB inbuilt  \n",
       "3      128?GB inbuilt  \n",
       "4      128?GB inbuilt  \n",
       "...               ...  \n",
       "1015   128?GB inbuilt  \n",
       "1016   128?GB inbuilt  \n",
       "1017   256?GB inbuilt  \n",
       "1018   128?GB inbuilt  \n",
       "1019   128?GB inbuilt  \n",
       "\n",
       "[878 rows x 16 columns]"
      ]
     },
     "execution_count": 24,
     "metadata": {},
     "output_type": "execute_result"
    }
   ],
   "source": [
    "#create new dataframe\n",
    "data = pd.DataFrame()\n",
    "#splitting data inorder to categorize easily and appending it to the new dataframe\n",
    "new_col = df['display'].apply(lambda x: x.split(','))\n",
    "data['screen_length'] = new_col.apply(lambda x: x[0])\n",
    "data['pixels'] = new_col.apply(lambda x: x[-1])\n",
    "split_processor_col = df['processor'].apply(lambda x: x.split(','))\n",
    "data['processor_name'] = split_processor_col.apply(lambda x: x[0])\n",
    "processor = data['processor_name'].apply(lambda x: x.split(' '))\n",
    "data['processor'] = processor.apply(lambda x: x[0])\n",
    "data['core'] = split_processor_col.apply(lambda x: x[-1])\n",
    "split_mobile_name = df['model'].apply(lambda x: x.split(' '))\n",
    "data['mobile_model'] = split_mobile_name.apply(lambda x: x[0])\n",
    "data['mobile_model'] = data['mobile_model'].replace({'poco': 'POCO'})\n",
    "data['model_spec_name'] = split_mobile_name.apply(lambda x: ''.join(x[1:]))\n",
    "data['price'] = df['price'].apply(lambda x: int(''.join(x[1:].split(','))))\n",
    "data['os'] = df['os']\n",
    "data['battery'] = df['battery']\n",
    "data['card'] = df['card']\n",
    "data['camera'] = df['camera']\n",
    "data['sim'] = df['sim']\n",
    "data['rating'] = df['rating']\n",
    "ram = df['ram'].apply(lambda x: x.split(','))\n",
    "data['ram'] = ram.apply(lambda x: x[0])\n",
    "data['rom'] = ram.apply(lambda x: x[-1])\n",
    "data"
   ]
  },
  {
   "cell_type": "code",
   "execution_count": 25,
   "metadata": {},
   "outputs": [
    {
     "data": {
      "text/plain": [
       "Text(0, 0.5, 'Count of Mobile model')"
      ]
     },
     "execution_count": 25,
     "metadata": {},
     "output_type": "execute_result"
    },
    {
     "data": {
      "image/png": "[encoded data removed]",
      "text/plain": [
       "<Figure size 640x480 with 1 Axes>"
      ]
     },
     "metadata": {},
     "output_type": "display_data"
    }
   ],
   "source": [
    "plt.xticks(rotation=90, fontsize=8)\n",
    "sns.countplot(x= data['mobile_model'], data=data, palette = \"Set1\")\n",
    "plt.ylabel('Count of Mobile model')"
   ]
  },
  {
   "cell_type": "code",
   "execution_count": 26,
   "metadata": {},
   "outputs": [
    {
     "data": {
      "application/vnd.plotly.v1+json": {
       "config": {
        "plotlyServerURL": "https://plot.ly"
       },
       "data": [
        {
         "alignmentgroup": "True",
         "hovertemplate": "mobile_model=%{x}<br>price=%{y}<extra></extra>",
         "legendgroup": "Apple",
         "marker": {
          "color": "#636efa",
          "pattern": {
           "shape": ""
          }
         },
         "name": "Apple",
         "offsetgroup": "Apple",
         "orientation": "v",
         "showlegend": true,
         "textposition": "auto",
         "type": "bar",
         "x": [
          "Apple"
         ],
         "xaxis": "x",
         "y": [
          98126.59090909091
         ],
         "yaxis": "y"
        },
        {
         "alignmentgroup": "True",
         "hovertemplate": "mobile_model=%{x}<br>price=%{y}<extra></extra>",
         "legendgroup": "Asus",
         "marker": {
          "color": "#EF553B",
          "pattern": {
           "shape": ""
          }
         },
         "name": "Asus",
         "offsetgroup": "Asus",
         "orientation": "v",
         "showlegend": true,
         "textposition": "auto",
         "type": "bar",
         "x": [
          "Asus"
         ],
         "xaxis": "x",
         "y": [
          69162.66666666667
         ],
         "yaxis": "y"
        },
        {
         "alignmentgroup": "True",
         "hovertemplate": "mobile_model=%{x}<br>price=%{y}<extra></extra>",
         "legendgroup": "BLU",
         "marker": {
          "color": "#00cc96",
          "pattern": {
           "shape": ""
          }
         },
         "name": "BLU",
         "offsetgroup": "BLU",
         "orientation": "v",
         "showlegend": true,
         "textposition": "auto",
         "type": "bar",
         "x": [
          "BLU"
         ],
         "xaxis": "x",
         "y": [
          14990
         ],
         "yaxis": "y"
        },
        {
         "alignmentgroup": "True",
         "hovertemplate": "mobile_model=%{x}<br>price=%{y}<extra></extra>",
         "legendgroup": "Blackview",
         "marker": {
          "color": "#ab63fa",
          "pattern": {
           "shape": ""
          }
         },
         "name": "Blackview",
         "offsetgroup": "Blackview",
         "orientation": "v",
         "showlegend": true,
         "textposition": "auto",
         "type": "bar",
         "x": [
          "Blackview"
         ],
         "xaxis": "x",
         "y": [
          8990
         ],
         "yaxis": "y"
        },
        {
         "alignmentgroup": "True",
         "hovertemplate": "mobile_model=%{x}<br>price=%{y}<extra></extra>",
         "legendgroup": "Cola",
         "marker": {
          "color": "#FFA15A",
          "pattern": {
           "shape": ""
          }
         },
         "name": "Cola",
         "offsetgroup": "Cola",
         "orientation": "v",
         "showlegend": true,
         "textposition": "auto",
         "type": "bar",
         "x": [
          "Cola"
         ],
         "xaxis": "x",
         "y": [
          14999
         ],
         "yaxis": "y"
        },
        {
         "alignmentgroup": "True",
         "hovertemplate": "mobile_model=%{x}<br>price=%{y}<extra></extra>",
         "legendgroup": "Doogee",
         "marker": {
          "color": "#19d3f3",
          "pattern": {
           "shape": ""
          }
         },
         "name": "Doogee",
         "offsetgroup": "Doogee",
         "orientation": "v",
         "showlegend": true,
         "textposition": "auto",
         "type": "bar",
         "x": [
          "Doogee"
         ],
         "xaxis": "x",
         "y": [
          30499
         ],
         "yaxis": "y"
        },
        {
         "alignmentgroup": "True",
         "hovertemplate": "mobile_model=%{x}<br>price=%{y}<extra></extra>",
         "legendgroup": "Gionee",
         "marker": {
          "color": "#FF6692",
          "pattern": {
           "shape": ""
          }
         },
         "name": "Gionee",
         "offsetgroup": "Gionee",
         "orientation": "v",
         "showlegend": true,
         "textposition": "auto",
         "type": "bar",
         "x": [
          "Gionee"
         ],
         "xaxis": "x",
         "y": [
          7499
         ],
         "yaxis": "y"
        },
        {
         "alignmentgroup": "True",
         "hovertemplate": "mobile_model=%{x}<br>price=%{y}<extra></extra>",
         "legendgroup": "Google",
         "marker": {
          "color": "#B6E880",
          "pattern": {
           "shape": ""
          }
         },
         "name": "Google",
         "offsetgroup": "Google",
         "orientation": "v",
         "showlegend": true,
         "textposition": "auto",
         "type": "bar",
         "x": [
          "Google"
         ],
         "xaxis": "x",
         "y": [
          38246.416666666664
         ],
         "yaxis": "y"
        },
        {
         "alignmentgroup": "True",
         "hovertemplate": "mobile_model=%{x}<br>price=%{y}<extra></extra>",
         "legendgroup": "Honor",
         "marker": {
          "color": "#FF97FF",
          "pattern": {
           "shape": ""
          }
         },
         "name": "Honor",
         "offsetgroup": "Honor",
         "orientation": "v",
         "showlegend": true,
         "textposition": "auto",
         "type": "bar",
         "x": [
          "Honor"
         ],
         "xaxis": "x",
         "y": [
          22176.727272727272
         ],
         "yaxis": "y"
        },
        {
         "alignmentgroup": "True",
         "hovertemplate": "mobile_model=%{x}<br>price=%{y}<extra></extra>",
         "legendgroup": "Huawei",
         "marker": {
          "color": "#FECB52",
          "pattern": {
           "shape": ""
          }
         },
         "name": "Huawei",
         "offsetgroup": "Huawei",
         "orientation": "v",
         "showlegend": true,
         "textposition": "auto",
         "type": "bar",
         "x": [
          "Huawei"
         ],
         "xaxis": "x",
         "y": [
          62260.63636363636
         ],
         "yaxis": "y"
        },
        {
         "alignmentgroup": "True",
         "hovertemplate": "mobile_model=%{x}<br>price=%{y}<extra></extra>",
         "legendgroup": "Infinix",
         "marker": {
          "color": "#636efa",
          "pattern": {
           "shape": ""
          }
         },
         "name": "Infinix",
         "offsetgroup": "Infinix",
         "orientation": "v",
         "showlegend": true,
         "textposition": "auto",
         "type": "bar",
         "x": [
          "Infinix"
         ],
         "xaxis": "x",
         "y": [
          14938.57142857143
         ],
         "yaxis": "y"
        },
        {
         "alignmentgroup": "True",
         "hovertemplate": "mobile_model=%{x}<br>price=%{y}<extra></extra>",
         "legendgroup": "Jio",
         "marker": {
          "color": "#EF553B",
          "pattern": {
           "shape": ""
          }
         },
         "name": "Jio",
         "offsetgroup": "Jio",
         "orientation": "v",
         "showlegend": true,
         "textposition": "auto",
         "type": "bar",
         "x": [
          "Jio"
         ],
         "xaxis": "x",
         "y": [
          11990
         ],
         "yaxis": "y"
        },
        {
         "alignmentgroup": "True",
         "hovertemplate": "mobile_model=%{x}<br>price=%{y}<extra></extra>",
         "legendgroup": "LG",
         "marker": {
          "color": "#00cc96",
          "pattern": {
           "shape": ""
          }
         },
         "name": "LG",
         "offsetgroup": "LG",
         "orientation": "v",
         "showlegend": true,
         "textposition": "auto",
         "type": "bar",
         "x": [
          "LG"
         ],
         "xaxis": "x",
         "y": [
          54999
         ],
         "yaxis": "y"
        },
        {
         "alignmentgroup": "True",
         "hovertemplate": "mobile_model=%{x}<br>price=%{y}<extra></extra>",
         "legendgroup": "Lava",
         "marker": {
          "color": "#ab63fa",
          "pattern": {
           "shape": ""
          }
         },
         "name": "Lava",
         "offsetgroup": "Lava",
         "orientation": "v",
         "showlegend": true,
         "textposition": "auto",
         "type": "bar",
         "x": [
          "Lava"
         ],
         "xaxis": "x",
         "y": [
          12662.666666666666
         ],
         "yaxis": "y"
        },
        {
         "alignmentgroup": "True",
         "hovertemplate": "mobile_model=%{x}<br>price=%{y}<extra></extra>",
         "legendgroup": "LeEco",
         "marker": {
          "color": "#FFA15A",
          "pattern": {
           "shape": ""
          }
         },
         "name": "LeEco",
         "offsetgroup": "LeEco",
         "orientation": "v",
         "showlegend": true,
         "textposition": "auto",
         "type": "bar",
         "x": [
          "LeEco"
         ],
         "xaxis": "x",
         "y": [
          10999
         ],
         "yaxis": "y"
        },
        {
         "alignmentgroup": "True",
         "hovertemplate": "mobile_model=%{x}<br>price=%{y}<extra></extra>",
         "legendgroup": "Leitz",
         "marker": {
          "color": "#19d3f3",
          "pattern": {
           "shape": ""
          }
         },
         "name": "Leitz",
         "offsetgroup": "Leitz",
         "orientation": "v",
         "showlegend": true,
         "textposition": "auto",
         "type": "bar",
         "x": [
          "Leitz"
         ],
         "xaxis": "x",
         "y": [
          124990
         ],
         "yaxis": "y"
        },
        {
         "alignmentgroup": "True",
         "hovertemplate": "mobile_model=%{x}<br>price=%{y}<extra></extra>",
         "legendgroup": "Lenovo",
         "marker": {
          "color": "#FF6692",
          "pattern": {
           "shape": ""
          }
         },
         "name": "Lenovo",
         "offsetgroup": "Lenovo",
         "orientation": "v",
         "showlegend": true,
         "textposition": "auto",
         "type": "bar",
         "x": [
          "Lenovo"
         ],
         "xaxis": "x",
         "y": [
          53494.5
         ],
         "yaxis": "y"
        },
        {
         "alignmentgroup": "True",
         "hovertemplate": "mobile_model=%{x}<br>price=%{y}<extra></extra>",
         "legendgroup": "Letv",
         "marker": {
          "color": "#B6E880",
          "pattern": {
           "shape": ""
          }
         },
         "name": "Letv",
         "offsetgroup": "Letv",
         "orientation": "v",
         "showlegend": true,
         "textposition": "auto",
         "type": "bar",
         "x": [
          "Letv"
         ],
         "xaxis": "x",
         "y": [
          5999
         ],
         "yaxis": "y"
        },
        {
         "alignmentgroup": "True",
         "hovertemplate": "mobile_model=%{x}<br>price=%{y}<extra></extra>",
         "legendgroup": "Lyf",
         "marker": {
          "color": "#FF97FF",
          "pattern": {
           "shape": ""
          }
         },
         "name": "Lyf",
         "offsetgroup": "Lyf",
         "orientation": "v",
         "showlegend": true,
         "textposition": "auto",
         "type": "bar",
         "x": [
          "Lyf"
         ],
         "xaxis": "x",
         "y": [
          3990
         ],
         "yaxis": "y"
        },
        {
         "alignmentgroup": "True",
         "hovertemplate": "mobile_model=%{x}<br>price=%{y}<extra></extra>",
         "legendgroup": "Micromax",
         "marker": {
          "color": "#FECB52",
          "pattern": {
           "shape": ""
          }
         },
         "name": "Micromax",
         "offsetgroup": "Micromax",
         "orientation": "v",
         "showlegend": true,
         "textposition": "auto",
         "type": "bar",
         "x": [
          "Micromax"
         ],
         "xaxis": "x",
         "y": [
          6929.333333333333
         ],
         "yaxis": "y"
        },
        {
         "alignmentgroup": "True",
         "hovertemplate": "mobile_model=%{x}<br>price=%{y}<extra></extra>",
         "legendgroup": "Motorola",
         "marker": {
          "color": "#636efa",
          "pattern": {
           "shape": ""
          }
         },
         "name": "Motorola",
         "offsetgroup": "Motorola",
         "orientation": "v",
         "showlegend": true,
         "textposition": "auto",
         "type": "bar",
         "x": [
          "Motorola"
         ],
         "xaxis": "x",
         "y": [
          21587.875
         ],
         "yaxis": "y"
        },
        {
         "alignmentgroup": "True",
         "hovertemplate": "mobile_model=%{x}<br>price=%{y}<extra></extra>",
         "legendgroup": "Nokia",
         "marker": {
          "color": "#EF553B",
          "pattern": {
           "shape": ""
          }
         },
         "name": "Nokia",
         "offsetgroup": "Nokia",
         "orientation": "v",
         "showlegend": true,
         "textposition": "auto",
         "type": "bar",
         "x": [
          "Nokia"
         ],
         "xaxis": "x",
         "y": [
          21796.2
         ],
         "yaxis": "y"
        },
        {
         "alignmentgroup": "True",
         "hovertemplate": "mobile_model=%{x}<br>price=%{y}<extra></extra>",
         "legendgroup": "Nothing",
         "marker": {
          "color": "#00cc96",
          "pattern": {
           "shape": ""
          }
         },
         "name": "Nothing",
         "offsetgroup": "Nothing",
         "orientation": "v",
         "showlegend": true,
         "textposition": "auto",
         "type": "bar",
         "x": [
          "Nothing"
         ],
         "xaxis": "x",
         "y": [
          31195.4
         ],
         "yaxis": "y"
        },
        {
         "alignmentgroup": "True",
         "hovertemplate": "mobile_model=%{x}<br>price=%{y}<extra></extra>",
         "legendgroup": "Nubia",
         "marker": {
          "color": "#ab63fa",
          "pattern": {
           "shape": ""
          }
         },
         "name": "Nubia",
         "offsetgroup": "Nubia",
         "orientation": "v",
         "showlegend": true,
         "textposition": "auto",
         "type": "bar",
         "x": [
          "Nubia"
         ],
         "xaxis": "x",
         "y": [
          49827.833333333336
         ],
         "yaxis": "y"
        },
        {
         "alignmentgroup": "True",
         "hovertemplate": "mobile_model=%{x}<br>price=%{y}<extra></extra>",
         "legendgroup": "OPPO",
         "marker": {
          "color": "#FFA15A",
          "pattern": {
           "shape": ""
          }
         },
         "name": "OPPO",
         "offsetgroup": "OPPO",
         "orientation": "v",
         "showlegend": true,
         "textposition": "auto",
         "type": "bar",
         "x": [
          "OPPO"
         ],
         "xaxis": "x",
         "y": [
          25548.803278688523
         ],
         "yaxis": "y"
        },
        {
         "alignmentgroup": "True",
         "hovertemplate": "mobile_model=%{x}<br>price=%{y}<extra></extra>",
         "legendgroup": "OnePlus",
         "marker": {
          "color": "#19d3f3",
          "pattern": {
           "shape": ""
          }
         },
         "name": "OnePlus",
         "offsetgroup": "OnePlus",
         "orientation": "v",
         "showlegend": true,
         "textposition": "auto",
         "type": "bar",
         "x": [
          "OnePlus"
         ],
         "xaxis": "x",
         "y": [
          32251.684210526317
         ],
         "yaxis": "y"
        },
        {
         "alignmentgroup": "True",
         "hovertemplate": "mobile_model=%{x}<br>price=%{y}<extra></extra>",
         "legendgroup": "Oppo",
         "marker": {
          "color": "#FF6692",
          "pattern": {
           "shape": ""
          }
         },
         "name": "Oppo",
         "offsetgroup": "Oppo",
         "orientation": "v",
         "showlegend": true,
         "textposition": "auto",
         "type": "bar",
         "x": [
          "Oppo"
         ],
         "xaxis": "x",
         "y": [
          27026.85
         ],
         "yaxis": "y"
        },
        {
         "alignmentgroup": "True",
         "hovertemplate": "mobile_model=%{x}<br>price=%{y}<extra></extra>",
         "legendgroup": "Oukitel",
         "marker": {
          "color": "#B6E880",
          "pattern": {
           "shape": ""
          }
         },
         "name": "Oukitel",
         "offsetgroup": "Oukitel",
         "orientation": "v",
         "showlegend": true,
         "textposition": "auto",
         "type": "bar",
         "x": [
          "Oukitel"
         ],
         "xaxis": "x",
         "y": [
          26293
         ],
         "yaxis": "y"
        },
        {
         "alignmentgroup": "True",
         "hovertemplate": "mobile_model=%{x}<br>price=%{y}<extra></extra>",
         "legendgroup": "POCO",
         "marker": {
          "color": "#FF97FF",
          "pattern": {
           "shape": ""
          }
         },
         "name": "POCO",
         "offsetgroup": "POCO",
         "orientation": "v",
         "showlegend": true,
         "textposition": "auto",
         "type": "bar",
         "x": [
          "POCO"
         ],
         "xaxis": "x",
         "y": [
          20273.846153846152
         ],
         "yaxis": "y"
        },
        {
         "alignmentgroup": "True",
         "hovertemplate": "mobile_model=%{x}<br>price=%{y}<extra></extra>",
         "legendgroup": "Poco",
         "marker": {
          "color": "#FECB52",
          "pattern": {
           "shape": ""
          }
         },
         "name": "Poco",
         "offsetgroup": "Poco",
         "orientation": "v",
         "showlegend": true,
         "textposition": "auto",
         "type": "bar",
         "x": [
          "Poco"
         ],
         "xaxis": "x",
         "y": [
          18058.814814814814
         ],
         "yaxis": "y"
        },
        {
         "alignmentgroup": "True",
         "hovertemplate": "mobile_model=%{x}<br>price=%{y}<extra></extra>",
         "legendgroup": "Realme",
         "marker": {
          "color": "#636efa",
          "pattern": {
           "shape": ""
          }
         },
         "name": "Realme",
         "offsetgroup": "Realme",
         "orientation": "v",
         "showlegend": true,
         "textposition": "auto",
         "type": "bar",
         "x": [
          "Realme"
         ],
         "xaxis": "x",
         "y": [
          18030.717391304348
         ],
         "yaxis": "y"
        },
        {
         "alignmentgroup": "True",
         "hovertemplate": "mobile_model=%{x}<br>price=%{y}<extra></extra>",
         "legendgroup": "Redmi",
         "marker": {
          "color": "#EF553B",
          "pattern": {
           "shape": ""
          }
         },
         "name": "Redmi",
         "offsetgroup": "Redmi",
         "orientation": "v",
         "showlegend": true,
         "textposition": "auto",
         "type": "bar",
         "x": [
          "Redmi"
         ],
         "xaxis": "x",
         "y": [
          15665.666666666666
         ],
         "yaxis": "y"
        },
        {
         "alignmentgroup": "True",
         "hovertemplate": "mobile_model=%{x}<br>price=%{y}<extra></extra>",
         "legendgroup": "Royole",
         "marker": {
          "color": "#00cc96",
          "pattern": {
           "shape": ""
          }
         },
         "name": "Royole",
         "offsetgroup": "Royole",
         "orientation": "v",
         "showlegend": true,
         "textposition": "auto",
         "type": "bar",
         "x": [
          "Royole"
         ],
         "xaxis": "x",
         "y": [
          129999
         ],
         "yaxis": "y"
        },
        {
         "alignmentgroup": "True",
         "hovertemplate": "mobile_model=%{x}<br>price=%{y}<extra></extra>",
         "legendgroup": "Samsung",
         "marker": {
          "color": "#ab63fa",
          "pattern": {
           "shape": ""
          }
         },
         "name": "Samsung",
         "offsetgroup": "Samsung",
         "orientation": "v",
         "showlegend": true,
         "textposition": "auto",
         "type": "bar",
         "x": [
          "Samsung"
         ],
         "xaxis": "x",
         "y": [
          30007.344827586207
         ],
         "yaxis": "y"
        },
        {
         "alignmentgroup": "True",
         "hovertemplate": "mobile_model=%{x}<br>price=%{y}<extra></extra>",
         "legendgroup": "Sharp",
         "marker": {
          "color": "#FFA15A",
          "pattern": {
           "shape": ""
          }
         },
         "name": "Sharp",
         "offsetgroup": "Sharp",
         "orientation": "v",
         "showlegend": true,
         "textposition": "auto",
         "type": "bar",
         "x": [
          "Sharp"
         ],
         "xaxis": "x",
         "y": [
          59990
         ],
         "yaxis": "y"
        },
        {
         "alignmentgroup": "True",
         "hovertemplate": "mobile_model=%{x}<br>price=%{y}<extra></extra>",
         "legendgroup": "Sony",
         "marker": {
          "color": "#19d3f3",
          "pattern": {
           "shape": ""
          }
         },
         "name": "Sony",
         "offsetgroup": "Sony",
         "orientation": "v",
         "showlegend": true,
         "textposition": "auto",
         "type": "bar",
         "x": [
          "Sony"
         ],
         "xaxis": "x",
         "y": [
          45308.142857142855
         ],
         "yaxis": "y"
        },
        {
         "alignmentgroup": "True",
         "hovertemplate": "mobile_model=%{x}<br>price=%{y}<extra></extra>",
         "legendgroup": "TCL",
         "marker": {
          "color": "#FF6692",
          "pattern": {
           "shape": ""
          }
         },
         "name": "TCL",
         "offsetgroup": "TCL",
         "orientation": "v",
         "showlegend": true,
         "textposition": "auto",
         "type": "bar",
         "x": [
          "TCL"
         ],
         "xaxis": "x",
         "y": [
          8990
         ],
         "yaxis": "y"
        },
        {
         "alignmentgroup": "True",
         "hovertemplate": "mobile_model=%{x}<br>price=%{y}<extra></extra>",
         "legendgroup": "Tecno",
         "marker": {
          "color": "#B6E880",
          "pattern": {
           "shape": ""
          }
         },
         "name": "Tecno",
         "offsetgroup": "Tecno",
         "orientation": "v",
         "showlegend": true,
         "textposition": "auto",
         "type": "bar",
         "x": [
          "Tecno"
         ],
         "xaxis": "x",
         "y": [
          15054.806451612903
         ],
         "yaxis": "y"
        },
        {
         "alignmentgroup": "True",
         "hovertemplate": "mobile_model=%{x}<br>price=%{y}<extra></extra>",
         "legendgroup": "Tesla",
         "marker": {
          "color": "#FF97FF",
          "pattern": {
           "shape": ""
          }
         },
         "name": "Tesla",
         "offsetgroup": "Tesla",
         "orientation": "v",
         "showlegend": true,
         "textposition": "auto",
         "type": "bar",
         "x": [
          "Tesla"
         ],
         "xaxis": "x",
         "y": [
          69999
         ],
         "yaxis": "y"
        },
        {
         "alignmentgroup": "True",
         "hovertemplate": "mobile_model=%{x}<br>price=%{y}<extra></extra>",
         "legendgroup": "Vertu",
         "marker": {
          "color": "#FECB52",
          "pattern": {
           "shape": ""
          }
         },
         "name": "Vertu",
         "offsetgroup": "Vertu",
         "orientation": "v",
         "showlegend": true,
         "textposition": "auto",
         "type": "bar",
         "x": [
          "Vertu"
         ],
         "xaxis": "x",
         "y": [
          650000
         ],
         "yaxis": "y"
        },
        {
         "alignmentgroup": "True",
         "hovertemplate": "mobile_model=%{x}<br>price=%{y}<extra></extra>",
         "legendgroup": "Vivo",
         "marker": {
          "color": "#636efa",
          "pattern": {
           "shape": ""
          }
         },
         "name": "Vivo",
         "offsetgroup": "Vivo",
         "orientation": "v",
         "showlegend": true,
         "textposition": "auto",
         "type": "bar",
         "x": [
          "Vivo"
         ],
         "xaxis": "x",
         "y": [
          21507.520833333332
         ],
         "yaxis": "y"
        },
        {
         "alignmentgroup": "True",
         "hovertemplate": "mobile_model=%{x}<br>price=%{y}<extra></extra>",
         "legendgroup": "Xiaomi",
         "marker": {
          "color": "#EF553B",
          "pattern": {
           "shape": ""
          }
         },
         "name": "Xiaomi",
         "offsetgroup": "Xiaomi",
         "orientation": "v",
         "showlegend": true,
         "textposition": "auto",
         "type": "bar",
         "x": [
          "Xiaomi"
         ],
         "xaxis": "x",
         "y": [
          23958.32
         ],
         "yaxis": "y"
        },
        {
         "alignmentgroup": "True",
         "hovertemplate": "mobile_model=%{x}<br>price=%{y}<extra></extra>",
         "legendgroup": "ZTE",
         "marker": {
          "color": "#00cc96",
          "pattern": {
           "shape": ""
          }
         },
         "name": "ZTE",
         "offsetgroup": "ZTE",
         "orientation": "v",
         "showlegend": true,
         "textposition": "auto",
         "type": "bar",
         "x": [
          "ZTE"
         ],
         "xaxis": "x",
         "y": [
          40994.5
         ],
         "yaxis": "y"
        },
        {
         "alignmentgroup": "True",
         "hovertemplate": "mobile_model=%{x}<br>price=%{y}<extra></extra>",
         "legendgroup": "iKall",
         "marker": {
          "color": "#ab63fa",
          "pattern": {
           "shape": ""
          }
         },
         "name": "iKall",
         "offsetgroup": "iKall",
         "orientation": "v",
         "showlegend": true,
         "textposition": "auto",
         "type": "bar",
         "x": [
          "iKall"
         ],
         "xaxis": "x",
         "y": [
          7632.333333333333
         ],
         "yaxis": "y"
        },
        {
         "alignmentgroup": "True",
         "hovertemplate": "mobile_model=%{x}<br>price=%{y}<extra></extra>",
         "legendgroup": "iQOO",
         "marker": {
          "color": "#FFA15A",
          "pattern": {
           "shape": ""
          }
         },
         "name": "iQOO",
         "offsetgroup": "iQOO",
         "orientation": "v",
         "showlegend": true,
         "textposition": "auto",
         "type": "bar",
         "x": [
          "iQOO"
         ],
         "xaxis": "x",
         "y": [
          30301.875
         ],
         "yaxis": "y"
        },
        {
         "alignmentgroup": "True",
         "hovertemplate": "mobile_model=%{x}<br>price=%{y}<extra></extra>",
         "legendgroup": "itel",
         "marker": {
          "color": "#19d3f3",
          "pattern": {
           "shape": ""
          }
         },
         "name": "itel",
         "offsetgroup": "itel",
         "orientation": "v",
         "showlegend": true,
         "textposition": "auto",
         "type": "bar",
         "x": [
          "itel"
         ],
         "xaxis": "x",
         "y": [
          6699
         ],
         "yaxis": "y"
        }
       ],
       "layout": {
        "barmode": "relative",
        "legend": {
         "title": {
          "text": "mobile_model"
         },
         "tracegroupgap": 0
        },
        "template": {
         "data": {
          "bar": [
           {
            "error_x": {
             "color": "#2a3f5f"
            },
            "error_y": {
             "color": "#2a3f5f"
            },
            "marker": {
             "line": {
              "color": "#E5ECF6",
              "width": 0.5
             },
             "pattern": {
              "fillmode": "overlay",
              "size": 10,
              "solidity": 0.2
             }
            },
            "type": "bar"
           }
          ],
          "barpolar": [
           {
            "marker": {
             "line": {
              "color": "#E5ECF6",
              "width": 0.5
             },
             "pattern": {
              "fillmode": "overlay",
              "size": 10,
              "solidity": 0.2
             }
            },
            "type": "barpolar"
           }
          ],
          "carpet": [
           {
            "aaxis": {
             "endlinecolor": "#2a3f5f",
             "gridcolor": "white",
             "linecolor": "white",
             "minorgridcolor": "white",
             "startlinecolor": "#2a3f5f"
            },
            "baxis": {
             "endlinecolor": "#2a3f5f",
             "gridcolor": "white",
             "linecolor": "white",
             "minorgridcolor": "white",
             "startlinecolor": "#2a3f5f"
            },
            "type": "carpet"
           }
          ],
          "choropleth": [
           {
            "colorbar": {
             "outlinewidth": 0,
             "ticks": ""
            },
            "type": "choropleth"
           }
          ],
          "contour": [
           {
            "colorbar": {
             "outlinewidth": 0,
             "ticks": ""
            },
            "colorscale": [
             [
              0,
              "#0d0887"
             ],
             [
              0.1111111111111111,
              "#46039f"
             ],
             [
              0.2222222222222222,
              "#7201a8"
             ],
             [
              0.3333333333333333,
              "#9c179e"
             ],
             [
              0.4444444444444444,
              "#bd3786"
             ],
             [
              0.5555555555555556,
              "#d8576b"
             ],
             [
              0.6666666666666666,
              "#ed7953"
             ],
             [
              0.7777777777777778,
              "#fb9f3a"
             ],
             [
              0.8888888888888888,
              "#fdca26"
             ],
             [
              1,
              "#f0f921"
             ]
            ],
            "type": "contour"
           }
          ],
          "contourcarpet": [
           {
            "colorbar": {
             "outlinewidth": 0,
             "ticks": ""
            },
            "type": "contourcarpet"
           }
          ],
          "heatmap": [
           {
            "colorbar": {
             "outlinewidth": 0,
             "ticks": ""
            },
            "colorscale": [
             [
              0,
              "#0d0887"
             ],
             [
              0.1111111111111111,
              "#46039f"
             ],
             [
              0.2222222222222222,
              "#7201a8"
             ],
             [
              0.3333333333333333,
              "#9c179e"
             ],
             [
              0.4444444444444444,
              "#bd3786"
             ],
             [
              0.5555555555555556,
              "#d8576b"
             ],
             [
              0.6666666666666666,
              "#ed7953"
             ],
             [
              0.7777777777777778,
              "#fb9f3a"
             ],
             [
              0.8888888888888888,
              "#fdca26"
             ],
             [
              1,
              "#f0f921"
             ]
            ],
            "type": "heatmap"
           }
          ],
          "heatmapgl": [
           {
            "colorbar": {
             "outlinewidth": 0,
             "ticks": ""
            },
            "colorscale": [
             [
              0,
              "#0d0887"
             ],
             [
              0.1111111111111111,
              "#46039f"
             ],
             [
              0.2222222222222222,
              "#7201a8"
             ],
             [
              0.3333333333333333,
              "#9c179e"
             ],
             [
              0.4444444444444444,
              "#bd3786"
             ],
             [
              0.5555555555555556,
              "#d8576b"
             ],
             [
              0.6666666666666666,
              "#ed7953"
             ],
             [
              0.7777777777777778,
              "#fb9f3a"
             ],
             [
              0.8888888888888888,
              "#fdca26"
             ],
             [
              1,
              "#f0f921"
             ]
            ],
            "type": "heatmapgl"
           }
          ],
          "histogram": [
           {
            "marker": {
             "pattern": {
              "fillmode": "overlay",
              "size": 10,
              "solidity": 0.2
             }
            },
            "type": "histogram"
           }
          ],
          "histogram2d": [
           {
            "colorbar": {
             "outlinewidth": 0,
             "ticks": ""
            },
            "colorscale": [
             [
              0,
              "#0d0887"
             ],
             [
              0.1111111111111111,
              "#46039f"
             ],
             [
              0.2222222222222222,
              "#7201a8"
             ],
             [
              0.3333333333333333,
              "#9c179e"
             ],
             [
              0.4444444444444444,
              "#bd3786"
             ],
             [
              0.5555555555555556,
              "#d8576b"
             ],
             [
              0.6666666666666666,
              "#ed7953"
             ],
             [
              0.7777777777777778,
              "#fb9f3a"
             ],
             [
              0.8888888888888888,
              "#fdca26"
             ],
             [
              1,
              "#f0f921"
             ]
            ],
            "type": "histogram2d"
           }
          ],
          "histogram2dcontour": [
           {
            "colorbar": {
             "outlinewidth": 0,
             "ticks": ""
            },
            "colorscale": [
             [
              0,
              "#0d0887"
             ],
             [
              0.1111111111111111,
              "#46039f"
             ],
             [
              0.2222222222222222,
              "#7201a8"
             ],
             [
              0.3333333333333333,
              "#9c179e"
             ],
             [
              0.4444444444444444,
              "#bd3786"
             ],
             [
              0.5555555555555556,
              "#d8576b"
             ],
             [
              0.6666666666666666,
              "#ed7953"
             ],
             [
              0.7777777777777778,
              "#fb9f3a"
             ],
             [
              0.8888888888888888,
              "#fdca26"
             ],
             [
              1,
              "#f0f921"
             ]
            ],
            "type": "histogram2dcontour"
           }
          ],
          "mesh3d": [
           {
            "colorbar": {
             "outlinewidth": 0,
             "ticks": ""
            },
            "type": "mesh3d"
           }
          ],
          "parcoords": [
           {
            "line": {
             "colorbar": {
              "outlinewidth": 0,
              "ticks": ""
             }
            },
            "type": "parcoords"
           }
          ],
          "pie": [
           {
            "automargin": true,
            "type": "pie"
           }
          ],
          "scatter": [
           {
            "fillpattern": {
             "fillmode": "overlay",
             "size": 10,
             "solidity": 0.2
            },
            "type": "scatter"
           }
          ],
          "scatter3d": [
           {
            "line": {
             "colorbar": {
              "outlinewidth": 0,
              "ticks": ""
             }
            },
            "marker": {
             "colorbar": {
              "outlinewidth": 0,
              "ticks": ""
             }
            },
            "type": "scatter3d"
           }
          ],
          "scattercarpet": [
           {
            "marker": {
             "colorbar": {
              "outlinewidth": 0,
              "ticks": ""
             }
            },
            "type": "scattercarpet"
           }
          ],
          "scattergeo": [
           {
            "marker": {
             "colorbar": {
              "outlinewidth": 0,
              "ticks": ""
             }
            },
            "type": "scattergeo"
           }
          ],
          "scattergl": [
           {
            "marker": {
             "colorbar": {
              "outlinewidth": 0,
              "ticks": ""
             }
            },
            "type": "scattergl"
           }
          ],
          "scattermapbox": [
           {
            "marker": {
             "colorbar": {
              "outlinewidth": 0,
              "ticks": ""
             }
            },
            "type": "scattermapbox"
           }
          ],
          "scatterpolar": [
           {
            "marker": {
             "colorbar": {
              "outlinewidth": 0,
              "ticks": ""
             }
            },
            "type": "scatterpolar"
           }
          ],
          "scatterpolargl": [
           {
            "marker": {
             "colorbar": {
              "outlinewidth": 0,
              "ticks": ""
             }
            },
            "type": "scatterpolargl"
           }
          ],
          "scatterternary": [
           {
            "marker": {
             "colorbar": {
              "outlinewidth": 0,
              "ticks": ""
             }
            },
            "type": "scatterternary"
           }
          ],
          "surface": [
           {
            "colorbar": {
             "outlinewidth": 0,
             "ticks": ""
            },
            "colorscale": [
             [
              0,
              "#0d0887"
             ],
             [
              0.1111111111111111,
              "#46039f"
             ],
             [
              0.2222222222222222,
              "#7201a8"
             ],
             [
              0.3333333333333333,
              "#9c179e"
             ],
             [
              0.4444444444444444,
              "#bd3786"
             ],
             [
              0.5555555555555556,
              "#d8576b"
             ],
             [
              0.6666666666666666,
              "#ed7953"
             ],
             [
              0.7777777777777778,
              "#fb9f3a"
             ],
             [
              0.8888888888888888,
              "#fdca26"
             ],
             [
              1,
              "#f0f921"
             ]
            ],
            "type": "surface"
           }
          ],
          "table": [
           {
            "cells": {
             "fill": {
              "color": "#EBF0F8"
             },
             "line": {
              "color": "white"
             }
            },
            "header": {
             "fill": {
              "color": "#C8D4E3"
             },
             "line": {
              "color": "white"
             }
            },
            "type": "table"
           }
          ]
         },
         "layout": {
          "annotationdefaults": {
           "arrowcolor": "#2a3f5f",
           "arrowhead": 0,
           "arrowwidth": 1
          },
          "autotypenumbers": "strict",
          "coloraxis": {
           "colorbar": {
            "outlinewidth": 0,
            "ticks": ""
           }
          },
          "colorscale": {
           "diverging": [
            [
             0,
             "#8e0152"
            ],
            [
             0.1,
             "#c51b7d"
            ],
            [
             0.2,
             "#de77ae"
            ],
            [
             0.3,
             "#f1b6da"
            ],
            [
             0.4,
             "#fde0ef"
            ],
            [
             0.5,
             "#f7f7f7"
            ],
            [
             0.6,
             "#e6f5d0"
            ],
            [
             0.7,
             "#b8e186"
            ],
            [
             0.8,
             "#7fbc41"
            ],
            [
             0.9,
             "#4d9221"
            ],
            [
             1,
             "#276419"
            ]
           ],
           "sequential": [
            [
             0,
             "#0d0887"
            ],
            [
             0.1111111111111111,
             "#46039f"
            ],
            [
             0.2222222222222222,
             "#7201a8"
            ],
            [
             0.3333333333333333,
             "#9c179e"
            ],
            [
             0.4444444444444444,
             "#bd3786"
            ],
            [
             0.5555555555555556,
             "#d8576b"
            ],
            [
             0.6666666666666666,
             "#ed7953"
            ],
            [
             0.7777777777777778,
             "#fb9f3a"
            ],
            [
             0.8888888888888888,
             "#fdca26"
            ],
            [
             1,
             "#f0f921"
            ]
           ],
           "sequentialminus": [
            [
             0,
             "#0d0887"
            ],
            [
             0.1111111111111111,
             "#46039f"
            ],
            [
             0.2222222222222222,
             "#7201a8"
            ],
            [
             0.3333333333333333,
             "#9c179e"
            ],
            [
             0.4444444444444444,
             "#bd3786"
            ],
            [
             0.5555555555555556,
             "#d8576b"
            ],
            [
             0.6666666666666666,
             "#ed7953"
            ],
            [
             0.7777777777777778,
             "#fb9f3a"
            ],
            [
             0.8888888888888888,
             "#fdca26"
            ],
            [
             1,
             "#f0f921"
            ]
           ]
          },
          "colorway": [
           "#636efa",
           "#EF553B",
           "#00cc96",
           "#ab63fa",
           "#FFA15A",
           "#19d3f3",
           "#FF6692",
           "#B6E880",
           "#FF97FF",
           "#FECB52"
          ],
          "font": {
           "color": "#2a3f5f"
          },
          "geo": {
           "bgcolor": "white",
           "lakecolor": "white",
           "landcolor": "#E5ECF6",
           "showlakes": true,
           "showland": true,
           "subunitcolor": "white"
          },
          "hoverlabel": {
           "align": "left"
          },
          "hovermode": "closest",
          "mapbox": {
           "style": "light"
          },
          "paper_bgcolor": "white",
          "plot_bgcolor": "#E5ECF6",
          "polar": {
           "angularaxis": {
            "gridcolor": "white",
            "linecolor": "white",
            "ticks": ""
           },
           "bgcolor": "#E5ECF6",
           "radialaxis": {
            "gridcolor": "white",
            "linecolor": "white",
            "ticks": ""
           }
          },
          "scene": {
           "xaxis": {
            "backgroundcolor": "#E5ECF6",
            "gridcolor": "white",
            "gridwidth": 2,
            "linecolor": "white",
            "showbackground": true,
            "ticks": "",
            "zerolinecolor": "white"
           },
           "yaxis": {
            "backgroundcolor": "#E5ECF6",
            "gridcolor": "white",
            "gridwidth": 2,
            "linecolor": "white",
            "showbackground": true,
            "ticks": "",
            "zerolinecolor": "white"
           },
           "zaxis": {
            "backgroundcolor": "#E5ECF6",
            "gridcolor": "white",
            "gridwidth": 2,
            "linecolor": "white",
            "showbackground": true,
            "ticks": "",
            "zerolinecolor": "white"
           }
          },
          "shapedefaults": {
           "line": {
            "color": "#2a3f5f"
           }
          },
          "ternary": {
           "aaxis": {
            "gridcolor": "white",
            "linecolor": "white",
            "ticks": ""
           },
           "baxis": {
            "gridcolor": "white",
            "linecolor": "white",
            "ticks": ""
           },
           "bgcolor": "#E5ECF6",
           "caxis": {
            "gridcolor": "white",
            "linecolor": "white",
            "ticks": ""
           }
          },
          "title": {
           "x": 0.05
          },
          "xaxis": {
           "automargin": true,
           "gridcolor": "white",
           "linecolor": "white",
           "ticks": "",
           "title": {
            "standoff": 15
           },
           "zerolinecolor": "white",
           "zerolinewidth": 2
          },
          "yaxis": {
           "automargin": true,
           "gridcolor": "white",
           "linecolor": "white",
           "ticks": "",
           "title": {
            "standoff": 15
           },
           "zerolinecolor": "white",
           "zerolinewidth": 2
          }
         }
        },
        "title": {
         "text": "Average Price of Mobiles"
        },
        "xaxis": {
         "anchor": "y",
         "categoryarray": [
          "Apple",
          "Asus",
          "BLU",
          "Blackview",
          "Cola",
          "Doogee",
          "Gionee",
          "Google",
          "Honor",
          "Huawei",
          "Infinix",
          "Jio",
          "LG",
          "Lava",
          "LeEco",
          "Leitz",
          "Lenovo",
          "Letv",
          "Lyf",
          "Micromax",
          "Motorola",
          "Nokia",
          "Nothing",
          "Nubia",
          "OPPO",
          "OnePlus",
          "Oppo",
          "Oukitel",
          "POCO",
          "Poco",
          "Realme",
          "Redmi",
          "Royole",
          "Samsung",
          "Sharp",
          "Sony",
          "TCL",
          "Tecno",
          "Tesla",
          "Vertu",
          "Vivo",
          "Xiaomi",
          "ZTE",
          "iKall",
          "iQOO",
          "itel"
         ],
         "categoryorder": "array",
         "domain": [
          0,
          1
         ],
         "title": {
          "text": "mobile_model"
         }
        },
        "yaxis": {
         "anchor": "x",
         "domain": [
          0,
          1
         ],
         "title": {
          "text": "price"
         }
        }
       }
      }
     },
     "metadata": {},
     "output_type": "display_data"
    }
   ],
   "source": [
    "average_cost = data.groupby(['mobile_model'])['price'].mean().reset_index()\n",
    "fig = px.bar(average_cost, x='mobile_model', y='price', labels={'Mobile_Model': 'mobile_model', 'Name': 'Average Price of Mobiles'},\n",
    "             title='Average Price of Mobiles', color = 'mobile_model')\n",
    "fig.show()"
   ]
  },
  {
   "cell_type": "code",
   "execution_count": 27,
   "metadata": {},
   "outputs": [
    {
     "data": {
      "application/vnd.plotly.v1+json": {
       "config": {
        "plotlyServerURL": "https://plot.ly"
       },
       "data": [
        {
         "alignmentgroup": "True",
         "hovertemplate": "mobile_model=%{x}<br>price=%{y}<extra></extra>",
         "legendgroup": "Apple",
         "marker": {
          "color": "#636efa",
          "pattern": {
           "shape": ""
          }
         },
         "name": "Apple",
         "offsetgroup": "Apple",
         "orientation": "v",
         "showlegend": true,
         "textposition": "auto",
         "type": "bar",
         "x": [
          "Apple"
         ],
         "xaxis": "x",
         "y": [
          4317570
         ],
         "yaxis": "y"
        },
        {
         "alignmentgroup": "True",
         "hovertemplate": "mobile_model=%{x}<br>price=%{y}<extra></extra>",
         "legendgroup": "Asus",
         "marker": {
          "color": "#EF553B",
          "pattern": {
           "shape": ""
          }
         },
         "name": "Asus",
         "offsetgroup": "Asus",
         "orientation": "v",
         "showlegend": true,
         "textposition": "auto",
         "type": "bar",
         "x": [
          "Asus"
         ],
         "xaxis": "x",
         "y": [
          414976
         ],
         "yaxis": "y"
        },
        {
         "alignmentgroup": "True",
         "hovertemplate": "mobile_model=%{x}<br>price=%{y}<extra></extra>",
         "legendgroup": "BLU",
         "marker": {
          "color": "#00cc96",
          "pattern": {
           "shape": ""
          }
         },
         "name": "BLU",
         "offsetgroup": "BLU",
         "orientation": "v",
         "showlegend": true,
         "textposition": "auto",
         "type": "bar",
         "x": [
          "BLU"
         ],
         "xaxis": "x",
         "y": [
          14990
         ],
         "yaxis": "y"
        },
        {
         "alignmentgroup": "True",
         "hovertemplate": "mobile_model=%{x}<br>price=%{y}<extra></extra>",
         "legendgroup": "Blackview",
         "marker": {
          "color": "#ab63fa",
          "pattern": {
           "shape": ""
          }
         },
         "name": "Blackview",
         "offsetgroup": "Blackview",
         "orientation": "v",
         "showlegend": true,
         "textposition": "auto",
         "type": "bar",
         "x": [
          "Blackview"
         ],
         "xaxis": "x",
         "y": [
          8990
         ],
         "yaxis": "y"
        },
        {
         "alignmentgroup": "True",
         "hovertemplate": "mobile_model=%{x}<br>price=%{y}<extra></extra>",
         "legendgroup": "Cola",
         "marker": {
          "color": "#FFA15A",
          "pattern": {
           "shape": ""
          }
         },
         "name": "Cola",
         "offsetgroup": "Cola",
         "orientation": "v",
         "showlegend": true,
         "textposition": "auto",
         "type": "bar",
         "x": [
          "Cola"
         ],
         "xaxis": "x",
         "y": [
          14999
         ],
         "yaxis": "y"
        },
        {
         "alignmentgroup": "True",
         "hovertemplate": "mobile_model=%{x}<br>price=%{y}<extra></extra>",
         "legendgroup": "Doogee",
         "marker": {
          "color": "#19d3f3",
          "pattern": {
           "shape": ""
          }
         },
         "name": "Doogee",
         "offsetgroup": "Doogee",
         "orientation": "v",
         "showlegend": true,
         "textposition": "auto",
         "type": "bar",
         "x": [
          "Doogee"
         ],
         "xaxis": "x",
         "y": [
          60998
         ],
         "yaxis": "y"
        },
        {
         "alignmentgroup": "True",
         "hovertemplate": "mobile_model=%{x}<br>price=%{y}<extra></extra>",
         "legendgroup": "Gionee",
         "marker": {
          "color": "#FF6692",
          "pattern": {
           "shape": ""
          }
         },
         "name": "Gionee",
         "offsetgroup": "Gionee",
         "orientation": "v",
         "showlegend": true,
         "textposition": "auto",
         "type": "bar",
         "x": [
          "Gionee"
         ],
         "xaxis": "x",
         "y": [
          7499
         ],
         "yaxis": "y"
        },
        {
         "alignmentgroup": "True",
         "hovertemplate": "mobile_model=%{x}<br>price=%{y}<extra></extra>",
         "legendgroup": "Google",
         "marker": {
          "color": "#B6E880",
          "pattern": {
           "shape": ""
          }
         },
         "name": "Google",
         "offsetgroup": "Google",
         "orientation": "v",
         "showlegend": true,
         "textposition": "auto",
         "type": "bar",
         "x": [
          "Google"
         ],
         "xaxis": "x",
         "y": [
          458957
         ],
         "yaxis": "y"
        },
        {
         "alignmentgroup": "True",
         "hovertemplate": "mobile_model=%{x}<br>price=%{y}<extra></extra>",
         "legendgroup": "Honor",
         "marker": {
          "color": "#FF97FF",
          "pattern": {
           "shape": ""
          }
         },
         "name": "Honor",
         "offsetgroup": "Honor",
         "orientation": "v",
         "showlegend": true,
         "textposition": "auto",
         "type": "bar",
         "x": [
          "Honor"
         ],
         "xaxis": "x",
         "y": [
          243944
         ],
         "yaxis": "y"
        },
        {
         "alignmentgroup": "True",
         "hovertemplate": "mobile_model=%{x}<br>price=%{y}<extra></extra>",
         "legendgroup": "Huawei",
         "marker": {
          "color": "#FECB52",
          "pattern": {
           "shape": ""
          }
         },
         "name": "Huawei",
         "offsetgroup": "Huawei",
         "orientation": "v",
         "showlegend": true,
         "textposition": "auto",
         "type": "bar",
         "x": [
          "Huawei"
         ],
         "xaxis": "x",
         "y": [
          684867
         ],
         "yaxis": "y"
        },
        {
         "alignmentgroup": "True",
         "hovertemplate": "mobile_model=%{x}<br>price=%{y}<extra></extra>",
         "legendgroup": "Infinix",
         "marker": {
          "color": "#636efa",
          "pattern": {
           "shape": ""
          }
         },
         "name": "Infinix",
         "offsetgroup": "Infinix",
         "orientation": "v",
         "showlegend": true,
         "textposition": "auto",
         "type": "bar",
         "x": [
          "Infinix"
         ],
         "xaxis": "x",
         "y": [
          418280
         ],
         "yaxis": "y"
        },
        {
         "alignmentgroup": "True",
         "hovertemplate": "mobile_model=%{x}<br>price=%{y}<extra></extra>",
         "legendgroup": "Jio",
         "marker": {
          "color": "#EF553B",
          "pattern": {
           "shape": ""
          }
         },
         "name": "Jio",
         "offsetgroup": "Jio",
         "orientation": "v",
         "showlegend": true,
         "textposition": "auto",
         "type": "bar",
         "x": [
          "Jio"
         ],
         "xaxis": "x",
         "y": [
          11990
         ],
         "yaxis": "y"
        },
        {
         "alignmentgroup": "True",
         "hovertemplate": "mobile_model=%{x}<br>price=%{y}<extra></extra>",
         "legendgroup": "LG",
         "marker": {
          "color": "#00cc96",
          "pattern": {
           "shape": ""
          }
         },
         "name": "LG",
         "offsetgroup": "LG",
         "orientation": "v",
         "showlegend": true,
         "textposition": "auto",
         "type": "bar",
         "x": [
          "LG"
         ],
         "xaxis": "x",
         "y": [
          109998
         ],
         "yaxis": "y"
        },
        {
         "alignmentgroup": "True",
         "hovertemplate": "mobile_model=%{x}<br>price=%{y}<extra></extra>",
         "legendgroup": "Lava",
         "marker": {
          "color": "#ab63fa",
          "pattern": {
           "shape": ""
          }
         },
         "name": "Lava",
         "offsetgroup": "Lava",
         "orientation": "v",
         "showlegend": true,
         "textposition": "auto",
         "type": "bar",
         "x": [
          "Lava"
         ],
         "xaxis": "x",
         "y": [
          37988
         ],
         "yaxis": "y"
        },
        {
         "alignmentgroup": "True",
         "hovertemplate": "mobile_model=%{x}<br>price=%{y}<extra></extra>",
         "legendgroup": "LeEco",
         "marker": {
          "color": "#FFA15A",
          "pattern": {
           "shape": ""
          }
         },
         "name": "LeEco",
         "offsetgroup": "LeEco",
         "orientation": "v",
         "showlegend": true,
         "textposition": "auto",
         "type": "bar",
         "x": [
          "LeEco"
         ],
         "xaxis": "x",
         "y": [
          10999
         ],
         "yaxis": "y"
        },
        {
         "alignmentgroup": "True",
         "hovertemplate": "mobile_model=%{x}<br>price=%{y}<extra></extra>",
         "legendgroup": "Leitz",
         "marker": {
          "color": "#19d3f3",
          "pattern": {
           "shape": ""
          }
         },
         "name": "Leitz",
         "offsetgroup": "Leitz",
         "orientation": "v",
         "showlegend": true,
         "textposition": "auto",
         "type": "bar",
         "x": [
          "Leitz"
         ],
         "xaxis": "x",
         "y": [
          124990
         ],
         "yaxis": "y"
        },
        {
         "alignmentgroup": "True",
         "hovertemplate": "mobile_model=%{x}<br>price=%{y}<extra></extra>",
         "legendgroup": "Lenovo",
         "marker": {
          "color": "#FF6692",
          "pattern": {
           "shape": ""
          }
         },
         "name": "Lenovo",
         "offsetgroup": "Lenovo",
         "orientation": "v",
         "showlegend": true,
         "textposition": "auto",
         "type": "bar",
         "x": [
          "Lenovo"
         ],
         "xaxis": "x",
         "y": [
          106989
         ],
         "yaxis": "y"
        },
        {
         "alignmentgroup": "True",
         "hovertemplate": "mobile_model=%{x}<br>price=%{y}<extra></extra>",
         "legendgroup": "Letv",
         "marker": {
          "color": "#B6E880",
          "pattern": {
           "shape": ""
          }
         },
         "name": "Letv",
         "offsetgroup": "Letv",
         "orientation": "v",
         "showlegend": true,
         "textposition": "auto",
         "type": "bar",
         "x": [
          "Letv"
         ],
         "xaxis": "x",
         "y": [
          5999
         ],
         "yaxis": "y"
        },
        {
         "alignmentgroup": "True",
         "hovertemplate": "mobile_model=%{x}<br>price=%{y}<extra></extra>",
         "legendgroup": "Lyf",
         "marker": {
          "color": "#FF97FF",
          "pattern": {
           "shape": ""
          }
         },
         "name": "Lyf",
         "offsetgroup": "Lyf",
         "orientation": "v",
         "showlegend": true,
         "textposition": "auto",
         "type": "bar",
         "x": [
          "Lyf"
         ],
         "xaxis": "x",
         "y": [
          3990
         ],
         "yaxis": "y"
        },
        {
         "alignmentgroup": "True",
         "hovertemplate": "mobile_model=%{x}<br>price=%{y}<extra></extra>",
         "legendgroup": "Micromax",
         "marker": {
          "color": "#FECB52",
          "pattern": {
           "shape": ""
          }
         },
         "name": "Micromax",
         "offsetgroup": "Micromax",
         "orientation": "v",
         "showlegend": true,
         "textposition": "auto",
         "type": "bar",
         "x": [
          "Micromax"
         ],
         "xaxis": "x",
         "y": [
          20788
         ],
         "yaxis": "y"
        },
        {
         "alignmentgroup": "True",
         "hovertemplate": "mobile_model=%{x}<br>price=%{y}<extra></extra>",
         "legendgroup": "Motorola",
         "marker": {
          "color": "#636efa",
          "pattern": {
           "shape": ""
          }
         },
         "name": "Motorola",
         "offsetgroup": "Motorola",
         "orientation": "v",
         "showlegend": true,
         "textposition": "auto",
         "type": "bar",
         "x": [
          "Motorola"
         ],
         "xaxis": "x",
         "y": [
          1036218
         ],
         "yaxis": "y"
        },
        {
         "alignmentgroup": "True",
         "hovertemplate": "mobile_model=%{x}<br>price=%{y}<extra></extra>",
         "legendgroup": "Nokia",
         "marker": {
          "color": "#EF553B",
          "pattern": {
           "shape": ""
          }
         },
         "name": "Nokia",
         "offsetgroup": "Nokia",
         "orientation": "v",
         "showlegend": true,
         "textposition": "auto",
         "type": "bar",
         "x": [
          "Nokia"
         ],
         "xaxis": "x",
         "y": [
          217962
         ],
         "yaxis": "y"
        },
        {
         "alignmentgroup": "True",
         "hovertemplate": "mobile_model=%{x}<br>price=%{y}<extra></extra>",
         "legendgroup": "Nothing",
         "marker": {
          "color": "#00cc96",
          "pattern": {
           "shape": ""
          }
         },
         "name": "Nothing",
         "offsetgroup": "Nothing",
         "orientation": "v",
         "showlegend": true,
         "textposition": "auto",
         "type": "bar",
         "x": [
          "Nothing"
         ],
         "xaxis": "x",
         "y": [
          155977
         ],
         "yaxis": "y"
        },
        {
         "alignmentgroup": "True",
         "hovertemplate": "mobile_model=%{x}<br>price=%{y}<extra></extra>",
         "legendgroup": "Nubia",
         "marker": {
          "color": "#ab63fa",
          "pattern": {
           "shape": ""
          }
         },
         "name": "Nubia",
         "offsetgroup": "Nubia",
         "orientation": "v",
         "showlegend": true,
         "textposition": "auto",
         "type": "bar",
         "x": [
          "Nubia"
         ],
         "xaxis": "x",
         "y": [
          298967
         ],
         "yaxis": "y"
        },
        {
         "alignmentgroup": "True",
         "hovertemplate": "mobile_model=%{x}<br>price=%{y}<extra></extra>",
         "legendgroup": "OPPO",
         "marker": {
          "color": "#FFA15A",
          "pattern": {
           "shape": ""
          }
         },
         "name": "OPPO",
         "offsetgroup": "OPPO",
         "orientation": "v",
         "showlegend": true,
         "textposition": "auto",
         "type": "bar",
         "x": [
          "OPPO"
         ],
         "xaxis": "x",
         "y": [
          1558477
         ],
         "yaxis": "y"
        },
        {
         "alignmentgroup": "True",
         "hovertemplate": "mobile_model=%{x}<br>price=%{y}<extra></extra>",
         "legendgroup": "OnePlus",
         "marker": {
          "color": "#19d3f3",
          "pattern": {
           "shape": ""
          }
         },
         "name": "OnePlus",
         "offsetgroup": "OnePlus",
         "orientation": "v",
         "showlegend": true,
         "textposition": "auto",
         "type": "bar",
         "x": [
          "OnePlus"
         ],
         "xaxis": "x",
         "y": [
          1225564
         ],
         "yaxis": "y"
        },
        {
         "alignmentgroup": "True",
         "hovertemplate": "mobile_model=%{x}<br>price=%{y}<extra></extra>",
         "legendgroup": "Oppo",
         "marker": {
          "color": "#FF6692",
          "pattern": {
           "shape": ""
          }
         },
         "name": "Oppo",
         "offsetgroup": "Oppo",
         "orientation": "v",
         "showlegend": true,
         "textposition": "auto",
         "type": "bar",
         "x": [
          "Oppo"
         ],
         "xaxis": "x",
         "y": [
          540537
         ],
         "yaxis": "y"
        },
        {
         "alignmentgroup": "True",
         "hovertemplate": "mobile_model=%{x}<br>price=%{y}<extra></extra>",
         "legendgroup": "Oukitel",
         "marker": {
          "color": "#B6E880",
          "pattern": {
           "shape": ""
          }
         },
         "name": "Oukitel",
         "offsetgroup": "Oukitel",
         "orientation": "v",
         "showlegend": true,
         "textposition": "auto",
         "type": "bar",
         "x": [
          "Oukitel"
         ],
         "xaxis": "x",
         "y": [
          78879
         ],
         "yaxis": "y"
        },
        {
         "alignmentgroup": "True",
         "hovertemplate": "mobile_model=%{x}<br>price=%{y}<extra></extra>",
         "legendgroup": "POCO",
         "marker": {
          "color": "#FF97FF",
          "pattern": {
           "shape": ""
          }
         },
         "name": "POCO",
         "offsetgroup": "POCO",
         "orientation": "v",
         "showlegend": true,
         "textposition": "auto",
         "type": "bar",
         "x": [
          "POCO"
         ],
         "xaxis": "x",
         "y": [
          263560
         ],
         "yaxis": "y"
        },
        {
         "alignmentgroup": "True",
         "hovertemplate": "mobile_model=%{x}<br>price=%{y}<extra></extra>",
         "legendgroup": "Poco",
         "marker": {
          "color": "#FECB52",
          "pattern": {
           "shape": ""
          }
         },
         "name": "Poco",
         "offsetgroup": "Poco",
         "orientation": "v",
         "showlegend": true,
         "textposition": "auto",
         "type": "bar",
         "x": [
          "Poco"
         ],
         "xaxis": "x",
         "y": [
          487588
         ],
         "yaxis": "y"
        },
        {
         "alignmentgroup": "True",
         "hovertemplate": "mobile_model=%{x}<br>price=%{y}<extra></extra>",
         "legendgroup": "Realme",
         "marker": {
          "color": "#636efa",
          "pattern": {
           "shape": ""
          }
         },
         "name": "Realme",
         "offsetgroup": "Realme",
         "orientation": "v",
         "showlegend": true,
         "textposition": "auto",
         "type": "bar",
         "x": [
          "Realme"
         ],
         "xaxis": "x",
         "y": [
          1658826
         ],
         "yaxis": "y"
        },
        {
         "alignmentgroup": "True",
         "hovertemplate": "mobile_model=%{x}<br>price=%{y}<extra></extra>",
         "legendgroup": "Redmi",
         "marker": {
          "color": "#EF553B",
          "pattern": {
           "shape": ""
          }
         },
         "name": "Redmi",
         "offsetgroup": "Redmi",
         "orientation": "v",
         "showlegend": true,
         "textposition": "auto",
         "type": "bar",
         "x": [
          "Redmi"
         ],
         "xaxis": "x",
         "y": [
          46997
         ],
         "yaxis": "y"
        },
        {
         "alignmentgroup": "True",
         "hovertemplate": "mobile_model=%{x}<br>price=%{y}<extra></extra>",
         "legendgroup": "Royole",
         "marker": {
          "color": "#00cc96",
          "pattern": {
           "shape": ""
          }
         },
         "name": "Royole",
         "offsetgroup": "Royole",
         "orientation": "v",
         "showlegend": true,
         "textposition": "auto",
         "type": "bar",
         "x": [
          "Royole"
         ],
         "xaxis": "x",
         "y": [
          259998
         ],
         "yaxis": "y"
        },
        {
         "alignmentgroup": "True",
         "hovertemplate": "mobile_model=%{x}<br>price=%{y}<extra></extra>",
         "legendgroup": "Samsung",
         "marker": {
          "color": "#ab63fa",
          "pattern": {
           "shape": ""
          }
         },
         "name": "Samsung",
         "offsetgroup": "Samsung",
         "orientation": "v",
         "showlegend": true,
         "textposition": "auto",
         "type": "bar",
         "x": [
          "Samsung"
         ],
         "xaxis": "x",
         "y": [
          3480852
         ],
         "yaxis": "y"
        },
        {
         "alignmentgroup": "True",
         "hovertemplate": "mobile_model=%{x}<br>price=%{y}<extra></extra>",
         "legendgroup": "Sharp",
         "marker": {
          "color": "#FFA15A",
          "pattern": {
           "shape": ""
          }
         },
         "name": "Sharp",
         "offsetgroup": "Sharp",
         "orientation": "v",
         "showlegend": true,
         "textposition": "auto",
         "type": "bar",
         "x": [
          "Sharp"
         ],
         "xaxis": "x",
         "y": [
          59990
         ],
         "yaxis": "y"
        },
        {
         "alignmentgroup": "True",
         "hovertemplate": "mobile_model=%{x}<br>price=%{y}<extra></extra>",
         "legendgroup": "Sony",
         "marker": {
          "color": "#19d3f3",
          "pattern": {
           "shape": ""
          }
         },
         "name": "Sony",
         "offsetgroup": "Sony",
         "orientation": "v",
         "showlegend": true,
         "textposition": "auto",
         "type": "bar",
         "x": [
          "Sony"
         ],
         "xaxis": "x",
         "y": [
          317157
         ],
         "yaxis": "y"
        },
        {
         "alignmentgroup": "True",
         "hovertemplate": "mobile_model=%{x}<br>price=%{y}<extra></extra>",
         "legendgroup": "TCL",
         "marker": {
          "color": "#FF6692",
          "pattern": {
           "shape": ""
          }
         },
         "name": "TCL",
         "offsetgroup": "TCL",
         "orientation": "v",
         "showlegend": true,
         "textposition": "auto",
         "type": "bar",
         "x": [
          "TCL"
         ],
         "xaxis": "x",
         "y": [
          8990
         ],
         "yaxis": "y"
        },
        {
         "alignmentgroup": "True",
         "hovertemplate": "mobile_model=%{x}<br>price=%{y}<extra></extra>",
         "legendgroup": "Tecno",
         "marker": {
          "color": "#B6E880",
          "pattern": {
           "shape": ""
          }
         },
         "name": "Tecno",
         "offsetgroup": "Tecno",
         "orientation": "v",
         "showlegend": true,
         "textposition": "auto",
         "type": "bar",
         "x": [
          "Tecno"
         ],
         "xaxis": "x",
         "y": [
          466699
         ],
         "yaxis": "y"
        },
        {
         "alignmentgroup": "True",
         "hovertemplate": "mobile_model=%{x}<br>price=%{y}<extra></extra>",
         "legendgroup": "Tesla",
         "marker": {
          "color": "#FF97FF",
          "pattern": {
           "shape": ""
          }
         },
         "name": "Tesla",
         "offsetgroup": "Tesla",
         "orientation": "v",
         "showlegend": true,
         "textposition": "auto",
         "type": "bar",
         "x": [
          "Tesla"
         ],
         "xaxis": "x",
         "y": [
          69999
         ],
         "yaxis": "y"
        },
        {
         "alignmentgroup": "True",
         "hovertemplate": "mobile_model=%{x}<br>price=%{y}<extra></extra>",
         "legendgroup": "Vertu",
         "marker": {
          "color": "#FECB52",
          "pattern": {
           "shape": ""
          }
         },
         "name": "Vertu",
         "offsetgroup": "Vertu",
         "orientation": "v",
         "showlegend": true,
         "textposition": "auto",
         "type": "bar",
         "x": [
          "Vertu"
         ],
         "xaxis": "x",
         "y": [
          650000
         ],
         "yaxis": "y"
        },
        {
         "alignmentgroup": "True",
         "hovertemplate": "mobile_model=%{x}<br>price=%{y}<extra></extra>",
         "legendgroup": "Vivo",
         "marker": {
          "color": "#636efa",
          "pattern": {
           "shape": ""
          }
         },
         "name": "Vivo",
         "offsetgroup": "Vivo",
         "orientation": "v",
         "showlegend": true,
         "textposition": "auto",
         "type": "bar",
         "x": [
          "Vivo"
         ],
         "xaxis": "x",
         "y": [
          2064722
         ],
         "yaxis": "y"
        },
        {
         "alignmentgroup": "True",
         "hovertemplate": "mobile_model=%{x}<br>price=%{y}<extra></extra>",
         "legendgroup": "Xiaomi",
         "marker": {
          "color": "#EF553B",
          "pattern": {
           "shape": ""
          }
         },
         "name": "Xiaomi",
         "offsetgroup": "Xiaomi",
         "orientation": "v",
         "showlegend": true,
         "textposition": "auto",
         "type": "bar",
         "x": [
          "Xiaomi"
         ],
         "xaxis": "x",
         "y": [
          2994790
         ],
         "yaxis": "y"
        },
        {
         "alignmentgroup": "True",
         "hovertemplate": "mobile_model=%{x}<br>price=%{y}<extra></extra>",
         "legendgroup": "ZTE",
         "marker": {
          "color": "#00cc96",
          "pattern": {
           "shape": ""
          }
         },
         "name": "ZTE",
         "offsetgroup": "ZTE",
         "orientation": "v",
         "showlegend": true,
         "textposition": "auto",
         "type": "bar",
         "x": [
          "ZTE"
         ],
         "xaxis": "x",
         "y": [
          81989
         ],
         "yaxis": "y"
        },
        {
         "alignmentgroup": "True",
         "hovertemplate": "mobile_model=%{x}<br>price=%{y}<extra></extra>",
         "legendgroup": "iKall",
         "marker": {
          "color": "#ab63fa",
          "pattern": {
           "shape": ""
          }
         },
         "name": "iKall",
         "offsetgroup": "iKall",
         "orientation": "v",
         "showlegend": true,
         "textposition": "auto",
         "type": "bar",
         "x": [
          "iKall"
         ],
         "xaxis": "x",
         "y": [
          22897
         ],
         "yaxis": "y"
        },
        {
         "alignmentgroup": "True",
         "hovertemplate": "mobile_model=%{x}<br>price=%{y}<extra></extra>",
         "legendgroup": "iQOO",
         "marker": {
          "color": "#FFA15A",
          "pattern": {
           "shape": ""
          }
         },
         "name": "iQOO",
         "offsetgroup": "iQOO",
         "orientation": "v",
         "showlegend": true,
         "textposition": "auto",
         "type": "bar",
         "x": [
          "iQOO"
         ],
         "xaxis": "x",
         "y": [
          969660
         ],
         "yaxis": "y"
        },
        {
         "alignmentgroup": "True",
         "hovertemplate": "mobile_model=%{x}<br>price=%{y}<extra></extra>",
         "legendgroup": "itel",
         "marker": {
          "color": "#19d3f3",
          "pattern": {
           "shape": ""
          }
         },
         "name": "itel",
         "offsetgroup": "itel",
         "orientation": "v",
         "showlegend": true,
         "textposition": "auto",
         "type": "bar",
         "x": [
          "itel"
         ],
         "xaxis": "x",
         "y": [
          6699
         ],
         "yaxis": "y"
        }
       ],
       "layout": {
        "barmode": "relative",
        "legend": {
         "title": {
          "text": "mobile_model"
         },
         "tracegroupgap": 0
        },
        "template": {
         "data": {
          "bar": [
           {
            "error_x": {
             "color": "#2a3f5f"
            },
            "error_y": {
             "color": "#2a3f5f"
            },
            "marker": {
             "line": {
              "color": "#E5ECF6",
              "width": 0.5
             },
             "pattern": {
              "fillmode": "overlay",
              "size": 10,
              "solidity": 0.2
             }
            },
            "type": "bar"
           }
          ],
          "barpolar": [
           {
            "marker": {
             "line": {
              "color": "#E5ECF6",
              "width": 0.5
             },
             "pattern": {
              "fillmode": "overlay",
              "size": 10,
              "solidity": 0.2
             }
            },
            "type": "barpolar"
           }
          ],
          "carpet": [
           {
            "aaxis": {
             "endlinecolor": "#2a3f5f",
             "gridcolor": "white",
             "linecolor": "white",
             "minorgridcolor": "white",
             "startlinecolor": "#2a3f5f"
            },
            "baxis": {
             "endlinecolor": "#2a3f5f",
             "gridcolor": "white",
             "linecolor": "white",
             "minorgridcolor": "white",
             "startlinecolor": "#2a3f5f"
            },
            "type": "carpet"
           }
          ],
          "choropleth": [
           {
            "colorbar": {
             "outlinewidth": 0,
             "ticks": ""
            },
            "type": "choropleth"
           }
          ],
          "contour": [
           {
            "colorbar": {
             "outlinewidth": 0,
             "ticks": ""
            },
            "colorscale": [
             [
              0,
              "#0d0887"
             ],
             [
              0.1111111111111111,
              "#46039f"
             ],
             [
              0.2222222222222222,
              "#7201a8"
             ],
             [
              0.3333333333333333,
              "#9c179e"
             ],
             [
              0.4444444444444444,
              "#bd3786"
             ],
             [
              0.5555555555555556,
              "#d8576b"
             ],
             [
              0.6666666666666666,
              "#ed7953"
             ],
             [
              0.7777777777777778,
              "#fb9f3a"
             ],
             [
              0.8888888888888888,
              "#fdca26"
             ],
             [
              1,
              "#f0f921"
             ]
            ],
            "type": "contour"
           }
          ],
          "contourcarpet": [
           {
            "colorbar": {
             "outlinewidth": 0,
             "ticks": ""
            },
            "type": "contourcarpet"
           }
          ],
          "heatmap": [
           {
            "colorbar": {
             "outlinewidth": 0,
             "ticks": ""
            },
            "colorscale": [
             [
              0,
              "#0d0887"
             ],
             [
              0.1111111111111111,
              "#46039f"
             ],
             [
              0.2222222222222222,
              "#7201a8"
             ],
             [
              0.3333333333333333,
              "#9c179e"
             ],
             [
              0.4444444444444444,
              "#bd3786"
             ],
             [
              0.5555555555555556,
              "#d8576b"
             ],
             [
              0.6666666666666666,
              "#ed7953"
             ],
             [
              0.7777777777777778,
              "#fb9f3a"
             ],
             [
              0.8888888888888888,
              "#fdca26"
             ],
             [
              1,
              "#f0f921"
             ]
            ],
            "type": "heatmap"
           }
          ],
          "heatmapgl": [
           {
            "colorbar": {
             "outlinewidth": 0,
             "ticks": ""
            },
            "colorscale": [
             [
              0,
              "#0d0887"
             ],
             [
              0.1111111111111111,
              "#46039f"
             ],
             [
              0.2222222222222222,
              "#7201a8"
             ],
             [
              0.3333333333333333,
              "#9c179e"
             ],
             [
              0.4444444444444444,
              "#bd3786"
             ],
             [
              0.5555555555555556,
              "#d8576b"
             ],
             [
              0.6666666666666666,
              "#ed7953"
             ],
             [
              0.7777777777777778,
              "#fb9f3a"
             ],
             [
              0.8888888888888888,
              "#fdca26"
             ],
             [
              1,
              "#f0f921"
             ]
            ],
            "type": "heatmapgl"
           }
          ],
          "histogram": [
           {
            "marker": {
             "pattern": {
              "fillmode": "overlay",
              "size": 10,
              "solidity": 0.2
             }
            },
            "type": "histogram"
           }
          ],
          "histogram2d": [
           {
            "colorbar": {
             "outlinewidth": 0,
             "ticks": ""
            },
            "colorscale": [
             [
              0,
              "#0d0887"
             ],
             [
              0.1111111111111111,
              "#46039f"
             ],
             [
              0.2222222222222222,
              "#7201a8"
             ],
             [
              0.3333333333333333,
              "#9c179e"
             ],
             [
              0.4444444444444444,
              "#bd3786"
             ],
             [
              0.5555555555555556,
              "#d8576b"
             ],
             [
              0.6666666666666666,
              "#ed7953"
             ],
             [
              0.7777777777777778,
              "#fb9f3a"
             ],
             [
              0.8888888888888888,
              "#fdca26"
             ],
             [
              1,
              "#f0f921"
             ]
            ],
            "type": "histogram2d"
           }
          ],
          "histogram2dcontour": [
           {
            "colorbar": {
             "outlinewidth": 0,
             "ticks": ""
            },
            "colorscale": [
             [
              0,
              "#0d0887"
             ],
             [
              0.1111111111111111,
              "#46039f"
             ],
             [
              0.2222222222222222,
              "#7201a8"
             ],
             [
              0.3333333333333333,
              "#9c179e"
             ],
             [
              0.4444444444444444,
              "#bd3786"
             ],
             [
              0.5555555555555556,
              "#d8576b"
             ],
             [
              0.6666666666666666,
              "#ed7953"
             ],
             [
              0.7777777777777778,
              "#fb9f3a"
             ],
             [
              0.8888888888888888,
              "#fdca26"
             ],
             [
              1,
              "#f0f921"
             ]
            ],
            "type": "histogram2dcontour"
           }
          ],
          "mesh3d": [
           {
            "colorbar": {
             "outlinewidth": 0,
             "ticks": ""
            },
            "type": "mesh3d"
           }
          ],
          "parcoords": [
           {
            "line": {
             "colorbar": {
              "outlinewidth": 0,
              "ticks": ""
             }
            },
            "type": "parcoords"
           }
          ],
          "pie": [
           {
            "automargin": true,
            "type": "pie"
           }
          ],
          "scatter": [
           {
            "fillpattern": {
             "fillmode": "overlay",
             "size": 10,
             "solidity": 0.2
            },
            "type": "scatter"
           }
          ],
          "scatter3d": [
           {
            "line": {
             "colorbar": {
              "outlinewidth": 0,
              "ticks": ""
             }
            },
            "marker": {
             "colorbar": {
              "outlinewidth": 0,
              "ticks": ""
             }
            },
            "type": "scatter3d"
           }
          ],
          "scattercarpet": [
           {
            "marker": {
             "colorbar": {
              "outlinewidth": 0,
              "ticks": ""
             }
            },
            "type": "scattercarpet"
           }
          ],
          "scattergeo": [
           {
            "marker": {
             "colorbar": {
              "outlinewidth": 0,
              "ticks": ""
             }
            },
            "type": "scattergeo"
           }
          ],
          "scattergl": [
           {
            "marker": {
             "colorbar": {
              "outlinewidth": 0,
              "ticks": ""
             }
            },
            "type": "scattergl"
           }
          ],
          "scattermapbox": [
           {
            "marker": {
             "colorbar": {
              "outlinewidth": 0,
              "ticks": ""
             }
            },
            "type": "scattermapbox"
           }
          ],
          "scatterpolar": [
           {
            "marker": {
             "colorbar": {
              "outlinewidth": 0,
              "ticks": ""
             }
            },
            "type": "scatterpolar"
           }
          ],
          "scatterpolargl": [
           {
            "marker": {
             "colorbar": {
              "outlinewidth": 0,
              "ticks": ""
             }
            },
            "type": "scatterpolargl"
           }
          ],
          "scatterternary": [
           {
            "marker": {
             "colorbar": {
              "outlinewidth": 0,
              "ticks": ""
             }
            },
            "type": "scatterternary"
           }
          ],
          "surface": [
           {
            "colorbar": {
             "outlinewidth": 0,
             "ticks": ""
            },
            "colorscale": [
             [
              0,
              "#0d0887"
             ],
             [
              0.1111111111111111,
              "#46039f"
             ],
             [
              0.2222222222222222,
              "#7201a8"
             ],
             [
              0.3333333333333333,
              "#9c179e"
             ],
             [
              0.4444444444444444,
              "#bd3786"
             ],
             [
              0.5555555555555556,
              "#d8576b"
             ],
             [
              0.6666666666666666,
              "#ed7953"
             ],
             [
              0.7777777777777778,
              "#fb9f3a"
             ],
             [
              0.8888888888888888,
              "#fdca26"
             ],
             [
              1,
              "#f0f921"
             ]
            ],
            "type": "surface"
           }
          ],
          "table": [
           {
            "cells": {
             "fill": {
              "color": "#EBF0F8"
             },
             "line": {
              "color": "white"
             }
            },
            "header": {
             "fill": {
              "color": "#C8D4E3"
             },
             "line": {
              "color": "white"
             }
            },
            "type": "table"
           }
          ]
         },
         "layout": {
          "annotationdefaults": {
           "arrowcolor": "#2a3f5f",
           "arrowhead": 0,
           "arrowwidth": 1
          },
          "autotypenumbers": "strict",
          "coloraxis": {
           "colorbar": {
            "outlinewidth": 0,
            "ticks": ""
           }
          },
          "colorscale": {
           "diverging": [
            [
             0,
             "#8e0152"
            ],
            [
             0.1,
             "#c51b7d"
            ],
            [
             0.2,
             "#de77ae"
            ],
            [
             0.3,
             "#f1b6da"
            ],
            [
             0.4,
             "#fde0ef"
            ],
            [
             0.5,
             "#f7f7f7"
            ],
            [
             0.6,
             "#e6f5d0"
            ],
            [
             0.7,
             "#b8e186"
            ],
            [
             0.8,
             "#7fbc41"
            ],
            [
             0.9,
             "#4d9221"
            ],
            [
             1,
             "#276419"
            ]
           ],
           "sequential": [
            [
             0,
             "#0d0887"
            ],
            [
             0.1111111111111111,
             "#46039f"
            ],
            [
             0.2222222222222222,
             "#7201a8"
            ],
            [
             0.3333333333333333,
             "#9c179e"
            ],
            [
             0.4444444444444444,
             "#bd3786"
            ],
            [
             0.5555555555555556,
             "#d8576b"
            ],
            [
             0.6666666666666666,
             "#ed7953"
            ],
            [
             0.7777777777777778,
             "#fb9f3a"
            ],
            [
             0.8888888888888888,
             "#fdca26"
            ],
            [
             1,
             "#f0f921"
            ]
           ],
           "sequentialminus": [
            [
             0,
             "#0d0887"
            ],
            [
             0.1111111111111111,
             "#46039f"
            ],
            [
             0.2222222222222222,
             "#7201a8"
            ],
            [
             0.3333333333333333,
             "#9c179e"
            ],
            [
             0.4444444444444444,
             "#bd3786"
            ],
            [
             0.5555555555555556,
             "#d8576b"
            ],
            [
             0.6666666666666666,
             "#ed7953"
            ],
            [
             0.7777777777777778,
             "#fb9f3a"
            ],
            [
             0.8888888888888888,
             "#fdca26"
            ],
            [
             1,
             "#f0f921"
            ]
           ]
          },
          "colorway": [
           "#636efa",
           "#EF553B",
           "#00cc96",
           "#ab63fa",
           "#FFA15A",
           "#19d3f3",
           "#FF6692",
           "#B6E880",
           "#FF97FF",
           "#FECB52"
          ],
          "font": {
           "color": "#2a3f5f"
          },
          "geo": {
           "bgcolor": "white",
           "lakecolor": "white",
           "landcolor": "#E5ECF6",
           "showlakes": true,
           "showland": true,
           "subunitcolor": "white"
          },
          "hoverlabel": {
           "align": "left"
          },
          "hovermode": "closest",
          "mapbox": {
           "style": "light"
          },
          "paper_bgcolor": "white",
          "plot_bgcolor": "#E5ECF6",
          "polar": {
           "angularaxis": {
            "gridcolor": "white",
            "linecolor": "white",
            "ticks": ""
           },
           "bgcolor": "#E5ECF6",
           "radialaxis": {
            "gridcolor": "white",
            "linecolor": "white",
            "ticks": ""
           }
          },
          "scene": {
           "xaxis": {
            "backgroundcolor": "#E5ECF6",
            "gridcolor": "white",
            "gridwidth": 2,
            "linecolor": "white",
            "showbackground": true,
            "ticks": "",
            "zerolinecolor": "white"
           },
           "yaxis": {
            "backgroundcolor": "#E5ECF6",
            "gridcolor": "white",
            "gridwidth": 2,
            "linecolor": "white",
            "showbackground": true,
            "ticks": "",
            "zerolinecolor": "white"
           },
           "zaxis": {
            "backgroundcolor": "#E5ECF6",
            "gridcolor": "white",
            "gridwidth": 2,
            "linecolor": "white",
            "showbackground": true,
            "ticks": "",
            "zerolinecolor": "white"
           }
          },
          "shapedefaults": {
           "line": {
            "color": "#2a3f5f"
           }
          },
          "ternary": {
           "aaxis": {
            "gridcolor": "white",
            "linecolor": "white",
            "ticks": ""
           },
           "baxis": {
            "gridcolor": "white",
            "linecolor": "white",
            "ticks": ""
           },
           "bgcolor": "#E5ECF6",
           "caxis": {
            "gridcolor": "white",
            "linecolor": "white",
            "ticks": ""
           }
          },
          "title": {
           "x": 0.05
          },
          "xaxis": {
           "automargin": true,
           "gridcolor": "white",
           "linecolor": "white",
           "ticks": "",
           "title": {
            "standoff": 15
           },
           "zerolinecolor": "white",
           "zerolinewidth": 2
          },
          "yaxis": {
           "automargin": true,
           "gridcolor": "white",
           "linecolor": "white",
           "ticks": "",
           "title": {
            "standoff": 15
           },
           "zerolinecolor": "white",
           "zerolinewidth": 2
          }
         }
        },
        "title": {
         "text": "Total Price of Mobiles"
        },
        "xaxis": {
         "anchor": "y",
         "categoryarray": [
          "Apple",
          "Asus",
          "BLU",
          "Blackview",
          "Cola",
          "Doogee",
          "Gionee",
          "Google",
          "Honor",
          "Huawei",
          "Infinix",
          "Jio",
          "LG",
          "Lava",
          "LeEco",
          "Leitz",
          "Lenovo",
          "Letv",
          "Lyf",
          "Micromax",
          "Motorola",
          "Nokia",
          "Nothing",
          "Nubia",
          "OPPO",
          "OnePlus",
          "Oppo",
          "Oukitel",
          "POCO",
          "Poco",
          "Realme",
          "Redmi",
          "Royole",
          "Samsung",
          "Sharp",
          "Sony",
          "TCL",
          "Tecno",
          "Tesla",
          "Vertu",
          "Vivo",
          "Xiaomi",
          "ZTE",
          "iKall",
          "iQOO",
          "itel"
         ],
         "categoryorder": "array",
         "domain": [
          0,
          1
         ],
         "title": {
          "text": "mobile_model"
         }
        },
        "yaxis": {
         "anchor": "x",
         "domain": [
          0,
          1
         ],
         "title": {
          "text": "price"
         }
        }
       }
      }
     },
     "metadata": {},
     "output_type": "display_data"
    }
   ],
   "source": [
    "total_cost = data.groupby(['mobile_model'])['price'].sum().reset_index()\n",
    "fig = px.bar(total_cost, x='mobile_model', y='price', labels={'Mobile_Model': 'mobile_model', 'Name': 'Total Price of Mobiles'},\n",
    "             title='Total Price of Mobiles', color = 'mobile_model')\n",
    "fig.show()"
   ]
  },
  {
   "cell_type": "code",
   "execution_count": 28,
   "metadata": {},
   "outputs": [
    {
     "data": {
      "text/plain": [
       "Text(0.5, 0, 'Processor Name')"
      ]
     },
     "execution_count": 28,
     "metadata": {},
     "output_type": "execute_result"
    },
    {
     "data": {
      "image/png": "[encoded data removed]",
      "text/plain": [
       "<Figure size 640x480 with 1 Axes>"
      ]
     },
     "metadata": {},
     "output_type": "display_data"
    }
   ],
   "source": [
    "plt.xticks(rotation=90, fontsize=15)\n",
    "sns.countplot(x= data['processor'], data=data, palette = \"Set1\")\n",
    "plt.ylabel('Count of Processors')\n",
    "plt.xlabel('Processor Name')"
   ]
  },
  {
   "cell_type": "code",
   "execution_count": 29,
   "metadata": {},
   "outputs": [
    {
     "data": {
      "application/vnd.plotly.v1+json": {
       "config": {
        "plotlyServerURL": "https://plot.ly"
       },
       "data": [
        {
         "alignmentgroup": "True",
         "hovertemplate": "mobile_model=%{x}<br>rating=%{y}<extra></extra>",
         "legendgroup": "Apple",
         "marker": {
          "color": "#636efa",
          "pattern": {
           "shape": ""
          }
         },
         "name": "Apple",
         "offsetgroup": "Apple",
         "orientation": "v",
         "showlegend": true,
         "textposition": "auto",
         "type": "bar",
         "x": [
          "Apple"
         ],
         "xaxis": "x",
         "y": [
          76.79545454545455
         ],
         "yaxis": "y"
        },
        {
         "alignmentgroup": "True",
         "hovertemplate": "mobile_model=%{x}<br>rating=%{y}<extra></extra>",
         "legendgroup": "Asus",
         "marker": {
          "color": "#EF553B",
          "pattern": {
           "shape": ""
          }
         },
         "name": "Asus",
         "offsetgroup": "Asus",
         "orientation": "v",
         "showlegend": true,
         "textposition": "auto",
         "type": "bar",
         "x": [
          "Asus"
         ],
         "xaxis": "x",
         "y": [
          87
         ],
         "yaxis": "y"
        },
        {
         "alignmentgroup": "True",
         "hovertemplate": "mobile_model=%{x}<br>rating=%{y}<extra></extra>",
         "legendgroup": "BLU",
         "marker": {
          "color": "#00cc96",
          "pattern": {
           "shape": ""
          }
         },
         "name": "BLU",
         "offsetgroup": "BLU",
         "orientation": "v",
         "showlegend": true,
         "textposition": "auto",
         "type": "bar",
         "x": [
          "BLU"
         ],
         "xaxis": "x",
         "y": [
          85
         ],
         "yaxis": "y"
        },
        {
         "alignmentgroup": "True",
         "hovertemplate": "mobile_model=%{x}<br>rating=%{y}<extra></extra>",
         "legendgroup": "Blackview",
         "marker": {
          "color": "#ab63fa",
          "pattern": {
           "shape": ""
          }
         },
         "name": "Blackview",
         "offsetgroup": "Blackview",
         "orientation": "v",
         "showlegend": true,
         "textposition": "auto",
         "type": "bar",
         "x": [
          "Blackview"
         ],
         "xaxis": "x",
         "y": [
          67
         ],
         "yaxis": "y"
        },
        {
         "alignmentgroup": "True",
         "hovertemplate": "mobile_model=%{x}<br>rating=%{y}<extra></extra>",
         "legendgroup": "Cola",
         "marker": {
          "color": "#FFA15A",
          "pattern": {
           "shape": ""
          }
         },
         "name": "Cola",
         "offsetgroup": "Cola",
         "orientation": "v",
         "showlegend": true,
         "textposition": "auto",
         "type": "bar",
         "x": [
          "Cola"
         ],
         "xaxis": "x",
         "y": [
          74
         ],
         "yaxis": "y"
        },
        {
         "alignmentgroup": "True",
         "hovertemplate": "mobile_model=%{x}<br>rating=%{y}<extra></extra>",
         "legendgroup": "Doogee",
         "marker": {
          "color": "#19d3f3",
          "pattern": {
           "shape": ""
          }
         },
         "name": "Doogee",
         "offsetgroup": "Doogee",
         "orientation": "v",
         "showlegend": true,
         "textposition": "auto",
         "type": "bar",
         "x": [
          "Doogee"
         ],
         "xaxis": "x",
         "y": [
          86
         ],
         "yaxis": "y"
        },
        {
         "alignmentgroup": "True",
         "hovertemplate": "mobile_model=%{x}<br>rating=%{y}<extra></extra>",
         "legendgroup": "Gionee",
         "marker": {
          "color": "#FF6692",
          "pattern": {
           "shape": ""
          }
         },
         "name": "Gionee",
         "offsetgroup": "Gionee",
         "orientation": "v",
         "showlegend": true,
         "textposition": "auto",
         "type": "bar",
         "x": [
          "Gionee"
         ],
         "xaxis": "x",
         "y": [
          67
         ],
         "yaxis": "y"
        },
        {
         "alignmentgroup": "True",
         "hovertemplate": "mobile_model=%{x}<br>rating=%{y}<extra></extra>",
         "legendgroup": "Google",
         "marker": {
          "color": "#B6E880",
          "pattern": {
           "shape": ""
          }
         },
         "name": "Google",
         "offsetgroup": "Google",
         "orientation": "v",
         "showlegend": true,
         "textposition": "auto",
         "type": "bar",
         "x": [
          "Google"
         ],
         "xaxis": "x",
         "y": [
          77.33333333333333
         ],
         "yaxis": "y"
        },
        {
         "alignmentgroup": "True",
         "hovertemplate": "mobile_model=%{x}<br>rating=%{y}<extra></extra>",
         "legendgroup": "Honor",
         "marker": {
          "color": "#FF97FF",
          "pattern": {
           "shape": ""
          }
         },
         "name": "Honor",
         "offsetgroup": "Honor",
         "orientation": "v",
         "showlegend": true,
         "textposition": "auto",
         "type": "bar",
         "x": [
          "Honor"
         ],
         "xaxis": "x",
         "y": [
          78.18181818181819
         ],
         "yaxis": "y"
        },
        {
         "alignmentgroup": "True",
         "hovertemplate": "mobile_model=%{x}<br>rating=%{y}<extra></extra>",
         "legendgroup": "Huawei",
         "marker": {
          "color": "#FECB52",
          "pattern": {
           "shape": ""
          }
         },
         "name": "Huawei",
         "offsetgroup": "Huawei",
         "orientation": "v",
         "showlegend": true,
         "textposition": "auto",
         "type": "bar",
         "x": [
          "Huawei"
         ],
         "xaxis": "x",
         "y": [
          80
         ],
         "yaxis": "y"
        },
        {
         "alignmentgroup": "True",
         "hovertemplate": "mobile_model=%{x}<br>rating=%{y}<extra></extra>",
         "legendgroup": "Infinix",
         "marker": {
          "color": "#636efa",
          "pattern": {
           "shape": ""
          }
         },
         "name": "Infinix",
         "offsetgroup": "Infinix",
         "orientation": "v",
         "showlegend": true,
         "textposition": "auto",
         "type": "bar",
         "x": [
          "Infinix"
         ],
         "xaxis": "x",
         "y": [
          76.28571428571429
         ],
         "yaxis": "y"
        },
        {
         "alignmentgroup": "True",
         "hovertemplate": "mobile_model=%{x}<br>rating=%{y}<extra></extra>",
         "legendgroup": "Jio",
         "marker": {
          "color": "#EF553B",
          "pattern": {
           "shape": ""
          }
         },
         "name": "Jio",
         "offsetgroup": "Jio",
         "orientation": "v",
         "showlegend": true,
         "textposition": "auto",
         "type": "bar",
         "x": [
          "Jio"
         ],
         "xaxis": "x",
         "y": [
          64
         ],
         "yaxis": "y"
        },
        {
         "alignmentgroup": "True",
         "hovertemplate": "mobile_model=%{x}<br>rating=%{y}<extra></extra>",
         "legendgroup": "LG",
         "marker": {
          "color": "#00cc96",
          "pattern": {
           "shape": ""
          }
         },
         "name": "LG",
         "offsetgroup": "LG",
         "orientation": "v",
         "showlegend": true,
         "textposition": "auto",
         "type": "bar",
         "x": [
          "LG"
         ],
         "xaxis": "x",
         "y": [
          87
         ],
         "yaxis": "y"
        },
        {
         "alignmentgroup": "True",
         "hovertemplate": "mobile_model=%{x}<br>rating=%{y}<extra></extra>",
         "legendgroup": "Lava",
         "marker": {
          "color": "#ab63fa",
          "pattern": {
           "shape": ""
          }
         },
         "name": "Lava",
         "offsetgroup": "Lava",
         "orientation": "v",
         "showlegend": true,
         "textposition": "auto",
         "type": "bar",
         "x": [
          "Lava"
         ],
         "xaxis": "x",
         "y": [
          74.33333333333333
         ],
         "yaxis": "y"
        },
        {
         "alignmentgroup": "True",
         "hovertemplate": "mobile_model=%{x}<br>rating=%{y}<extra></extra>",
         "legendgroup": "LeEco",
         "marker": {
          "color": "#FFA15A",
          "pattern": {
           "shape": ""
          }
         },
         "name": "LeEco",
         "offsetgroup": "LeEco",
         "orientation": "v",
         "showlegend": true,
         "textposition": "auto",
         "type": "bar",
         "x": [
          "LeEco"
         ],
         "xaxis": "x",
         "y": [
          65
         ],
         "yaxis": "y"
        },
        {
         "alignmentgroup": "True",
         "hovertemplate": "mobile_model=%{x}<br>rating=%{y}<extra></extra>",
         "legendgroup": "Leitz",
         "marker": {
          "color": "#19d3f3",
          "pattern": {
           "shape": ""
          }
         },
         "name": "Leitz",
         "offsetgroup": "Leitz",
         "orientation": "v",
         "showlegend": true,
         "textposition": "auto",
         "type": "bar",
         "x": [
          "Leitz"
         ],
         "xaxis": "x",
         "y": [
          89
         ],
         "yaxis": "y"
        },
        {
         "alignmentgroup": "True",
         "hovertemplate": "mobile_model=%{x}<br>rating=%{y}<extra></extra>",
         "legendgroup": "Lenovo",
         "marker": {
          "color": "#FF6692",
          "pattern": {
           "shape": ""
          }
         },
         "name": "Lenovo",
         "offsetgroup": "Lenovo",
         "orientation": "v",
         "showlegend": true,
         "textposition": "auto",
         "type": "bar",
         "x": [
          "Lenovo"
         ],
         "xaxis": "x",
         "y": [
          88
         ],
         "yaxis": "y"
        },
        {
         "alignmentgroup": "True",
         "hovertemplate": "mobile_model=%{x}<br>rating=%{y}<extra></extra>",
         "legendgroup": "Letv",
         "marker": {
          "color": "#B6E880",
          "pattern": {
           "shape": ""
          }
         },
         "name": "Letv",
         "offsetgroup": "Letv",
         "orientation": "v",
         "showlegend": true,
         "textposition": "auto",
         "type": "bar",
         "x": [
          "Letv"
         ],
         "xaxis": "x",
         "y": [
          60
         ],
         "yaxis": "y"
        },
        {
         "alignmentgroup": "True",
         "hovertemplate": "mobile_model=%{x}<br>rating=%{y}<extra></extra>",
         "legendgroup": "Lyf",
         "marker": {
          "color": "#FF97FF",
          "pattern": {
           "shape": ""
          }
         },
         "name": "Lyf",
         "offsetgroup": "Lyf",
         "orientation": "v",
         "showlegend": true,
         "textposition": "auto",
         "type": "bar",
         "x": [
          "Lyf"
         ],
         "xaxis": "x",
         "y": [
          60
         ],
         "yaxis": "y"
        },
        {
         "alignmentgroup": "True",
         "hovertemplate": "mobile_model=%{x}<br>rating=%{y}<extra></extra>",
         "legendgroup": "Micromax",
         "marker": {
          "color": "#FECB52",
          "pattern": {
           "shape": ""
          }
         },
         "name": "Micromax",
         "offsetgroup": "Micromax",
         "orientation": "v",
         "showlegend": true,
         "textposition": "auto",
         "type": "bar",
         "x": [
          "Micromax"
         ],
         "xaxis": "x",
         "y": [
          64.66666666666667
         ],
         "yaxis": "y"
        },
        {
         "alignmentgroup": "True",
         "hovertemplate": "mobile_model=%{x}<br>rating=%{y}<extra></extra>",
         "legendgroup": "Motorola",
         "marker": {
          "color": "#636efa",
          "pattern": {
           "shape": ""
          }
         },
         "name": "Motorola",
         "offsetgroup": "Motorola",
         "orientation": "v",
         "showlegend": true,
         "textposition": "auto",
         "type": "bar",
         "x": [
          "Motorola"
         ],
         "xaxis": "x",
         "y": [
          80.10416666666667
         ],
         "yaxis": "y"
        },
        {
         "alignmentgroup": "True",
         "hovertemplate": "mobile_model=%{x}<br>rating=%{y}<extra></extra>",
         "legendgroup": "Nokia",
         "marker": {
          "color": "#EF553B",
          "pattern": {
           "shape": ""
          }
         },
         "name": "Nokia",
         "offsetgroup": "Nokia",
         "orientation": "v",
         "showlegend": true,
         "textposition": "auto",
         "type": "bar",
         "x": [
          "Nokia"
         ],
         "xaxis": "x",
         "y": [
          75.3
         ],
         "yaxis": "y"
        },
        {
         "alignmentgroup": "True",
         "hovertemplate": "mobile_model=%{x}<br>rating=%{y}<extra></extra>",
         "legendgroup": "Nothing",
         "marker": {
          "color": "#00cc96",
          "pattern": {
           "shape": ""
          }
         },
         "name": "Nothing",
         "offsetgroup": "Nothing",
         "orientation": "v",
         "showlegend": true,
         "textposition": "auto",
         "type": "bar",
         "x": [
          "Nothing"
         ],
         "xaxis": "x",
         "y": [
          85.2
         ],
         "yaxis": "y"
        },
        {
         "alignmentgroup": "True",
         "hovertemplate": "mobile_model=%{x}<br>rating=%{y}<extra></extra>",
         "legendgroup": "Nubia",
         "marker": {
          "color": "#ab63fa",
          "pattern": {
           "shape": ""
          }
         },
         "name": "Nubia",
         "offsetgroup": "Nubia",
         "orientation": "v",
         "showlegend": true,
         "textposition": "auto",
         "type": "bar",
         "x": [
          "Nubia"
         ],
         "xaxis": "x",
         "y": [
          84.33333333333333
         ],
         "yaxis": "y"
        },
        {
         "alignmentgroup": "True",
         "hovertemplate": "mobile_model=%{x}<br>rating=%{y}<extra></extra>",
         "legendgroup": "OPPO",
         "marker": {
          "color": "#FFA15A",
          "pattern": {
           "shape": ""
          }
         },
         "name": "OPPO",
         "offsetgroup": "OPPO",
         "orientation": "v",
         "showlegend": true,
         "textposition": "auto",
         "type": "bar",
         "x": [
          "OPPO"
         ],
         "xaxis": "x",
         "y": [
          78.42622950819673
         ],
         "yaxis": "y"
        },
        {
         "alignmentgroup": "True",
         "hovertemplate": "mobile_model=%{x}<br>rating=%{y}<extra></extra>",
         "legendgroup": "OnePlus",
         "marker": {
          "color": "#19d3f3",
          "pattern": {
           "shape": ""
          }
         },
         "name": "OnePlus",
         "offsetgroup": "OnePlus",
         "orientation": "v",
         "showlegend": true,
         "textposition": "auto",
         "type": "bar",
         "x": [
          "OnePlus"
         ],
         "xaxis": "x",
         "y": [
          82.23684210526316
         ],
         "yaxis": "y"
        },
        {
         "alignmentgroup": "True",
         "hovertemplate": "mobile_model=%{x}<br>rating=%{y}<extra></extra>",
         "legendgroup": "Oppo",
         "marker": {
          "color": "#FF6692",
          "pattern": {
           "shape": ""
          }
         },
         "name": "Oppo",
         "offsetgroup": "Oppo",
         "orientation": "v",
         "showlegend": true,
         "textposition": "auto",
         "type": "bar",
         "x": [
          "Oppo"
         ],
         "xaxis": "x",
         "y": [
          80
         ],
         "yaxis": "y"
        },
        {
         "alignmentgroup": "True",
         "hovertemplate": "mobile_model=%{x}<br>rating=%{y}<extra></extra>",
         "legendgroup": "Oukitel",
         "marker": {
          "color": "#B6E880",
          "pattern": {
           "shape": ""
          }
         },
         "name": "Oukitel",
         "offsetgroup": "Oukitel",
         "orientation": "v",
         "showlegend": true,
         "textposition": "auto",
         "type": "bar",
         "x": [
          "Oukitel"
         ],
         "xaxis": "x",
         "y": [
          79.33333333333333
         ],
         "yaxis": "y"
        },
        {
         "alignmentgroup": "True",
         "hovertemplate": "mobile_model=%{x}<br>rating=%{y}<extra></extra>",
         "legendgroup": "POCO",
         "marker": {
          "color": "#FF97FF",
          "pattern": {
           "shape": ""
          }
         },
         "name": "POCO",
         "offsetgroup": "POCO",
         "orientation": "v",
         "showlegend": true,
         "textposition": "auto",
         "type": "bar",
         "x": [
          "POCO"
         ],
         "xaxis": "x",
         "y": [
          78.84615384615384
         ],
         "yaxis": "y"
        },
        {
         "alignmentgroup": "True",
         "hovertemplate": "mobile_model=%{x}<br>rating=%{y}<extra></extra>",
         "legendgroup": "Poco",
         "marker": {
          "color": "#FECB52",
          "pattern": {
           "shape": ""
          }
         },
         "name": "Poco",
         "offsetgroup": "Poco",
         "orientation": "v",
         "showlegend": true,
         "textposition": "auto",
         "type": "bar",
         "x": [
          "Poco"
         ],
         "xaxis": "x",
         "y": [
          78.62962962962963
         ],
         "yaxis": "y"
        },
        {
         "alignmentgroup": "True",
         "hovertemplate": "mobile_model=%{x}<br>rating=%{y}<extra></extra>",
         "legendgroup": "Realme",
         "marker": {
          "color": "#636efa",
          "pattern": {
           "shape": ""
          }
         },
         "name": "Realme",
         "offsetgroup": "Realme",
         "orientation": "v",
         "showlegend": true,
         "textposition": "auto",
         "type": "bar",
         "x": [
          "Realme"
         ],
         "xaxis": "x",
         "y": [
          76.44565217391305
         ],
         "yaxis": "y"
        },
        {
         "alignmentgroup": "True",
         "hovertemplate": "mobile_model=%{x}<br>rating=%{y}<extra></extra>",
         "legendgroup": "Redmi",
         "marker": {
          "color": "#EF553B",
          "pattern": {
           "shape": ""
          }
         },
         "name": "Redmi",
         "offsetgroup": "Redmi",
         "orientation": "v",
         "showlegend": true,
         "textposition": "auto",
         "type": "bar",
         "x": [
          "Redmi"
         ],
         "xaxis": "x",
         "y": [
          77.33333333333333
         ],
         "yaxis": "y"
        },
        {
         "alignmentgroup": "True",
         "hovertemplate": "mobile_model=%{x}<br>rating=%{y}<extra></extra>",
         "legendgroup": "Royole",
         "marker": {
          "color": "#00cc96",
          "pattern": {
           "shape": ""
          }
         },
         "name": "Royole",
         "offsetgroup": "Royole",
         "orientation": "v",
         "showlegend": true,
         "textposition": "auto",
         "type": "bar",
         "x": [
          "Royole"
         ],
         "xaxis": "x",
         "y": [
          87
         ],
         "yaxis": "y"
        },
        {
         "alignmentgroup": "True",
         "hovertemplate": "mobile_model=%{x}<br>rating=%{y}<extra></extra>",
         "legendgroup": "Samsung",
         "marker": {
          "color": "#ab63fa",
          "pattern": {
           "shape": ""
          }
         },
         "name": "Samsung",
         "offsetgroup": "Samsung",
         "orientation": "v",
         "showlegend": true,
         "textposition": "auto",
         "type": "bar",
         "x": [
          "Samsung"
         ],
         "xaxis": "x",
         "y": [
          78.72413793103448
         ],
         "yaxis": "y"
        },
        {
         "alignmentgroup": "True",
         "hovertemplate": "mobile_model=%{x}<br>rating=%{y}<extra></extra>",
         "legendgroup": "Sharp",
         "marker": {
          "color": "#FFA15A",
          "pattern": {
           "shape": ""
          }
         },
         "name": "Sharp",
         "offsetgroup": "Sharp",
         "orientation": "v",
         "showlegend": true,
         "textposition": "auto",
         "type": "bar",
         "x": [
          "Sharp"
         ],
         "xaxis": "x",
         "y": [
          88
         ],
         "yaxis": "y"
        },
        {
         "alignmentgroup": "True",
         "hovertemplate": "mobile_model=%{x}<br>rating=%{y}<extra></extra>",
         "legendgroup": "Sony",
         "marker": {
          "color": "#19d3f3",
          "pattern": {
           "shape": ""
          }
         },
         "name": "Sony",
         "offsetgroup": "Sony",
         "orientation": "v",
         "showlegend": true,
         "textposition": "auto",
         "type": "bar",
         "x": [
          "Sony"
         ],
         "xaxis": "x",
         "y": [
          81.42857142857143
         ],
         "yaxis": "y"
        },
        {
         "alignmentgroup": "True",
         "hovertemplate": "mobile_model=%{x}<br>rating=%{y}<extra></extra>",
         "legendgroup": "TCL",
         "marker": {
          "color": "#FF6692",
          "pattern": {
           "shape": ""
          }
         },
         "name": "TCL",
         "offsetgroup": "TCL",
         "orientation": "v",
         "showlegend": true,
         "textposition": "auto",
         "type": "bar",
         "x": [
          "TCL"
         ],
         "xaxis": "x",
         "y": [
          60
         ],
         "yaxis": "y"
        },
        {
         "alignmentgroup": "True",
         "hovertemplate": "mobile_model=%{x}<br>rating=%{y}<extra></extra>",
         "legendgroup": "Tecno",
         "marker": {
          "color": "#B6E880",
          "pattern": {
           "shape": ""
          }
         },
         "name": "Tecno",
         "offsetgroup": "Tecno",
         "orientation": "v",
         "showlegend": true,
         "textposition": "auto",
         "type": "bar",
         "x": [
          "Tecno"
         ],
         "xaxis": "x",
         "y": [
          73.6774193548387
         ],
         "yaxis": "y"
        },
        {
         "alignmentgroup": "True",
         "hovertemplate": "mobile_model=%{x}<br>rating=%{y}<extra></extra>",
         "legendgroup": "Tesla",
         "marker": {
          "color": "#FF97FF",
          "pattern": {
           "shape": ""
          }
         },
         "name": "Tesla",
         "offsetgroup": "Tesla",
         "orientation": "v",
         "showlegend": true,
         "textposition": "auto",
         "type": "bar",
         "x": [
          "Tesla"
         ],
         "xaxis": "x",
         "y": [
          83
         ],
         "yaxis": "y"
        },
        {
         "alignmentgroup": "True",
         "hovertemplate": "mobile_model=%{x}<br>rating=%{y}<extra></extra>",
         "legendgroup": "Vertu",
         "marker": {
          "color": "#FECB52",
          "pattern": {
           "shape": ""
          }
         },
         "name": "Vertu",
         "offsetgroup": "Vertu",
         "orientation": "v",
         "showlegend": true,
         "textposition": "auto",
         "type": "bar",
         "x": [
          "Vertu"
         ],
         "xaxis": "x",
         "y": [
          62
         ],
         "yaxis": "y"
        },
        {
         "alignmentgroup": "True",
         "hovertemplate": "mobile_model=%{x}<br>rating=%{y}<extra></extra>",
         "legendgroup": "Vivo",
         "marker": {
          "color": "#636efa",
          "pattern": {
           "shape": ""
          }
         },
         "name": "Vivo",
         "offsetgroup": "Vivo",
         "orientation": "v",
         "showlegend": true,
         "textposition": "auto",
         "type": "bar",
         "x": [
          "Vivo"
         ],
         "xaxis": "x",
         "y": [
          77.15625
         ],
         "yaxis": "y"
        },
        {
         "alignmentgroup": "True",
         "hovertemplate": "mobile_model=%{x}<br>rating=%{y}<extra></extra>",
         "legendgroup": "Xiaomi",
         "marker": {
          "color": "#EF553B",
          "pattern": {
           "shape": ""
          }
         },
         "name": "Xiaomi",
         "offsetgroup": "Xiaomi",
         "orientation": "v",
         "showlegend": true,
         "textposition": "auto",
         "type": "bar",
         "x": [
          "Xiaomi"
         ],
         "xaxis": "x",
         "y": [
          78.776
         ],
         "yaxis": "y"
        },
        {
         "alignmentgroup": "True",
         "hovertemplate": "mobile_model=%{x}<br>rating=%{y}<extra></extra>",
         "legendgroup": "ZTE",
         "marker": {
          "color": "#00cc96",
          "pattern": {
           "shape": ""
          }
         },
         "name": "ZTE",
         "offsetgroup": "ZTE",
         "orientation": "v",
         "showlegend": true,
         "textposition": "auto",
         "type": "bar",
         "x": [
          "ZTE"
         ],
         "xaxis": "x",
         "y": [
          85.5
         ],
         "yaxis": "y"
        },
        {
         "alignmentgroup": "True",
         "hovertemplate": "mobile_model=%{x}<br>rating=%{y}<extra></extra>",
         "legendgroup": "iKall",
         "marker": {
          "color": "#ab63fa",
          "pattern": {
           "shape": ""
          }
         },
         "name": "iKall",
         "offsetgroup": "iKall",
         "orientation": "v",
         "showlegend": true,
         "textposition": "auto",
         "type": "bar",
         "x": [
          "iKall"
         ],
         "xaxis": "x",
         "y": [
          60.666666666666664
         ],
         "yaxis": "y"
        },
        {
         "alignmentgroup": "True",
         "hovertemplate": "mobile_model=%{x}<br>rating=%{y}<extra></extra>",
         "legendgroup": "iQOO",
         "marker": {
          "color": "#FFA15A",
          "pattern": {
           "shape": ""
          }
         },
         "name": "iQOO",
         "offsetgroup": "iQOO",
         "orientation": "v",
         "showlegend": true,
         "textposition": "auto",
         "type": "bar",
         "x": [
          "iQOO"
         ],
         "xaxis": "x",
         "y": [
          82.21875
         ],
         "yaxis": "y"
        },
        {
         "alignmentgroup": "True",
         "hovertemplate": "mobile_model=%{x}<br>rating=%{y}<extra></extra>",
         "legendgroup": "itel",
         "marker": {
          "color": "#19d3f3",
          "pattern": {
           "shape": ""
          }
         },
         "name": "itel",
         "offsetgroup": "itel",
         "orientation": "v",
         "showlegend": true,
         "textposition": "auto",
         "type": "bar",
         "x": [
          "itel"
         ],
         "xaxis": "x",
         "y": [
          61
         ],
         "yaxis": "y"
        }
       ],
       "layout": {
        "barmode": "relative",
        "legend": {
         "title": {
          "text": "mobile_model"
         },
         "tracegroupgap": 0
        },
        "template": {
         "data": {
          "bar": [
           {
            "error_x": {
             "color": "#2a3f5f"
            },
            "error_y": {
             "color": "#2a3f5f"
            },
            "marker": {
             "line": {
              "color": "#E5ECF6",
              "width": 0.5
             },
             "pattern": {
              "fillmode": "overlay",
              "size": 10,
              "solidity": 0.2
             }
            },
            "type": "bar"
           }
          ],
          "barpolar": [
           {
            "marker": {
             "line": {
              "color": "#E5ECF6",
              "width": 0.5
             },
             "pattern": {
              "fillmode": "overlay",
              "size": 10,
              "solidity": 0.2
             }
            },
            "type": "barpolar"
           }
          ],
          "carpet": [
           {
            "aaxis": {
             "endlinecolor": "#2a3f5f",
             "gridcolor": "white",
             "linecolor": "white",
             "minorgridcolor": "white",
             "startlinecolor": "#2a3f5f"
            },
            "baxis": {
             "endlinecolor": "#2a3f5f",
             "gridcolor": "white",
             "linecolor": "white",
             "minorgridcolor": "white",
             "startlinecolor": "#2a3f5f"
            },
            "type": "carpet"
           }
          ],
          "choropleth": [
           {
            "colorbar": {
             "outlinewidth": 0,
             "ticks": ""
            },
            "type": "choropleth"
           }
          ],
          "contour": [
           {
            "colorbar": {
             "outlinewidth": 0,
             "ticks": ""
            },
            "colorscale": [
             [
              0,
              "#0d0887"
             ],
             [
              0.1111111111111111,
              "#46039f"
             ],
             [
              0.2222222222222222,
              "#7201a8"
             ],
             [
              0.3333333333333333,
              "#9c179e"
             ],
             [
              0.4444444444444444,
              "#bd3786"
             ],
             [
              0.5555555555555556,
              "#d8576b"
             ],
             [
              0.6666666666666666,
              "#ed7953"
             ],
             [
              0.7777777777777778,
              "#fb9f3a"
             ],
             [
              0.8888888888888888,
              "#fdca26"
             ],
             [
              1,
              "#f0f921"
             ]
            ],
            "type": "contour"
           }
          ],
          "contourcarpet": [
           {
            "colorbar": {
             "outlinewidth": 0,
             "ticks": ""
            },
            "type": "contourcarpet"
           }
          ],
          "heatmap": [
           {
            "colorbar": {
             "outlinewidth": 0,
             "ticks": ""
            },
            "colorscale": [
             [
              0,
              "#0d0887"
             ],
             [
              0.1111111111111111,
              "#46039f"
             ],
             [
              0.2222222222222222,
              "#7201a8"
             ],
             [
              0.3333333333333333,
              "#9c179e"
             ],
             [
              0.4444444444444444,
              "#bd3786"
             ],
             [
              0.5555555555555556,
              "#d8576b"
             ],
             [
              0.6666666666666666,
              "#ed7953"
             ],
             [
              0.7777777777777778,
              "#fb9f3a"
             ],
             [
              0.8888888888888888,
              "#fdca26"
             ],
             [
              1,
              "#f0f921"
             ]
            ],
            "type": "heatmap"
           }
          ],
          "heatmapgl": [
           {
            "colorbar": {
             "outlinewidth": 0,
             "ticks": ""
            },
            "colorscale": [
             [
              0,
              "#0d0887"
             ],
             [
              0.1111111111111111,
              "#46039f"
             ],
             [
              0.2222222222222222,
              "#7201a8"
             ],
             [
              0.3333333333333333,
              "#9c179e"
             ],
             [
              0.4444444444444444,
              "#bd3786"
             ],
             [
              0.5555555555555556,
              "#d8576b"
             ],
             [
              0.6666666666666666,
              "#ed7953"
             ],
             [
              0.7777777777777778,
              "#fb9f3a"
             ],
             [
              0.8888888888888888,
              "#fdca26"
             ],
             [
              1,
              "#f0f921"
             ]
            ],
            "type": "heatmapgl"
           }
          ],
          "histogram": [
           {
            "marker": {
             "pattern": {
              "fillmode": "overlay",
              "size": 10,
              "solidity": 0.2
             }
            },
            "type": "histogram"
           }
          ],
          "histogram2d": [
           {
            "colorbar": {
             "outlinewidth": 0,
             "ticks": ""
            },
            "colorscale": [
             [
              0,
              "#0d0887"
             ],
             [
              0.1111111111111111,
              "#46039f"
             ],
             [
              0.2222222222222222,
              "#7201a8"
             ],
             [
              0.3333333333333333,
              "#9c179e"
             ],
             [
              0.4444444444444444,
              "#bd3786"
             ],
             [
              0.5555555555555556,
              "#d8576b"
             ],
             [
              0.6666666666666666,
              "#ed7953"
             ],
             [
              0.7777777777777778,
              "#fb9f3a"
             ],
             [
              0.8888888888888888,
              "#fdca26"
             ],
             [
              1,
              "#f0f921"
             ]
            ],
            "type": "histogram2d"
           }
          ],
          "histogram2dcontour": [
           {
            "colorbar": {
             "outlinewidth": 0,
             "ticks": ""
            },
            "colorscale": [
             [
              0,
              "#0d0887"
             ],
             [
              0.1111111111111111,
              "#46039f"
             ],
             [
              0.2222222222222222,
              "#7201a8"
             ],
             [
              0.3333333333333333,
              "#9c179e"
             ],
             [
              0.4444444444444444,
              "#bd3786"
             ],
             [
              0.5555555555555556,
              "#d8576b"
             ],
             [
              0.6666666666666666,
              "#ed7953"
             ],
             [
              0.7777777777777778,
              "#fb9f3a"
             ],
             [
              0.8888888888888888,
              "#fdca26"
             ],
             [
              1,
              "#f0f921"
             ]
            ],
            "type": "histogram2dcontour"
           }
          ],
          "mesh3d": [
           {
            "colorbar": {
             "outlinewidth": 0,
             "ticks": ""
            },
            "type": "mesh3d"
           }
          ],
          "parcoords": [
           {
            "line": {
             "colorbar": {
              "outlinewidth": 0,
              "ticks": ""
             }
            },
            "type": "parcoords"
           }
          ],
          "pie": [
           {
            "automargin": true,
            "type": "pie"
           }
          ],
          "scatter": [
           {
            "fillpattern": {
             "fillmode": "overlay",
             "size": 10,
             "solidity": 0.2
            },
            "type": "scatter"
           }
          ],
          "scatter3d": [
           {
            "line": {
             "colorbar": {
              "outlinewidth": 0,
              "ticks": ""
             }
            },
            "marker": {
             "colorbar": {
              "outlinewidth": 0,
              "ticks": ""
             }
            },
            "type": "scatter3d"
           }
          ],
          "scattercarpet": [
           {
            "marker": {
             "colorbar": {
              "outlinewidth": 0,
              "ticks": ""
             }
            },
            "type": "scattercarpet"
           }
          ],
          "scattergeo": [
           {
            "marker": {
             "colorbar": {
              "outlinewidth": 0,
              "ticks": ""
             }
            },
            "type": "scattergeo"
           }
          ],
          "scattergl": [
           {
            "marker": {
             "colorbar": {
              "outlinewidth": 0,
              "ticks": ""
             }
            },
            "type": "scattergl"
           }
          ],
          "scattermapbox": [
           {
            "marker": {
             "colorbar": {
              "outlinewidth": 0,
              "ticks": ""
             }
            },
            "type": "scattermapbox"
           }
          ],
          "scatterpolar": [
           {
            "marker": {
             "colorbar": {
              "outlinewidth": 0,
              "ticks": ""
             }
            },
            "type": "scatterpolar"
           }
          ],
          "scatterpolargl": [
           {
            "marker": {
             "colorbar": {
              "outlinewidth": 0,
              "ticks": ""
             }
            },
            "type": "scatterpolargl"
           }
          ],
          "scatterternary": [
           {
            "marker": {
             "colorbar": {
              "outlinewidth": 0,
              "ticks": ""
             }
            },
            "type": "scatterternary"
           }
          ],
          "surface": [
           {
            "colorbar": {
             "outlinewidth": 0,
             "ticks": ""
            },
            "colorscale": [
             [
              0,
              "#0d0887"
             ],
             [
              0.1111111111111111,
              "#46039f"
             ],
             [
              0.2222222222222222,
              "#7201a8"
             ],
             [
              0.3333333333333333,
              "#9c179e"
             ],
             [
              0.4444444444444444,
              "#bd3786"
             ],
             [
              0.5555555555555556,
              "#d8576b"
             ],
             [
              0.6666666666666666,
              "#ed7953"
             ],
             [
              0.7777777777777778,
              "#fb9f3a"
             ],
             [
              0.8888888888888888,
              "#fdca26"
             ],
             [
              1,
              "#f0f921"
             ]
            ],
            "type": "surface"
           }
          ],
          "table": [
           {
            "cells": {
             "fill": {
              "color": "#EBF0F8"
             },
             "line": {
              "color": "white"
             }
            },
            "header": {
             "fill": {
              "color": "#C8D4E3"
             },
             "line": {
              "color": "white"
             }
            },
            "type": "table"
           }
          ]
         },
         "layout": {
          "annotationdefaults": {
           "arrowcolor": "#2a3f5f",
           "arrowhead": 0,
           "arrowwidth": 1
          },
          "autotypenumbers": "strict",
          "coloraxis": {
           "colorbar": {
            "outlinewidth": 0,
            "ticks": ""
           }
          },
          "colorscale": {
           "diverging": [
            [
             0,
             "#8e0152"
            ],
            [
             0.1,
             "#c51b7d"
            ],
            [
             0.2,
             "#de77ae"
            ],
            [
             0.3,
             "#f1b6da"
            ],
            [
             0.4,
             "#fde0ef"
            ],
            [
             0.5,
             "#f7f7f7"
            ],
            [
             0.6,
             "#e6f5d0"
            ],
            [
             0.7,
             "#b8e186"
            ],
            [
             0.8,
             "#7fbc41"
            ],
            [
             0.9,
             "#4d9221"
            ],
            [
             1,
             "#276419"
            ]
           ],
           "sequential": [
            [
             0,
             "#0d0887"
            ],
            [
             0.1111111111111111,
             "#46039f"
            ],
            [
             0.2222222222222222,
             "#7201a8"
            ],
            [
             0.3333333333333333,
             "#9c179e"
            ],
            [
             0.4444444444444444,
             "#bd3786"
            ],
            [
             0.5555555555555556,
             "#d8576b"
            ],
            [
             0.6666666666666666,
             "#ed7953"
            ],
            [
             0.7777777777777778,
             "#fb9f3a"
            ],
            [
             0.8888888888888888,
             "#fdca26"
            ],
            [
             1,
             "#f0f921"
            ]
           ],
           "sequentialminus": [
            [
             0,
             "#0d0887"
            ],
            [
             0.1111111111111111,
             "#46039f"
            ],
            [
             0.2222222222222222,
             "#7201a8"
            ],
            [
             0.3333333333333333,
             "#9c179e"
            ],
            [
             0.4444444444444444,
             "#bd3786"
            ],
            [
             0.5555555555555556,
             "#d8576b"
            ],
            [
             0.6666666666666666,
             "#ed7953"
            ],
            [
             0.7777777777777778,
             "#fb9f3a"
            ],
            [
             0.8888888888888888,
             "#fdca26"
            ],
            [
             1,
             "#f0f921"
            ]
           ]
          },
          "colorway": [
           "#636efa",
           "#EF553B",
           "#00cc96",
           "#ab63fa",
           "#FFA15A",
           "#19d3f3",
           "#FF6692",
           "#B6E880",
           "#FF97FF",
           "#FECB52"
          ],
          "font": {
           "color": "#2a3f5f"
          },
          "geo": {
           "bgcolor": "white",
           "lakecolor": "white",
           "landcolor": "#E5ECF6",
           "showlakes": true,
           "showland": true,
           "subunitcolor": "white"
          },
          "hoverlabel": {
           "align": "left"
          },
          "hovermode": "closest",
          "mapbox": {
           "style": "light"
          },
          "paper_bgcolor": "white",
          "plot_bgcolor": "#E5ECF6",
          "polar": {
           "angularaxis": {
            "gridcolor": "white",
            "linecolor": "white",
            "ticks": ""
           },
           "bgcolor": "#E5ECF6",
           "radialaxis": {
            "gridcolor": "white",
            "linecolor": "white",
            "ticks": ""
           }
          },
          "scene": {
           "xaxis": {
            "backgroundcolor": "#E5ECF6",
            "gridcolor": "white",
            "gridwidth": 2,
            "linecolor": "white",
            "showbackground": true,
            "ticks": "",
            "zerolinecolor": "white"
           },
           "yaxis": {
            "backgroundcolor": "#E5ECF6",
            "gridcolor": "white",
            "gridwidth": 2,
            "linecolor": "white",
            "showbackground": true,
            "ticks": "",
            "zerolinecolor": "white"
           },
           "zaxis": {
            "backgroundcolor": "#E5ECF6",
            "gridcolor": "white",
            "gridwidth": 2,
            "linecolor": "white",
            "showbackground": true,
            "ticks": "",
            "zerolinecolor": "white"
           }
          },
          "shapedefaults": {
           "line": {
            "color": "#2a3f5f"
           }
          },
          "ternary": {
           "aaxis": {
            "gridcolor": "white",
            "linecolor": "white",
            "ticks": ""
           },
           "baxis": {
            "gridcolor": "white",
            "linecolor": "white",
            "ticks": ""
           },
           "bgcolor": "#E5ECF6",
           "caxis": {
            "gridcolor": "white",
            "linecolor": "white",
            "ticks": ""
           }
          },
          "title": {
           "x": 0.05
          },
          "xaxis": {
           "automargin": true,
           "gridcolor": "white",
           "linecolor": "white",
           "ticks": "",
           "title": {
            "standoff": 15
           },
           "zerolinecolor": "white",
           "zerolinewidth": 2
          },
          "yaxis": {
           "automargin": true,
           "gridcolor": "white",
           "linecolor": "white",
           "ticks": "",
           "title": {
            "standoff": 15
           },
           "zerolinecolor": "white",
           "zerolinewidth": 2
          }
         }
        },
        "title": {
         "text": "Average Rating of Mobiles"
        },
        "xaxis": {
         "anchor": "y",
         "categoryarray": [
          "Apple",
          "Asus",
          "BLU",
          "Blackview",
          "Cola",
          "Doogee",
          "Gionee",
          "Google",
          "Honor",
          "Huawei",
          "Infinix",
          "Jio",
          "LG",
          "Lava",
          "LeEco",
          "Leitz",
          "Lenovo",
          "Letv",
          "Lyf",
          "Micromax",
          "Motorola",
          "Nokia",
          "Nothing",
          "Nubia",
          "OPPO",
          "OnePlus",
          "Oppo",
          "Oukitel",
          "POCO",
          "Poco",
          "Realme",
          "Redmi",
          "Royole",
          "Samsung",
          "Sharp",
          "Sony",
          "TCL",
          "Tecno",
          "Tesla",
          "Vertu",
          "Vivo",
          "Xiaomi",
          "ZTE",
          "iKall",
          "iQOO",
          "itel"
         ],
         "categoryorder": "array",
         "domain": [
          0,
          1
         ],
         "title": {
          "text": "mobile_model"
         }
        },
        "yaxis": {
         "anchor": "x",
         "domain": [
          0,
          1
         ],
         "title": {
          "text": "rating"
         }
        }
       }
      }
     },
     "metadata": {},
     "output_type": "display_data"
    }
   ],
   "source": [
    "average_rating = data.groupby(['mobile_model'])['rating'].mean().reset_index()\n",
    "fig = px.bar(average_rating, x='mobile_model', y='rating', labels={'Mobile_Model': 'mobile_model', 'Name': 'Average Rating of Mobiles'},\n",
    "             title='Average Rating of Mobiles', color = 'mobile_model')\n",
    "fig.show()"
   ]
  },
  {
   "cell_type": "code",
   "execution_count": 30,
   "metadata": {},
   "outputs": [
    {
     "data": {
      "application/vnd.plotly.v1+json": {
       "config": {
        "plotlyServerURL": "https://plot.ly"
       },
       "data": [
        {
         "alignmentgroup": "True",
         "hovertemplate": "mobile_model=%{x}<br>rating=%{y}<extra></extra>",
         "legendgroup": "Apple",
         "marker": {
          "color": "#636efa",
          "pattern": {
           "shape": ""
          }
         },
         "name": "Apple",
         "offsetgroup": "Apple",
         "orientation": "v",
         "showlegend": true,
         "textposition": "auto",
         "type": "bar",
         "x": [
          "Apple"
         ],
         "xaxis": "x",
         "y": [
          3379
         ],
         "yaxis": "y"
        },
        {
         "alignmentgroup": "True",
         "hovertemplate": "mobile_model=%{x}<br>rating=%{y}<extra></extra>",
         "legendgroup": "Asus",
         "marker": {
          "color": "#EF553B",
          "pattern": {
           "shape": ""
          }
         },
         "name": "Asus",
         "offsetgroup": "Asus",
         "orientation": "v",
         "showlegend": true,
         "textposition": "auto",
         "type": "bar",
         "x": [
          "Asus"
         ],
         "xaxis": "x",
         "y": [
          522
         ],
         "yaxis": "y"
        },
        {
         "alignmentgroup": "True",
         "hovertemplate": "mobile_model=%{x}<br>rating=%{y}<extra></extra>",
         "legendgroup": "BLU",
         "marker": {
          "color": "#00cc96",
          "pattern": {
           "shape": ""
          }
         },
         "name": "BLU",
         "offsetgroup": "BLU",
         "orientation": "v",
         "showlegend": true,
         "textposition": "auto",
         "type": "bar",
         "x": [
          "BLU"
         ],
         "xaxis": "x",
         "y": [
          85
         ],
         "yaxis": "y"
        },
        {
         "alignmentgroup": "True",
         "hovertemplate": "mobile_model=%{x}<br>rating=%{y}<extra></extra>",
         "legendgroup": "Blackview",
         "marker": {
          "color": "#ab63fa",
          "pattern": {
           "shape": ""
          }
         },
         "name": "Blackview",
         "offsetgroup": "Blackview",
         "orientation": "v",
         "showlegend": true,
         "textposition": "auto",
         "type": "bar",
         "x": [
          "Blackview"
         ],
         "xaxis": "x",
         "y": [
          67
         ],
         "yaxis": "y"
        },
        {
         "alignmentgroup": "True",
         "hovertemplate": "mobile_model=%{x}<br>rating=%{y}<extra></extra>",
         "legendgroup": "Cola",
         "marker": {
          "color": "#FFA15A",
          "pattern": {
           "shape": ""
          }
         },
         "name": "Cola",
         "offsetgroup": "Cola",
         "orientation": "v",
         "showlegend": true,
         "textposition": "auto",
         "type": "bar",
         "x": [
          "Cola"
         ],
         "xaxis": "x",
         "y": [
          74
         ],
         "yaxis": "y"
        },
        {
         "alignmentgroup": "True",
         "hovertemplate": "mobile_model=%{x}<br>rating=%{y}<extra></extra>",
         "legendgroup": "Doogee",
         "marker": {
          "color": "#19d3f3",
          "pattern": {
           "shape": ""
          }
         },
         "name": "Doogee",
         "offsetgroup": "Doogee",
         "orientation": "v",
         "showlegend": true,
         "textposition": "auto",
         "type": "bar",
         "x": [
          "Doogee"
         ],
         "xaxis": "x",
         "y": [
          172
         ],
         "yaxis": "y"
        },
        {
         "alignmentgroup": "True",
         "hovertemplate": "mobile_model=%{x}<br>rating=%{y}<extra></extra>",
         "legendgroup": "Gionee",
         "marker": {
          "color": "#FF6692",
          "pattern": {
           "shape": ""
          }
         },
         "name": "Gionee",
         "offsetgroup": "Gionee",
         "orientation": "v",
         "showlegend": true,
         "textposition": "auto",
         "type": "bar",
         "x": [
          "Gionee"
         ],
         "xaxis": "x",
         "y": [
          67
         ],
         "yaxis": "y"
        },
        {
         "alignmentgroup": "True",
         "hovertemplate": "mobile_model=%{x}<br>rating=%{y}<extra></extra>",
         "legendgroup": "Google",
         "marker": {
          "color": "#B6E880",
          "pattern": {
           "shape": ""
          }
         },
         "name": "Google",
         "offsetgroup": "Google",
         "orientation": "v",
         "showlegend": true,
         "textposition": "auto",
         "type": "bar",
         "x": [
          "Google"
         ],
         "xaxis": "x",
         "y": [
          928
         ],
         "yaxis": "y"
        },
        {
         "alignmentgroup": "True",
         "hovertemplate": "mobile_model=%{x}<br>rating=%{y}<extra></extra>",
         "legendgroup": "Honor",
         "marker": {
          "color": "#FF97FF",
          "pattern": {
           "shape": ""
          }
         },
         "name": "Honor",
         "offsetgroup": "Honor",
         "orientation": "v",
         "showlegend": true,
         "textposition": "auto",
         "type": "bar",
         "x": [
          "Honor"
         ],
         "xaxis": "x",
         "y": [
          860
         ],
         "yaxis": "y"
        },
        {
         "alignmentgroup": "True",
         "hovertemplate": "mobile_model=%{x}<br>rating=%{y}<extra></extra>",
         "legendgroup": "Huawei",
         "marker": {
          "color": "#FECB52",
          "pattern": {
           "shape": ""
          }
         },
         "name": "Huawei",
         "offsetgroup": "Huawei",
         "orientation": "v",
         "showlegend": true,
         "textposition": "auto",
         "type": "bar",
         "x": [
          "Huawei"
         ],
         "xaxis": "x",
         "y": [
          880
         ],
         "yaxis": "y"
        },
        {
         "alignmentgroup": "True",
         "hovertemplate": "mobile_model=%{x}<br>rating=%{y}<extra></extra>",
         "legendgroup": "Infinix",
         "marker": {
          "color": "#636efa",
          "pattern": {
           "shape": ""
          }
         },
         "name": "Infinix",
         "offsetgroup": "Infinix",
         "orientation": "v",
         "showlegend": true,
         "textposition": "auto",
         "type": "bar",
         "x": [
          "Infinix"
         ],
         "xaxis": "x",
         "y": [
          2136
         ],
         "yaxis": "y"
        },
        {
         "alignmentgroup": "True",
         "hovertemplate": "mobile_model=%{x}<br>rating=%{y}<extra></extra>",
         "legendgroup": "Jio",
         "marker": {
          "color": "#EF553B",
          "pattern": {
           "shape": ""
          }
         },
         "name": "Jio",
         "offsetgroup": "Jio",
         "orientation": "v",
         "showlegend": true,
         "textposition": "auto",
         "type": "bar",
         "x": [
          "Jio"
         ],
         "xaxis": "x",
         "y": [
          64
         ],
         "yaxis": "y"
        },
        {
         "alignmentgroup": "True",
         "hovertemplate": "mobile_model=%{x}<br>rating=%{y}<extra></extra>",
         "legendgroup": "LG",
         "marker": {
          "color": "#00cc96",
          "pattern": {
           "shape": ""
          }
         },
         "name": "LG",
         "offsetgroup": "LG",
         "orientation": "v",
         "showlegend": true,
         "textposition": "auto",
         "type": "bar",
         "x": [
          "LG"
         ],
         "xaxis": "x",
         "y": [
          174
         ],
         "yaxis": "y"
        },
        {
         "alignmentgroup": "True",
         "hovertemplate": "mobile_model=%{x}<br>rating=%{y}<extra></extra>",
         "legendgroup": "Lava",
         "marker": {
          "color": "#ab63fa",
          "pattern": {
           "shape": ""
          }
         },
         "name": "Lava",
         "offsetgroup": "Lava",
         "orientation": "v",
         "showlegend": true,
         "textposition": "auto",
         "type": "bar",
         "x": [
          "Lava"
         ],
         "xaxis": "x",
         "y": [
          223
         ],
         "yaxis": "y"
        },
        {
         "alignmentgroup": "True",
         "hovertemplate": "mobile_model=%{x}<br>rating=%{y}<extra></extra>",
         "legendgroup": "LeEco",
         "marker": {
          "color": "#FFA15A",
          "pattern": {
           "shape": ""
          }
         },
         "name": "LeEco",
         "offsetgroup": "LeEco",
         "orientation": "v",
         "showlegend": true,
         "textposition": "auto",
         "type": "bar",
         "x": [
          "LeEco"
         ],
         "xaxis": "x",
         "y": [
          65
         ],
         "yaxis": "y"
        },
        {
         "alignmentgroup": "True",
         "hovertemplate": "mobile_model=%{x}<br>rating=%{y}<extra></extra>",
         "legendgroup": "Leitz",
         "marker": {
          "color": "#19d3f3",
          "pattern": {
           "shape": ""
          }
         },
         "name": "Leitz",
         "offsetgroup": "Leitz",
         "orientation": "v",
         "showlegend": true,
         "textposition": "auto",
         "type": "bar",
         "x": [
          "Leitz"
         ],
         "xaxis": "x",
         "y": [
          89
         ],
         "yaxis": "y"
        },
        {
         "alignmentgroup": "True",
         "hovertemplate": "mobile_model=%{x}<br>rating=%{y}<extra></extra>",
         "legendgroup": "Lenovo",
         "marker": {
          "color": "#FF6692",
          "pattern": {
           "shape": ""
          }
         },
         "name": "Lenovo",
         "offsetgroup": "Lenovo",
         "orientation": "v",
         "showlegend": true,
         "textposition": "auto",
         "type": "bar",
         "x": [
          "Lenovo"
         ],
         "xaxis": "x",
         "y": [
          176
         ],
         "yaxis": "y"
        },
        {
         "alignmentgroup": "True",
         "hovertemplate": "mobile_model=%{x}<br>rating=%{y}<extra></extra>",
         "legendgroup": "Letv",
         "marker": {
          "color": "#B6E880",
          "pattern": {
           "shape": ""
          }
         },
         "name": "Letv",
         "offsetgroup": "Letv",
         "orientation": "v",
         "showlegend": true,
         "textposition": "auto",
         "type": "bar",
         "x": [
          "Letv"
         ],
         "xaxis": "x",
         "y": [
          60
         ],
         "yaxis": "y"
        },
        {
         "alignmentgroup": "True",
         "hovertemplate": "mobile_model=%{x}<br>rating=%{y}<extra></extra>",
         "legendgroup": "Lyf",
         "marker": {
          "color": "#FF97FF",
          "pattern": {
           "shape": ""
          }
         },
         "name": "Lyf",
         "offsetgroup": "Lyf",
         "orientation": "v",
         "showlegend": true,
         "textposition": "auto",
         "type": "bar",
         "x": [
          "Lyf"
         ],
         "xaxis": "x",
         "y": [
          60
         ],
         "yaxis": "y"
        },
        {
         "alignmentgroup": "True",
         "hovertemplate": "mobile_model=%{x}<br>rating=%{y}<extra></extra>",
         "legendgroup": "Micromax",
         "marker": {
          "color": "#FECB52",
          "pattern": {
           "shape": ""
          }
         },
         "name": "Micromax",
         "offsetgroup": "Micromax",
         "orientation": "v",
         "showlegend": true,
         "textposition": "auto",
         "type": "bar",
         "x": [
          "Micromax"
         ],
         "xaxis": "x",
         "y": [
          194
         ],
         "yaxis": "y"
        },
        {
         "alignmentgroup": "True",
         "hovertemplate": "mobile_model=%{x}<br>rating=%{y}<extra></extra>",
         "legendgroup": "Motorola",
         "marker": {
          "color": "#636efa",
          "pattern": {
           "shape": ""
          }
         },
         "name": "Motorola",
         "offsetgroup": "Motorola",
         "orientation": "v",
         "showlegend": true,
         "textposition": "auto",
         "type": "bar",
         "x": [
          "Motorola"
         ],
         "xaxis": "x",
         "y": [
          3845
         ],
         "yaxis": "y"
        },
        {
         "alignmentgroup": "True",
         "hovertemplate": "mobile_model=%{x}<br>rating=%{y}<extra></extra>",
         "legendgroup": "Nokia",
         "marker": {
          "color": "#EF553B",
          "pattern": {
           "shape": ""
          }
         },
         "name": "Nokia",
         "offsetgroup": "Nokia",
         "orientation": "v",
         "showlegend": true,
         "textposition": "auto",
         "type": "bar",
         "x": [
          "Nokia"
         ],
         "xaxis": "x",
         "y": [
          753
         ],
         "yaxis": "y"
        },
        {
         "alignmentgroup": "True",
         "hovertemplate": "mobile_model=%{x}<br>rating=%{y}<extra></extra>",
         "legendgroup": "Nothing",
         "marker": {
          "color": "#00cc96",
          "pattern": {
           "shape": ""
          }
         },
         "name": "Nothing",
         "offsetgroup": "Nothing",
         "orientation": "v",
         "showlegend": true,
         "textposition": "auto",
         "type": "bar",
         "x": [
          "Nothing"
         ],
         "xaxis": "x",
         "y": [
          426
         ],
         "yaxis": "y"
        },
        {
         "alignmentgroup": "True",
         "hovertemplate": "mobile_model=%{x}<br>rating=%{y}<extra></extra>",
         "legendgroup": "Nubia",
         "marker": {
          "color": "#ab63fa",
          "pattern": {
           "shape": ""
          }
         },
         "name": "Nubia",
         "offsetgroup": "Nubia",
         "orientation": "v",
         "showlegend": true,
         "textposition": "auto",
         "type": "bar",
         "x": [
          "Nubia"
         ],
         "xaxis": "x",
         "y": [
          506
         ],
         "yaxis": "y"
        },
        {
         "alignmentgroup": "True",
         "hovertemplate": "mobile_model=%{x}<br>rating=%{y}<extra></extra>",
         "legendgroup": "OPPO",
         "marker": {
          "color": "#FFA15A",
          "pattern": {
           "shape": ""
          }
         },
         "name": "OPPO",
         "offsetgroup": "OPPO",
         "orientation": "v",
         "showlegend": true,
         "textposition": "auto",
         "type": "bar",
         "x": [
          "OPPO"
         ],
         "xaxis": "x",
         "y": [
          4784
         ],
         "yaxis": "y"
        },
        {
         "alignmentgroup": "True",
         "hovertemplate": "mobile_model=%{x}<br>rating=%{y}<extra></extra>",
         "legendgroup": "OnePlus",
         "marker": {
          "color": "#19d3f3",
          "pattern": {
           "shape": ""
          }
         },
         "name": "OnePlus",
         "offsetgroup": "OnePlus",
         "orientation": "v",
         "showlegend": true,
         "textposition": "auto",
         "type": "bar",
         "x": [
          "OnePlus"
         ],
         "xaxis": "x",
         "y": [
          3125
         ],
         "yaxis": "y"
        },
        {
         "alignmentgroup": "True",
         "hovertemplate": "mobile_model=%{x}<br>rating=%{y}<extra></extra>",
         "legendgroup": "Oppo",
         "marker": {
          "color": "#FF6692",
          "pattern": {
           "shape": ""
          }
         },
         "name": "Oppo",
         "offsetgroup": "Oppo",
         "orientation": "v",
         "showlegend": true,
         "textposition": "auto",
         "type": "bar",
         "x": [
          "Oppo"
         ],
         "xaxis": "x",
         "y": [
          1600
         ],
         "yaxis": "y"
        },
        {
         "alignmentgroup": "True",
         "hovertemplate": "mobile_model=%{x}<br>rating=%{y}<extra></extra>",
         "legendgroup": "Oukitel",
         "marker": {
          "color": "#B6E880",
          "pattern": {
           "shape": ""
          }
         },
         "name": "Oukitel",
         "offsetgroup": "Oukitel",
         "orientation": "v",
         "showlegend": true,
         "textposition": "auto",
         "type": "bar",
         "x": [
          "Oukitel"
         ],
         "xaxis": "x",
         "y": [
          238
         ],
         "yaxis": "y"
        },
        {
         "alignmentgroup": "True",
         "hovertemplate": "mobile_model=%{x}<br>rating=%{y}<extra></extra>",
         "legendgroup": "POCO",
         "marker": {
          "color": "#FF97FF",
          "pattern": {
           "shape": ""
          }
         },
         "name": "POCO",
         "offsetgroup": "POCO",
         "orientation": "v",
         "showlegend": true,
         "textposition": "auto",
         "type": "bar",
         "x": [
          "POCO"
         ],
         "xaxis": "x",
         "y": [
          1025
         ],
         "yaxis": "y"
        },
        {
         "alignmentgroup": "True",
         "hovertemplate": "mobile_model=%{x}<br>rating=%{y}<extra></extra>",
         "legendgroup": "Poco",
         "marker": {
          "color": "#FECB52",
          "pattern": {
           "shape": ""
          }
         },
         "name": "Poco",
         "offsetgroup": "Poco",
         "orientation": "v",
         "showlegend": true,
         "textposition": "auto",
         "type": "bar",
         "x": [
          "Poco"
         ],
         "xaxis": "x",
         "y": [
          2123
         ],
         "yaxis": "y"
        },
        {
         "alignmentgroup": "True",
         "hovertemplate": "mobile_model=%{x}<br>rating=%{y}<extra></extra>",
         "legendgroup": "Realme",
         "marker": {
          "color": "#636efa",
          "pattern": {
           "shape": ""
          }
         },
         "name": "Realme",
         "offsetgroup": "Realme",
         "orientation": "v",
         "showlegend": true,
         "textposition": "auto",
         "type": "bar",
         "x": [
          "Realme"
         ],
         "xaxis": "x",
         "y": [
          7033
         ],
         "yaxis": "y"
        },
        {
         "alignmentgroup": "True",
         "hovertemplate": "mobile_model=%{x}<br>rating=%{y}<extra></extra>",
         "legendgroup": "Redmi",
         "marker": {
          "color": "#EF553B",
          "pattern": {
           "shape": ""
          }
         },
         "name": "Redmi",
         "offsetgroup": "Redmi",
         "orientation": "v",
         "showlegend": true,
         "textposition": "auto",
         "type": "bar",
         "x": [
          "Redmi"
         ],
         "xaxis": "x",
         "y": [
          232
         ],
         "yaxis": "y"
        },
        {
         "alignmentgroup": "True",
         "hovertemplate": "mobile_model=%{x}<br>rating=%{y}<extra></extra>",
         "legendgroup": "Royole",
         "marker": {
          "color": "#00cc96",
          "pattern": {
           "shape": ""
          }
         },
         "name": "Royole",
         "offsetgroup": "Royole",
         "orientation": "v",
         "showlegend": true,
         "textposition": "auto",
         "type": "bar",
         "x": [
          "Royole"
         ],
         "xaxis": "x",
         "y": [
          174
         ],
         "yaxis": "y"
        },
        {
         "alignmentgroup": "True",
         "hovertemplate": "mobile_model=%{x}<br>rating=%{y}<extra></extra>",
         "legendgroup": "Samsung",
         "marker": {
          "color": "#ab63fa",
          "pattern": {
           "shape": ""
          }
         },
         "name": "Samsung",
         "offsetgroup": "Samsung",
         "orientation": "v",
         "showlegend": true,
         "textposition": "auto",
         "type": "bar",
         "x": [
          "Samsung"
         ],
         "xaxis": "x",
         "y": [
          9132
         ],
         "yaxis": "y"
        },
        {
         "alignmentgroup": "True",
         "hovertemplate": "mobile_model=%{x}<br>rating=%{y}<extra></extra>",
         "legendgroup": "Sharp",
         "marker": {
          "color": "#FFA15A",
          "pattern": {
           "shape": ""
          }
         },
         "name": "Sharp",
         "offsetgroup": "Sharp",
         "orientation": "v",
         "showlegend": true,
         "textposition": "auto",
         "type": "bar",
         "x": [
          "Sharp"
         ],
         "xaxis": "x",
         "y": [
          88
         ],
         "yaxis": "y"
        },
        {
         "alignmentgroup": "True",
         "hovertemplate": "mobile_model=%{x}<br>rating=%{y}<extra></extra>",
         "legendgroup": "Sony",
         "marker": {
          "color": "#19d3f3",
          "pattern": {
           "shape": ""
          }
         },
         "name": "Sony",
         "offsetgroup": "Sony",
         "orientation": "v",
         "showlegend": true,
         "textposition": "auto",
         "type": "bar",
         "x": [
          "Sony"
         ],
         "xaxis": "x",
         "y": [
          570
         ],
         "yaxis": "y"
        },
        {
         "alignmentgroup": "True",
         "hovertemplate": "mobile_model=%{x}<br>rating=%{y}<extra></extra>",
         "legendgroup": "TCL",
         "marker": {
          "color": "#FF6692",
          "pattern": {
           "shape": ""
          }
         },
         "name": "TCL",
         "offsetgroup": "TCL",
         "orientation": "v",
         "showlegend": true,
         "textposition": "auto",
         "type": "bar",
         "x": [
          "TCL"
         ],
         "xaxis": "x",
         "y": [
          60
         ],
         "yaxis": "y"
        },
        {
         "alignmentgroup": "True",
         "hovertemplate": "mobile_model=%{x}<br>rating=%{y}<extra></extra>",
         "legendgroup": "Tecno",
         "marker": {
          "color": "#B6E880",
          "pattern": {
           "shape": ""
          }
         },
         "name": "Tecno",
         "offsetgroup": "Tecno",
         "orientation": "v",
         "showlegend": true,
         "textposition": "auto",
         "type": "bar",
         "x": [
          "Tecno"
         ],
         "xaxis": "x",
         "y": [
          2284
         ],
         "yaxis": "y"
        },
        {
         "alignmentgroup": "True",
         "hovertemplate": "mobile_model=%{x}<br>rating=%{y}<extra></extra>",
         "legendgroup": "Tesla",
         "marker": {
          "color": "#FF97FF",
          "pattern": {
           "shape": ""
          }
         },
         "name": "Tesla",
         "offsetgroup": "Tesla",
         "orientation": "v",
         "showlegend": true,
         "textposition": "auto",
         "type": "bar",
         "x": [
          "Tesla"
         ],
         "xaxis": "x",
         "y": [
          83
         ],
         "yaxis": "y"
        },
        {
         "alignmentgroup": "True",
         "hovertemplate": "mobile_model=%{x}<br>rating=%{y}<extra></extra>",
         "legendgroup": "Vertu",
         "marker": {
          "color": "#FECB52",
          "pattern": {
           "shape": ""
          }
         },
         "name": "Vertu",
         "offsetgroup": "Vertu",
         "orientation": "v",
         "showlegend": true,
         "textposition": "auto",
         "type": "bar",
         "x": [
          "Vertu"
         ],
         "xaxis": "x",
         "y": [
          62
         ],
         "yaxis": "y"
        },
        {
         "alignmentgroup": "True",
         "hovertemplate": "mobile_model=%{x}<br>rating=%{y}<extra></extra>",
         "legendgroup": "Vivo",
         "marker": {
          "color": "#636efa",
          "pattern": {
           "shape": ""
          }
         },
         "name": "Vivo",
         "offsetgroup": "Vivo",
         "orientation": "v",
         "showlegend": true,
         "textposition": "auto",
         "type": "bar",
         "x": [
          "Vivo"
         ],
         "xaxis": "x",
         "y": [
          7407
         ],
         "yaxis": "y"
        },
        {
         "alignmentgroup": "True",
         "hovertemplate": "mobile_model=%{x}<br>rating=%{y}<extra></extra>",
         "legendgroup": "Xiaomi",
         "marker": {
          "color": "#EF553B",
          "pattern": {
           "shape": ""
          }
         },
         "name": "Xiaomi",
         "offsetgroup": "Xiaomi",
         "orientation": "v",
         "showlegend": true,
         "textposition": "auto",
         "type": "bar",
         "x": [
          "Xiaomi"
         ],
         "xaxis": "x",
         "y": [
          9847
         ],
         "yaxis": "y"
        },
        {
         "alignmentgroup": "True",
         "hovertemplate": "mobile_model=%{x}<br>rating=%{y}<extra></extra>",
         "legendgroup": "ZTE",
         "marker": {
          "color": "#00cc96",
          "pattern": {
           "shape": ""
          }
         },
         "name": "ZTE",
         "offsetgroup": "ZTE",
         "orientation": "v",
         "showlegend": true,
         "textposition": "auto",
         "type": "bar",
         "x": [
          "ZTE"
         ],
         "xaxis": "x",
         "y": [
          171
         ],
         "yaxis": "y"
        },
        {
         "alignmentgroup": "True",
         "hovertemplate": "mobile_model=%{x}<br>rating=%{y}<extra></extra>",
         "legendgroup": "iKall",
         "marker": {
          "color": "#ab63fa",
          "pattern": {
           "shape": ""
          }
         },
         "name": "iKall",
         "offsetgroup": "iKall",
         "orientation": "v",
         "showlegend": true,
         "textposition": "auto",
         "type": "bar",
         "x": [
          "iKall"
         ],
         "xaxis": "x",
         "y": [
          182
         ],
         "yaxis": "y"
        },
        {
         "alignmentgroup": "True",
         "hovertemplate": "mobile_model=%{x}<br>rating=%{y}<extra></extra>",
         "legendgroup": "iQOO",
         "marker": {
          "color": "#FFA15A",
          "pattern": {
           "shape": ""
          }
         },
         "name": "iQOO",
         "offsetgroup": "iQOO",
         "orientation": "v",
         "showlegend": true,
         "textposition": "auto",
         "type": "bar",
         "x": [
          "iQOO"
         ],
         "xaxis": "x",
         "y": [
          2631
         ],
         "yaxis": "y"
        },
        {
         "alignmentgroup": "True",
         "hovertemplate": "mobile_model=%{x}<br>rating=%{y}<extra></extra>",
         "legendgroup": "itel",
         "marker": {
          "color": "#19d3f3",
          "pattern": {
           "shape": ""
          }
         },
         "name": "itel",
         "offsetgroup": "itel",
         "orientation": "v",
         "showlegend": true,
         "textposition": "auto",
         "type": "bar",
         "x": [
          "itel"
         ],
         "xaxis": "x",
         "y": [
          61
         ],
         "yaxis": "y"
        }
       ],
       "layout": {
        "barmode": "relative",
        "legend": {
         "title": {
          "text": "mobile_model"
         },
         "tracegroupgap": 0
        },
        "template": {
         "data": {
          "bar": [
           {
            "error_x": {
             "color": "#2a3f5f"
            },
            "error_y": {
             "color": "#2a3f5f"
            },
            "marker": {
             "line": {
              "color": "#E5ECF6",
              "width": 0.5
             },
             "pattern": {
              "fillmode": "overlay",
              "size": 10,
              "solidity": 0.2
             }
            },
            "type": "bar"
           }
          ],
          "barpolar": [
           {
            "marker": {
             "line": {
              "color": "#E5ECF6",
              "width": 0.5
             },
             "pattern": {
              "fillmode": "overlay",
              "size": 10,
              "solidity": 0.2
             }
            },
            "type": "barpolar"
           }
          ],
          "carpet": [
           {
            "aaxis": {
             "endlinecolor": "#2a3f5f",
             "gridcolor": "white",
             "linecolor": "white",
             "minorgridcolor": "white",
             "startlinecolor": "#2a3f5f"
            },
            "baxis": {
             "endlinecolor": "#2a3f5f",
             "gridcolor": "white",
             "linecolor": "white",
             "minorgridcolor": "white",
             "startlinecolor": "#2a3f5f"
            },
            "type": "carpet"
           }
          ],
          "choropleth": [
           {
            "colorbar": {
             "outlinewidth": 0,
             "ticks": ""
            },
            "type": "choropleth"
           }
          ],
          "contour": [
           {
            "colorbar": {
             "outlinewidth": 0,
             "ticks": ""
            },
            "colorscale": [
             [
              0,
              "#0d0887"
             ],
             [
              0.1111111111111111,
              "#46039f"
             ],
             [
              0.2222222222222222,
              "#7201a8"
             ],
             [
              0.3333333333333333,
              "#9c179e"
             ],
             [
              0.4444444444444444,
              "#bd3786"
             ],
             [
              0.5555555555555556,
              "#d8576b"
             ],
             [
              0.6666666666666666,
              "#ed7953"
             ],
             [
              0.7777777777777778,
              "#fb9f3a"
             ],
             [
              0.8888888888888888,
              "#fdca26"
             ],
             [
              1,
              "#f0f921"
             ]
            ],
            "type": "contour"
           }
          ],
          "contourcarpet": [
           {
            "colorbar": {
             "outlinewidth": 0,
             "ticks": ""
            },
            "type": "contourcarpet"
           }
          ],
          "heatmap": [
           {
            "colorbar": {
             "outlinewidth": 0,
             "ticks": ""
            },
            "colorscale": [
             [
              0,
              "#0d0887"
             ],
             [
              0.1111111111111111,
              "#46039f"
             ],
             [
              0.2222222222222222,
              "#7201a8"
             ],
             [
              0.3333333333333333,
              "#9c179e"
             ],
             [
              0.4444444444444444,
              "#bd3786"
             ],
             [
              0.5555555555555556,
              "#d8576b"
             ],
             [
              0.6666666666666666,
              "#ed7953"
             ],
             [
              0.7777777777777778,
              "#fb9f3a"
             ],
             [
              0.8888888888888888,
              "#fdca26"
             ],
             [
              1,
              "#f0f921"
             ]
            ],
            "type": "heatmap"
           }
          ],
          "heatmapgl": [
           {
            "colorbar": {
             "outlinewidth": 0,
             "ticks": ""
            },
            "colorscale": [
             [
              0,
              "#0d0887"
             ],
             [
              0.1111111111111111,
              "#46039f"
             ],
             [
              0.2222222222222222,
              "#7201a8"
             ],
             [
              0.3333333333333333,
              "#9c179e"
             ],
             [
              0.4444444444444444,
              "#bd3786"
             ],
             [
              0.5555555555555556,
              "#d8576b"
             ],
             [
              0.6666666666666666,
              "#ed7953"
             ],
             [
              0.7777777777777778,
              "#fb9f3a"
             ],
             [
              0.8888888888888888,
              "#fdca26"
             ],
             [
              1,
              "#f0f921"
             ]
            ],
            "type": "heatmapgl"
           }
          ],
          "histogram": [
           {
            "marker": {
             "pattern": {
              "fillmode": "overlay",
              "size": 10,
              "solidity": 0.2
             }
            },
            "type": "histogram"
           }
          ],
          "histogram2d": [
           {
            "colorbar": {
             "outlinewidth": 0,
             "ticks": ""
            },
            "colorscale": [
             [
              0,
              "#0d0887"
             ],
             [
              0.1111111111111111,
              "#46039f"
             ],
             [
              0.2222222222222222,
              "#7201a8"
             ],
             [
              0.3333333333333333,
              "#9c179e"
             ],
             [
              0.4444444444444444,
              "#bd3786"
             ],
             [
              0.5555555555555556,
              "#d8576b"
             ],
             [
              0.6666666666666666,
              "#ed7953"
             ],
             [
              0.7777777777777778,
              "#fb9f3a"
             ],
             [
              0.8888888888888888,
              "#fdca26"
             ],
             [
              1,
              "#f0f921"
             ]
            ],
            "type": "histogram2d"
           }
          ],
          "histogram2dcontour": [
           {
            "colorbar": {
             "outlinewidth": 0,
             "ticks": ""
            },
            "colorscale": [
             [
              0,
              "#0d0887"
             ],
             [
              0.1111111111111111,
              "#46039f"
             ],
             [
              0.2222222222222222,
              "#7201a8"
             ],
             [
              0.3333333333333333,
              "#9c179e"
             ],
             [
              0.4444444444444444,
              "#bd3786"
             ],
             [
              0.5555555555555556,
              "#d8576b"
             ],
             [
              0.6666666666666666,
              "#ed7953"
             ],
             [
              0.7777777777777778,
              "#fb9f3a"
             ],
             [
              0.8888888888888888,
              "#fdca26"
             ],
             [
              1,
              "#f0f921"
             ]
            ],
            "type": "histogram2dcontour"
           }
          ],
          "mesh3d": [
           {
            "colorbar": {
             "outlinewidth": 0,
             "ticks": ""
            },
            "type": "mesh3d"
           }
          ],
          "parcoords": [
           {
            "line": {
             "colorbar": {
              "outlinewidth": 0,
              "ticks": ""
             }
            },
            "type": "parcoords"
           }
          ],
          "pie": [
           {
            "automargin": true,
            "type": "pie"
           }
          ],
          "scatter": [
           {
            "fillpattern": {
             "fillmode": "overlay",
             "size": 10,
             "solidity": 0.2
            },
            "type": "scatter"
           }
          ],
          "scatter3d": [
           {
            "line": {
             "colorbar": {
              "outlinewidth": 0,
              "ticks": ""
             }
            },
            "marker": {
             "colorbar": {
              "outlinewidth": 0,
              "ticks": ""
             }
            },
            "type": "scatter3d"
           }
          ],
          "scattercarpet": [
           {
            "marker": {
             "colorbar": {
              "outlinewidth": 0,
              "ticks": ""
             }
            },
            "type": "scattercarpet"
           }
          ],
          "scattergeo": [
           {
            "marker": {
             "colorbar": {
              "outlinewidth": 0,
              "ticks": ""
             }
            },
            "type": "scattergeo"
           }
          ],
          "scattergl": [
           {
            "marker": {
             "colorbar": {
              "outlinewidth": 0,
              "ticks": ""
             }
            },
            "type": "scattergl"
           }
          ],
          "scattermapbox": [
           {
            "marker": {
             "colorbar": {
              "outlinewidth": 0,
              "ticks": ""
             }
            },
            "type": "scattermapbox"
           }
          ],
          "scatterpolar": [
           {
            "marker": {
             "colorbar": {
              "outlinewidth": 0,
              "ticks": ""
             }
            },
            "type": "scatterpolar"
           }
          ],
          "scatterpolargl": [
           {
            "marker": {
             "colorbar": {
              "outlinewidth": 0,
              "ticks": ""
             }
            },
            "type": "scatterpolargl"
           }
          ],
          "scatterternary": [
           {
            "marker": {
             "colorbar": {
              "outlinewidth": 0,
              "ticks": ""
             }
            },
            "type": "scatterternary"
           }
          ],
          "surface": [
           {
            "colorbar": {
             "outlinewidth": 0,
             "ticks": ""
            },
            "colorscale": [
             [
              0,
              "#0d0887"
             ],
             [
              0.1111111111111111,
              "#46039f"
             ],
             [
              0.2222222222222222,
              "#7201a8"
             ],
             [
              0.3333333333333333,
              "#9c179e"
             ],
             [
              0.4444444444444444,
              "#bd3786"
             ],
             [
              0.5555555555555556,
              "#d8576b"
             ],
             [
              0.6666666666666666,
              "#ed7953"
             ],
             [
              0.7777777777777778,
              "#fb9f3a"
             ],
             [
              0.8888888888888888,
              "#fdca26"
             ],
             [
              1,
              "#f0f921"
             ]
            ],
            "type": "surface"
           }
          ],
          "table": [
           {
            "cells": {
             "fill": {
              "color": "#EBF0F8"
             },
             "line": {
              "color": "white"
             }
            },
            "header": {
             "fill": {
              "color": "#C8D4E3"
             },
             "line": {
              "color": "white"
             }
            },
            "type": "table"
           }
          ]
         },
         "layout": {
          "annotationdefaults": {
           "arrowcolor": "#2a3f5f",
           "arrowhead": 0,
           "arrowwidth": 1
          },
          "autotypenumbers": "strict",
          "coloraxis": {
           "colorbar": {
            "outlinewidth": 0,
            "ticks": ""
           }
          },
          "colorscale": {
           "diverging": [
            [
             0,
             "#8e0152"
            ],
            [
             0.1,
             "#c51b7d"
            ],
            [
             0.2,
             "#de77ae"
            ],
            [
             0.3,
             "#f1b6da"
            ],
            [
             0.4,
             "#fde0ef"
            ],
            [
             0.5,
             "#f7f7f7"
            ],
            [
             0.6,
             "#e6f5d0"
            ],
            [
             0.7,
             "#b8e186"
            ],
            [
             0.8,
             "#7fbc41"
            ],
            [
             0.9,
             "#4d9221"
            ],
            [
             1,
             "#276419"
            ]
           ],
           "sequential": [
            [
             0,
             "#0d0887"
            ],
            [
             0.1111111111111111,
             "#46039f"
            ],
            [
             0.2222222222222222,
             "#7201a8"
            ],
            [
             0.3333333333333333,
             "#9c179e"
            ],
            [
             0.4444444444444444,
             "#bd3786"
            ],
            [
             0.5555555555555556,
             "#d8576b"
            ],
            [
             0.6666666666666666,
             "#ed7953"
            ],
            [
             0.7777777777777778,
             "#fb9f3a"
            ],
            [
             0.8888888888888888,
             "#fdca26"
            ],
            [
             1,
             "#f0f921"
            ]
           ],
           "sequentialminus": [
            [
             0,
             "#0d0887"
            ],
            [
             0.1111111111111111,
             "#46039f"
            ],
            [
             0.2222222222222222,
             "#7201a8"
            ],
            [
             0.3333333333333333,
             "#9c179e"
            ],
            [
             0.4444444444444444,
             "#bd3786"
            ],
            [
             0.5555555555555556,
             "#d8576b"
            ],
            [
             0.6666666666666666,
             "#ed7953"
            ],
            [
             0.7777777777777778,
             "#fb9f3a"
            ],
            [
             0.8888888888888888,
             "#fdca26"
            ],
            [
             1,
             "#f0f921"
            ]
           ]
          },
          "colorway": [
           "#636efa",
           "#EF553B",
           "#00cc96",
           "#ab63fa",
           "#FFA15A",
           "#19d3f3",
           "#FF6692",
           "#B6E880",
           "#FF97FF",
           "#FECB52"
          ],
          "font": {
           "color": "#2a3f5f"
          },
          "geo": {
           "bgcolor": "white",
           "lakecolor": "white",
           "landcolor": "#E5ECF6",
           "showlakes": true,
           "showland": true,
           "subunitcolor": "white"
          },
          "hoverlabel": {
           "align": "left"
          },
          "hovermode": "closest",
          "mapbox": {
           "style": "light"
          },
          "paper_bgcolor": "white",
          "plot_bgcolor": "#E5ECF6",
          "polar": {
           "angularaxis": {
            "gridcolor": "white",
            "linecolor": "white",
            "ticks": ""
           },
           "bgcolor": "#E5ECF6",
           "radialaxis": {
            "gridcolor": "white",
            "linecolor": "white",
            "ticks": ""
           }
          },
          "scene": {
           "xaxis": {
            "backgroundcolor": "#E5ECF6",
            "gridcolor": "white",
            "gridwidth": 2,
            "linecolor": "white",
            "showbackground": true,
            "ticks": "",
            "zerolinecolor": "white"
           },
           "yaxis": {
            "backgroundcolor": "#E5ECF6",
            "gridcolor": "white",
            "gridwidth": 2,
            "linecolor": "white",
            "showbackground": true,
            "ticks": "",
            "zerolinecolor": "white"
           },
           "zaxis": {
            "backgroundcolor": "#E5ECF6",
            "gridcolor": "white",
            "gridwidth": 2,
            "linecolor": "white",
            "showbackground": true,
            "ticks": "",
            "zerolinecolor": "white"
           }
          },
          "shapedefaults": {
           "line": {
            "color": "#2a3f5f"
           }
          },
          "ternary": {
           "aaxis": {
            "gridcolor": "white",
            "linecolor": "white",
            "ticks": ""
           },
           "baxis": {
            "gridcolor": "white",
            "linecolor": "white",
            "ticks": ""
           },
           "bgcolor": "#E5ECF6",
           "caxis": {
            "gridcolor": "white",
            "linecolor": "white",
            "ticks": ""
           }
          },
          "title": {
           "x": 0.05
          },
          "xaxis": {
           "automargin": true,
           "gridcolor": "white",
           "linecolor": "white",
           "ticks": "",
           "title": {
            "standoff": 15
           },
           "zerolinecolor": "white",
           "zerolinewidth": 2
          },
          "yaxis": {
           "automargin": true,
           "gridcolor": "white",
           "linecolor": "white",
           "ticks": "",
           "title": {
            "standoff": 15
           },
           "zerolinecolor": "white",
           "zerolinewidth": 2
          }
         }
        },
        "title": {
         "text": "Average Rating of Mobiles"
        },
        "xaxis": {
         "anchor": "y",
         "categoryarray": [
          "Apple",
          "Asus",
          "BLU",
          "Blackview",
          "Cola",
          "Doogee",
          "Gionee",
          "Google",
          "Honor",
          "Huawei",
          "Infinix",
          "Jio",
          "LG",
          "Lava",
          "LeEco",
          "Leitz",
          "Lenovo",
          "Letv",
          "Lyf",
          "Micromax",
          "Motorola",
          "Nokia",
          "Nothing",
          "Nubia",
          "OPPO",
          "OnePlus",
          "Oppo",
          "Oukitel",
          "POCO",
          "Poco",
          "Realme",
          "Redmi",
          "Royole",
          "Samsung",
          "Sharp",
          "Sony",
          "TCL",
          "Tecno",
          "Tesla",
          "Vertu",
          "Vivo",
          "Xiaomi",
          "ZTE",
          "iKall",
          "iQOO",
          "itel"
         ],
         "categoryorder": "array",
         "domain": [
          0,
          1
         ],
         "title": {
          "text": "mobile_model"
         }
        },
        "yaxis": {
         "anchor": "x",
         "domain": [
          0,
          1
         ],
         "title": {
          "text": "rating"
         }
        }
       }
      }
     },
     "metadata": {},
     "output_type": "display_data"
    }
   ],
   "source": [
    "highest_rating = data.groupby(['mobile_model'])['rating'].sum().reset_index()\n",
    "fig = px.bar(highest_rating, x='mobile_model', y='rating', labels={'Mobile_Model': 'mobile_model', 'Name': 'Average Rating of Mobiles'},\n",
    "             title='Average Rating of Mobiles', color = 'mobile_model')\n",
    "fig.show()"
   ]
  },
  {
   "cell_type": "code",
   "execution_count": 31,
   "metadata": {},
   "outputs": [
    {
     "data": {
      "application/vnd.plotly.v1+json": {
       "config": {
        "plotlyServerURL": "https://plot.ly"
       },
       "data": [
        {
         "alignmentgroup": "True",
         "hovertemplate": "sim=%{marker.color}<br>index=%{y}<extra></extra>",
         "legendgroup": "",
         "marker": {
          "color": [
           226,
           151,
           54,
           284,
           40,
           46,
           46,
           5,
           4,
           7,
           3,
           1,
           1,
           3,
           1,
           2,
           2,
           1,
           1
          ],
          "coloraxis": "coloraxis",
          "pattern": {
           "shape": ""
          }
         },
         "name": "",
         "offsetgroup": "",
         "orientation": "h",
         "showlegend": false,
         "textposition": "auto",
         "type": "bar",
         "x": [
          226,
          151,
          54,
          284,
          40,
          46,
          46,
          5,
          4,
          7,
          3,
          1,
          1,
          3,
          1,
          2,
          2,
          1,
          1
         ],
         "xaxis": "x",
         "y": [
          "Dual Sim, 3G, 4G, 5G, VoLTE, Wi-Fi, NFC",
          "Dual Sim, 3G, 4G, 5G, VoLTE, Wi-Fi",
          "Dual Sim, 3G, 4G, 5G, VoLTE, Wi-Fi, IR Blaster",
          "Dual Sim, 3G, 4G, VoLTE, Wi-Fi",
          "Dual Sim, 3G, 4G, 5G, VoLTE, Wi-Fi, NFC, IR Blaster",
          "Dual Sim, 3G, 4G, VoLTE, Wi-Fi, NFC",
          "Dual Sim, 3G, 4G, VoLTE, Wi-Fi, IR Blaster",
          "Dual Sim, 3G, 4G, 5G, VoLTE, Vo5G, Wi-Fi, NFC",
          "Single Sim, 3G, 4G, VoLTE, Wi-Fi, NFC",
          "Single Sim, 3G, 4G, 5G, VoLTE, Wi-Fi, NFC",
          "Dual Sim, 3G, 4G, 5G, VoLTE, Vo5G, Wi-Fi",
          "Single Sim, 3G, 4G, 5G, VoLTE, Wi-Fi",
          "Single Sim, 3G, 4G, Wi-Fi, NFC",
          "Dual Sim, 3G, 4G, VoLTE, Wi-Fi, NFC, IR Blaster",
          "Single Sim, 3G, 4G, VoLTE, Wi-Fi",
          "Dual Sim, 3G, 4G, Wi-Fi",
          "Dual Sim, 3G, 4G, Wi-Fi, NFC",
          "Dual Sim, 3G, 4G, 5G, VoLTE, Vo5G, Wi-Fi, IR Blaster",
          "Dual Sim, 3G, 4G, 5G, VoLTE, Vo5G, Wi-Fi, NFC, IR Blaster"
         ],
         "yaxis": "y"
        }
       ],
       "layout": {
        "barmode": "relative",
        "coloraxis": {
         "colorbar": {
          "title": {
           "text": "sim"
          }
         },
         "colorscale": [
          [
           0,
           "#0d0887"
          ],
          [
           0.1111111111111111,
           "#46039f"
          ],
          [
           0.2222222222222222,
           "#7201a8"
          ],
          [
           0.3333333333333333,
           "#9c179e"
          ],
          [
           0.4444444444444444,
           "#bd3786"
          ],
          [
           0.5555555555555556,
           "#d8576b"
          ],
          [
           0.6666666666666666,
           "#ed7953"
          ],
          [
           0.7777777777777778,
           "#fb9f3a"
          ],
          [
           0.8888888888888888,
           "#fdca26"
          ],
          [
           1,
           "#f0f921"
          ]
         ]
        },
        "legend": {
         "tracegroupgap": 0
        },
        "template": {
         "data": {
          "bar": [
           {
            "error_x": {
             "color": "#2a3f5f"
            },
            "error_y": {
             "color": "#2a3f5f"
            },
            "marker": {
             "line": {
              "color": "#E5ECF6",
              "width": 0.5
             },
             "pattern": {
              "fillmode": "overlay",
              "size": 10,
              "solidity": 0.2
             }
            },
            "type": "bar"
           }
          ],
          "barpolar": [
           {
            "marker": {
             "line": {
              "color": "#E5ECF6",
              "width": 0.5
             },
             "pattern": {
              "fillmode": "overlay",
              "size": 10,
              "solidity": 0.2
             }
            },
            "type": "barpolar"
           }
          ],
          "carpet": [
           {
            "aaxis": {
             "endlinecolor": "#2a3f5f",
             "gridcolor": "white",
             "linecolor": "white",
             "minorgridcolor": "white",
             "startlinecolor": "#2a3f5f"
            },
            "baxis": {
             "endlinecolor": "#2a3f5f",
             "gridcolor": "white",
             "linecolor": "white",
             "minorgridcolor": "white",
             "startlinecolor": "#2a3f5f"
            },
            "type": "carpet"
           }
          ],
          "choropleth": [
           {
            "colorbar": {
             "outlinewidth": 0,
             "ticks": ""
            },
            "type": "choropleth"
           }
          ],
          "contour": [
           {
            "colorbar": {
             "outlinewidth": 0,
             "ticks": ""
            },
            "colorscale": [
             [
              0,
              "#0d0887"
             ],
             [
              0.1111111111111111,
              "#46039f"
             ],
             [
              0.2222222222222222,
              "#7201a8"
             ],
             [
              0.3333333333333333,
              "#9c179e"
             ],
             [
              0.4444444444444444,
              "#bd3786"
             ],
             [
              0.5555555555555556,
              "#d8576b"
             ],
             [
              0.6666666666666666,
              "#ed7953"
             ],
             [
              0.7777777777777778,
              "#fb9f3a"
             ],
             [
              0.8888888888888888,
              "#fdca26"
             ],
             [
              1,
              "#f0f921"
             ]
            ],
            "type": "contour"
           }
          ],
          "contourcarpet": [
           {
            "colorbar": {
             "outlinewidth": 0,
             "ticks": ""
            },
            "type": "contourcarpet"
           }
          ],
          "heatmap": [
           {
            "colorbar": {
             "outlinewidth": 0,
             "ticks": ""
            },
            "colorscale": [
             [
              0,
              "#0d0887"
             ],
             [
              0.1111111111111111,
              "#46039f"
             ],
             [
              0.2222222222222222,
              "#7201a8"
             ],
             [
              0.3333333333333333,
              "#9c179e"
             ],
             [
              0.4444444444444444,
              "#bd3786"
             ],
             [
              0.5555555555555556,
              "#d8576b"
             ],
             [
              0.6666666666666666,
              "#ed7953"
             ],
             [
              0.7777777777777778,
              "#fb9f3a"
             ],
             [
              0.8888888888888888,
              "#fdca26"
             ],
             [
              1,
              "#f0f921"
             ]
            ],
            "type": "heatmap"
           }
          ],
          "heatmapgl": [
           {
            "colorbar": {
             "outlinewidth": 0,
             "ticks": ""
            },
            "colorscale": [
             [
              0,
              "#0d0887"
             ],
             [
              0.1111111111111111,
              "#46039f"
             ],
             [
              0.2222222222222222,
              "#7201a8"
             ],
             [
              0.3333333333333333,
              "#9c179e"
             ],
             [
              0.4444444444444444,
              "#bd3786"
             ],
             [
              0.5555555555555556,
              "#d8576b"
             ],
             [
              0.6666666666666666,
              "#ed7953"
             ],
             [
              0.7777777777777778,
              "#fb9f3a"
             ],
             [
              0.8888888888888888,
              "#fdca26"
             ],
             [
              1,
              "#f0f921"
             ]
            ],
            "type": "heatmapgl"
           }
          ],
          "histogram": [
           {
            "marker": {
             "pattern": {
              "fillmode": "overlay",
              "size": 10,
              "solidity": 0.2
             }
            },
            "type": "histogram"
           }
          ],
          "histogram2d": [
           {
            "colorbar": {
             "outlinewidth": 0,
             "ticks": ""
            },
            "colorscale": [
             [
              0,
              "#0d0887"
             ],
             [
              0.1111111111111111,
              "#46039f"
             ],
             [
              0.2222222222222222,
              "#7201a8"
             ],
             [
              0.3333333333333333,
              "#9c179e"
             ],
             [
              0.4444444444444444,
              "#bd3786"
             ],
             [
              0.5555555555555556,
              "#d8576b"
             ],
             [
              0.6666666666666666,
              "#ed7953"
             ],
             [
              0.7777777777777778,
              "#fb9f3a"
             ],
             [
              0.8888888888888888,
              "#fdca26"
             ],
             [
              1,
              "#f0f921"
             ]
            ],
            "type": "histogram2d"
           }
          ],
          "histogram2dcontour": [
           {
            "colorbar": {
             "outlinewidth": 0,
             "ticks": ""
            },
            "colorscale": [
             [
              0,
              "#0d0887"
             ],
             [
              0.1111111111111111,
              "#46039f"
             ],
             [
              0.2222222222222222,
              "#7201a8"
             ],
             [
              0.3333333333333333,
              "#9c179e"
             ],
             [
              0.4444444444444444,
              "#bd3786"
             ],
             [
              0.5555555555555556,
              "#d8576b"
             ],
             [
              0.6666666666666666,
              "#ed7953"
             ],
             [
              0.7777777777777778,
              "#fb9f3a"
             ],
             [
              0.8888888888888888,
              "#fdca26"
             ],
             [
              1,
              "#f0f921"
             ]
            ],
            "type": "histogram2dcontour"
           }
          ],
          "mesh3d": [
           {
            "colorbar": {
             "outlinewidth": 0,
             "ticks": ""
            },
            "type": "mesh3d"
           }
          ],
          "parcoords": [
           {
            "line": {
             "colorbar": {
              "outlinewidth": 0,
              "ticks": ""
             }
            },
            "type": "parcoords"
           }
          ],
          "pie": [
           {
            "automargin": true,
            "type": "pie"
           }
          ],
          "scatter": [
           {
            "fillpattern": {
             "fillmode": "overlay",
             "size": 10,
             "solidity": 0.2
            },
            "type": "scatter"
           }
          ],
          "scatter3d": [
           {
            "line": {
             "colorbar": {
              "outlinewidth": 0,
              "ticks": ""
             }
            },
            "marker": {
             "colorbar": {
              "outlinewidth": 0,
              "ticks": ""
             }
            },
            "type": "scatter3d"
           }
          ],
          "scattercarpet": [
           {
            "marker": {
             "colorbar": {
              "outlinewidth": 0,
              "ticks": ""
             }
            },
            "type": "scattercarpet"
           }
          ],
          "scattergeo": [
           {
            "marker": {
             "colorbar": {
              "outlinewidth": 0,
              "ticks": ""
             }
            },
            "type": "scattergeo"
           }
          ],
          "scattergl": [
           {
            "marker": {
             "colorbar": {
              "outlinewidth": 0,
              "ticks": ""
             }
            },
            "type": "scattergl"
           }
          ],
          "scattermapbox": [
           {
            "marker": {
             "colorbar": {
              "outlinewidth": 0,
              "ticks": ""
             }
            },
            "type": "scattermapbox"
           }
          ],
          "scatterpolar": [
           {
            "marker": {
             "colorbar": {
              "outlinewidth": 0,
              "ticks": ""
             }
            },
            "type": "scatterpolar"
           }
          ],
          "scatterpolargl": [
           {
            "marker": {
             "colorbar": {
              "outlinewidth": 0,
              "ticks": ""
             }
            },
            "type": "scatterpolargl"
           }
          ],
          "scatterternary": [
           {
            "marker": {
             "colorbar": {
              "outlinewidth": 0,
              "ticks": ""
             }
            },
            "type": "scatterternary"
           }
          ],
          "surface": [
           {
            "colorbar": {
             "outlinewidth": 0,
             "ticks": ""
            },
            "colorscale": [
             [
              0,
              "#0d0887"
             ],
             [
              0.1111111111111111,
              "#46039f"
             ],
             [
              0.2222222222222222,
              "#7201a8"
             ],
             [
              0.3333333333333333,
              "#9c179e"
             ],
             [
              0.4444444444444444,
              "#bd3786"
             ],
             [
              0.5555555555555556,
              "#d8576b"
             ],
             [
              0.6666666666666666,
              "#ed7953"
             ],
             [
              0.7777777777777778,
              "#fb9f3a"
             ],
             [
              0.8888888888888888,
              "#fdca26"
             ],
             [
              1,
              "#f0f921"
             ]
            ],
            "type": "surface"
           }
          ],
          "table": [
           {
            "cells": {
             "fill": {
              "color": "#EBF0F8"
             },
             "line": {
              "color": "white"
             }
            },
            "header": {
             "fill": {
              "color": "#C8D4E3"
             },
             "line": {
              "color": "white"
             }
            },
            "type": "table"
           }
          ]
         },
         "layout": {
          "annotationdefaults": {
           "arrowcolor": "#2a3f5f",
           "arrowhead": 0,
           "arrowwidth": 1
          },
          "autotypenumbers": "strict",
          "coloraxis": {
           "colorbar": {
            "outlinewidth": 0,
            "ticks": ""
           }
          },
          "colorscale": {
           "diverging": [
            [
             0,
             "#8e0152"
            ],
            [
             0.1,
             "#c51b7d"
            ],
            [
             0.2,
             "#de77ae"
            ],
            [
             0.3,
             "#f1b6da"
            ],
            [
             0.4,
             "#fde0ef"
            ],
            [
             0.5,
             "#f7f7f7"
            ],
            [
             0.6,
             "#e6f5d0"
            ],
            [
             0.7,
             "#b8e186"
            ],
            [
             0.8,
             "#7fbc41"
            ],
            [
             0.9,
             "#4d9221"
            ],
            [
             1,
             "#276419"
            ]
           ],
           "sequential": [
            [
             0,
             "#0d0887"
            ],
            [
             0.1111111111111111,
             "#46039f"
            ],
            [
             0.2222222222222222,
             "#7201a8"
            ],
            [
             0.3333333333333333,
             "#9c179e"
            ],
            [
             0.4444444444444444,
             "#bd3786"
            ],
            [
             0.5555555555555556,
             "#d8576b"
            ],
            [
             0.6666666666666666,
             "#ed7953"
            ],
            [
             0.7777777777777778,
             "#fb9f3a"
            ],
            [
             0.8888888888888888,
             "#fdca26"
            ],
            [
             1,
             "#f0f921"
            ]
           ],
           "sequentialminus": [
            [
             0,
             "#0d0887"
            ],
            [
             0.1111111111111111,
             "#46039f"
            ],
            [
             0.2222222222222222,
             "#7201a8"
            ],
            [
             0.3333333333333333,
             "#9c179e"
            ],
            [
             0.4444444444444444,
             "#bd3786"
            ],
            [
             0.5555555555555556,
             "#d8576b"
            ],
            [
             0.6666666666666666,
             "#ed7953"
            ],
            [
             0.7777777777777778,
             "#fb9f3a"
            ],
            [
             0.8888888888888888,
             "#fdca26"
            ],
            [
             1,
             "#f0f921"
            ]
           ]
          },
          "colorway": [
           "#636efa",
           "#EF553B",
           "#00cc96",
           "#ab63fa",
           "#FFA15A",
           "#19d3f3",
           "#FF6692",
           "#B6E880",
           "#FF97FF",
           "#FECB52"
          ],
          "font": {
           "color": "#2a3f5f"
          },
          "geo": {
           "bgcolor": "white",
           "lakecolor": "white",
           "landcolor": "#E5ECF6",
           "showlakes": true,
           "showland": true,
           "subunitcolor": "white"
          },
          "hoverlabel": {
           "align": "left"
          },
          "hovermode": "closest",
          "mapbox": {
           "style": "light"
          },
          "paper_bgcolor": "white",
          "plot_bgcolor": "#E5ECF6",
          "polar": {
           "angularaxis": {
            "gridcolor": "white",
            "linecolor": "white",
            "ticks": ""
           },
           "bgcolor": "#E5ECF6",
           "radialaxis": {
            "gridcolor": "white",
            "linecolor": "white",
            "ticks": ""
           }
          },
          "scene": {
           "xaxis": {
            "backgroundcolor": "#E5ECF6",
            "gridcolor": "white",
            "gridwidth": 2,
            "linecolor": "white",
            "showbackground": true,
            "ticks": "",
            "zerolinecolor": "white"
           },
           "yaxis": {
            "backgroundcolor": "#E5ECF6",
            "gridcolor": "white",
            "gridwidth": 2,
            "linecolor": "white",
            "showbackground": true,
            "ticks": "",
            "zerolinecolor": "white"
           },
           "zaxis": {
            "backgroundcolor": "#E5ECF6",
            "gridcolor": "white",
            "gridwidth": 2,
            "linecolor": "white",
            "showbackground": true,
            "ticks": "",
            "zerolinecolor": "white"
           }
          },
          "shapedefaults": {
           "line": {
            "color": "#2a3f5f"
           }
          },
          "ternary": {
           "aaxis": {
            "gridcolor": "white",
            "linecolor": "white",
            "ticks": ""
           },
           "baxis": {
            "gridcolor": "white",
            "linecolor": "white",
            "ticks": ""
           },
           "bgcolor": "#E5ECF6",
           "caxis": {
            "gridcolor": "white",
            "linecolor": "white",
            "ticks": ""
           }
          },
          "title": {
           "x": 0.05
          },
          "xaxis": {
           "automargin": true,
           "gridcolor": "white",
           "linecolor": "white",
           "ticks": "",
           "title": {
            "standoff": 15
           },
           "zerolinecolor": "white",
           "zerolinewidth": 2
          },
          "yaxis": {
           "automargin": true,
           "gridcolor": "white",
           "linecolor": "white",
           "ticks": "",
           "title": {
            "standoff": 15
           },
           "zerolinecolor": "white",
           "zerolinewidth": 2
          }
         }
        },
        "title": {
         "text": "Average Count of Sim Type"
        },
        "xaxis": {
         "anchor": "y",
         "domain": [
          0,
          1
         ],
         "title": {
          "text": "sim"
         }
        },
        "yaxis": {
         "anchor": "x",
         "domain": [
          0,
          1
         ],
         "title": {
          "text": "index"
         }
        }
       }
      }
     },
     "metadata": {},
     "output_type": "display_data"
    }
   ],
   "source": [
    "average_count = data['sim'].value_counts(sort=False)\n",
    "fig = px.bar(average_count, x='sim', y = average_count.index, labels={'Mobile_Model': 'mobile_model', 'Name': 'Average Count of Sim Type'},\n",
    "             title='Average Count of Sim Type', color = 'sim')\n",
    "fig.show()"
   ]
  },
  {
   "cell_type": "code",
   "execution_count": 32,
   "metadata": {},
   "outputs": [
    {
     "data": {
      "application/vnd.plotly.v1+json": {
       "config": {
        "plotlyServerURL": "https://plot.ly"
       },
       "data": [
        {
         "labels": [
          "8?GB RAM",
          "6?GB RAM",
          "4?GB RAM",
          "12?GB RAM",
          "3?GB RAM",
          "2?GB RAM",
          "16?GB RAM",
          "18?GB RAM",
          "512?GB inbuilt",
          "64?GB inbuilt"
         ],
         "type": "pie",
         "values": [
          317,
          233,
          211,
          48,
          45,
          12,
          8,
          2,
          1,
          1
         ]
        }
       ],
       "layout": {
        "height": 500,
        "legend": {
         "font": {
          "size": 15
         }
        },
        "template": {
         "data": {
          "bar": [
           {
            "error_x": {
             "color": "#2a3f5f"
            },
            "error_y": {
             "color": "#2a3f5f"
            },
            "marker": {
             "line": {
              "color": "#E5ECF6",
              "width": 0.5
             },
             "pattern": {
              "fillmode": "overlay",
              "size": 10,
              "solidity": 0.2
             }
            },
            "type": "bar"
           }
          ],
          "barpolar": [
           {
            "marker": {
             "line": {
              "color": "#E5ECF6",
              "width": 0.5
             },
             "pattern": {
              "fillmode": "overlay",
              "size": 10,
              "solidity": 0.2
             }
            },
            "type": "barpolar"
           }
          ],
          "carpet": [
           {
            "aaxis": {
             "endlinecolor": "#2a3f5f",
             "gridcolor": "white",
             "linecolor": "white",
             "minorgridcolor": "white",
             "startlinecolor": "#2a3f5f"
            },
            "baxis": {
             "endlinecolor": "#2a3f5f",
             "gridcolor": "white",
             "linecolor": "white",
             "minorgridcolor": "white",
             "startlinecolor": "#2a3f5f"
            },
            "type": "carpet"
           }
          ],
          "choropleth": [
           {
            "colorbar": {
             "outlinewidth": 0,
             "ticks": ""
            },
            "type": "choropleth"
           }
          ],
          "contour": [
           {
            "colorbar": {
             "outlinewidth": 0,
             "ticks": ""
            },
            "colorscale": [
             [
              0,
              "#0d0887"
             ],
             [
              0.1111111111111111,
              "#46039f"
             ],
             [
              0.2222222222222222,
              "#7201a8"
             ],
             [
              0.3333333333333333,
              "#9c179e"
             ],
             [
              0.4444444444444444,
              "#bd3786"
             ],
             [
              0.5555555555555556,
              "#d8576b"
             ],
             [
              0.6666666666666666,
              "#ed7953"
             ],
             [
              0.7777777777777778,
              "#fb9f3a"
             ],
             [
              0.8888888888888888,
              "#fdca26"
             ],
             [
              1,
              "#f0f921"
             ]
            ],
            "type": "contour"
           }
          ],
          "contourcarpet": [
           {
            "colorbar": {
             "outlinewidth": 0,
             "ticks": ""
            },
            "type": "contourcarpet"
           }
          ],
          "heatmap": [
           {
            "colorbar": {
             "outlinewidth": 0,
             "ticks": ""
            },
            "colorscale": [
             [
              0,
              "#0d0887"
             ],
             [
              0.1111111111111111,
              "#46039f"
             ],
             [
              0.2222222222222222,
              "#7201a8"
             ],
             [
              0.3333333333333333,
              "#9c179e"
             ],
             [
              0.4444444444444444,
              "#bd3786"
             ],
             [
              0.5555555555555556,
              "#d8576b"
             ],
             [
              0.6666666666666666,
              "#ed7953"
             ],
             [
              0.7777777777777778,
              "#fb9f3a"
             ],
             [
              0.8888888888888888,
              "#fdca26"
             ],
             [
              1,
              "#f0f921"
             ]
            ],
            "type": "heatmap"
           }
          ],
          "heatmapgl": [
           {
            "colorbar": {
             "outlinewidth": 0,
             "ticks": ""
            },
            "colorscale": [
             [
              0,
              "#0d0887"
             ],
             [
              0.1111111111111111,
              "#46039f"
             ],
             [
              0.2222222222222222,
              "#7201a8"
             ],
             [
              0.3333333333333333,
              "#9c179e"
             ],
             [
              0.4444444444444444,
              "#bd3786"
             ],
             [
              0.5555555555555556,
              "#d8576b"
             ],
             [
              0.6666666666666666,
              "#ed7953"
             ],
             [
              0.7777777777777778,
              "#fb9f3a"
             ],
             [
              0.8888888888888888,
              "#fdca26"
             ],
             [
              1,
              "#f0f921"
             ]
            ],
            "type": "heatmapgl"
           }
          ],
          "histogram": [
           {
            "marker": {
             "pattern": {
              "fillmode": "overlay",
              "size": 10,
              "solidity": 0.2
             }
            },
            "type": "histogram"
           }
          ],
          "histogram2d": [
           {
            "colorbar": {
             "outlinewidth": 0,
             "ticks": ""
            },
            "colorscale": [
             [
              0,
              "#0d0887"
             ],
             [
              0.1111111111111111,
              "#46039f"
             ],
             [
              0.2222222222222222,
              "#7201a8"
             ],
             [
              0.3333333333333333,
              "#9c179e"
             ],
             [
              0.4444444444444444,
              "#bd3786"
             ],
             [
              0.5555555555555556,
              "#d8576b"
             ],
             [
              0.6666666666666666,
              "#ed7953"
             ],
             [
              0.7777777777777778,
              "#fb9f3a"
             ],
             [
              0.8888888888888888,
              "#fdca26"
             ],
             [
              1,
              "#f0f921"
             ]
            ],
            "type": "histogram2d"
           }
          ],
          "histogram2dcontour": [
           {
            "colorbar": {
             "outlinewidth": 0,
             "ticks": ""
            },
            "colorscale": [
             [
              0,
              "#0d0887"
             ],
             [
              0.1111111111111111,
              "#46039f"
             ],
             [
              0.2222222222222222,
              "#7201a8"
             ],
             [
              0.3333333333333333,
              "#9c179e"
             ],
             [
              0.4444444444444444,
              "#bd3786"
             ],
             [
              0.5555555555555556,
              "#d8576b"
             ],
             [
              0.6666666666666666,
              "#ed7953"
             ],
             [
              0.7777777777777778,
              "#fb9f3a"
             ],
             [
              0.8888888888888888,
              "#fdca26"
             ],
             [
              1,
              "#f0f921"
             ]
            ],
            "type": "histogram2dcontour"
           }
          ],
          "mesh3d": [
           {
            "colorbar": {
             "outlinewidth": 0,
             "ticks": ""
            },
            "type": "mesh3d"
           }
          ],
          "parcoords": [
           {
            "line": {
             "colorbar": {
              "outlinewidth": 0,
              "ticks": ""
             }
            },
            "type": "parcoords"
           }
          ],
          "pie": [
           {
            "automargin": true,
            "type": "pie"
           }
          ],
          "scatter": [
           {
            "fillpattern": {
             "fillmode": "overlay",
             "size": 10,
             "solidity": 0.2
            },
            "type": "scatter"
           }
          ],
          "scatter3d": [
           {
            "line": {
             "colorbar": {
              "outlinewidth": 0,
              "ticks": ""
             }
            },
            "marker": {
             "colorbar": {
              "outlinewidth": 0,
              "ticks": ""
             }
            },
            "type": "scatter3d"
           }
          ],
          "scattercarpet": [
           {
            "marker": {
             "colorbar": {
              "outlinewidth": 0,
              "ticks": ""
             }
            },
            "type": "scattercarpet"
           }
          ],
          "scattergeo": [
           {
            "marker": {
             "colorbar": {
              "outlinewidth": 0,
              "ticks": ""
             }
            },
            "type": "scattergeo"
           }
          ],
          "scattergl": [
           {
            "marker": {
             "colorbar": {
              "outlinewidth": 0,
              "ticks": ""
             }
            },
            "type": "scattergl"
           }
          ],
          "scattermapbox": [
           {
            "marker": {
             "colorbar": {
              "outlinewidth": 0,
              "ticks": ""
             }
            },
            "type": "scattermapbox"
           }
          ],
          "scatterpolar": [
           {
            "marker": {
             "colorbar": {
              "outlinewidth": 0,
              "ticks": ""
             }
            },
            "type": "scatterpolar"
           }
          ],
          "scatterpolargl": [
           {
            "marker": {
             "colorbar": {
              "outlinewidth": 0,
              "ticks": ""
             }
            },
            "type": "scatterpolargl"
           }
          ],
          "scatterternary": [
           {
            "marker": {
             "colorbar": {
              "outlinewidth": 0,
              "ticks": ""
             }
            },
            "type": "scatterternary"
           }
          ],
          "surface": [
           {
            "colorbar": {
             "outlinewidth": 0,
             "ticks": ""
            },
            "colorscale": [
             [
              0,
              "#0d0887"
             ],
             [
              0.1111111111111111,
              "#46039f"
             ],
             [
              0.2222222222222222,
              "#7201a8"
             ],
             [
              0.3333333333333333,
              "#9c179e"
             ],
             [
              0.4444444444444444,
              "#bd3786"
             ],
             [
              0.5555555555555556,
              "#d8576b"
             ],
             [
              0.6666666666666666,
              "#ed7953"
             ],
             [
              0.7777777777777778,
              "#fb9f3a"
             ],
             [
              0.8888888888888888,
              "#fdca26"
             ],
             [
              1,
              "#f0f921"
             ]
            ],
            "type": "surface"
           }
          ],
          "table": [
           {
            "cells": {
             "fill": {
              "color": "#EBF0F8"
             },
             "line": {
              "color": "white"
             }
            },
            "header": {
             "fill": {
              "color": "#C8D4E3"
             },
             "line": {
              "color": "white"
             }
            },
            "type": "table"
           }
          ]
         },
         "layout": {
          "annotationdefaults": {
           "arrowcolor": "#2a3f5f",
           "arrowhead": 0,
           "arrowwidth": 1
          },
          "autotypenumbers": "strict",
          "coloraxis": {
           "colorbar": {
            "outlinewidth": 0,
            "ticks": ""
           }
          },
          "colorscale": {
           "diverging": [
            [
             0,
             "#8e0152"
            ],
            [
             0.1,
             "#c51b7d"
            ],
            [
             0.2,
             "#de77ae"
            ],
            [
             0.3,
             "#f1b6da"
            ],
            [
             0.4,
             "#fde0ef"
            ],
            [
             0.5,
             "#f7f7f7"
            ],
            [
             0.6,
             "#e6f5d0"
            ],
            [
             0.7,
             "#b8e186"
            ],
            [
             0.8,
             "#7fbc41"
            ],
            [
             0.9,
             "#4d9221"
            ],
            [
             1,
             "#276419"
            ]
           ],
           "sequential": [
            [
             0,
             "#0d0887"
            ],
            [
             0.1111111111111111,
             "#46039f"
            ],
            [
             0.2222222222222222,
             "#7201a8"
            ],
            [
             0.3333333333333333,
             "#9c179e"
            ],
            [
             0.4444444444444444,
             "#bd3786"
            ],
            [
             0.5555555555555556,
             "#d8576b"
            ],
            [
             0.6666666666666666,
             "#ed7953"
            ],
            [
             0.7777777777777778,
             "#fb9f3a"
            ],
            [
             0.8888888888888888,
             "#fdca26"
            ],
            [
             1,
             "#f0f921"
            ]
           ],
           "sequentialminus": [
            [
             0,
             "#0d0887"
            ],
            [
             0.1111111111111111,
             "#46039f"
            ],
            [
             0.2222222222222222,
             "#7201a8"
            ],
            [
             0.3333333333333333,
             "#9c179e"
            ],
            [
             0.4444444444444444,
             "#bd3786"
            ],
            [
             0.5555555555555556,
             "#d8576b"
            ],
            [
             0.6666666666666666,
             "#ed7953"
            ],
            [
             0.7777777777777778,
             "#fb9f3a"
            ],
            [
             0.8888888888888888,
             "#fdca26"
            ],
            [
             1,
             "#f0f921"
            ]
           ]
          },
          "colorway": [
           "#636efa",
           "#EF553B",
           "#00cc96",
           "#ab63fa",
           "#FFA15A",
           "#19d3f3",
           "#FF6692",
           "#B6E880",
           "#FF97FF",
           "#FECB52"
          ],
          "font": {
           "color": "#2a3f5f"
          },
          "geo": {
           "bgcolor": "white",
           "lakecolor": "white",
           "landcolor": "#E5ECF6",
           "showlakes": true,
           "showland": true,
           "subunitcolor": "white"
          },
          "hoverlabel": {
           "align": "left"
          },
          "hovermode": "closest",
          "mapbox": {
           "style": "light"
          },
          "paper_bgcolor": "white",
          "plot_bgcolor": "#E5ECF6",
          "polar": {
           "angularaxis": {
            "gridcolor": "white",
            "linecolor": "white",
            "ticks": ""
           },
           "bgcolor": "#E5ECF6",
           "radialaxis": {
            "gridcolor": "white",
            "linecolor": "white",
            "ticks": ""
           }
          },
          "scene": {
           "xaxis": {
            "backgroundcolor": "#E5ECF6",
            "gridcolor": "white",
            "gridwidth": 2,
            "linecolor": "white",
            "showbackground": true,
            "ticks": "",
            "zerolinecolor": "white"
           },
           "yaxis": {
            "backgroundcolor": "#E5ECF6",
            "gridcolor": "white",
            "gridwidth": 2,
            "linecolor": "white",
            "showbackground": true,
            "ticks": "",
            "zerolinecolor": "white"
           },
           "zaxis": {
            "backgroundcolor": "#E5ECF6",
            "gridcolor": "white",
            "gridwidth": 2,
            "linecolor": "white",
            "showbackground": true,
            "ticks": "",
            "zerolinecolor": "white"
           }
          },
          "shapedefaults": {
           "line": {
            "color": "#2a3f5f"
           }
          },
          "ternary": {
           "aaxis": {
            "gridcolor": "white",
            "linecolor": "white",
            "ticks": ""
           },
           "baxis": {
            "gridcolor": "white",
            "linecolor": "white",
            "ticks": ""
           },
           "bgcolor": "#E5ECF6",
           "caxis": {
            "gridcolor": "white",
            "linecolor": "white",
            "ticks": ""
           }
          },
          "title": {
           "x": 0.05
          },
          "xaxis": {
           "automargin": true,
           "gridcolor": "white",
           "linecolor": "white",
           "ticks": "",
           "title": {
            "standoff": 15
           },
           "zerolinecolor": "white",
           "zerolinewidth": 2
          },
          "yaxis": {
           "automargin": true,
           "gridcolor": "white",
           "linecolor": "white",
           "ticks": "",
           "title": {
            "standoff": 15
           },
           "zerolinecolor": "white",
           "zerolinewidth": 2
          }
         }
        },
        "width": 900
       }
      }
     },
     "metadata": {},
     "output_type": "display_data"
    }
   ],
   "source": [
    "percentage_ram = data['ram'].value_counts()\n",
    "fig = px.pie(percentage_ram, values=percentage_ram.values, names=percentage_ram.index)\n",
    "fig = go.Figure(data=[go.Pie(labels=percentage_ram.index, values=percentage_ram.values)])\n",
    "fig.update_layout(legend={'font': {'size': 15}, })\n",
    "fig.update_layout(\n",
    "    width=900,\n",
    "    height=500\n",
    ")\n",
    "fig.show()"
   ]
  },
  {
   "cell_type": "code",
   "execution_count": 33,
   "metadata": {},
   "outputs": [
    {
     "data": {
      "application/vnd.plotly.v1+json": {
       "config": {
        "plotlyServerURL": "https://plot.ly"
       },
       "data": [
        {
         "domain": {
          "x": [
           0,
           1
          ],
          "y": [
           0,
           1
          ]
         },
         "hovertemplate": "index=%{label}<br>value=%{value}<extra></extra>",
         "labels": [
          " 128?GB inbuilt",
          " 64?GB inbuilt",
          " 256?GB inbuilt",
          " 32?GB inbuilt",
          " 512?GB inbuilt",
          " 1?TB inbuilt",
          "512?GB inbuilt",
          "64?GB inbuilt"
         ],
         "legendgroup": "",
         "name": "",
         "showlegend": true,
         "type": "pie",
         "values": [
          507,
          189,
          124,
          42,
          10,
          4,
          1,
          1
         ]
        }
       ],
       "layout": {
        "legend": {
         "tracegroupgap": 0
        },
        "margin": {
         "t": 60
        },
        "piecolorway": [
         "rgb(103,0,31)",
         "rgb(178,24,43)",
         "rgb(214,96,77)",
         "rgb(244,165,130)",
         "rgb(253,219,199)",
         "rgb(247,247,247)",
         "rgb(209,229,240)",
         "rgb(146,197,222)",
         "rgb(67,147,195)",
         "rgb(33,102,172)",
         "rgb(5,48,97)"
        ],
        "template": {
         "data": {
          "bar": [
           {
            "error_x": {
             "color": "#2a3f5f"
            },
            "error_y": {
             "color": "#2a3f5f"
            },
            "marker": {
             "line": {
              "color": "#E5ECF6",
              "width": 0.5
             },
             "pattern": {
              "fillmode": "overlay",
              "size": 10,
              "solidity": 0.2
             }
            },
            "type": "bar"
           }
          ],
          "barpolar": [
           {
            "marker": {
             "line": {
              "color": "#E5ECF6",
              "width": 0.5
             },
             "pattern": {
              "fillmode": "overlay",
              "size": 10,
              "solidity": 0.2
             }
            },
            "type": "barpolar"
           }
          ],
          "carpet": [
           {
            "aaxis": {
             "endlinecolor": "#2a3f5f",
             "gridcolor": "white",
             "linecolor": "white",
             "minorgridcolor": "white",
             "startlinecolor": "#2a3f5f"
            },
            "baxis": {
             "endlinecolor": "#2a3f5f",
             "gridcolor": "white",
             "linecolor": "white",
             "minorgridcolor": "white",
             "startlinecolor": "#2a3f5f"
            },
            "type": "carpet"
           }
          ],
          "choropleth": [
           {
            "colorbar": {
             "outlinewidth": 0,
             "ticks": ""
            },
            "type": "choropleth"
           }
          ],
          "contour": [
           {
            "colorbar": {
             "outlinewidth": 0,
             "ticks": ""
            },
            "colorscale": [
             [
              0,
              "#0d0887"
             ],
             [
              0.1111111111111111,
              "#46039f"
             ],
             [
              0.2222222222222222,
              "#7201a8"
             ],
             [
              0.3333333333333333,
              "#9c179e"
             ],
             [
              0.4444444444444444,
              "#bd3786"
             ],
             [
              0.5555555555555556,
              "#d8576b"
             ],
             [
              0.6666666666666666,
              "#ed7953"
             ],
             [
              0.7777777777777778,
              "#fb9f3a"
             ],
             [
              0.8888888888888888,
              "#fdca26"
             ],
             [
              1,
              "#f0f921"
             ]
            ],
            "type": "contour"
           }
          ],
          "contourcarpet": [
           {
            "colorbar": {
             "outlinewidth": 0,
             "ticks": ""
            },
            "type": "contourcarpet"
           }
          ],
          "heatmap": [
           {
            "colorbar": {
             "outlinewidth": 0,
             "ticks": ""
            },
            "colorscale": [
             [
              0,
              "#0d0887"
             ],
             [
              0.1111111111111111,
              "#46039f"
             ],
             [
              0.2222222222222222,
              "#7201a8"
             ],
             [
              0.3333333333333333,
              "#9c179e"
             ],
             [
              0.4444444444444444,
              "#bd3786"
             ],
             [
              0.5555555555555556,
              "#d8576b"
             ],
             [
              0.6666666666666666,
              "#ed7953"
             ],
             [
              0.7777777777777778,
              "#fb9f3a"
             ],
             [
              0.8888888888888888,
              "#fdca26"
             ],
             [
              1,
              "#f0f921"
             ]
            ],
            "type": "heatmap"
           }
          ],
          "heatmapgl": [
           {
            "colorbar": {
             "outlinewidth": 0,
             "ticks": ""
            },
            "colorscale": [
             [
              0,
              "#0d0887"
             ],
             [
              0.1111111111111111,
              "#46039f"
             ],
             [
              0.2222222222222222,
              "#7201a8"
             ],
             [
              0.3333333333333333,
              "#9c179e"
             ],
             [
              0.4444444444444444,
              "#bd3786"
             ],
             [
              0.5555555555555556,
              "#d8576b"
             ],
             [
              0.6666666666666666,
              "#ed7953"
             ],
             [
              0.7777777777777778,
              "#fb9f3a"
             ],
             [
              0.8888888888888888,
              "#fdca26"
             ],
             [
              1,
              "#f0f921"
             ]
            ],
            "type": "heatmapgl"
           }
          ],
          "histogram": [
           {
            "marker": {
             "pattern": {
              "fillmode": "overlay",
              "size": 10,
              "solidity": 0.2
             }
            },
            "type": "histogram"
           }
          ],
          "histogram2d": [
           {
            "colorbar": {
             "outlinewidth": 0,
             "ticks": ""
            },
            "colorscale": [
             [
              0,
              "#0d0887"
             ],
             [
              0.1111111111111111,
              "#46039f"
             ],
             [
              0.2222222222222222,
              "#7201a8"
             ],
             [
              0.3333333333333333,
              "#9c179e"
             ],
             [
              0.4444444444444444,
              "#bd3786"
             ],
             [
              0.5555555555555556,
              "#d8576b"
             ],
             [
              0.6666666666666666,
              "#ed7953"
             ],
             [
              0.7777777777777778,
              "#fb9f3a"
             ],
             [
              0.8888888888888888,
              "#fdca26"
             ],
             [
              1,
              "#f0f921"
             ]
            ],
            "type": "histogram2d"
           }
          ],
          "histogram2dcontour": [
           {
            "colorbar": {
             "outlinewidth": 0,
             "ticks": ""
            },
            "colorscale": [
             [
              0,
              "#0d0887"
             ],
             [
              0.1111111111111111,
              "#46039f"
             ],
             [
              0.2222222222222222,
              "#7201a8"
             ],
             [
              0.3333333333333333,
              "#9c179e"
             ],
             [
              0.4444444444444444,
              "#bd3786"
             ],
             [
              0.5555555555555556,
              "#d8576b"
             ],
             [
              0.6666666666666666,
              "#ed7953"
             ],
             [
              0.7777777777777778,
              "#fb9f3a"
             ],
             [
              0.8888888888888888,
              "#fdca26"
             ],
             [
              1,
              "#f0f921"
             ]
            ],
            "type": "histogram2dcontour"
           }
          ],
          "mesh3d": [
           {
            "colorbar": {
             "outlinewidth": 0,
             "ticks": ""
            },
            "type": "mesh3d"
           }
          ],
          "parcoords": [
           {
            "line": {
             "colorbar": {
              "outlinewidth": 0,
              "ticks": ""
             }
            },
            "type": "parcoords"
           }
          ],
          "pie": [
           {
            "automargin": true,
            "type": "pie"
           }
          ],
          "scatter": [
           {
            "fillpattern": {
             "fillmode": "overlay",
             "size": 10,
             "solidity": 0.2
            },
            "type": "scatter"
           }
          ],
          "scatter3d": [
           {
            "line": {
             "colorbar": {
              "outlinewidth": 0,
              "ticks": ""
             }
            },
            "marker": {
             "colorbar": {
              "outlinewidth": 0,
              "ticks": ""
             }
            },
            "type": "scatter3d"
           }
          ],
          "scattercarpet": [
           {
            "marker": {
             "colorbar": {
              "outlinewidth": 0,
              "ticks": ""
             }
            },
            "type": "scattercarpet"
           }
          ],
          "scattergeo": [
           {
            "marker": {
             "colorbar": {
              "outlinewidth": 0,
              "ticks": ""
             }
            },
            "type": "scattergeo"
           }
          ],
          "scattergl": [
           {
            "marker": {
             "colorbar": {
              "outlinewidth": 0,
              "ticks": ""
             }
            },
            "type": "scattergl"
           }
          ],
          "scattermapbox": [
           {
            "marker": {
             "colorbar": {
              "outlinewidth": 0,
              "ticks": ""
             }
            },
            "type": "scattermapbox"
           }
          ],
          "scatterpolar": [
           {
            "marker": {
             "colorbar": {
              "outlinewidth": 0,
              "ticks": ""
             }
            },
            "type": "scatterpolar"
           }
          ],
          "scatterpolargl": [
           {
            "marker": {
             "colorbar": {
              "outlinewidth": 0,
              "ticks": ""
             }
            },
            "type": "scatterpolargl"
           }
          ],
          "scatterternary": [
           {
            "marker": {
             "colorbar": {
              "outlinewidth": 0,
              "ticks": ""
             }
            },
            "type": "scatterternary"
           }
          ],
          "surface": [
           {
            "colorbar": {
             "outlinewidth": 0,
             "ticks": ""
            },
            "colorscale": [
             [
              0,
              "#0d0887"
             ],
             [
              0.1111111111111111,
              "#46039f"
             ],
             [
              0.2222222222222222,
              "#7201a8"
             ],
             [
              0.3333333333333333,
              "#9c179e"
             ],
             [
              0.4444444444444444,
              "#bd3786"
             ],
             [
              0.5555555555555556,
              "#d8576b"
             ],
             [
              0.6666666666666666,
              "#ed7953"
             ],
             [
              0.7777777777777778,
              "#fb9f3a"
             ],
             [
              0.8888888888888888,
              "#fdca26"
             ],
             [
              1,
              "#f0f921"
             ]
            ],
            "type": "surface"
           }
          ],
          "table": [
           {
            "cells": {
             "fill": {
              "color": "#EBF0F8"
             },
             "line": {
              "color": "white"
             }
            },
            "header": {
             "fill": {
              "color": "#C8D4E3"
             },
             "line": {
              "color": "white"
             }
            },
            "type": "table"
           }
          ]
         },
         "layout": {
          "annotationdefaults": {
           "arrowcolor": "#2a3f5f",
           "arrowhead": 0,
           "arrowwidth": 1
          },
          "autotypenumbers": "strict",
          "coloraxis": {
           "colorbar": {
            "outlinewidth": 0,
            "ticks": ""
           }
          },
          "colorscale": {
           "diverging": [
            [
             0,
             "#8e0152"
            ],
            [
             0.1,
             "#c51b7d"
            ],
            [
             0.2,
             "#de77ae"
            ],
            [
             0.3,
             "#f1b6da"
            ],
            [
             0.4,
             "#fde0ef"
            ],
            [
             0.5,
             "#f7f7f7"
            ],
            [
             0.6,
             "#e6f5d0"
            ],
            [
             0.7,
             "#b8e186"
            ],
            [
             0.8,
             "#7fbc41"
            ],
            [
             0.9,
             "#4d9221"
            ],
            [
             1,
             "#276419"
            ]
           ],
           "sequential": [
            [
             0,
             "#0d0887"
            ],
            [
             0.1111111111111111,
             "#46039f"
            ],
            [
             0.2222222222222222,
             "#7201a8"
            ],
            [
             0.3333333333333333,
             "#9c179e"
            ],
            [
             0.4444444444444444,
             "#bd3786"
            ],
            [
             0.5555555555555556,
             "#d8576b"
            ],
            [
             0.6666666666666666,
             "#ed7953"
            ],
            [
             0.7777777777777778,
             "#fb9f3a"
            ],
            [
             0.8888888888888888,
             "#fdca26"
            ],
            [
             1,
             "#f0f921"
            ]
           ],
           "sequentialminus": [
            [
             0,
             "#0d0887"
            ],
            [
             0.1111111111111111,
             "#46039f"
            ],
            [
             0.2222222222222222,
             "#7201a8"
            ],
            [
             0.3333333333333333,
             "#9c179e"
            ],
            [
             0.4444444444444444,
             "#bd3786"
            ],
            [
             0.5555555555555556,
             "#d8576b"
            ],
            [
             0.6666666666666666,
             "#ed7953"
            ],
            [
             0.7777777777777778,
             "#fb9f3a"
            ],
            [
             0.8888888888888888,
             "#fdca26"
            ],
            [
             1,
             "#f0f921"
            ]
           ]
          },
          "colorway": [
           "#636efa",
           "#EF553B",
           "#00cc96",
           "#ab63fa",
           "#FFA15A",
           "#19d3f3",
           "#FF6692",
           "#B6E880",
           "#FF97FF",
           "#FECB52"
          ],
          "font": {
           "color": "#2a3f5f"
          },
          "geo": {
           "bgcolor": "white",
           "lakecolor": "white",
           "landcolor": "#E5ECF6",
           "showlakes": true,
           "showland": true,
           "subunitcolor": "white"
          },
          "hoverlabel": {
           "align": "left"
          },
          "hovermode": "closest",
          "mapbox": {
           "style": "light"
          },
          "paper_bgcolor": "white",
          "plot_bgcolor": "#E5ECF6",
          "polar": {
           "angularaxis": {
            "gridcolor": "white",
            "linecolor": "white",
            "ticks": ""
           },
           "bgcolor": "#E5ECF6",
           "radialaxis": {
            "gridcolor": "white",
            "linecolor": "white",
            "ticks": ""
           }
          },
          "scene": {
           "xaxis": {
            "backgroundcolor": "#E5ECF6",
            "gridcolor": "white",
            "gridwidth": 2,
            "linecolor": "white",
            "showbackground": true,
            "ticks": "",
            "zerolinecolor": "white"
           },
           "yaxis": {
            "backgroundcolor": "#E5ECF6",
            "gridcolor": "white",
            "gridwidth": 2,
            "linecolor": "white",
            "showbackground": true,
            "ticks": "",
            "zerolinecolor": "white"
           },
           "zaxis": {
            "backgroundcolor": "#E5ECF6",
            "gridcolor": "white",
            "gridwidth": 2,
            "linecolor": "white",
            "showbackground": true,
            "ticks": "",
            "zerolinecolor": "white"
           }
          },
          "shapedefaults": {
           "line": {
            "color": "#2a3f5f"
           }
          },
          "ternary": {
           "aaxis": {
            "gridcolor": "white",
            "linecolor": "white",
            "ticks": ""
           },
           "baxis": {
            "gridcolor": "white",
            "linecolor": "white",
            "ticks": ""
           },
           "bgcolor": "#E5ECF6",
           "caxis": {
            "gridcolor": "white",
            "linecolor": "white",
            "ticks": ""
           }
          },
          "title": {
           "x": 0.05
          },
          "xaxis": {
           "automargin": true,
           "gridcolor": "white",
           "linecolor": "white",
           "ticks": "",
           "title": {
            "standoff": 15
           },
           "zerolinecolor": "white",
           "zerolinewidth": 2
          },
          "yaxis": {
           "automargin": true,
           "gridcolor": "white",
           "linecolor": "white",
           "ticks": "",
           "title": {
            "standoff": 15
           },
           "zerolinecolor": "white",
           "zerolinewidth": 2
          }
         }
        }
       }
      }
     },
     "metadata": {},
     "output_type": "display_data"
    }
   ],
   "source": [
    "percentage_rom = data['rom'].value_counts()\n",
    "fig = px.pie(percentage_rom, values=percentage_rom.values, names=percentage_rom.index, color_discrete_sequence=px.colors.sequential.RdBu)\n",
    "fig.show()"
   ]
  },
  {
   "cell_type": "code",
   "execution_count": 34,
   "metadata": {},
   "outputs": [
    {
     "data": {
      "application/vnd.plotly.v1+json": {
       "config": {
        "plotlyServerURL": "https://plot.ly"
       },
       "data": [
        {
         "alignmentgroup": "True",
         "bingroup": "x",
         "hovertemplate": "processor=Snapdragon<br>mobile_model=%{x}<br>count=%{y}<extra></extra>",
         "legendgroup": "Snapdragon",
         "marker": {
          "color": "rgb(229, 134, 6)",
          "pattern": {
           "shape": ""
          }
         },
         "name": "Snapdragon",
         "offsetgroup": "Snapdragon",
         "orientation": "v",
         "showlegend": true,
         "type": "histogram",
         "x": [
          "OnePlus",
          "OnePlus",
          "Motorola",
          "Samsung",
          "Nothing",
          "Realme",
          "Vivo",
          "OPPO",
          "OnePlus",
          "Poco",
          "Xiaomi",
          "Samsung",
          "OnePlus",
          "Realme",
          "Poco",
          "Oppo",
          "Xiaomi",
          "OPPO",
          "OnePlus",
          "Vivo",
          "Xiaomi",
          "Jio",
          "Motorola",
          "Samsung",
          "Motorola",
          "Vivo",
          "Samsung",
          "OnePlus",
          "Samsung",
          "iQOO",
          "OnePlus",
          "OPPO",
          "Vivo",
          "Motorola",
          "Samsung",
          "Xiaomi",
          "Motorola",
          "Realme",
          "iQOO",
          "Vivo",
          "Xiaomi",
          "Motorola",
          "Samsung",
          "Vivo",
          "iQOO",
          "Samsung",
          "Motorola",
          "Motorola",
          "OnePlus",
          "Xiaomi",
          "Nothing",
          "Poco",
          "OPPO",
          "iQOO",
          "iQOO",
          "OnePlus",
          "iQOO",
          "Xiaomi",
          "Xiaomi",
          "Motorola",
          "Oppo",
          "Realme",
          "Realme",
          "Oppo",
          "iQOO",
          "Xiaomi",
          "OPPO",
          "iQOO",
          "Motorola",
          "Samsung",
          "Motorola",
          "Samsung",
          "Motorola",
          "OnePlus",
          "Poco",
          "OPPO",
          "Motorola",
          "Nothing",
          "Realme",
          "Honor",
          "Xiaomi",
          "Motorola",
          "Xiaomi",
          "Realme",
          "iQOO",
          "Vivo",
          "Xiaomi",
          "Vivo",
          "OPPO",
          "Samsung",
          "Vivo",
          "OPPO",
          "Nubia",
          "iQOO",
          "Xiaomi",
          "OPPO",
          "Samsung",
          "Vivo",
          "OnePlus",
          "Redmi",
          "Nothing",
          "Xiaomi",
          "Asus",
          "Samsung",
          "Xiaomi",
          "Samsung",
          "OPPO",
          "Xiaomi",
          "Motorola",
          "Xiaomi",
          "Xiaomi",
          "Samsung",
          "OnePlus",
          "OnePlus",
          "Motorola",
          "Honor",
          "iQOO",
          "Royole",
          "Xiaomi",
          "Vivo",
          "OPPO",
          "iQOO",
          "Realme",
          "Poco",
          "Motorola",
          "OnePlus",
          "OnePlus",
          "Motorola",
          "Xiaomi",
          "Vivo",
          "Poco",
          "Realme",
          "Xiaomi",
          "iQOO",
          "Samsung",
          "OnePlus",
          "Vivo",
          "Poco",
          "Google",
          "OPPO",
          "Realme",
          "Samsung",
          "iQOO",
          "Vivo",
          "Realme",
          "OPPO",
          "Realme",
          "Xiaomi",
          "Realme",
          "Realme",
          "Asus",
          "Oppo",
          "Realme",
          "OnePlus",
          "Xiaomi",
          "Realme",
          "Redmi",
          "Motorola",
          "Honor",
          "Xiaomi",
          "Nokia",
          "Xiaomi",
          "Vertu",
          "Poco",
          "Samsung",
          "Poco",
          "Asus",
          "iQOO",
          "Nubia",
          "Vivo",
          "OPPO",
          "Xiaomi",
          "Samsung",
          "Xiaomi",
          "Lyf",
          "Huawei",
          "iQOO",
          "Sony",
          "Vivo",
          "Nubia",
          "iQOO",
          "Samsung",
          "OnePlus",
          "Google",
          "Honor",
          "Realme",
          "Google",
          "iQOO",
          "OPPO",
          "Motorola",
          "Realme",
          "Vivo",
          "Xiaomi",
          "Xiaomi",
          "ZTE",
          "OPPO",
          "Huawei",
          "Samsung",
          "Lenovo",
          "Nokia",
          "Poco",
          "Xiaomi",
          "iQOO",
          "OPPO",
          "Poco",
          "Asus",
          "Realme",
          "Nubia",
          "Samsung",
          "LG",
          "Xiaomi",
          "Samsung",
          "OPPO",
          "Nokia",
          "Motorola",
          "Oppo",
          "iQOO",
          "Xiaomi",
          "iQOO",
          "iQOO",
          "Realme",
          "OnePlus",
          "Sony",
          "Vivo",
          "Poco",
          "Vivo",
          "Sony",
          "Motorola",
          "Xiaomi",
          "Realme",
          "iQOO",
          "OnePlus",
          "POCO",
          "Xiaomi",
          "Samsung",
          "Asus",
          "OPPO",
          "OPPO",
          "Xiaomi",
          "Xiaomi",
          "Xiaomi",
          "Xiaomi",
          "LG",
          "Motorola",
          "iQOO",
          "Honor",
          "Sony",
          "Nubia",
          "Xiaomi",
          "OPPO",
          "OPPO",
          "OnePlus",
          "Motorola",
          "Vivo",
          "Vivo",
          "Motorola",
          "Huawei",
          "iQOO",
          "Huawei",
          "Realme",
          "OPPO",
          "Motorola",
          "Poco",
          "Vivo",
          "Xiaomi",
          "Vivo",
          "Vivo",
          "Oppo",
          "Realme",
          "Xiaomi",
          "Xiaomi",
          "Motorola",
          "Motorola",
          "Realme",
          "Honor",
          "Samsung",
          "Vivo",
          "Vivo",
          "Vivo",
          "Xiaomi",
          "POCO",
          "Realme",
          "Vivo",
          "Vivo",
          "Vivo",
          "Realme",
          "Leitz",
          "Realme",
          "Xiaomi",
          "Xiaomi",
          "Poco",
          "Vivo",
          "Vivo",
          "Xiaomi",
          "Realme",
          "Xiaomi",
          "Xiaomi",
          "Xiaomi",
          "Lenovo",
          "Oppo",
          "Sony",
          "Vivo",
          "Xiaomi",
          "iQOO",
          "Vivo",
          "Nokia",
          "Huawei",
          "Huawei",
          "OnePlus",
          "iQOO",
          "Oppo",
          "Royole",
          "Realme",
          "Sony",
          "Motorola",
          "OnePlus",
          "OnePlus",
          "OnePlus",
          "Xiaomi",
          "Realme",
          "Xiaomi",
          "ZTE",
          "Xiaomi",
          "Nothing",
          "OnePlus",
          "Realme",
          "iQOO",
          "Vivo",
          "Oppo",
          "iQOO",
          "Nubia",
          "Nokia",
          "Vivo",
          "Oppo",
          "Honor",
          "iQOO",
          "Realme",
          "Google",
          "Vivo",
          "OPPO",
          "Xiaomi",
          "Vivo",
          "OnePlus",
          "Sharp",
          "Samsung",
          "Motorola",
          "Xiaomi",
          "Motorola",
          "Oppo",
          "Motorola",
          "Honor",
          "Motorola"
         ],
         "xaxis": "x",
         "yaxis": "y"
        },
        {
         "alignmentgroup": "True",
         "bingroup": "x",
         "hovertemplate": "processor=Exynos<br>mobile_model=%{x}<br>count=%{y}<extra></extra>",
         "legendgroup": "Exynos",
         "marker": {
          "color": "rgb(93, 105, 177)",
          "pattern": {
           "shape": ""
          }
         },
         "name": "Exynos",
         "offsetgroup": "Exynos",
         "orientation": "v",
         "showlegend": true,
         "type": "histogram",
         "x": [
          "Samsung",
          "Samsung",
          "Samsung",
          "Samsung",
          "Samsung",
          "Samsung",
          "Samsung",
          "Samsung",
          "Samsung",
          "Samsung",
          "Samsung",
          "Samsung",
          "Samsung",
          "Samsung",
          "Samsung",
          "Samsung",
          "Samsung",
          "Samsung",
          "Samsung",
          "Samsung",
          "Samsung",
          "Samsung",
          "Samsung",
          "Samsung",
          "Samsung",
          "Samsung",
          "Samsung",
          "Samsung",
          "Samsung",
          "Samsung",
          "Samsung",
          "Samsung",
          "Samsung",
          "Samsung",
          "Samsung",
          "Samsung",
          "Samsung",
          "Samsung",
          "Samsung",
          "Samsung",
          "Samsung",
          "Samsung",
          "Samsung",
          "Samsung",
          "Samsung"
         ],
         "xaxis": "x",
         "yaxis": "y"
        },
        {
         "alignmentgroup": "True",
         "bingroup": "x",
         "hovertemplate": "processor=Dimensity<br>mobile_model=%{x}<br>count=%{y}<extra></extra>",
         "legendgroup": "Dimensity",
         "marker": {
          "color": "rgb(82, 188, 163)",
          "pattern": {
           "shape": ""
          }
         },
         "name": "Dimensity",
         "offsetgroup": "Dimensity",
         "orientation": "v",
         "showlegend": true,
         "type": "histogram",
         "x": [
          "Realme",
          "Xiaomi",
          "OnePlus",
          "Oppo",
          "Xiaomi",
          "OnePlus",
          "Vivo",
          "Vivo",
          "Vivo",
          "Vivo",
          "Samsung",
          "Motorola",
          "Realme",
          "iQOO",
          "Realme",
          "Xiaomi",
          "Poco",
          "Vivo",
          "Xiaomi",
          "Vivo",
          "Xiaomi",
          "Realme",
          "Samsung",
          "OPPO",
          "OnePlus",
          "Realme",
          "OPPO",
          "Vivo",
          "OnePlus",
          "Tecno",
          "Xiaomi",
          "OPPO",
          "Samsung",
          "OnePlus",
          "Infinix",
          "Vivo",
          "Xiaomi",
          "OPPO",
          "Poco",
          "Infinix",
          "Vivo",
          "Infinix",
          "Realme",
          "Vivo",
          "Vivo",
          "Infinix",
          "Realme",
          "OnePlus",
          "OPPO",
          "Poco",
          "Xiaomi",
          "Vivo",
          "Realme",
          "Lava",
          "Vivo",
          "Realme",
          "Realme",
          "Realme",
          "OPPO",
          "OPPO",
          "Xiaomi",
          "Xiaomi",
          "Motorola",
          "Tecno",
          "Poco",
          "Tecno",
          "Infinix",
          "OPPO",
          "Xiaomi",
          "Vivo",
          "Xiaomi",
          "iQOO",
          "Xiaomi",
          "Infinix",
          "Poco",
          "Xiaomi",
          "OPPO",
          "Vivo",
          "Samsung",
          "POCO",
          "Tecno",
          "OPPO",
          "Xiaomi",
          "Realme",
          "Realme",
          "Realme",
          "OPPO",
          "Samsung",
          "Xiaomi",
          "Xiaomi",
          "OPPO",
          "Xiaomi",
          "OPPO",
          "Vivo",
          "BLU",
          "Asus",
          "Xiaomi",
          "Vivo",
          "OPPO",
          "Samsung",
          "POCO",
          "Realme",
          "Vivo",
          "Honor",
          "Samsung",
          "POCO",
          "Xiaomi",
          "Oppo",
          "Vivo",
          "Realme",
          "OnePlus",
          "Vivo",
          "Realme",
          "Realme",
          "Xiaomi",
          "OnePlus",
          "Samsung",
          "Oppo",
          "Realme",
          "Xiaomi",
          "Xiaomi",
          "Samsung",
          "Vivo",
          "Xiaomi",
          "Realme",
          "Lava",
          "POCO",
          "Vivo",
          "Realme",
          "Realme",
          "OPPO",
          "OnePlus",
          "Vivo",
          "Realme",
          "Xiaomi",
          "Xiaomi",
          "Vivo",
          "Xiaomi",
          "Poco",
          "OPPO",
          "Vivo",
          "Xiaomi",
          "Oppo",
          "Xiaomi",
          "Vivo",
          "Tecno",
          "Vivo",
          "Xiaomi",
          "Xiaomi",
          "Realme",
          "Vivo",
          "Xiaomi",
          "OnePlus",
          "Vivo",
          "Xiaomi",
          "Vivo",
          "Realme",
          "Realme",
          "Doogee",
          "Samsung",
          "OnePlus",
          "Xiaomi",
          "Poco",
          "Realme",
          "Oppo",
          "Vivo",
          "Tecno",
          "OPPO",
          "POCO",
          "Xiaomi",
          "Samsung",
          "Poco",
          "Xiaomi",
          "POCO"
         ],
         "xaxis": "x",
         "yaxis": "y"
        },
        {
         "alignmentgroup": "True",
         "bingroup": "x",
         "hovertemplate": "processor=Bionic<br>mobile_model=%{x}<br>count=%{y}<extra></extra>",
         "legendgroup": "Bionic",
         "marker": {
          "color": "rgb(153, 201, 69)",
          "pattern": {
           "shape": ""
          }
         },
         "name": "Bionic",
         "offsetgroup": "Bionic",
         "orientation": "v",
         "showlegend": true,
         "type": "histogram",
         "x": [
          "Apple",
          "Apple",
          "Apple",
          "Apple",
          "Apple",
          "Apple",
          "Apple",
          "Apple",
          "Apple",
          "Apple",
          "Apple",
          "Apple",
          "Apple",
          "Apple",
          "Apple",
          "Apple",
          "Apple",
          "Apple",
          "Apple",
          "Apple",
          "Apple",
          "Apple",
          "Apple",
          "Apple",
          "Apple",
          "Apple",
          "Apple",
          "Apple",
          "Apple",
          "Apple",
          "Apple",
          "Apple",
          "Apple",
          "Apple",
          "Apple",
          "Apple",
          "Apple",
          "Apple"
         ],
         "xaxis": "x",
         "yaxis": "y"
        },
        {
         "alignmentgroup": "True",
         "bingroup": "x",
         "hovertemplate": "processor=Helio<br>mobile_model=%{x}<br>count=%{y}<extra></extra>",
         "legendgroup": "Helio",
         "marker": {
          "color": "rgb(204, 97, 176)",
          "pattern": {
           "shape": ""
          }
         },
         "name": "Helio",
         "offsetgroup": "Helio",
         "orientation": "v",
         "showlegend": true,
         "type": "histogram",
         "x": [
          "Vivo",
          "Vivo",
          "Vivo",
          "Realme",
          "Xiaomi",
          "Vivo",
          "OPPO",
          "Xiaomi",
          "Motorola",
          "Vivo",
          "OPPO",
          "Samsung",
          "Cola",
          "Xiaomi",
          "Realme",
          "Xiaomi",
          "Realme",
          "POCO",
          "Tecno",
          "Realme",
          "Samsung",
          "Tecno",
          "Tecno",
          "Samsung",
          "POCO",
          "Vivo",
          "Vivo",
          "OPPO",
          "Motorola",
          "Infinix",
          "Motorola",
          "POCO",
          "Samsung",
          "Infinix",
          "Tecno",
          "Infinix",
          "Xiaomi",
          "Xiaomi",
          "Vivo",
          "Tecno",
          "Infinix",
          "Infinix",
          "Xiaomi",
          "Xiaomi",
          "Samsung",
          "POCO",
          "Motorola",
          "Xiaomi",
          "Vivo",
          "OPPO",
          "Xiaomi",
          "Tecno",
          "Vivo",
          "Samsung",
          "Oukitel",
          "Xiaomi",
          "OPPO",
          "Samsung",
          "Tecno",
          "OPPO",
          "Motorola",
          "Xiaomi",
          "Xiaomi",
          "Samsung",
          "Motorola",
          "Infinix",
          "Vivo",
          "Tecno",
          "Samsung",
          "Redmi",
          "Sony",
          "Tecno",
          "Xiaomi",
          "Samsung",
          "Infinix",
          "Samsung",
          "Vivo",
          "Tecno",
          "Motorola",
          "Xiaomi",
          "Motorola",
          "Xiaomi",
          "Realme",
          "Vivo",
          "Samsung",
          "Vivo",
          "Vivo",
          "Poco",
          "Realme",
          "Motorola",
          "OPPO",
          "POCO",
          "Realme",
          "Samsung",
          "Oppo",
          "OPPO",
          "OPPO",
          "Tecno",
          "Xiaomi",
          "Xiaomi",
          "Vivo",
          "Samsung",
          "Xiaomi",
          "Oukitel",
          "Xiaomi",
          "Realme",
          "OPPO",
          "OPPO",
          "Samsung",
          "Tecno",
          "Vivo",
          "Vivo",
          "Xiaomi",
          "Vivo",
          "Tecno",
          "Infinix",
          "Samsung",
          "Tecno",
          "Infinix",
          "Infinix",
          "Vivo",
          "OPPO",
          "Gionee",
          "Poco",
          "OPPO",
          "Vivo",
          "Infinix",
          "Tecno",
          "Xiaomi",
          "Vivo",
          "Poco",
          "Vivo",
          "Xiaomi",
          "Vivo",
          "Samsung",
          "Samsung",
          "OPPO",
          "OPPO",
          "Oppo",
          "Vivo",
          "Samsung",
          "Infinix",
          "Xiaomi",
          "Tecno",
          "OPPO",
          "Infinix",
          "Infinix",
          "Xiaomi",
          "Infinix",
          "Xiaomi",
          "Realme",
          "Oppo",
          "Vivo",
          "Xiaomi",
          "Motorola",
          "Poco",
          "Tecno",
          "Vivo",
          "Infinix",
          "Tecno",
          "Tecno",
          "Tecno",
          "Realme",
          "Tecno",
          "Realme",
          "OPPO",
          "Oppo",
          "Xiaomi",
          "OPPO",
          "Lava",
          "Motorola",
          "Xiaomi",
          "Infinix",
          "Tecno",
          "Honor",
          "TCL",
          "Infinix",
          "Infinix",
          "OPPO",
          "Realme",
          "Samsung",
          "Xiaomi",
          "Realme",
          "Realme",
          "Poco",
          "Blackview",
          "Honor",
          "Doogee",
          "Oukitel"
         ],
         "xaxis": "x",
         "yaxis": "y"
        },
        {
         "alignmentgroup": "True",
         "bingroup": "x",
         "hovertemplate": "processor=A13<br>mobile_model=%{x}<br>count=%{y}<extra></extra>",
         "legendgroup": "A13",
         "marker": {
          "color": "rgb(36, 121, 108)",
          "pattern": {
           "shape": ""
          }
         },
         "name": "A13",
         "offsetgroup": "A13",
         "orientation": "v",
         "showlegend": true,
         "type": "histogram",
         "x": [
          "Apple",
          "Apple",
          "Apple",
          "Apple",
          "Apple"
         ],
         "xaxis": "x",
         "yaxis": "y"
        },
        {
         "alignmentgroup": "True",
         "bingroup": "x",
         "hovertemplate": "processor=<br>mobile_model=%{x}<br>count=%{y}<extra></extra>",
         "legendgroup": "",
         "marker": {
          "color": "rgb(218, 165, 27)",
          "pattern": {
           "shape": ""
          }
         },
         "name": "",
         "offsetgroup": "",
         "orientation": "v",
         "showlegend": false,
         "type": "histogram",
         "x": [
          "Xiaomi",
          "Xiaomi",
          "OPPO",
          "Xiaomi"
         ],
         "xaxis": "x",
         "yaxis": "y"
        },
        {
         "alignmentgroup": "True",
         "bingroup": "x",
         "hovertemplate": "processor=Unisoc<br>mobile_model=%{x}<br>count=%{y}<extra></extra>",
         "legendgroup": "Unisoc",
         "marker": {
          "color": "rgb(47, 138, 196)",
          "pattern": {
           "shape": ""
          }
         },
         "name": "Unisoc",
         "offsetgroup": "Unisoc",
         "orientation": "v",
         "showlegend": true,
         "type": "histogram",
         "x": [
          "Realme",
          "Realme",
          "Tecno",
          "Samsung",
          "Nokia",
          "Nokia",
          "Nokia",
          "Realme",
          "Realme",
          "Realme",
          "Micromax",
          "itel",
          "Nokia",
          "Samsung",
          "Nokia",
          "Tecno",
          "Micromax"
         ],
         "xaxis": "x",
         "yaxis": "y"
        },
        {
         "alignmentgroup": "True",
         "bingroup": "x",
         "hovertemplate": "processor=Octa<br>mobile_model=%{x}<br>count=%{y}<extra></extra>",
         "legendgroup": "Octa",
         "marker": {
          "color": "rgb(118, 78, 159)",
          "pattern": {
           "shape": ""
          }
         },
         "name": "Octa",
         "offsetgroup": "Octa",
         "orientation": "v",
         "showlegend": true,
         "type": "histogram",
         "x": [
          "Tesla",
          "Samsung",
          "Samsung",
          "Samsung",
          "Samsung",
          "Samsung",
          "Tecno",
          "Samsung",
          "Samsung",
          "Huawei",
          "Samsung",
          "Samsung",
          "Samsung",
          "Samsung"
         ],
         "xaxis": "x",
         "yaxis": "y"
        },
        {
         "alignmentgroup": "True",
         "bingroup": "x",
         "hovertemplate": "processor=Google<br>mobile_model=%{x}<br>count=%{y}<extra></extra>",
         "legendgroup": "Google",
         "marker": {
          "color": "rgb(237, 100, 90)",
          "pattern": {
           "shape": ""
          }
         },
         "name": "Google",
         "offsetgroup": "Google",
         "orientation": "v",
         "showlegend": true,
         "type": "histogram",
         "x": [
          "Google",
          "Google",
          "Google",
          "Google",
          "Google",
          "Google",
          "Google"
         ],
         "xaxis": "x",
         "yaxis": "y"
        },
        {
         "alignmentgroup": "True",
         "bingroup": "x",
         "hovertemplate": "processor=Tiger<br>mobile_model=%{x}<br>count=%{y}<extra></extra>",
         "legendgroup": "Tiger",
         "marker": {
          "color": "rgb(165, 170, 153)",
          "pattern": {
           "shape": ""
          }
         },
         "name": "Tiger",
         "offsetgroup": "Tiger",
         "orientation": "v",
         "showlegend": true,
         "type": "histogram",
         "x": [
          "Motorola",
          "Realme",
          "LeEco",
          "Realme",
          "Realme",
          "Realme",
          "Realme",
          "Infinix",
          "Motorola",
          "Realme",
          "Infinix",
          "Letv",
          "Infinix",
          "Realme",
          "Realme",
          "Micromax",
          "Realme",
          "Realme",
          "Realme",
          "Realme"
         ],
         "xaxis": "x",
         "yaxis": "y"
        },
        {
         "alignmentgroup": "True",
         "bingroup": "x",
         "hovertemplate": "processor=Quad<br>mobile_model=%{x}<br>count=%{y}<extra></extra>",
         "legendgroup": "Quad",
         "marker": {
          "color": "rgb(229, 134, 6)",
          "pattern": {
           "shape": ""
          }
         },
         "name": "Quad",
         "offsetgroup": "Quad",
         "orientation": "v",
         "showlegend": true,
         "type": "histogram",
         "x": [
          "iKall",
          "iKall",
          "iKall"
         ],
         "xaxis": "x",
         "yaxis": "y"
        },
        {
         "alignmentgroup": "True",
         "bingroup": "x",
         "hovertemplate": "processor=Apple<br>mobile_model=%{x}<br>count=%{y}<extra></extra>",
         "legendgroup": "Apple",
         "marker": {
          "color": "rgb(93, 105, 177)",
          "pattern": {
           "shape": ""
          }
         },
         "name": "Apple",
         "offsetgroup": "Apple",
         "orientation": "v",
         "showlegend": true,
         "type": "histogram",
         "x": [
          "Apple"
         ],
         "xaxis": "x",
         "yaxis": "y"
        },
        {
         "alignmentgroup": "True",
         "bingroup": "x",
         "hovertemplate": "processor=SC9863A<br>mobile_model=%{x}<br>count=%{y}<extra></extra>",
         "legendgroup": "SC9863A",
         "marker": {
          "color": "rgb(82, 188, 163)",
          "pattern": {
           "shape": ""
          }
         },
         "name": "SC9863A",
         "offsetgroup": "SC9863A",
         "orientation": "v",
         "showlegend": true,
         "type": "histogram",
         "x": [
          "Realme",
          "Realme"
         ],
         "xaxis": "x",
         "yaxis": "y"
        },
        {
         "alignmentgroup": "True",
         "bingroup": "x",
         "hovertemplate": "processor=Sanpdragon<br>mobile_model=%{x}<br>count=%{y}<extra></extra>",
         "legendgroup": "Sanpdragon",
         "marker": {
          "color": "rgb(153, 201, 69)",
          "pattern": {
           "shape": ""
          }
         },
         "name": "Sanpdragon",
         "offsetgroup": "Sanpdragon",
         "orientation": "v",
         "showlegend": true,
         "type": "histogram",
         "x": [
          "Huawei"
         ],
         "xaxis": "x",
         "yaxis": "y"
        },
        {
         "alignmentgroup": "True",
         "bingroup": "x",
         "hovertemplate": "processor=Kirin<br>mobile_model=%{x}<br>count=%{y}<extra></extra>",
         "legendgroup": "Kirin",
         "marker": {
          "color": "rgb(204, 97, 176)",
          "pattern": {
           "shape": ""
          }
         },
         "name": "Kirin",
         "offsetgroup": "Kirin",
         "orientation": "v",
         "showlegend": true,
         "type": "histogram",
         "x": [
          "Huawei",
          "Huawei",
          "Huawei"
         ],
         "xaxis": "x",
         "yaxis": "y"
        },
        {
         "alignmentgroup": "True",
         "bingroup": "x",
         "hovertemplate": "processor=Qualcomm<br>mobile_model=%{x}<br>count=%{y}<extra></extra>",
         "legendgroup": "Qualcomm",
         "marker": {
          "color": "rgb(36, 121, 108)",
          "pattern": {
           "shape": ""
          }
         },
         "name": "Qualcomm",
         "offsetgroup": "Qualcomm",
         "orientation": "v",
         "showlegend": true,
         "type": "histogram",
         "x": [
          "Google",
          "Xiaomi"
         ],
         "xaxis": "x",
         "yaxis": "y"
        },
        {
         "alignmentgroup": "True",
         "bingroup": "x",
         "hovertemplate": "processor=Samsung<br>mobile_model=%{x}<br>count=%{y}<extra></extra>",
         "legendgroup": "Samsung",
         "marker": {
          "color": "rgb(218, 165, 27)",
          "pattern": {
           "shape": ""
          }
         },
         "name": "Samsung",
         "offsetgroup": "Samsung",
         "orientation": "v",
         "showlegend": true,
         "type": "histogram",
         "x": [
          "Samsung"
         ],
         "xaxis": "x",
         "yaxis": "y"
        }
       ],
       "layout": {
        "barmode": "relative",
        "height": 500,
        "legend": {
         "title": {
          "text": "processor"
         },
         "tracegroupgap": 0
        },
        "template": {
         "data": {
          "bar": [
           {
            "error_x": {
             "color": "#2a3f5f"
            },
            "error_y": {
             "color": "#2a3f5f"
            },
            "marker": {
             "line": {
              "color": "#E5ECF6",
              "width": 0.5
             },
             "pattern": {
              "fillmode": "overlay",
              "size": 10,
              "solidity": 0.2
             }
            },
            "type": "bar"
           }
          ],
          "barpolar": [
           {
            "marker": {
             "line": {
              "color": "#E5ECF6",
              "width": 0.5
             },
             "pattern": {
              "fillmode": "overlay",
              "size": 10,
              "solidity": 0.2
             }
            },
            "type": "barpolar"
           }
          ],
          "carpet": [
           {
            "aaxis": {
             "endlinecolor": "#2a3f5f",
             "gridcolor": "white",
             "linecolor": "white",
             "minorgridcolor": "white",
             "startlinecolor": "#2a3f5f"
            },
            "baxis": {
             "endlinecolor": "#2a3f5f",
             "gridcolor": "white",
             "linecolor": "white",
             "minorgridcolor": "white",
             "startlinecolor": "#2a3f5f"
            },
            "type": "carpet"
           }
          ],
          "choropleth": [
           {
            "colorbar": {
             "outlinewidth": 0,
             "ticks": ""
            },
            "type": "choropleth"
           }
          ],
          "contour": [
           {
            "colorbar": {
             "outlinewidth": 0,
             "ticks": ""
            },
            "colorscale": [
             [
              0,
              "#0d0887"
             ],
             [
              0.1111111111111111,
              "#46039f"
             ],
             [
              0.2222222222222222,
              "#7201a8"
             ],
             [
              0.3333333333333333,
              "#9c179e"
             ],
             [
              0.4444444444444444,
              "#bd3786"
             ],
             [
              0.5555555555555556,
              "#d8576b"
             ],
             [
              0.6666666666666666,
              "#ed7953"
             ],
             [
              0.7777777777777778,
              "#fb9f3a"
             ],
             [
              0.8888888888888888,
              "#fdca26"
             ],
             [
              1,
              "#f0f921"
             ]
            ],
            "type": "contour"
           }
          ],
          "contourcarpet": [
           {
            "colorbar": {
             "outlinewidth": 0,
             "ticks": ""
            },
            "type": "contourcarpet"
           }
          ],
          "heatmap": [
           {
            "colorbar": {
             "outlinewidth": 0,
             "ticks": ""
            },
            "colorscale": [
             [
              0,
              "#0d0887"
             ],
             [
              0.1111111111111111,
              "#46039f"
             ],
             [
              0.2222222222222222,
              "#7201a8"
             ],
             [
              0.3333333333333333,
              "#9c179e"
             ],
             [
              0.4444444444444444,
              "#bd3786"
             ],
             [
              0.5555555555555556,
              "#d8576b"
             ],
             [
              0.6666666666666666,
              "#ed7953"
             ],
             [
              0.7777777777777778,
              "#fb9f3a"
             ],
             [
              0.8888888888888888,
              "#fdca26"
             ],
             [
              1,
              "#f0f921"
             ]
            ],
            "type": "heatmap"
           }
          ],
          "heatmapgl": [
           {
            "colorbar": {
             "outlinewidth": 0,
             "ticks": ""
            },
            "colorscale": [
             [
              0,
              "#0d0887"
             ],
             [
              0.1111111111111111,
              "#46039f"
             ],
             [
              0.2222222222222222,
              "#7201a8"
             ],
             [
              0.3333333333333333,
              "#9c179e"
             ],
             [
              0.4444444444444444,
              "#bd3786"
             ],
             [
              0.5555555555555556,
              "#d8576b"
             ],
             [
              0.6666666666666666,
              "#ed7953"
             ],
             [
              0.7777777777777778,
              "#fb9f3a"
             ],
             [
              0.8888888888888888,
              "#fdca26"
             ],
             [
              1,
              "#f0f921"
             ]
            ],
            "type": "heatmapgl"
           }
          ],
          "histogram": [
           {
            "marker": {
             "pattern": {
              "fillmode": "overlay",
              "size": 10,
              "solidity": 0.2
             }
            },
            "type": "histogram"
           }
          ],
          "histogram2d": [
           {
            "colorbar": {
             "outlinewidth": 0,
             "ticks": ""
            },
            "colorscale": [
             [
              0,
              "#0d0887"
             ],
             [
              0.1111111111111111,
              "#46039f"
             ],
             [
              0.2222222222222222,
              "#7201a8"
             ],
             [
              0.3333333333333333,
              "#9c179e"
             ],
             [
              0.4444444444444444,
              "#bd3786"
             ],
             [
              0.5555555555555556,
              "#d8576b"
             ],
             [
              0.6666666666666666,
              "#ed7953"
             ],
             [
              0.7777777777777778,
              "#fb9f3a"
             ],
             [
              0.8888888888888888,
              "#fdca26"
             ],
             [
              1,
              "#f0f921"
             ]
            ],
            "type": "histogram2d"
           }
          ],
          "histogram2dcontour": [
           {
            "colorbar": {
             "outlinewidth": 0,
             "ticks": ""
            },
            "colorscale": [
             [
              0,
              "#0d0887"
             ],
             [
              0.1111111111111111,
              "#46039f"
             ],
             [
              0.2222222222222222,
              "#7201a8"
             ],
             [
              0.3333333333333333,
              "#9c179e"
             ],
             [
              0.4444444444444444,
              "#bd3786"
             ],
             [
              0.5555555555555556,
              "#d8576b"
             ],
             [
              0.6666666666666666,
              "#ed7953"
             ],
             [
              0.7777777777777778,
              "#fb9f3a"
             ],
             [
              0.8888888888888888,
              "#fdca26"
             ],
             [
              1,
              "#f0f921"
             ]
            ],
            "type": "histogram2dcontour"
           }
          ],
          "mesh3d": [
           {
            "colorbar": {
             "outlinewidth": 0,
             "ticks": ""
            },
            "type": "mesh3d"
           }
          ],
          "parcoords": [
           {
            "line": {
             "colorbar": {
              "outlinewidth": 0,
              "ticks": ""
             }
            },
            "type": "parcoords"
           }
          ],
          "pie": [
           {
            "automargin": true,
            "type": "pie"
           }
          ],
          "scatter": [
           {
            "fillpattern": {
             "fillmode": "overlay",
             "size": 10,
             "solidity": 0.2
            },
            "type": "scatter"
           }
          ],
          "scatter3d": [
           {
            "line": {
             "colorbar": {
              "outlinewidth": 0,
              "ticks": ""
             }
            },
            "marker": {
             "colorbar": {
              "outlinewidth": 0,
              "ticks": ""
             }
            },
            "type": "scatter3d"
           }
          ],
          "scattercarpet": [
           {
            "marker": {
             "colorbar": {
              "outlinewidth": 0,
              "ticks": ""
             }
            },
            "type": "scattercarpet"
           }
          ],
          "scattergeo": [
           {
            "marker": {
             "colorbar": {
              "outlinewidth": 0,
              "ticks": ""
             }
            },
            "type": "scattergeo"
           }
          ],
          "scattergl": [
           {
            "marker": {
             "colorbar": {
              "outlinewidth": 0,
              "ticks": ""
             }
            },
            "type": "scattergl"
           }
          ],
          "scattermapbox": [
           {
            "marker": {
             "colorbar": {
              "outlinewidth": 0,
              "ticks": ""
             }
            },
            "type": "scattermapbox"
           }
          ],
          "scatterpolar": [
           {
            "marker": {
             "colorbar": {
              "outlinewidth": 0,
              "ticks": ""
             }
            },
            "type": "scatterpolar"
           }
          ],
          "scatterpolargl": [
           {
            "marker": {
             "colorbar": {
              "outlinewidth": 0,
              "ticks": ""
             }
            },
            "type": "scatterpolargl"
           }
          ],
          "scatterternary": [
           {
            "marker": {
             "colorbar": {
              "outlinewidth": 0,
              "ticks": ""
             }
            },
            "type": "scatterternary"
           }
          ],
          "surface": [
           {
            "colorbar": {
             "outlinewidth": 0,
             "ticks": ""
            },
            "colorscale": [
             [
              0,
              "#0d0887"
             ],
             [
              0.1111111111111111,
              "#46039f"
             ],
             [
              0.2222222222222222,
              "#7201a8"
             ],
             [
              0.3333333333333333,
              "#9c179e"
             ],
             [
              0.4444444444444444,
              "#bd3786"
             ],
             [
              0.5555555555555556,
              "#d8576b"
             ],
             [
              0.6666666666666666,
              "#ed7953"
             ],
             [
              0.7777777777777778,
              "#fb9f3a"
             ],
             [
              0.8888888888888888,
              "#fdca26"
             ],
             [
              1,
              "#f0f921"
             ]
            ],
            "type": "surface"
           }
          ],
          "table": [
           {
            "cells": {
             "fill": {
              "color": "#EBF0F8"
             },
             "line": {
              "color": "white"
             }
            },
            "header": {
             "fill": {
              "color": "#C8D4E3"
             },
             "line": {
              "color": "white"
             }
            },
            "type": "table"
           }
          ]
         },
         "layout": {
          "annotationdefaults": {
           "arrowcolor": "#2a3f5f",
           "arrowhead": 0,
           "arrowwidth": 1
          },
          "autotypenumbers": "strict",
          "coloraxis": {
           "colorbar": {
            "outlinewidth": 0,
            "ticks": ""
           }
          },
          "colorscale": {
           "diverging": [
            [
             0,
             "#8e0152"
            ],
            [
             0.1,
             "#c51b7d"
            ],
            [
             0.2,
             "#de77ae"
            ],
            [
             0.3,
             "#f1b6da"
            ],
            [
             0.4,
             "#fde0ef"
            ],
            [
             0.5,
             "#f7f7f7"
            ],
            [
             0.6,
             "#e6f5d0"
            ],
            [
             0.7,
             "#b8e186"
            ],
            [
             0.8,
             "#7fbc41"
            ],
            [
             0.9,
             "#4d9221"
            ],
            [
             1,
             "#276419"
            ]
           ],
           "sequential": [
            [
             0,
             "#0d0887"
            ],
            [
             0.1111111111111111,
             "#46039f"
            ],
            [
             0.2222222222222222,
             "#7201a8"
            ],
            [
             0.3333333333333333,
             "#9c179e"
            ],
            [
             0.4444444444444444,
             "#bd3786"
            ],
            [
             0.5555555555555556,
             "#d8576b"
            ],
            [
             0.6666666666666666,
             "#ed7953"
            ],
            [
             0.7777777777777778,
             "#fb9f3a"
            ],
            [
             0.8888888888888888,
             "#fdca26"
            ],
            [
             1,
             "#f0f921"
            ]
           ],
           "sequentialminus": [
            [
             0,
             "#0d0887"
            ],
            [
             0.1111111111111111,
             "#46039f"
            ],
            [
             0.2222222222222222,
             "#7201a8"
            ],
            [
             0.3333333333333333,
             "#9c179e"
            ],
            [
             0.4444444444444444,
             "#bd3786"
            ],
            [
             0.5555555555555556,
             "#d8576b"
            ],
            [
             0.6666666666666666,
             "#ed7953"
            ],
            [
             0.7777777777777778,
             "#fb9f3a"
            ],
            [
             0.8888888888888888,
             "#fdca26"
            ],
            [
             1,
             "#f0f921"
            ]
           ]
          },
          "colorway": [
           "#636efa",
           "#EF553B",
           "#00cc96",
           "#ab63fa",
           "#FFA15A",
           "#19d3f3",
           "#FF6692",
           "#B6E880",
           "#FF97FF",
           "#FECB52"
          ],
          "font": {
           "color": "#2a3f5f"
          },
          "geo": {
           "bgcolor": "white",
           "lakecolor": "white",
           "landcolor": "#E5ECF6",
           "showlakes": true,
           "showland": true,
           "subunitcolor": "white"
          },
          "hoverlabel": {
           "align": "left"
          },
          "hovermode": "closest",
          "mapbox": {
           "style": "light"
          },
          "paper_bgcolor": "white",
          "plot_bgcolor": "#E5ECF6",
          "polar": {
           "angularaxis": {
            "gridcolor": "white",
            "linecolor": "white",
            "ticks": ""
           },
           "bgcolor": "#E5ECF6",
           "radialaxis": {
            "gridcolor": "white",
            "linecolor": "white",
            "ticks": ""
           }
          },
          "scene": {
           "xaxis": {
            "backgroundcolor": "#E5ECF6",
            "gridcolor": "white",
            "gridwidth": 2,
            "linecolor": "white",
            "showbackground": true,
            "ticks": "",
            "zerolinecolor": "white"
           },
           "yaxis": {
            "backgroundcolor": "#E5ECF6",
            "gridcolor": "white",
            "gridwidth": 2,
            "linecolor": "white",
            "showbackground": true,
            "ticks": "",
            "zerolinecolor": "white"
           },
           "zaxis": {
            "backgroundcolor": "#E5ECF6",
            "gridcolor": "white",
            "gridwidth": 2,
            "linecolor": "white",
            "showbackground": true,
            "ticks": "",
            "zerolinecolor": "white"
           }
          },
          "shapedefaults": {
           "line": {
            "color": "#2a3f5f"
           }
          },
          "ternary": {
           "aaxis": {
            "gridcolor": "white",
            "linecolor": "white",
            "ticks": ""
           },
           "baxis": {
            "gridcolor": "white",
            "linecolor": "white",
            "ticks": ""
           },
           "bgcolor": "#E5ECF6",
           "caxis": {
            "gridcolor": "white",
            "linecolor": "white",
            "ticks": ""
           }
          },
          "title": {
           "x": 0.05
          },
          "xaxis": {
           "automargin": true,
           "gridcolor": "white",
           "linecolor": "white",
           "ticks": "",
           "title": {
            "standoff": 15
           },
           "zerolinecolor": "white",
           "zerolinewidth": 2
          },
          "yaxis": {
           "automargin": true,
           "gridcolor": "white",
           "linecolor": "white",
           "ticks": "",
           "title": {
            "standoff": 15
           },
           "zerolinecolor": "white",
           "zerolinewidth": 2
          }
         }
        },
        "title": {
         "font": {
          "size": 20
         },
         "text": "Count of Processor for every mobile brand"
        },
        "width": 1400,
        "xaxis": {
         "anchor": "y",
         "domain": [
          0,
          1
         ],
         "title": {
          "text": "mobile_model"
         }
        },
        "yaxis": {
         "anchor": "x",
         "domain": [
          0,
          1
         ],
         "title": {
          "text": "Count of Processor"
         }
        }
       }
      }
     },
     "metadata": {},
     "output_type": "display_data"
    }
   ],
   "source": [
    "fig=px.histogram(data,x=\"mobile_model\",color=\"processor\",title=\"Count of Processor for every mobile brand\",\n",
    "                color_discrete_sequence=px.colors.qualitative.Vivid,\n",
    "                width=1400, height=500)\n",
    "fig.update_layout(title_font_size=20, yaxis_title= 'Count of Processor')\n",
    "fig.show()"
   ]
  },
  {
   "cell_type": "code",
   "execution_count": 35,
   "metadata": {},
   "outputs": [
    {
     "data": {
      "application/vnd.plotly.v1+json": {
       "config": {
        "plotlyServerURL": "https://plot.ly"
       },
       "data": [
        {
         "alignmentgroup": "True",
         "bingroup": "x",
         "hovertemplate": "camera=50?MP + 48?MP + 32?MP Triple Rear & 16?MP Front Camera<br>mobile_model=%{x}<br>count=%{y}<extra></extra>",
         "legendgroup": "50?MP + 48?MP + 32?MP Triple Rear & 16?MP Front Camera",
         "marker": {
          "color": "rgb(229, 134, 6)",
          "pattern": {
           "shape": ""
          }
         },
         "name": "50?MP + 48?MP + 32?MP Triple Rear & 16?MP Front Camera",
         "offsetgroup": "50?MP + 48?MP + 32?MP Triple Rear & 16?MP Front Camera",
         "orientation": "v",
         "showlegend": true,
         "type": "histogram",
         "x": [
          "OnePlus"
         ],
         "xaxis": "x",
         "yaxis": "y"
        },
        {
         "alignmentgroup": "True",
         "bingroup": "x",
         "hovertemplate": "camera=64?MP + 2?MP + 2?MP Triple Rear & 16?MP Front Camera<br>mobile_model=%{x}<br>count=%{y}<extra></extra>",
         "legendgroup": "64?MP + 2?MP + 2?MP Triple Rear & 16?MP Front Camera",
         "marker": {
          "color": "rgb(93, 105, 177)",
          "pattern": {
           "shape": ""
          }
         },
         "name": "64?MP + 2?MP + 2?MP Triple Rear & 16?MP Front Camera",
         "offsetgroup": "64?MP + 2?MP + 2?MP Triple Rear & 16?MP Front Camera",
         "orientation": "v",
         "showlegend": true,
         "type": "histogram",
         "x": [
          "OnePlus",
          "OnePlus",
          "iQOO",
          "OnePlus",
          "OPPO",
          "OPPO",
          "iQOO",
          "OPPO",
          "Tecno",
          "OnePlus",
          "Vivo",
          "OPPO",
          "Vivo",
          "Realme",
          "Realme",
          "OnePlus"
         ],
         "xaxis": "x",
         "yaxis": "y"
        },
        {
         "alignmentgroup": "True",
         "bingroup": "x",
         "hovertemplate": "camera=50?MP + 2?MP + 2?MP Triple Rear & 13?MP Front Camera<br>mobile_model=%{x}<br>count=%{y}<extra></extra>",
         "legendgroup": "50?MP + 2?MP + 2?MP Triple Rear & 13?MP Front Camera",
         "marker": {
          "color": "rgb(82, 188, 163)",
          "pattern": {
           "shape": ""
          }
         },
         "name": "50?MP + 2?MP + 2?MP Triple Rear & 13?MP Front Camera",
         "offsetgroup": "50?MP + 2?MP + 2?MP Triple Rear & 13?MP Front Camera",
         "orientation": "v",
         "showlegend": true,
         "type": "histogram",
         "x": [
          "Samsung",
          "Samsung",
          "Samsung"
         ],
         "xaxis": "x",
         "yaxis": "y"
        },
        {
         "alignmentgroup": "True",
         "bingroup": "x",
         "hovertemplate": "camera=50?MP + 8?MP + 2?MP Triple Rear & 16?MP Front Camera<br>mobile_model=%{x}<br>count=%{y}<extra></extra>",
         "legendgroup": "50?MP + 8?MP + 2?MP Triple Rear & 16?MP Front Camera",
         "marker": {
          "color": "rgb(153, 201, 69)",
          "pattern": {
           "shape": ""
          }
         },
         "name": "50?MP + 8?MP + 2?MP Triple Rear & 16?MP Front Camera",
         "offsetgroup": "50?MP + 8?MP + 2?MP Triple Rear & 16?MP Front Camera",
         "orientation": "v",
         "showlegend": true,
         "type": "histogram",
         "x": [
          "Motorola",
          "Xiaomi",
          "OnePlus",
          "Motorola",
          "Motorola",
          "OnePlus",
          "Motorola",
          "OnePlus",
          "Motorola",
          "Motorola",
          "Motorola",
          "Motorola",
          "Xiaomi",
          "Realme",
          "Nubia",
          "OnePlus",
          "Xiaomi",
          "Xiaomi",
          "OnePlus",
          "Motorola",
          "OnePlus",
          "Realme",
          "Realme",
          "Realme",
          "Realme",
          "Vivo",
          "Realme",
          "OnePlus",
          "Nubia",
          "Realme",
          "Xiaomi",
          "iQOO",
          "Motorola",
          "Realme",
          "Vivo",
          "OnePlus",
          "Poco",
          "OnePlus",
          "Oppo",
          "iQOO"
         ],
         "xaxis": "x",
         "yaxis": "y"
        },
        {
         "alignmentgroup": "True",
         "bingroup": "x",
         "hovertemplate": "camera=108?MP + 8?MP + 2?MP Triple Rear & 16?MP Front Camera<br>mobile_model=%{x}<br>count=%{y}<extra></extra>",
         "legendgroup": "108?MP + 8?MP + 2?MP Triple Rear & 16?MP Front Camera",
         "marker": {
          "color": "rgb(204, 97, 176)",
          "pattern": {
           "shape": ""
          }
         },
         "name": "108?MP + 8?MP + 2?MP Triple Rear & 16?MP Front Camera",
         "offsetgroup": "108?MP + 8?MP + 2?MP Triple Rear & 16?MP Front Camera",
         "orientation": "v",
         "showlegend": true,
         "type": "histogram",
         "x": [
          "Realme",
          "Poco",
          "Xiaomi",
          "Realme",
          "Xiaomi",
          "Motorola",
          "Xiaomi",
          "Realme",
          "Xiaomi",
          "Xiaomi",
          "Realme",
          "Xiaomi",
          "Redmi",
          "Motorola",
          "Huawei",
          "Xiaomi",
          "Xiaomi",
          "Xiaomi"
         ],
         "xaxis": "x",
         "yaxis": "y"
        },
        {
         "alignmentgroup": "True",
         "bingroup": "x",
         "hovertemplate": "camera=50?MP + 8?MP + 2?MP Triple Rear & 8?MP Front Camera<br>mobile_model=%{x}<br>count=%{y}<extra></extra>",
         "legendgroup": "50?MP + 8?MP + 2?MP Triple Rear & 8?MP Front Camera",
         "marker": {
          "color": "rgb(36, 121, 108)",
          "pattern": {
           "shape": ""
          }
         },
         "name": "50?MP + 8?MP + 2?MP Triple Rear & 8?MP Front Camera",
         "offsetgroup": "50?MP + 8?MP + 2?MP Triple Rear & 8?MP Front Camera",
         "orientation": "v",
         "showlegend": true,
         "type": "histogram",
         "x": [
          "Samsung",
          "Samsung",
          "Samsung"
         ],
         "xaxis": "x",
         "yaxis": "y"
        },
        {
         "alignmentgroup": "True",
         "bingroup": "x",
         "hovertemplate": "camera=12?MP + 12?MP Dual Rear & 12?MP Front Camera<br>mobile_model=%{x}<br>count=%{y}<extra></extra>",
         "legendgroup": "12?MP + 12?MP Dual Rear & 12?MP Front Camera",
         "marker": {
          "color": "rgb(218, 165, 27)",
          "pattern": {
           "shape": ""
          }
         },
         "name": "12?MP + 12?MP Dual Rear & 12?MP Front Camera",
         "offsetgroup": "12?MP + 12?MP Dual Rear & 12?MP Front Camera",
         "orientation": "v",
         "showlegend": true,
         "type": "histogram",
         "x": [
          "Apple",
          "Apple",
          "Apple",
          "Apple",
          "Apple",
          "Apple",
          "Apple",
          "Apple",
          "Apple",
          "Apple",
          "Apple",
          "Apple",
          "Apple",
          "Apple"
         ],
         "xaxis": "x",
         "yaxis": "y"
        },
        {
         "alignmentgroup": "True",
         "bingroup": "x",
         "hovertemplate": "camera=200?MP + 8?MP + 2?MP Triple Rear & 16?MP Front Camera<br>mobile_model=%{x}<br>count=%{y}<extra></extra>",
         "legendgroup": "200?MP + 8?MP + 2?MP Triple Rear & 16?MP Front Camera",
         "marker": {
          "color": "rgb(47, 138, 196)",
          "pattern": {
           "shape": ""
          }
         },
         "name": "200?MP + 8?MP + 2?MP Triple Rear & 16?MP Front Camera",
         "offsetgroup": "200?MP + 8?MP + 2?MP Triple Rear & 16?MP Front Camera",
         "orientation": "v",
         "showlegend": true,
         "type": "histogram",
         "x": [
          "Xiaomi",
          "Xiaomi",
          "Xiaomi",
          "Xiaomi",
          "Xiaomi"
         ],
         "xaxis": "x",
         "yaxis": "y"
        },
        {
         "alignmentgroup": "True",
         "bingroup": "x",
         "hovertemplate": "camera=50?MP + 50?MP Dual Rear & 16?MP Front Camera<br>mobile_model=%{x}<br>count=%{y}<extra></extra>",
         "legendgroup": "50?MP + 50?MP Dual Rear & 16?MP Front Camera",
         "marker": {
          "color": "rgb(118, 78, 159)",
          "pattern": {
           "shape": ""
          }
         },
         "name": "50?MP + 50?MP Dual Rear & 16?MP Front Camera",
         "offsetgroup": "50?MP + 50?MP Dual Rear & 16?MP Front Camera",
         "orientation": "v",
         "showlegend": true,
         "type": "histogram",
         "x": [
          "Nothing",
          "Nothing",
          "Nothing"
         ],
         "xaxis": "x",
         "yaxis": "y"
        },
        {
         "alignmentgroup": "True",
         "bingroup": "x",
         "hovertemplate": "camera=50?MP + 8?MP + 2?MP Triple Rear & 32?MP Front Camera<br>mobile_model=%{x}<br>count=%{y}<extra></extra>",
         "legendgroup": "50?MP + 8?MP + 2?MP Triple Rear & 32?MP Front Camera",
         "marker": {
          "color": "rgb(237, 100, 90)",
          "pattern": {
           "shape": ""
          }
         },
         "name": "50?MP + 8?MP + 2?MP Triple Rear & 32?MP Front Camera",
         "offsetgroup": "50?MP + 8?MP + 2?MP Triple Rear & 32?MP Front Camera",
         "orientation": "v",
         "showlegend": true,
         "type": "histogram",
         "x": [
          "OnePlus",
          "OPPO",
          "OPPO",
          "OnePlus",
          "OPPO",
          "OPPO",
          "OPPO",
          "Oppo",
          "OnePlus",
          "OPPO",
          "OPPO"
         ],
         "xaxis": "x",
         "yaxis": "y"
        },
        {
         "alignmentgroup": "True",
         "bingroup": "x",
         "hovertemplate": "camera=108?MP + 2?MP Dual Rear & 16?MP Front Camera<br>mobile_model=%{x}<br>count=%{y}<extra></extra>",
         "legendgroup": "108?MP + 2?MP Dual Rear & 16?MP Front Camera",
         "marker": {
          "color": "rgb(165, 170, 153)",
          "pattern": {
           "shape": ""
          }
         },
         "name": "108?MP + 2?MP Dual Rear & 16?MP Front Camera",
         "offsetgroup": "108?MP + 2?MP Dual Rear & 16?MP Front Camera",
         "orientation": "v",
         "showlegend": true,
         "type": "histogram",
         "x": [
          "Realme",
          "Realme",
          "Oppo",
          "OPPO"
         ],
         "xaxis": "x",
         "yaxis": "y"
        },
        {
         "alignmentgroup": "True",
         "bingroup": "x",
         "hovertemplate": "camera=50?MP + 2?MP Dual Rear & 8?MP Front Camera<br>mobile_model=%{x}<br>count=%{y}<extra></extra>",
         "legendgroup": "50?MP + 2?MP Dual Rear & 8?MP Front Camera",
         "marker": {
          "color": "rgb(229, 134, 6)",
          "pattern": {
           "shape": ""
          }
         },
         "name": "50?MP + 2?MP Dual Rear & 8?MP Front Camera",
         "offsetgroup": "50?MP + 2?MP Dual Rear & 8?MP Front Camera",
         "orientation": "v",
         "showlegend": true,
         "type": "histogram",
         "x": [
          "Oppo",
          "Vivo",
          "Vivo",
          "iQOO",
          "iQOO",
          "OPPO",
          "Poco",
          "Vivo",
          "OPPO",
          "Poco",
          "Vivo",
          "Vivo",
          "Motorola",
          "Nokia",
          "Vivo",
          "Vivo",
          "Vivo",
          "Vivo",
          "Tecno"
         ],
         "xaxis": "x",
         "yaxis": "y"
        },
        {
         "alignmentgroup": "True",
         "bingroup": "x",
         "hovertemplate": "camera=50?MP + 2?MP + 2?MP Triple Rear & 16?MP Front Camera<br>mobile_model=%{x}<br>count=%{y}<extra></extra>",
         "legendgroup": "50?MP + 2?MP + 2?MP Triple Rear & 16?MP Front Camera",
         "marker": {
          "color": "rgb(93, 105, 177)",
          "pattern": {
           "shape": ""
          }
         },
         "name": "50?MP + 2?MP + 2?MP Triple Rear & 16?MP Front Camera",
         "offsetgroup": "50?MP + 2?MP + 2?MP Triple Rear & 16?MP Front Camera",
         "orientation": "v",
         "showlegend": true,
         "type": "histogram",
         "x": [
          "Vivo",
          "Vivo",
          "Vivo",
          "Realme",
          "Vivo",
          "Vivo",
          "OPPO",
          "iQOO",
          "Infinix",
          "Realme",
          "Vivo",
          "OnePlus",
          "Vivo",
          "iQOO",
          "iQOO",
          "Realme",
          "Realme",
          "OPPO",
          "iQOO",
          "Realme",
          "Realme",
          "iQOO",
          "OPPO",
          "Vivo",
          "Realme",
          "OPPO",
          "Vivo",
          "iQOO",
          "Infinix",
          "Vivo",
          "Tecno",
          "iQOO",
          "Vivo",
          "Realme"
         ],
         "xaxis": "x",
         "yaxis": "y"
        },
        {
         "alignmentgroup": "True",
         "bingroup": "x",
         "hovertemplate": "camera=13?MP + 2?MP Dual Rear & 5?MP Front Camera<br>mobile_model=%{x}<br>count=%{y}<extra></extra>",
         "legendgroup": "13?MP + 2?MP Dual Rear & 5?MP Front Camera",
         "marker": {
          "color": "rgb(82, 188, 163)",
          "pattern": {
           "shape": ""
          }
         },
         "name": "13?MP + 2?MP Dual Rear & 5?MP Front Camera",
         "offsetgroup": "13?MP + 2?MP Dual Rear & 5?MP Front Camera",
         "orientation": "v",
         "showlegend": true,
         "type": "histogram",
         "x": [
          "Vivo",
          "Vivo",
          "Samsung",
          "Realme",
          "Samsung",
          "Samsung",
          "Vivo",
          "Xiaomi",
          "Samsung",
          "Lyf",
          "Samsung",
          "Xiaomi",
          "Samsung",
          "Micromax",
          "Xiaomi",
          "Vivo",
          "Xiaomi",
          "Vivo",
          "Nokia",
          "Oppo",
          "Micromax",
          "Realme"
         ],
         "xaxis": "x",
         "yaxis": "y"
        },
        {
         "alignmentgroup": "True",
         "bingroup": "x",
         "hovertemplate": "camera=50?MP + 12?MP + 2?MP Triple Rear & 16?MP Front Camera<br>mobile_model=%{x}<br>count=%{y}<extra></extra>",
         "legendgroup": "50?MP + 12?MP + 2?MP Triple Rear & 16?MP Front Camera",
         "marker": {
          "color": "rgb(153, 201, 69)",
          "pattern": {
           "shape": ""
          }
         },
         "name": "50?MP + 12?MP + 2?MP Triple Rear & 16?MP Front Camera",
         "offsetgroup": "50?MP + 12?MP + 2?MP Triple Rear & 16?MP Front Camera",
         "orientation": "v",
         "showlegend": true,
         "type": "histogram",
         "x": [
          "OnePlus"
         ],
         "xaxis": "x",
         "yaxis": "y"
        },
        {
         "alignmentgroup": "True",
         "bingroup": "x",
         "hovertemplate": "camera=64?MP + 8?MP + 2?MP Triple Rear & 32?MP Front Camera<br>mobile_model=%{x}<br>count=%{y}<extra></extra>",
         "legendgroup": "64?MP + 8?MP + 2?MP Triple Rear & 32?MP Front Camera",
         "marker": {
          "color": "rgb(204, 97, 176)",
          "pattern": {
           "shape": ""
          }
         },
         "name": "64?MP + 8?MP + 2?MP Triple Rear & 32?MP Front Camera",
         "offsetgroup": "64?MP + 8?MP + 2?MP Triple Rear & 32?MP Front Camera",
         "orientation": "v",
         "showlegend": true,
         "type": "histogram",
         "x": [
          "Vivo",
          "Vivo",
          "Realme",
          "Vivo",
          "OPPO",
          "POCO",
          "OPPO",
          "Realme",
          "Vivo",
          "Vivo"
         ],
         "xaxis": "x",
         "yaxis": "y"
        },
        {
         "alignmentgroup": "True",
         "bingroup": "x",
         "hovertemplate": "camera=64?MP + 8?MP + 2?MP Triple Rear & 16?MP Front Camera<br>mobile_model=%{x}<br>count=%{y}<extra></extra>",
         "legendgroup": "64?MP + 8?MP + 2?MP Triple Rear & 16?MP Front Camera",
         "marker": {
          "color": "rgb(36, 121, 108)",
          "pattern": {
           "shape": ""
          }
         },
         "name": "64?MP + 8?MP + 2?MP Triple Rear & 16?MP Front Camera",
         "offsetgroup": "64?MP + 8?MP + 2?MP Triple Rear & 16?MP Front Camera",
         "orientation": "v",
         "showlegend": true,
         "type": "histogram",
         "x": [
          "Poco",
          "OnePlus",
          "Xiaomi",
          "iQOO",
          "Poco",
          "iQOO",
          "POCO",
          "Poco",
          "Realme",
          "Xiaomi",
          "Realme",
          "Vivo",
          "Xiaomi",
          "iQOO",
          "POCO",
          "Vivo",
          "Realme",
          "Vivo",
          "iQOO",
          "POCO",
          "Honor",
          "Poco",
          "POCO",
          "Oppo",
          "iQOO",
          "Xiaomi",
          "Realme",
          "Realme",
          "Xiaomi",
          "Realme",
          "iQOO",
          "Xiaomi",
          "Realme",
          "Motorola",
          "Poco",
          "Realme",
          "Motorola",
          "POCO"
         ],
         "xaxis": "x",
         "yaxis": "y"
        },
        {
         "alignmentgroup": "True",
         "bingroup": "x",
         "hovertemplate": "camera=48?MP + 8?MP + 2?MP Triple Rear & 13?MP Front Camera<br>mobile_model=%{x}<br>count=%{y}<extra></extra>",
         "legendgroup": "48?MP + 8?MP + 2?MP Triple Rear & 13?MP Front Camera",
         "marker": {
          "color": "rgb(218, 165, 27)",
          "pattern": {
           "shape": ""
          }
         },
         "name": "48?MP + 8?MP + 2?MP Triple Rear & 13?MP Front Camera",
         "offsetgroup": "48?MP + 8?MP + 2?MP Triple Rear & 13?MP Front Camera",
         "orientation": "v",
         "showlegend": true,
         "type": "histogram",
         "x": [
          "Xiaomi",
          "Xiaomi",
          "Xiaomi"
         ],
         "xaxis": "x",
         "yaxis": "y"
        },
        {
         "alignmentgroup": "True",
         "bingroup": "x",
         "hovertemplate": "camera=12?MP + 12?MP + 8?MP Triple Rear & 32?MP Front Camera<br>mobile_model=%{x}<br>count=%{y}<extra></extra>",
         "legendgroup": "12?MP + 12?MP + 8?MP Triple Rear & 32?MP Front Camera",
         "marker": {
          "color": "rgb(47, 138, 196)",
          "pattern": {
           "shape": ""
          }
         },
         "name": "12?MP + 12?MP + 8?MP Triple Rear & 32?MP Front Camera",
         "offsetgroup": "12?MP + 12?MP + 8?MP Triple Rear & 32?MP Front Camera",
         "orientation": "v",
         "showlegend": true,
         "type": "histogram",
         "x": [
          "Samsung",
          "Samsung",
          "Samsung",
          "Samsung",
          "Samsung"
         ],
         "xaxis": "x",
         "yaxis": "y"
        },
        {
         "alignmentgroup": "True",
         "bingroup": "x",
         "hovertemplate": "camera=48?MP + 12?MP + 12?MP Triple Rear & 12?MP Front Camera<br>mobile_model=%{x}<br>count=%{y}<extra></extra>",
         "legendgroup": "48?MP + 12?MP + 12?MP Triple Rear & 12?MP Front Camera",
         "marker": {
          "color": "rgb(118, 78, 159)",
          "pattern": {
           "shape": ""
          }
         },
         "name": "48?MP + 12?MP + 12?MP Triple Rear & 12?MP Front Camera",
         "offsetgroup": "48?MP + 12?MP + 12?MP Triple Rear & 12?MP Front Camera",
         "orientation": "v",
         "showlegend": true,
         "type": "histogram",
         "x": [
          "Apple",
          "Apple",
          "Apple",
          "Apple",
          "Apple",
          "Apple",
          "Apple",
          "Apple"
         ],
         "xaxis": "x",
         "yaxis": "y"
        },
        {
         "alignmentgroup": "True",
         "bingroup": "x",
         "hovertemplate": "camera=64?MP + 8?MP + 2?MP Triple Rear & 50?MP Front Camera<br>mobile_model=%{x}<br>count=%{y}<extra></extra>",
         "legendgroup": "64?MP + 8?MP + 2?MP Triple Rear & 50?MP Front Camera",
         "marker": {
          "color": "rgb(237, 100, 90)",
          "pattern": {
           "shape": ""
          }
         },
         "name": "64?MP + 8?MP + 2?MP Triple Rear & 50?MP Front Camera",
         "offsetgroup": "64?MP + 8?MP + 2?MP Triple Rear & 50?MP Front Camera",
         "orientation": "v",
         "showlegend": true,
         "type": "histogram",
         "x": [
          "Vivo",
          "Vivo",
          "Vivo",
          "Vivo"
         ],
         "xaxis": "x",
         "yaxis": "y"
        },
        {
         "alignmentgroup": "True",
         "bingroup": "x",
         "hovertemplate": "camera=64?MP + 13?MP + 2?MP Triple Rear & 50?MP Front Camera<br>mobile_model=%{x}<br>count=%{y}<extra></extra>",
         "legendgroup": "64?MP + 13?MP + 2?MP Triple Rear & 50?MP Front Camera",
         "marker": {
          "color": "rgb(165, 170, 153)",
          "pattern": {
           "shape": ""
          }
         },
         "name": "64?MP + 13?MP + 2?MP Triple Rear & 50?MP Front Camera",
         "offsetgroup": "64?MP + 13?MP + 2?MP Triple Rear & 50?MP Front Camera",
         "orientation": "v",
         "showlegend": true,
         "type": "histogram",
         "x": [
          "Vivo"
         ],
         "xaxis": "x",
         "yaxis": "y"
        },
        {
         "alignmentgroup": "True",
         "bingroup": "x",
         "hovertemplate": "camera=108?MP Quad Rear & 32?MP Front Camera<br>mobile_model=%{x}<br>count=%{y}<extra></extra>",
         "legendgroup": "108?MP Quad Rear & 32?MP Front Camera",
         "marker": {
          "color": "rgb(229, 134, 6)",
          "pattern": {
           "shape": ""
          }
         },
         "name": "108?MP Quad Rear & 32?MP Front Camera",
         "offsetgroup": "108?MP Quad Rear & 32?MP Front Camera",
         "orientation": "v",
         "showlegend": true,
         "type": "histogram",
         "x": [
          "Samsung",
          "Xiaomi",
          "Xiaomi",
          "Samsung",
          "Xiaomi",
          "Samsung",
          "Nokia",
          "Honor"
         ],
         "xaxis": "x",
         "yaxis": "y"
        },
        {
         "alignmentgroup": "True",
         "bingroup": "x",
         "hovertemplate": "camera=108?MP + 13?MP + 2?MP Triple Rear & 16?MP Front Camera<br>mobile_model=%{x}<br>count=%{y}<extra></extra>",
         "legendgroup": "108?MP + 13?MP + 2?MP Triple Rear & 16?MP Front Camera",
         "marker": {
          "color": "rgb(93, 105, 177)",
          "pattern": {
           "shape": ""
          }
         },
         "name": "108?MP + 13?MP + 2?MP Triple Rear & 16?MP Front Camera",
         "offsetgroup": "108?MP + 13?MP + 2?MP Triple Rear & 16?MP Front Camera",
         "orientation": "v",
         "showlegend": true,
         "type": "histogram",
         "x": [
          "Oppo",
          "Motorola",
          "Infinix"
         ],
         "xaxis": "x",
         "yaxis": "y"
        },
        {
         "alignmentgroup": "True",
         "bingroup": "x",
         "hovertemplate": "camera=64?MP + 2?MP Dual Rear & 32?MP Front Camera<br>mobile_model=%{x}<br>count=%{y}<extra></extra>",
         "legendgroup": "64?MP + 2?MP Dual Rear & 32?MP Front Camera",
         "marker": {
          "color": "rgb(82, 188, 163)",
          "pattern": {
           "shape": ""
          }
         },
         "name": "64?MP + 2?MP Dual Rear & 32?MP Front Camera",
         "offsetgroup": "64?MP + 2?MP Dual Rear & 32?MP Front Camera",
         "orientation": "v",
         "showlegend": true,
         "type": "histogram",
         "x": [
          "OPPO"
         ],
         "xaxis": "x",
         "yaxis": "y"
        },
        {
         "alignmentgroup": "True",
         "bingroup": "x",
         "hovertemplate": "camera=108?MP + 2?MP + 2?MP Triple Rear & 16?MP Front Camera<br>mobile_model=%{x}<br>count=%{y}<extra></extra>",
         "legendgroup": "108?MP + 2?MP + 2?MP Triple Rear & 16?MP Front Camera",
         "marker": {
          "color": "rgb(153, 201, 69)",
          "pattern": {
           "shape": ""
          }
         },
         "name": "108?MP + 2?MP + 2?MP Triple Rear & 16?MP Front Camera",
         "offsetgroup": "108?MP + 2?MP + 2?MP Triple Rear & 16?MP Front Camera",
         "orientation": "v",
         "showlegend": true,
         "type": "histogram",
         "x": [
          "OnePlus",
          "Infinix"
         ],
         "xaxis": "x",
         "yaxis": "y"
        },
        {
         "alignmentgroup": "True",
         "bingroup": "x",
         "hovertemplate": "camera=108?MP + 8?MP + 2?MP Triple Rear & 32?MP Front Camera<br>mobile_model=%{x}<br>count=%{y}<extra></extra>",
         "legendgroup": "108?MP + 8?MP + 2?MP Triple Rear & 32?MP Front Camera",
         "marker": {
          "color": "rgb(204, 97, 176)",
          "pattern": {
           "shape": ""
          }
         },
         "name": "108?MP + 8?MP + 2?MP Triple Rear & 32?MP Front Camera",
         "offsetgroup": "108?MP + 8?MP + 2?MP Triple Rear & 32?MP Front Camera",
         "orientation": "v",
         "showlegend": true,
         "type": "histogram",
         "x": [
          "Motorola",
          "Vivo",
          "Motorola",
          "Xiaomi",
          "Motorola"
         ],
         "xaxis": "x",
         "yaxis": "y"
        },
        {
         "alignmentgroup": "True",
         "bingroup": "x",
         "hovertemplate": "camera=50?MP Quad Rear & 8?MP Front Camera<br>mobile_model=%{x}<br>count=%{y}<extra></extra>",
         "legendgroup": "50?MP Quad Rear & 8?MP Front Camera",
         "marker": {
          "color": "rgb(36, 121, 108)",
          "pattern": {
           "shape": ""
          }
         },
         "name": "50?MP Quad Rear & 8?MP Front Camera",
         "offsetgroup": "50?MP Quad Rear & 8?MP Front Camera",
         "orientation": "v",
         "showlegend": true,
         "type": "histogram",
         "x": [
          "Samsung",
          "Samsung",
          "Samsung",
          "Samsung",
          "Samsung",
          "Samsung",
          "Samsung",
          "Samsung",
          "Xiaomi",
          "Samsung",
          "Xiaomi",
          "Huawei",
          "Honor"
         ],
         "xaxis": "x",
         "yaxis": "y"
        },
        {
         "alignmentgroup": "True",
         "bingroup": "x",
         "hovertemplate": "camera=50?MP Quad Rear & 13?MP Front Camera<br>mobile_model=%{x}<br>count=%{y}<extra></extra>",
         "legendgroup": "50?MP Quad Rear & 13?MP Front Camera",
         "marker": {
          "color": "rgb(218, 165, 27)",
          "pattern": {
           "shape": ""
          }
         },
         "name": "50?MP Quad Rear & 13?MP Front Camera",
         "offsetgroup": "50?MP Quad Rear & 13?MP Front Camera",
         "orientation": "v",
         "showlegend": true,
         "type": "histogram",
         "x": [
          "Xiaomi",
          "Xiaomi",
          "Xiaomi"
         ],
         "xaxis": "x",
         "yaxis": "y"
        },
        {
         "alignmentgroup": "True",
         "bingroup": "x",
         "hovertemplate": "camera=50?MP + 0.3?MP Dual Rear & 5?MP Front Camera<br>mobile_model=%{x}<br>count=%{y}<extra></extra>",
         "legendgroup": "50?MP + 0.3?MP Dual Rear & 5?MP Front Camera",
         "marker": {
          "color": "rgb(47, 138, 196)",
          "pattern": {
           "shape": ""
          }
         },
         "name": "50?MP + 0.3?MP Dual Rear & 5?MP Front Camera",
         "offsetgroup": "50?MP + 0.3?MP Dual Rear & 5?MP Front Camera",
         "orientation": "v",
         "showlegend": true,
         "type": "histogram",
         "x": [
          "Realme",
          "Realme"
         ],
         "xaxis": "x",
         "yaxis": "y"
        },
        {
         "alignmentgroup": "True",
         "bingroup": "x",
         "hovertemplate": "camera=13?MP Rear & 8?MP Front Camera<br>mobile_model=%{x}<br>count=%{y}<extra></extra>",
         "legendgroup": "13?MP Rear & 8?MP Front Camera",
         "marker": {
          "color": "rgb(118, 78, 159)",
          "pattern": {
           "shape": ""
          }
         },
         "name": "13?MP Rear & 8?MP Front Camera",
         "offsetgroup": "13?MP Rear & 8?MP Front Camera",
         "orientation": "v",
         "showlegend": true,
         "type": "histogram",
         "x": [
          "Jio",
          "iKall"
         ],
         "xaxis": "x",
         "yaxis": "y"
        },
        {
         "alignmentgroup": "True",
         "bingroup": "x",
         "hovertemplate": "camera=50?MP + 2?MP Dual Rear & 16?MP Front Camera<br>mobile_model=%{x}<br>count=%{y}<extra></extra>",
         "legendgroup": "50?MP + 2?MP Dual Rear & 16?MP Front Camera",
         "marker": {
          "color": "rgb(237, 100, 90)",
          "pattern": {
           "shape": ""
          }
         },
         "name": "50?MP + 2?MP Dual Rear & 16?MP Front Camera",
         "offsetgroup": "50?MP + 2?MP Dual Rear & 16?MP Front Camera",
         "orientation": "v",
         "showlegend": true,
         "type": "histogram",
         "x": [
          "Realme",
          "Cola",
          "Realme",
          "Sony",
          "OPPO",
          "Vivo"
         ],
         "xaxis": "x",
         "yaxis": "y"
        },
        {
         "alignmentgroup": "True",
         "bingroup": "x",
         "hovertemplate": "camera=50?MP + 2?MP + 2?MP Triple Rear & 8?MP Front Camera<br>mobile_model=%{x}<br>count=%{y}<extra></extra>",
         "legendgroup": "50?MP + 2?MP + 2?MP Triple Rear & 8?MP Front Camera",
         "marker": {
          "color": "rgb(165, 170, 153)",
          "pattern": {
           "shape": ""
          }
         },
         "name": "50?MP + 2?MP + 2?MP Triple Rear & 8?MP Front Camera",
         "offsetgroup": "50?MP + 2?MP + 2?MP Triple Rear & 8?MP Front Camera",
         "orientation": "v",
         "showlegend": true,
         "type": "histogram",
         "x": [
          "Realme",
          "Realme",
          "Tecno",
          "Realme",
          "Tecno",
          "Motorola",
          "Realme",
          "Xiaomi",
          "Poco",
          "Vivo",
          "Realme",
          "Nokia",
          "Realme",
          "Nokia",
          "Vivo",
          "Xiaomi",
          "Vivo",
          "Poco",
          "Realme",
          "Vivo"
         ],
         "xaxis": "x",
         "yaxis": "y"
        },
        {
         "alignmentgroup": "True",
         "bingroup": "x",
         "hovertemplate": "camera=64?MP Quad Rear & 13?MP Front Camera<br>mobile_model=%{x}<br>count=%{y}<extra></extra>",
         "legendgroup": "64?MP Quad Rear & 13?MP Front Camera",
         "marker": {
          "color": "rgb(229, 134, 6)",
          "pattern": {
           "shape": ""
          }
         },
         "name": "64?MP Quad Rear & 13?MP Front Camera",
         "offsetgroup": "64?MP Quad Rear & 13?MP Front Camera",
         "orientation": "v",
         "showlegend": true,
         "type": "histogram",
         "x": [
          "Xiaomi",
          "Xiaomi",
          "Xiaomi",
          "Xiaomi"
         ],
         "xaxis": "x",
         "yaxis": "y"
        },
        {
         "alignmentgroup": "True",
         "bingroup": "x",
         "hovertemplate": "camera=50?MP + 12?MP + 10?MP Triple Rear & 12?MP Front Camera<br>mobile_model=%{x}<br>count=%{y}<extra></extra>",
         "legendgroup": "50?MP + 12?MP + 10?MP Triple Rear & 12?MP Front Camera",
         "marker": {
          "color": "rgb(93, 105, 177)",
          "pattern": {
           "shape": ""
          }
         },
         "name": "50?MP + 12?MP + 10?MP Triple Rear & 12?MP Front Camera",
         "offsetgroup": "50?MP + 12?MP + 10?MP Triple Rear & 12?MP Front Camera",
         "orientation": "v",
         "showlegend": true,
         "type": "histogram",
         "x": [
          "Samsung",
          "Samsung"
         ],
         "xaxis": "x",
         "yaxis": "y"
        },
        {
         "alignmentgroup": "True",
         "bingroup": "x",
         "hovertemplate": "camera=50?MP + 8?MP Dual Rear & 16?MP Front Camera<br>mobile_model=%{x}<br>count=%{y}<extra></extra>",
         "legendgroup": "50?MP + 8?MP Dual Rear & 16?MP Front Camera",
         "marker": {
          "color": "rgb(82, 188, 163)",
          "pattern": {
           "shape": ""
          }
         },
         "name": "50?MP + 8?MP Dual Rear & 16?MP Front Camera",
         "offsetgroup": "50?MP + 8?MP Dual Rear & 16?MP Front Camera",
         "orientation": "v",
         "showlegend": true,
         "type": "histogram",
         "x": [
          "Poco",
          "Poco",
          "Xiaomi",
          "Motorola",
          "Poco",
          "Motorola",
          "Xiaomi",
          "Xiaomi",
          "Xiaomi"
         ],
         "xaxis": "x",
         "yaxis": "y"
        },
        {
         "alignmentgroup": "True",
         "bingroup": "x",
         "hovertemplate": "camera=50?MP + 8?MP + 2?MP Triple Rear & 50?MP Front Camera<br>mobile_model=%{x}<br>count=%{y}<extra></extra>",
         "legendgroup": "50?MP + 8?MP + 2?MP Triple Rear & 50?MP Front Camera",
         "marker": {
          "color": "rgb(153, 201, 69)",
          "pattern": {
           "shape": ""
          }
         },
         "name": "50?MP + 8?MP + 2?MP Triple Rear & 50?MP Front Camera",
         "offsetgroup": "50?MP + 8?MP + 2?MP Triple Rear & 50?MP Front Camera",
         "orientation": "v",
         "showlegend": true,
         "type": "histogram",
         "x": [
          "Vivo"
         ],
         "xaxis": "x",
         "yaxis": "y"
        },
        {
         "alignmentgroup": "True",
         "bingroup": "x",
         "hovertemplate": "camera=50?MP + 48?MP + 8?MP Triple Rear & 32?MP Front Camera<br>mobile_model=%{x}<br>count=%{y}<extra></extra>",
         "legendgroup": "50?MP + 48?MP + 8?MP Triple Rear & 32?MP Front Camera",
         "marker": {
          "color": "rgb(204, 97, 176)",
          "pattern": {
           "shape": ""
          }
         },
         "name": "50?MP + 48?MP + 8?MP Triple Rear & 32?MP Front Camera",
         "offsetgroup": "50?MP + 48?MP + 8?MP Triple Rear & 32?MP Front Camera",
         "orientation": "v",
         "showlegend": true,
         "type": "histogram",
         "x": [
          "OnePlus"
         ],
         "xaxis": "x",
         "yaxis": "y"
        },
        {
         "alignmentgroup": "True",
         "bingroup": "x",
         "hovertemplate": "camera=8?MP Rear & 5?MP Front Camera<br>mobile_model=%{x}<br>count=%{y}<extra></extra>",
         "legendgroup": "8?MP Rear & 5?MP Front Camera",
         "marker": {
          "color": "rgb(36, 121, 108)",
          "pattern": {
           "shape": ""
          }
         },
         "name": "8?MP Rear & 5?MP Front Camera",
         "offsetgroup": "8?MP Rear & 5?MP Front Camera",
         "orientation": "v",
         "showlegend": true,
         "type": "histogram",
         "x": [
          "OPPO",
          "Realme",
          "Vivo",
          "Realme",
          "Vivo",
          "Vivo",
          "Realme",
          "Realme",
          "Micromax",
          "Realme",
          "Realme",
          "Realme"
         ],
         "xaxis": "x",
         "yaxis": "y"
        },
        {
         "alignmentgroup": "True",
         "bingroup": "x",
         "hovertemplate": "camera=64?MP + 8?MP + 2?MP Triple Rear & 50?MP + 8?MP Dual Front Camera<br>mobile_model=%{x}<br>count=%{y}<extra></extra>",
         "legendgroup": "64?MP + 8?MP + 2?MP Triple Rear & 50?MP + 8?MP Dual Front Camera",
         "marker": {
          "color": "rgb(218, 165, 27)",
          "pattern": {
           "shape": ""
          }
         },
         "name": "64?MP + 8?MP + 2?MP Triple Rear & 50?MP + 8?MP Dual Front Camera",
         "offsetgroup": "64?MP + 8?MP + 2?MP Triple Rear & 50?MP + 8?MP Dual Front Camera",
         "orientation": "v",
         "showlegend": true,
         "type": "histogram",
         "x": [
          "Vivo",
          "Vivo"
         ],
         "xaxis": "x",
         "yaxis": "y"
        },
        {
         "alignmentgroup": "True",
         "bingroup": "x",
         "hovertemplate": "camera=48?MP + 2?MP + 2?MP Triple Rear & 8?MP Front Camera<br>mobile_model=%{x}<br>count=%{y}<extra></extra>",
         "legendgroup": "48?MP + 2?MP + 2?MP Triple Rear & 8?MP Front Camera",
         "marker": {
          "color": "rgb(47, 138, 196)",
          "pattern": {
           "shape": ""
          }
         },
         "name": "48?MP + 2?MP + 2?MP Triple Rear & 8?MP Front Camera",
         "offsetgroup": "48?MP + 2?MP + 2?MP Triple Rear & 8?MP Front Camera",
         "orientation": "v",
         "showlegend": true,
         "type": "histogram",
         "x": [
          "Xiaomi",
          "Motorola",
          "OPPO",
          "Xiaomi",
          "POCO",
          "Xiaomi",
          "POCO",
          "Poco"
         ],
         "xaxis": "x",
         "yaxis": "y"
        },
        {
         "alignmentgroup": "True",
         "bingroup": "x",
         "hovertemplate": "camera=12?MP + 12?MP + 12?MP Triple Rear & 12?MP Front Camera<br>mobile_model=%{x}<br>count=%{y}<extra></extra>",
         "legendgroup": "12?MP + 12?MP + 12?MP Triple Rear & 12?MP Front Camera",
         "marker": {
          "color": "rgb(118, 78, 159)",
          "pattern": {
           "shape": ""
          }
         },
         "name": "12?MP + 12?MP + 12?MP Triple Rear & 12?MP Front Camera",
         "offsetgroup": "12?MP + 12?MP + 12?MP Triple Rear & 12?MP Front Camera",
         "orientation": "v",
         "showlegend": true,
         "type": "histogram",
         "x": [
          "Apple",
          "Apple",
          "Apple",
          "Apple",
          "Sony",
          "Apple",
          "Apple",
          "Apple"
         ],
         "xaxis": "x",
         "yaxis": "y"
        },
        {
         "alignmentgroup": "True",
         "bingroup": "x",
         "hovertemplate": "camera=64?MP + 2?MP + 2?MP Triple Rear & 32?MP Front Camera<br>mobile_model=%{x}<br>count=%{y}<extra></extra>",
         "legendgroup": "64?MP + 2?MP + 2?MP Triple Rear & 32?MP Front Camera",
         "marker": {
          "color": "rgb(237, 100, 90)",
          "pattern": {
           "shape": ""
          }
         },
         "name": "64?MP + 2?MP + 2?MP Triple Rear & 32?MP Front Camera",
         "offsetgroup": "64?MP + 2?MP + 2?MP Triple Rear & 32?MP Front Camera",
         "orientation": "v",
         "showlegend": true,
         "type": "histogram",
         "x": [
          "OPPO",
          "OPPO",
          "OPPO",
          "OPPO",
          "Vivo"
         ],
         "xaxis": "x",
         "yaxis": "y"
        },
        {
         "alignmentgroup": "True",
         "bingroup": "x",
         "hovertemplate": "camera=48?MP Quad Rear & 13?MP Front Camera<br>mobile_model=%{x}<br>count=%{y}<extra></extra>",
         "legendgroup": "48?MP Quad Rear & 13?MP Front Camera",
         "marker": {
          "color": "rgb(165, 170, 153)",
          "pattern": {
           "shape": ""
          }
         },
         "name": "48?MP Quad Rear & 13?MP Front Camera",
         "offsetgroup": "48?MP Quad Rear & 13?MP Front Camera",
         "orientation": "v",
         "showlegend": true,
         "type": "histogram",
         "x": [
          "Samsung",
          "Samsung",
          "Samsung",
          "Xiaomi",
          "Samsung",
          "Samsung",
          "Xiaomi",
          "Xiaomi",
          "Samsung",
          "Xiaomi",
          "Xiaomi",
          "OnePlus",
          "Samsung",
          "Samsung"
         ],
         "xaxis": "x",
         "yaxis": "y"
        },
        {
         "alignmentgroup": "True",
         "bingroup": "x",
         "hovertemplate": "camera=13?MP Rear & 5?MP Front Camera<br>mobile_model=%{x}<br>count=%{y}<extra></extra>",
         "legendgroup": "13?MP Rear & 5?MP Front Camera",
         "marker": {
          "color": "rgb(229, 134, 6)",
          "pattern": {
           "shape": ""
          }
         },
         "name": "13?MP Rear & 5?MP Front Camera",
         "offsetgroup": "13?MP Rear & 5?MP Front Camera",
         "orientation": "v",
         "showlegend": true,
         "type": "histogram",
         "x": [
          "Xiaomi",
          "Xiaomi",
          "Xiaomi",
          "Xiaomi",
          "Xiaomi",
          "OPPO",
          "Xiaomi",
          "Motorola",
          "OPPO",
          "OPPO",
          "Honor",
          "Xiaomi",
          "Xiaomi",
          "Xiaomi",
          "TCL",
          "Xiaomi"
         ],
         "xaxis": "x",
         "yaxis": "y"
        },
        {
         "alignmentgroup": "True",
         "bingroup": "x",
         "hovertemplate": "camera=48?MP + 2?MP + 2?MP Triple Rear & 16?MP Front Camera<br>mobile_model=%{x}<br>count=%{y}<extra></extra>",
         "legendgroup": "48?MP + 2?MP + 2?MP Triple Rear & 16?MP Front Camera",
         "marker": {
          "color": "rgb(93, 105, 177)",
          "pattern": {
           "shape": ""
          }
         },
         "name": "48?MP + 2?MP + 2?MP Triple Rear & 16?MP Front Camera",
         "offsetgroup": "48?MP + 2?MP + 2?MP Triple Rear & 16?MP Front Camera",
         "orientation": "v",
         "showlegend": true,
         "type": "histogram",
         "x": [
          "Realme",
          "Realme",
          "Realme",
          "Honor",
          "Realme",
          "Realme",
          "Realme",
          "Realme",
          "Realme",
          "Realme",
          "OPPO",
          "Realme",
          "Realme",
          "Tecno"
         ],
         "xaxis": "x",
         "yaxis": "y"
        },
        {
         "alignmentgroup": "True",
         "bingroup": "x",
         "hovertemplate": "camera=50?MP + 2?MP Dual Rear & 5?MP Front Camera<br>mobile_model=%{x}<br>count=%{y}<extra></extra>",
         "legendgroup": "50?MP + 2?MP Dual Rear & 5?MP Front Camera",
         "marker": {
          "color": "rgb(82, 188, 163)",
          "pattern": {
           "shape": ""
          }
         },
         "name": "50?MP + 2?MP Dual Rear & 5?MP Front Camera",
         "offsetgroup": "50?MP + 2?MP Dual Rear & 5?MP Front Camera",
         "orientation": "v",
         "showlegend": true,
         "type": "histogram",
         "x": [
          "Samsung",
          "OPPO",
          "Xiaomi",
          "Xiaomi",
          "Xiaomi",
          "Xiaomi",
          "Xiaomi",
          "Samsung",
          "Samsung",
          "Xiaomi",
          "Xiaomi",
          "Xiaomi",
          "Samsung",
          "Xiaomi"
         ],
         "xaxis": "x",
         "yaxis": "y"
        },
        {
         "alignmentgroup": "True",
         "bingroup": "x",
         "hovertemplate": "camera=50?MP + 50?MP + 2?MP Triple Rear & 32?MP Front Camera<br>mobile_model=%{x}<br>count=%{y}<extra></extra>",
         "legendgroup": "50?MP + 50?MP + 2?MP Triple Rear & 32?MP Front Camera",
         "marker": {
          "color": "rgb(153, 201, 69)",
          "pattern": {
           "shape": ""
          }
         },
         "name": "50?MP + 50?MP + 2?MP Triple Rear & 32?MP Front Camera",
         "offsetgroup": "50?MP + 50?MP + 2?MP Triple Rear & 32?MP Front Camera",
         "orientation": "v",
         "showlegend": true,
         "type": "histogram",
         "x": [
          "Motorola",
          "Motorola",
          "Realme",
          "Motorola",
          "Realme"
         ],
         "xaxis": "x",
         "yaxis": "y"
        },
        {
         "alignmentgroup": "True",
         "bingroup": "x",
         "hovertemplate": "camera=48?MP + 2?MP Dual Rear & 8?MP Front Camera<br>mobile_model=%{x}<br>count=%{y}<extra></extra>",
         "legendgroup": "48?MP + 2?MP Dual Rear & 8?MP Front Camera",
         "marker": {
          "color": "rgb(204, 97, 176)",
          "pattern": {
           "shape": ""
          }
         },
         "name": "48?MP + 2?MP Dual Rear & 8?MP Front Camera",
         "offsetgroup": "48?MP + 2?MP Dual Rear & 8?MP Front Camera",
         "orientation": "v",
         "showlegend": true,
         "type": "histogram",
         "x": [
          "OPPO",
          "Oppo",
          "OPPO"
         ],
         "xaxis": "x",
         "yaxis": "y"
        },
        {
         "alignmentgroup": "True",
         "bingroup": "x",
         "hovertemplate": "camera=13?MP + 2?MP Dual Rear & 8?MP Front Camera<br>mobile_model=%{x}<br>count=%{y}<extra></extra>",
         "legendgroup": "13?MP + 2?MP Dual Rear & 8?MP Front Camera",
         "marker": {
          "color": "rgb(36, 121, 108)",
          "pattern": {
           "shape": ""
          }
         },
         "name": "13?MP + 2?MP Dual Rear & 8?MP Front Camera",
         "offsetgroup": "13?MP + 2?MP Dual Rear & 8?MP Front Camera",
         "orientation": "v",
         "showlegend": true,
         "type": "histogram",
         "x": [
          "Vivo",
          "OPPO",
          "Vivo",
          "Vivo",
          "Vivo",
          "OPPO",
          "Oppo",
          "Vivo",
          "Oppo",
          "Vivo",
          "Tecno",
          "Vivo",
          "Vivo",
          "OPPO",
          "Vivo",
          "Vivo"
         ],
         "xaxis": "x",
         "yaxis": "y"
        },
        {
         "alignmentgroup": "True",
         "bingroup": "x",
         "hovertemplate": "camera=50?MP + 13?MP + 8?MP Triple Rear & 16?MP Front Camera<br>mobile_model=%{x}<br>count=%{y}<extra></extra>",
         "legendgroup": "50?MP + 13?MP + 8?MP Triple Rear & 16?MP Front Camera",
         "marker": {
          "color": "rgb(218, 165, 27)",
          "pattern": {
           "shape": ""
          }
         },
         "name": "50?MP + 13?MP + 8?MP Triple Rear & 16?MP Front Camera",
         "offsetgroup": "50?MP + 13?MP + 8?MP Triple Rear & 16?MP Front Camera",
         "orientation": "v",
         "showlegend": true,
         "type": "histogram",
         "x": [
          "iQOO",
          "iQOO"
         ],
         "xaxis": "x",
         "yaxis": "y"
        },
        {
         "alignmentgroup": "True",
         "bingroup": "x",
         "hovertemplate": "camera=50?MP + 13?MP + 2?MP Triple Rear & 32?MP Front Camera<br>mobile_model=%{x}<br>count=%{y}<extra></extra>",
         "legendgroup": "50?MP + 13?MP + 2?MP Triple Rear & 32?MP Front Camera",
         "marker": {
          "color": "rgb(47, 138, 196)",
          "pattern": {
           "shape": ""
          }
         },
         "name": "50?MP + 13?MP + 2?MP Triple Rear & 32?MP Front Camera",
         "offsetgroup": "50?MP + 13?MP + 2?MP Triple Rear & 32?MP Front Camera",
         "orientation": "v",
         "showlegend": true,
         "type": "histogram",
         "x": [
          "Motorola",
          "Motorola",
          "OPPO",
          "Vivo",
          "Xiaomi",
          "Realme",
          "Motorola"
         ],
         "xaxis": "x",
         "yaxis": "y"
        },
        {
         "alignmentgroup": "True",
         "bingroup": "x",
         "hovertemplate": "camera=50?MP + 0.3?MP Dual Rear & 8?MP Front Camera<br>mobile_model=%{x}<br>count=%{y}<extra></extra>",
         "legendgroup": "50?MP + 0.3?MP Dual Rear & 8?MP Front Camera",
         "marker": {
          "color": "rgb(118, 78, 159)",
          "pattern": {
           "shape": ""
          }
         },
         "name": "50?MP + 0.3?MP Dual Rear & 8?MP Front Camera",
         "offsetgroup": "50?MP + 0.3?MP Dual Rear & 8?MP Front Camera",
         "orientation": "v",
         "showlegend": true,
         "type": "histogram",
         "x": [
          "Realme"
         ],
         "xaxis": "x",
         "yaxis": "y"
        },
        {
         "alignmentgroup": "True",
         "bingroup": "x",
         "hovertemplate": "camera=48?MP Quad Rear & 16?MP Front Camera<br>mobile_model=%{x}<br>count=%{y}<extra></extra>",
         "legendgroup": "48?MP Quad Rear & 16?MP Front Camera",
         "marker": {
          "color": "rgb(237, 100, 90)",
          "pattern": {
           "shape": ""
          }
         },
         "name": "48?MP Quad Rear & 16?MP Front Camera",
         "offsetgroup": "48?MP Quad Rear & 16?MP Front Camera",
         "orientation": "v",
         "showlegend": true,
         "type": "histogram",
         "x": [
          "OPPO",
          "Xiaomi",
          "OnePlus",
          "Xiaomi",
          "BLU",
          "Xiaomi",
          "Nokia",
          "OPPO",
          "POCO",
          "Xiaomi",
          "Huawei",
          "Xiaomi"
         ],
         "xaxis": "x",
         "yaxis": "y"
        },
        {
         "alignmentgroup": "True",
         "bingroup": "x",
         "hovertemplate": "camera=50?MP + 12?MP + 10?MP Triple Rear & 10?MP Front Camera<br>mobile_model=%{x}<br>count=%{y}<extra></extra>",
         "legendgroup": "50?MP + 12?MP + 10?MP Triple Rear & 10?MP Front Camera",
         "marker": {
          "color": "rgb(165, 170, 153)",
          "pattern": {
           "shape": ""
          }
         },
         "name": "50?MP + 12?MP + 10?MP Triple Rear & 10?MP Front Camera",
         "offsetgroup": "50?MP + 12?MP + 10?MP Triple Rear & 10?MP Front Camera",
         "orientation": "v",
         "showlegend": true,
         "type": "histogram",
         "x": [
          "Samsung",
          "Samsung",
          "Samsung",
          "Samsung"
         ],
         "xaxis": "x",
         "yaxis": "y"
        },
        {
         "alignmentgroup": "True",
         "bingroup": "x",
         "hovertemplate": "camera=64?MP + 13?MP + 2?MP Triple Rear & 32?MP Front Camera<br>mobile_model=%{x}<br>count=%{y}<extra></extra>",
         "legendgroup": "64?MP + 13?MP + 2?MP Triple Rear & 32?MP Front Camera",
         "marker": {
          "color": "rgb(229, 134, 6)",
          "pattern": {
           "shape": ""
          }
         },
         "name": "64?MP + 13?MP + 2?MP Triple Rear & 32?MP Front Camera",
         "offsetgroup": "64?MP + 13?MP + 2?MP Triple Rear & 32?MP Front Camera",
         "orientation": "v",
         "showlegend": true,
         "type": "histogram",
         "x": [
          "Tecno"
         ],
         "xaxis": "x",
         "yaxis": "y"
        },
        {
         "alignmentgroup": "True",
         "bingroup": "x",
         "hovertemplate": "camera=Memory Card Not Supported<br>mobile_model=%{x}<br>count=%{y}<extra></extra>",
         "legendgroup": "Memory Card Not Supported",
         "marker": {
          "color": "rgb(93, 105, 177)",
          "pattern": {
           "shape": ""
          }
         },
         "name": "Memory Card Not Supported",
         "offsetgroup": "Memory Card Not Supported",
         "orientation": "v",
         "showlegend": true,
         "type": "histogram",
         "x": [
          "Apple",
          "Apple",
          "Apple",
          "Apple",
          "Apple",
          "Apple",
          "Apple",
          "Apple",
          "Apple",
          "Apple"
         ],
         "xaxis": "x",
         "yaxis": "y"
        },
        {
         "alignmentgroup": "True",
         "bingroup": "x",
         "hovertemplate": "camera=64?MP Quad Rear & 32?MP Front Camera<br>mobile_model=%{x}<br>count=%{y}<extra></extra>",
         "legendgroup": "64?MP Quad Rear & 32?MP Front Camera",
         "marker": {
          "color": "rgb(82, 188, 163)",
          "pattern": {
           "shape": ""
          }
         },
         "name": "64?MP Quad Rear & 32?MP Front Camera",
         "offsetgroup": "64?MP Quad Rear & 32?MP Front Camera",
         "orientation": "v",
         "showlegend": true,
         "type": "histogram",
         "x": [
          "Samsung",
          "Samsung",
          "Oppo",
          "Samsung",
          "Samsung",
          "Samsung",
          "OPPO",
          "Samsung",
          "Samsung",
          "Xiaomi",
          "Samsung",
          "Realme",
          "Oppo",
          "Samsung",
          "Poco",
          "Samsung",
          "Oppo",
          "Oppo"
         ],
         "xaxis": "x",
         "yaxis": "y"
        },
        {
         "alignmentgroup": "True",
         "bingroup": "x",
         "hovertemplate": "camera=50?MP + 50?MP + 50?MP Triple Rear & 32?MP Front Camera<br>mobile_model=%{x}<br>count=%{y}<extra></extra>",
         "legendgroup": "50?MP + 50?MP + 50?MP Triple Rear & 32?MP Front Camera",
         "marker": {
          "color": "rgb(153, 201, 69)",
          "pattern": {
           "shape": ""
          }
         },
         "name": "50?MP + 50?MP + 50?MP Triple Rear & 32?MP Front Camera",
         "offsetgroup": "50?MP + 50?MP + 50?MP Triple Rear & 32?MP Front Camera",
         "orientation": "v",
         "showlegend": true,
         "type": "histogram",
         "x": [
          "Tesla",
          "Nothing",
          "Xiaomi",
          "Xiaomi"
         ],
         "xaxis": "x",
         "yaxis": "y"
        },
        {
         "alignmentgroup": "True",
         "bingroup": "x",
         "hovertemplate": "camera=50?MP + 50?MP + 2?MP Triple Rear & 60?MP Front Camera<br>mobile_model=%{x}<br>count=%{y}<extra></extra>",
         "legendgroup": "50?MP + 50?MP + 2?MP Triple Rear & 60?MP Front Camera",
         "marker": {
          "color": "rgb(204, 97, 176)",
          "pattern": {
           "shape": ""
          }
         },
         "name": "50?MP + 50?MP + 2?MP Triple Rear & 60?MP Front Camera",
         "offsetgroup": "50?MP + 50?MP + 2?MP Triple Rear & 60?MP Front Camera",
         "orientation": "v",
         "showlegend": true,
         "type": "histogram",
         "x": [
          "Motorola"
         ],
         "xaxis": "x",
         "yaxis": "y"
        },
        {
         "alignmentgroup": "True",
         "bingroup": "x",
         "hovertemplate": "camera=12.2?MP + 12?MP Dual Rear & 8?MP Front Camera<br>mobile_model=%{x}<br>count=%{y}<extra></extra>",
         "legendgroup": "12.2?MP + 12?MP Dual Rear & 8?MP Front Camera",
         "marker": {
          "color": "rgb(36, 121, 108)",
          "pattern": {
           "shape": ""
          }
         },
         "name": "12.2?MP + 12?MP Dual Rear & 8?MP Front Camera",
         "offsetgroup": "12.2?MP + 12?MP Dual Rear & 8?MP Front Camera",
         "orientation": "v",
         "showlegend": true,
         "type": "histogram",
         "x": [
          "Google",
          "Google"
         ],
         "xaxis": "x",
         "yaxis": "y"
        },
        {
         "alignmentgroup": "True",
         "bingroup": "x",
         "hovertemplate": "camera=50?MP + 8?MP Dual Rear & 32?MP Front Camera<br>mobile_model=%{x}<br>count=%{y}<extra></extra>",
         "legendgroup": "50?MP + 8?MP Dual Rear & 32?MP Front Camera",
         "marker": {
          "color": "rgb(218, 165, 27)",
          "pattern": {
           "shape": ""
          }
         },
         "name": "50?MP + 8?MP Dual Rear & 32?MP Front Camera",
         "offsetgroup": "50?MP + 8?MP Dual Rear & 32?MP Front Camera",
         "orientation": "v",
         "showlegend": true,
         "type": "histogram",
         "x": [
          "OPPO",
          "OPPO"
         ],
         "xaxis": "x",
         "yaxis": "y"
        },
        {
         "alignmentgroup": "True",
         "bingroup": "x",
         "hovertemplate": "camera=13?MP + 2?MP + 2?MP Triple Rear & 8?MP Front Camera<br>mobile_model=%{x}<br>count=%{y}<extra></extra>",
         "legendgroup": "13?MP + 2?MP + 2?MP Triple Rear & 8?MP Front Camera",
         "marker": {
          "color": "rgb(47, 138, 196)",
          "pattern": {
           "shape": ""
          }
         },
         "name": "13?MP + 2?MP + 2?MP Triple Rear & 8?MP Front Camera",
         "offsetgroup": "13?MP + 2?MP + 2?MP Triple Rear & 8?MP Front Camera",
         "orientation": "v",
         "showlegend": true,
         "type": "histogram",
         "x": [
          "OnePlus",
          "Vivo",
          "OPPO",
          "OPPO",
          "Vivo",
          "Oppo",
          "Realme",
          "Motorola",
          "OnePlus"
         ],
         "xaxis": "x",
         "yaxis": "y"
        },
        {
         "alignmentgroup": "True",
         "bingroup": "x",
         "hovertemplate": "camera=48?MP + 13?MP + 2?MP Triple Rear & 16?MP Front Camera<br>mobile_model=%{x}<br>count=%{y}<extra></extra>",
         "legendgroup": "48?MP + 13?MP + 2?MP Triple Rear & 16?MP Front Camera",
         "marker": {
          "color": "rgb(118, 78, 159)",
          "pattern": {
           "shape": ""
          }
         },
         "name": "48?MP + 13?MP + 2?MP Triple Rear & 16?MP Front Camera",
         "offsetgroup": "48?MP + 13?MP + 2?MP Triple Rear & 16?MP Front Camera",
         "orientation": "v",
         "showlegend": true,
         "type": "histogram",
         "x": [
          "iQOO",
          "iQOO",
          "iQOO",
          "iQOO"
         ],
         "xaxis": "x",
         "yaxis": "y"
        },
        {
         "alignmentgroup": "True",
         "bingroup": "x",
         "hovertemplate": "camera=50?MP + 12?MP + 12?MP Triple Rear & 12?MP Front Camera<br>mobile_model=%{x}<br>count=%{y}<extra></extra>",
         "legendgroup": "50?MP + 12?MP + 12?MP Triple Rear & 12?MP Front Camera",
         "marker": {
          "color": "rgb(237, 100, 90)",
          "pattern": {
           "shape": ""
          }
         },
         "name": "50?MP + 12?MP + 12?MP Triple Rear & 12?MP Front Camera",
         "offsetgroup": "50?MP + 12?MP + 12?MP Triple Rear & 12?MP Front Camera",
         "orientation": "v",
         "showlegend": true,
         "type": "histogram",
         "x": [
          "Apple"
         ],
         "xaxis": "x",
         "yaxis": "y"
        },
        {
         "alignmentgroup": "True",
         "bingroup": "x",
         "hovertemplate": "camera=50?MP + 12?MP + 12?MP Triple Rear & 32?MP Front Camera<br>mobile_model=%{x}<br>count=%{y}<extra></extra>",
         "legendgroup": "50?MP + 12?MP + 12?MP Triple Rear & 32?MP Front Camera",
         "marker": {
          "color": "rgb(165, 170, 153)",
          "pattern": {
           "shape": ""
          }
         },
         "name": "50?MP + 12?MP + 12?MP Triple Rear & 32?MP Front Camera",
         "offsetgroup": "50?MP + 12?MP + 12?MP Triple Rear & 32?MP Front Camera",
         "orientation": "v",
         "showlegend": true,
         "type": "histogram",
         "x": [
          "Vivo",
          "Vivo",
          "Vivo"
         ],
         "xaxis": "x",
         "yaxis": "y"
        },
        {
         "alignmentgroup": "True",
         "bingroup": "x",
         "hovertemplate": "camera=50?MP + 5?MP + 2?MP Triple Rear & 8?MP Front Camera<br>mobile_model=%{x}<br>count=%{y}<extra></extra>",
         "legendgroup": "50?MP + 5?MP + 2?MP Triple Rear & 8?MP Front Camera",
         "marker": {
          "color": "rgb(229, 134, 6)",
          "pattern": {
           "shape": ""
          }
         },
         "name": "50?MP + 5?MP + 2?MP Triple Rear & 8?MP Front Camera",
         "offsetgroup": "50?MP + 5?MP + 2?MP Triple Rear & 8?MP Front Camera",
         "orientation": "v",
         "showlegend": true,
         "type": "histogram",
         "x": [
          "Samsung",
          "Samsung",
          "Samsung",
          "Samsung",
          "Nokia"
         ],
         "xaxis": "x",
         "yaxis": "y"
        },
        {
         "alignmentgroup": "True",
         "bingroup": "x",
         "hovertemplate": "camera=50?MP Dual Rear & 8?MP Front Camera<br>mobile_model=%{x}<br>count=%{y}<extra></extra>",
         "legendgroup": "50?MP Dual Rear & 8?MP Front Camera",
         "marker": {
          "color": "rgb(93, 105, 177)",
          "pattern": {
           "shape": ""
          }
         },
         "name": "50?MP Dual Rear & 8?MP Front Camera",
         "offsetgroup": "50?MP Dual Rear & 8?MP Front Camera",
         "orientation": "v",
         "showlegend": true,
         "type": "histogram",
         "x": [
          "Infinix",
          "Tecno",
          "Infinix",
          "OPPO",
          "Tecno",
          "OPPO",
          "Tecno"
         ],
         "xaxis": "x",
         "yaxis": "y"
        },
        {
         "alignmentgroup": "True",
         "bingroup": "x",
         "hovertemplate": "camera=48?MP + 8?MP + 2?MP Triple Rear & 16?MP Front Camera<br>mobile_model=%{x}<br>count=%{y}<extra></extra>",
         "legendgroup": "48?MP + 8?MP + 2?MP Triple Rear & 16?MP Front Camera",
         "marker": {
          "color": "rgb(82, 188, 163)",
          "pattern": {
           "shape": ""
          }
         },
         "name": "48?MP + 8?MP + 2?MP Triple Rear & 16?MP Front Camera",
         "offsetgroup": "48?MP + 8?MP + 2?MP Triple Rear & 16?MP Front Camera",
         "orientation": "v",
         "showlegend": true,
         "type": "histogram",
         "x": [
          "Realme",
          "OPPO",
          "Realme",
          "Motorola",
          "Realme",
          "Realme"
         ],
         "xaxis": "x",
         "yaxis": "y"
        },
        {
         "alignmentgroup": "True",
         "bingroup": "x",
         "hovertemplate": "camera=12?MP Rear & 7?MP Front Camera<br>mobile_model=%{x}<br>count=%{y}<extra></extra>",
         "legendgroup": "12?MP Rear & 7?MP Front Camera",
         "marker": {
          "color": "rgb(153, 201, 69)",
          "pattern": {
           "shape": ""
          }
         },
         "name": "12?MP Rear & 7?MP Front Camera",
         "offsetgroup": "12?MP Rear & 7?MP Front Camera",
         "orientation": "v",
         "showlegend": true,
         "type": "histogram",
         "x": [
          "Apple",
          "Apple"
         ],
         "xaxis": "x",
         "yaxis": "y"
        },
        {
         "alignmentgroup": "True",
         "bingroup": "x",
         "hovertemplate": "camera=200?MP + 13?MP + 2?MP Triple Rear & 32?MP Front Camera<br>mobile_model=%{x}<br>count=%{y}<extra></extra>",
         "legendgroup": "200?MP + 13?MP + 2?MP Triple Rear & 32?MP Front Camera",
         "marker": {
          "color": "rgb(204, 97, 176)",
          "pattern": {
           "shape": ""
          }
         },
         "name": "200?MP + 13?MP + 2?MP Triple Rear & 32?MP Front Camera",
         "offsetgroup": "200?MP + 13?MP + 2?MP Triple Rear & 32?MP Front Camera",
         "orientation": "v",
         "showlegend": true,
         "type": "histogram",
         "x": [
          "Infinix"
         ],
         "xaxis": "x",
         "yaxis": "y"
        },
        {
         "alignmentgroup": "True",
         "bingroup": "x",
         "hovertemplate": "camera=13?MP Dual Rear & 5?MP Front Camera<br>mobile_model=%{x}<br>count=%{y}<extra></extra>",
         "legendgroup": "13?MP Dual Rear & 5?MP Front Camera",
         "marker": {
          "color": "rgb(36, 121, 108)",
          "pattern": {
           "shape": ""
          }
         },
         "name": "13?MP Dual Rear & 5?MP Front Camera",
         "offsetgroup": "13?MP Dual Rear & 5?MP Front Camera",
         "orientation": "v",
         "showlegend": true,
         "type": "histogram",
         "x": [
          "Tecno"
         ],
         "xaxis": "x",
         "yaxis": "y"
        },
        {
         "alignmentgroup": "True",
         "bingroup": "x",
         "hovertemplate": "camera=50?MP + 50?MP + 12?MP Triple Rear & 60?MP Front Camera<br>mobile_model=%{x}<br>count=%{y}<extra></extra>",
         "legendgroup": "50?MP + 50?MP + 12?MP Triple Rear & 60?MP Front Camera",
         "marker": {
          "color": "rgb(218, 165, 27)",
          "pattern": {
           "shape": ""
          }
         },
         "name": "50?MP + 50?MP + 12?MP Triple Rear & 60?MP Front Camera",
         "offsetgroup": "50?MP + 50?MP + 12?MP Triple Rear & 60?MP Front Camera",
         "orientation": "v",
         "showlegend": true,
         "type": "histogram",
         "x": [
          "Motorola",
          "Motorola"
         ],
         "xaxis": "x",
         "yaxis": "y"
        },
        {
         "alignmentgroup": "True",
         "bingroup": "x",
         "hovertemplate": "camera=50?MP + 2?MP Triple Rear & 8?MP Front Camera<br>mobile_model=%{x}<br>count=%{y}<extra></extra>",
         "legendgroup": "50?MP + 2?MP Triple Rear & 8?MP Front Camera",
         "marker": {
          "color": "rgb(47, 138, 196)",
          "pattern": {
           "shape": ""
          }
         },
         "name": "50?MP + 2?MP Triple Rear & 8?MP Front Camera",
         "offsetgroup": "50?MP + 2?MP Triple Rear & 8?MP Front Camera",
         "orientation": "v",
         "showlegend": true,
         "type": "histogram",
         "x": [
          "Realme",
          "Lava",
          "Infinix",
          "Infinix",
          "Tecno",
          "Infinix"
         ],
         "xaxis": "x",
         "yaxis": "y"
        },
        {
         "alignmentgroup": "True",
         "bingroup": "x",
         "hovertemplate": "camera=50?MP + 12?MP + 5?MP Triple Rear & 32?MP Front Camera<br>mobile_model=%{x}<br>count=%{y}<extra></extra>",
         "legendgroup": "50?MP + 12?MP + 5?MP Triple Rear & 32?MP Front Camera",
         "marker": {
          "color": "rgb(118, 78, 159)",
          "pattern": {
           "shape": ""
          }
         },
         "name": "50?MP + 12?MP + 5?MP Triple Rear & 32?MP Front Camera",
         "offsetgroup": "50?MP + 12?MP + 5?MP Triple Rear & 32?MP Front Camera",
         "orientation": "v",
         "showlegend": true,
         "type": "histogram",
         "x": [
          "OnePlus",
          "Samsung",
          "OnePlus"
         ],
         "xaxis": "x",
         "yaxis": "y"
        },
        {
         "alignmentgroup": "True",
         "bingroup": "x",
         "hovertemplate": "camera=13?MP + Depth Sensor Dual Rear & 5?MP Front Camera<br>mobile_model=%{x}<br>count=%{y}<extra></extra>",
         "legendgroup": "13?MP + Depth Sensor Dual Rear & 5?MP Front Camera",
         "marker": {
          "color": "rgb(237, 100, 90)",
          "pattern": {
           "shape": ""
          }
         },
         "name": "13?MP + Depth Sensor Dual Rear & 5?MP Front Camera",
         "offsetgroup": "13?MP + Depth Sensor Dual Rear & 5?MP Front Camera",
         "orientation": "v",
         "showlegend": true,
         "type": "histogram",
         "x": [
          "LeEco"
         ],
         "xaxis": "x",
         "yaxis": "y"
        },
        {
         "alignmentgroup": "True",
         "bingroup": "x",
         "hovertemplate": "camera=64?MP + 12?MP + 5?MP Triple Rear & 32?MP Front Camera<br>mobile_model=%{x}<br>count=%{y}<extra></extra>",
         "legendgroup": "64?MP + 12?MP + 5?MP Triple Rear & 32?MP Front Camera",
         "marker": {
          "color": "rgb(165, 170, 153)",
          "pattern": {
           "shape": ""
          }
         },
         "name": "64?MP + 12?MP + 5?MP Triple Rear & 32?MP Front Camera",
         "offsetgroup": "64?MP + 12?MP + 5?MP Triple Rear & 32?MP Front Camera",
         "orientation": "v",
         "showlegend": true,
         "type": "histogram",
         "x": [
          "Samsung",
          "OnePlus"
         ],
         "xaxis": "x",
         "yaxis": "y"
        },
        {
         "alignmentgroup": "True",
         "bingroup": "x",
         "hovertemplate": "camera=50?MP + 2?MP + 0.3?MP Triple Rear & 8?MP Front Camera<br>mobile_model=%{x}<br>count=%{y}<extra></extra>",
         "legendgroup": "50?MP + 2?MP + 0.3?MP Triple Rear & 8?MP Front Camera",
         "marker": {
          "color": "rgb(229, 134, 6)",
          "pattern": {
           "shape": ""
          }
         },
         "name": "50?MP + 2?MP + 0.3?MP Triple Rear & 8?MP Front Camera",
         "offsetgroup": "50?MP + 2?MP + 0.3?MP Triple Rear & 8?MP Front Camera",
         "orientation": "v",
         "showlegend": true,
         "type": "histogram",
         "x": [
          "Realme"
         ],
         "xaxis": "x",
         "yaxis": "y"
        },
        {
         "alignmentgroup": "True",
         "bingroup": "x",
         "hovertemplate": "camera=64?MP + 5?MP + 2?MP Triple Rear & 16?MP Front Camera<br>mobile_model=%{x}<br>count=%{y}<extra></extra>",
         "legendgroup": "64?MP + 5?MP + 2?MP Triple Rear & 16?MP Front Camera",
         "marker": {
          "color": "rgb(93, 105, 177)",
          "pattern": {
           "shape": ""
          }
         },
         "name": "64?MP + 5?MP + 2?MP Triple Rear & 16?MP Front Camera",
         "offsetgroup": "64?MP + 5?MP + 2?MP Triple Rear & 16?MP Front Camera",
         "orientation": "v",
         "showlegend": true,
         "type": "histogram",
         "x": [
          "Honor"
         ],
         "xaxis": "x",
         "yaxis": "y"
        },
        {
         "alignmentgroup": "True",
         "bingroup": "x",
         "hovertemplate": "camera=108?MP + 8?MP + 2?MP Triple Rear & 50?MP + 8?MP Dual Front Camera<br>mobile_model=%{x}<br>count=%{y}<extra></extra>",
         "legendgroup": "108?MP + 8?MP + 2?MP Triple Rear & 50?MP + 8?MP Dual Front Camera",
         "marker": {
          "color": "rgb(82, 188, 163)",
          "pattern": {
           "shape": ""
          }
         },
         "name": "108?MP + 8?MP + 2?MP Triple Rear & 50?MP + 8?MP Dual Front Camera",
         "offsetgroup": "108?MP + 8?MP + 2?MP Triple Rear & 50?MP + 8?MP Dual Front Camera",
         "orientation": "v",
         "showlegend": true,
         "type": "histogram",
         "x": [
          "Vivo",
          "Vivo"
         ],
         "xaxis": "x",
         "yaxis": "y"
        },
        {
         "alignmentgroup": "True",
         "bingroup": "x",
         "hovertemplate": "camera=13?MP + 2?MP + 2?MP Triple Rear & 5?MP Front Camera<br>mobile_model=%{x}<br>count=%{y}<extra></extra>",
         "legendgroup": "13?MP + 2?MP + 2?MP Triple Rear & 5?MP Front Camera",
         "marker": {
          "color": "rgb(153, 201, 69)",
          "pattern": {
           "shape": ""
          }
         },
         "name": "13?MP + 2?MP + 2?MP Triple Rear & 5?MP Front Camera",
         "offsetgroup": "13?MP + 2?MP + 2?MP Triple Rear & 5?MP Front Camera",
         "orientation": "v",
         "showlegend": true,
         "type": "histogram",
         "x": [
          "POCO",
          "POCO",
          "Realme",
          "Realme",
          "Nokia",
          "Realme",
          "Realme",
          "Samsung",
          "Realme",
          "OPPO"
         ],
         "xaxis": "x",
         "yaxis": "y"
        },
        {
         "alignmentgroup": "True",
         "bingroup": "x",
         "hovertemplate": "camera=50?MP + 50?MP + 13?MP Triple Rear & 16?MP Front Camera<br>mobile_model=%{x}<br>count=%{y}<extra></extra>",
         "legendgroup": "50?MP + 50?MP + 13?MP Triple Rear & 16?MP Front Camera",
         "marker": {
          "color": "rgb(204, 97, 176)",
          "pattern": {
           "shape": ""
          }
         },
         "name": "50?MP + 50?MP + 13?MP Triple Rear & 16?MP Front Camera",
         "offsetgroup": "50?MP + 50?MP + 13?MP Triple Rear & 16?MP Front Camera",
         "orientation": "v",
         "showlegend": true,
         "type": "histogram",
         "x": [
          "iQOO"
         ],
         "xaxis": "x",
         "yaxis": "y"
        },
        {
         "alignmentgroup": "True",
         "bingroup": "x",
         "hovertemplate": "camera=50?MP + 8?MP + 2?MP Triple Rear & 44?MP Front Camera<br>mobile_model=%{x}<br>count=%{y}<extra></extra>",
         "legendgroup": "50?MP + 8?MP + 2?MP Triple Rear & 44?MP Front Camera",
         "marker": {
          "color": "rgb(36, 121, 108)",
          "pattern": {
           "shape": ""
          }
         },
         "name": "50?MP + 8?MP + 2?MP Triple Rear & 44?MP Front Camera",
         "offsetgroup": "50?MP + 8?MP + 2?MP Triple Rear & 44?MP Front Camera",
         "orientation": "v",
         "showlegend": true,
         "type": "histogram",
         "x": [
          "Vivo",
          "Vivo"
         ],
         "xaxis": "x",
         "yaxis": "y"
        },
        {
         "alignmentgroup": "True",
         "bingroup": "x",
         "hovertemplate": "camera=50?MP + 12?MP Dual Rear & 10.8?MP Front Camera<br>mobile_model=%{x}<br>count=%{y}<extra></extra>",
         "legendgroup": "50?MP + 12?MP Dual Rear & 10.8?MP Front Camera",
         "marker": {
          "color": "rgb(218, 165, 27)",
          "pattern": {
           "shape": ""
          }
         },
         "name": "50?MP + 12?MP Dual Rear & 10.8?MP Front Camera",
         "offsetgroup": "50?MP + 12?MP Dual Rear & 10.8?MP Front Camera",
         "orientation": "v",
         "showlegend": true,
         "type": "histogram",
         "x": [
          "Google"
         ],
         "xaxis": "x",
         "yaxis": "y"
        },
        {
         "alignmentgroup": "True",
         "bingroup": "x",
         "hovertemplate": "camera=50?MP + 8?MP + 2?MP Triple Rear & 13?MP Front Camera<br>mobile_model=%{x}<br>count=%{y}<extra></extra>",
         "legendgroup": "50?MP + 8?MP + 2?MP Triple Rear & 13?MP Front Camera",
         "marker": {
          "color": "rgb(47, 138, 196)",
          "pattern": {
           "shape": ""
          }
         },
         "name": "50?MP + 8?MP + 2?MP Triple Rear & 13?MP Front Camera",
         "offsetgroup": "50?MP + 8?MP + 2?MP Triple Rear & 13?MP Front Camera",
         "orientation": "v",
         "showlegend": true,
         "type": "histogram",
         "x": [
          "Motorola",
          "Motorola",
          "Motorola"
         ],
         "xaxis": "x",
         "yaxis": "y"
        },
        {
         "alignmentgroup": "True",
         "bingroup": "x",
         "hovertemplate": "camera=50?MP + 50?MP + 13?MP Triple Rear & 32?MP Front Camera<br>mobile_model=%{x}<br>count=%{y}<extra></extra>",
         "legendgroup": "50?MP + 50?MP + 13?MP Triple Rear & 32?MP Front Camera",
         "marker": {
          "color": "rgb(118, 78, 159)",
          "pattern": {
           "shape": ""
          }
         },
         "name": "50?MP + 50?MP + 13?MP Triple Rear & 32?MP Front Camera",
         "offsetgroup": "50?MP + 50?MP + 13?MP Triple Rear & 32?MP Front Camera",
         "orientation": "v",
         "showlegend": true,
         "type": "histogram",
         "x": [
          "Tecno"
         ],
         "xaxis": "x",
         "yaxis": "y"
        },
        {
         "alignmentgroup": "True",
         "bingroup": "x",
         "hovertemplate": "camera=108?MP + 13?MP + 2?MP Triple Rear & 60?MP Front Camera<br>mobile_model=%{x}<br>count=%{y}<extra></extra>",
         "legendgroup": "108?MP + 13?MP + 2?MP Triple Rear & 60?MP Front Camera",
         "marker": {
          "color": "rgb(237, 100, 90)",
          "pattern": {
           "shape": ""
          }
         },
         "name": "108?MP + 13?MP + 2?MP Triple Rear & 60?MP Front Camera",
         "offsetgroup": "108?MP + 13?MP + 2?MP Triple Rear & 60?MP Front Camera",
         "orientation": "v",
         "showlegend": true,
         "type": "histogram",
         "x": [
          "Infinix"
         ],
         "xaxis": "x",
         "yaxis": "y"
        },
        {
         "alignmentgroup": "True",
         "bingroup": "x",
         "hovertemplate": "camera=50?MP + 5?MP + 2?MP Triple Rear & 16?MP Front Camera<br>mobile_model=%{x}<br>count=%{y}<extra></extra>",
         "legendgroup": "50?MP + 5?MP + 2?MP Triple Rear & 16?MP Front Camera",
         "marker": {
          "color": "rgb(165, 170, 153)",
          "pattern": {
           "shape": ""
          }
         },
         "name": "50?MP + 5?MP + 2?MP Triple Rear & 16?MP Front Camera",
         "offsetgroup": "50?MP + 5?MP + 2?MP Triple Rear & 16?MP Front Camera",
         "orientation": "v",
         "showlegend": true,
         "type": "histogram",
         "x": [
          "Motorola",
          "Samsung"
         ],
         "xaxis": "x",
         "yaxis": "y"
        },
        {
         "alignmentgroup": "True",
         "bingroup": "x",
         "hovertemplate": "camera=50?MP + 2?MP Triple Rear & 16?MP Front Camera<br>mobile_model=%{x}<br>count=%{y}<extra></extra>",
         "legendgroup": "50?MP + 2?MP Triple Rear & 16?MP Front Camera",
         "marker": {
          "color": "rgb(229, 134, 6)",
          "pattern": {
           "shape": ""
          }
         },
         "name": "50?MP + 2?MP Triple Rear & 16?MP Front Camera",
         "offsetgroup": "50?MP + 2?MP Triple Rear & 16?MP Front Camera",
         "orientation": "v",
         "showlegend": true,
         "type": "histogram",
         "x": [
          "Tecno",
          "Infinix",
          "Infinix",
          "Infinix",
          "Infinix",
          "Infinix",
          "Infinix"
         ],
         "xaxis": "x",
         "yaxis": "y"
        },
        {
         "alignmentgroup": "True",
         "bingroup": "x",
         "hovertemplate": "camera=12?MP + 5?MP Dual Rear & 7?MP Front Camera<br>mobile_model=%{x}<br>count=%{y}<extra></extra>",
         "legendgroup": "12?MP + 5?MP Dual Rear & 7?MP Front Camera",
         "marker": {
          "color": "rgb(93, 105, 177)",
          "pattern": {
           "shape": ""
          }
         },
         "name": "12?MP + 5?MP Dual Rear & 7?MP Front Camera",
         "offsetgroup": "12?MP + 5?MP Dual Rear & 7?MP Front Camera",
         "orientation": "v",
         "showlegend": true,
         "type": "histogram",
         "x": [
          "Apple"
         ],
         "xaxis": "x",
         "yaxis": "y"
        },
        {
         "alignmentgroup": "True",
         "bingroup": "x",
         "hovertemplate": "camera=108?MP Quad Rear & 16?MP Front Camera<br>mobile_model=%{x}<br>count=%{y}<extra></extra>",
         "legendgroup": "108?MP Quad Rear & 16?MP Front Camera",
         "marker": {
          "color": "rgb(82, 188, 163)",
          "pattern": {
           "shape": ""
          }
         },
         "name": "108?MP Quad Rear & 16?MP Front Camera",
         "offsetgroup": "108?MP Quad Rear & 16?MP Front Camera",
         "orientation": "v",
         "showlegend": true,
         "type": "histogram",
         "x": [
          "Redmi",
          "Xiaomi",
          "Xiaomi",
          "Huawei",
          "Xiaomi",
          "Xiaomi",
          "Xiaomi",
          "Infinix",
          "Xiaomi",
          "OnePlus"
         ],
         "xaxis": "x",
         "yaxis": "y"
        },
        {
         "alignmentgroup": "True",
         "bingroup": "x",
         "hovertemplate": "camera=64?MP Quad Rear & 20?MP Front Camera<br>mobile_model=%{x}<br>count=%{y}<extra></extra>",
         "legendgroup": "64?MP Quad Rear & 20?MP Front Camera",
         "marker": {
          "color": "rgb(153, 201, 69)",
          "pattern": {
           "shape": ""
          }
         },
         "name": "64?MP Quad Rear & 20?MP Front Camera",
         "offsetgroup": "64?MP Quad Rear & 20?MP Front Camera",
         "orientation": "v",
         "showlegend": true,
         "type": "histogram",
         "x": [
          "Samsung",
          "Poco",
          "Samsung",
          "Samsung",
          "Samsung",
          "Samsung",
          "Samsung",
          "Xiaomi"
         ],
         "xaxis": "x",
         "yaxis": "y"
        },
        {
         "alignmentgroup": "True",
         "bingroup": "x",
         "hovertemplate": "camera=50?MP + 48?MP + 12?MP Triple Rear & 11.1?MP Front Camera<br>mobile_model=%{x}<br>count=%{y}<extra></extra>",
         "legendgroup": "50?MP + 48?MP + 12?MP Triple Rear & 11.1?MP Front Camera",
         "marker": {
          "color": "rgb(204, 97, 176)",
          "pattern": {
           "shape": ""
          }
         },
         "name": "50?MP + 48?MP + 12?MP Triple Rear & 11.1?MP Front Camera",
         "offsetgroup": "50?MP + 48?MP + 12?MP Triple Rear & 11.1?MP Front Camera",
         "orientation": "v",
         "showlegend": true,
         "type": "histogram",
         "x": [
          "Google"
         ],
         "xaxis": "x",
         "yaxis": "y"
        },
        {
         "alignmentgroup": "True",
         "bingroup": "x",
         "hovertemplate": "camera=50?MP + 13?MP + 5?MP Triple Rear & 12?MP Front Camera<br>mobile_model=%{x}<br>count=%{y}<extra></extra>",
         "legendgroup": "50?MP + 13?MP + 5?MP Triple Rear & 12?MP Front Camera",
         "marker": {
          "color": "rgb(36, 121, 108)",
          "pattern": {
           "shape": ""
          }
         },
         "name": "50?MP + 13?MP + 5?MP Triple Rear & 12?MP Front Camera",
         "offsetgroup": "50?MP + 13?MP + 5?MP Triple Rear & 12?MP Front Camera",
         "orientation": "v",
         "showlegend": true,
         "type": "histogram",
         "x": [
          "Asus",
          "Asus",
          "Asus"
         ],
         "xaxis": "x",
         "yaxis": "y"
        },
        {
         "alignmentgroup": "True",
         "bingroup": "x",
         "hovertemplate": "camera=108?MP + 2?MP Triple Rear & 16?MP Front Camera<br>mobile_model=%{x}<br>count=%{y}<extra></extra>",
         "legendgroup": "108?MP + 2?MP Triple Rear & 16?MP Front Camera",
         "marker": {
          "color": "rgb(218, 165, 27)",
          "pattern": {
           "shape": ""
          }
         },
         "name": "108?MP + 2?MP Triple Rear & 16?MP Front Camera",
         "offsetgroup": "108?MP + 2?MP Triple Rear & 16?MP Front Camera",
         "orientation": "v",
         "showlegend": true,
         "type": "histogram",
         "x": [
          "Infinix"
         ],
         "xaxis": "x",
         "yaxis": "y"
        },
        {
         "alignmentgroup": "True",
         "bingroup": "x",
         "hovertemplate": "camera=50?MP + 12?MP + 10?MP Triple Rear & 32?MP Front Camera<br>mobile_model=%{x}<br>count=%{y}<extra></extra>",
         "legendgroup": "50?MP + 12?MP + 10?MP Triple Rear & 32?MP Front Camera",
         "marker": {
          "color": "rgb(47, 138, 196)",
          "pattern": {
           "shape": ""
          }
         },
         "name": "50?MP + 12?MP + 10?MP Triple Rear & 32?MP Front Camera",
         "offsetgroup": "50?MP + 12?MP + 10?MP Triple Rear & 32?MP Front Camera",
         "orientation": "v",
         "showlegend": true,
         "type": "histogram",
         "x": [
          "Xiaomi"
         ],
         "xaxis": "x",
         "yaxis": "y"
        },
        {
         "alignmentgroup": "True",
         "bingroup": "x",
         "hovertemplate": "camera=64?MP + 8?MP + 5?MP Triple Rear & 20?MP Front Camera<br>mobile_model=%{x}<br>count=%{y}<extra></extra>",
         "legendgroup": "64?MP + 8?MP + 5?MP Triple Rear & 20?MP Front Camera",
         "marker": {
          "color": "rgb(118, 78, 159)",
          "pattern": {
           "shape": ""
          }
         },
         "name": "64?MP + 8?MP + 5?MP Triple Rear & 20?MP Front Camera",
         "offsetgroup": "64?MP + 8?MP + 5?MP Triple Rear & 20?MP Front Camera",
         "orientation": "v",
         "showlegend": true,
         "type": "histogram",
         "x": [
          "Xiaomi",
          "Xiaomi"
         ],
         "xaxis": "x",
         "yaxis": "y"
        },
        {
         "alignmentgroup": "True",
         "bingroup": "x",
         "hovertemplate": "camera=Foldable Display, Dual Display<br>mobile_model=%{x}<br>count=%{y}<extra></extra>",
         "legendgroup": "Foldable Display, Dual Display",
         "marker": {
          "color": "rgb(237, 100, 90)",
          "pattern": {
           "shape": ""
          }
         },
         "name": "Foldable Display, Dual Display",
         "offsetgroup": "Foldable Display, Dual Display",
         "orientation": "v",
         "showlegend": true,
         "type": "histogram",
         "x": [
          "Samsung",
          "Royole",
          "OPPO",
          "OPPO",
          "Samsung",
          "Samsung",
          "Royole"
         ],
         "xaxis": "x",
         "yaxis": "y"
        },
        {
         "alignmentgroup": "True",
         "bingroup": "x",
         "hovertemplate": "camera=50?MP + 16?MP + 2?MP Triple Rear & 16?MP Front Camera<br>mobile_model=%{x}<br>count=%{y}<extra></extra>",
         "legendgroup": "50?MP + 16?MP + 2?MP Triple Rear & 16?MP Front Camera",
         "marker": {
          "color": "rgb(165, 170, 153)",
          "pattern": {
           "shape": ""
          }
         },
         "name": "50?MP + 16?MP + 2?MP Triple Rear & 16?MP Front Camera",
         "offsetgroup": "50?MP + 16?MP + 2?MP Triple Rear & 16?MP Front Camera",
         "orientation": "v",
         "showlegend": true,
         "type": "histogram",
         "x": [
          "OnePlus"
         ],
         "xaxis": "x",
         "yaxis": "y"
        },
        {
         "alignmentgroup": "True",
         "bingroup": "x",
         "hovertemplate": "camera=50?MP + 8?MP + 2?MP Triple Rear & 50?MP + 8?MP Dual Front Camera<br>mobile_model=%{x}<br>count=%{y}<extra></extra>",
         "legendgroup": "50?MP + 8?MP + 2?MP Triple Rear & 50?MP + 8?MP Dual Front Camera",
         "marker": {
          "color": "rgb(229, 134, 6)",
          "pattern": {
           "shape": ""
          }
         },
         "name": "50?MP + 8?MP + 2?MP Triple Rear & 50?MP + 8?MP Dual Front Camera",
         "offsetgroup": "50?MP + 8?MP + 2?MP Triple Rear & 50?MP + 8?MP Dual Front Camera",
         "orientation": "v",
         "showlegend": true,
         "type": "histogram",
         "x": [
          "Vivo"
         ],
         "xaxis": "x",
         "yaxis": "y"
        },
        {
         "alignmentgroup": "True",
         "bingroup": "x",
         "hovertemplate": "camera=13?MP Dual Rear & 8?MP Front Camera<br>mobile_model=%{x}<br>count=%{y}<extra></extra>",
         "legendgroup": "13?MP Dual Rear & 8?MP Front Camera",
         "marker": {
          "color": "rgb(93, 105, 177)",
          "pattern": {
           "shape": ""
          }
         },
         "name": "13?MP Dual Rear & 8?MP Front Camera",
         "offsetgroup": "13?MP Dual Rear & 8?MP Front Camera",
         "orientation": "v",
         "showlegend": true,
         "type": "histogram",
         "x": [
          "Tecno",
          "Infinix",
          "Tecno",
          "Tecno",
          "Infinix",
          "Infinix",
          "Tecno",
          "Tecno",
          "Blackview"
         ],
         "xaxis": "x",
         "yaxis": "y"
        },
        {
         "alignmentgroup": "True",
         "bingroup": "x",
         "hovertemplate": "camera=50?MP + 12?MP Dual Rear & 8?MP Front Camera<br>mobile_model=%{x}<br>count=%{y}<extra></extra>",
         "legendgroup": "50?MP + 12?MP Dual Rear & 8?MP Front Camera",
         "marker": {
          "color": "rgb(82, 188, 163)",
          "pattern": {
           "shape": ""
          }
         },
         "name": "50?MP + 12?MP Dual Rear & 8?MP Front Camera",
         "offsetgroup": "50?MP + 12?MP Dual Rear & 8?MP Front Camera",
         "orientation": "v",
         "showlegend": true,
         "type": "histogram",
         "x": [
          "Google"
         ],
         "xaxis": "x",
         "yaxis": "y"
        },
        {
         "alignmentgroup": "True",
         "bingroup": "x",
         "hovertemplate": "camera=64?MP Quad Rear & 16?MP Front Camera<br>mobile_model=%{x}<br>count=%{y}<extra></extra>",
         "legendgroup": "64?MP Quad Rear & 16?MP Front Camera",
         "marker": {
          "color": "rgb(153, 201, 69)",
          "pattern": {
           "shape": ""
          }
         },
         "name": "64?MP Quad Rear & 16?MP Front Camera",
         "offsetgroup": "64?MP Quad Rear & 16?MP Front Camera",
         "orientation": "v",
         "showlegend": true,
         "type": "histogram",
         "x": [
          "Xiaomi",
          "Realme",
          "Lava",
          "Motorola",
          "OnePlus",
          "Realme",
          "Honor",
          "Realme",
          "Realme",
          "Oppo"
         ],
         "xaxis": "x",
         "yaxis": "y"
        },
        {
         "alignmentgroup": "True",
         "bingroup": "x",
         "hovertemplate": "camera=64?MP + 8?MP + 2?MP Triple Rear & 20?MP Front Camera<br>mobile_model=%{x}<br>count=%{y}<extra></extra>",
         "legendgroup": "64?MP + 8?MP + 2?MP Triple Rear & 20?MP Front Camera",
         "marker": {
          "color": "rgb(204, 97, 176)",
          "pattern": {
           "shape": ""
          }
         },
         "name": "64?MP + 8?MP + 2?MP Triple Rear & 20?MP Front Camera",
         "offsetgroup": "64?MP + 8?MP + 2?MP Triple Rear & 20?MP Front Camera",
         "orientation": "v",
         "showlegend": true,
         "type": "histogram",
         "x": [
          "Poco",
          "Poco",
          "Poco",
          "POCO",
          "POCO"
         ],
         "xaxis": "x",
         "yaxis": "y"
        },
        {
         "alignmentgroup": "True",
         "bingroup": "x",
         "hovertemplate": "camera=50?MP Quad Rear & 16?MP Front Camera<br>mobile_model=%{x}<br>count=%{y}<extra></extra>",
         "legendgroup": "50?MP Quad Rear & 16?MP Front Camera",
         "marker": {
          "color": "rgb(36, 121, 108)",
          "pattern": {
           "shape": ""
          }
         },
         "name": "50?MP Quad Rear & 16?MP Front Camera",
         "offsetgroup": "50?MP Quad Rear & 16?MP Front Camera",
         "orientation": "v",
         "showlegend": true,
         "type": "histogram",
         "x": [
          "Motorola",
          "OPPO",
          "ZTE"
         ],
         "xaxis": "x",
         "yaxis": "y"
        },
        {
         "alignmentgroup": "True",
         "bingroup": "x",
         "hovertemplate": "camera=54?MP + 8?MP + 2?MP Triple Rear & 16?MP Front Camera<br>mobile_model=%{x}<br>count=%{y}<extra></extra>",
         "legendgroup": "54?MP + 8?MP + 2?MP Triple Rear & 16?MP Front Camera",
         "marker": {
          "color": "rgb(218, 165, 27)",
          "pattern": {
           "shape": ""
          }
         },
         "name": "54?MP + 8?MP + 2?MP Triple Rear & 16?MP Front Camera",
         "offsetgroup": "54?MP + 8?MP + 2?MP Triple Rear & 16?MP Front Camera",
         "orientation": "v",
         "showlegend": true,
         "type": "histogram",
         "x": [
          "Xiaomi"
         ],
         "xaxis": "x",
         "yaxis": "y"
        },
        {
         "alignmentgroup": "True",
         "bingroup": "x",
         "hovertemplate": "camera=200?MP + 8?MP + 2?MP Triple Rear & 20?MP Front Camera<br>mobile_model=%{x}<br>count=%{y}<extra></extra>",
         "legendgroup": "200?MP + 8?MP + 2?MP Triple Rear & 20?MP Front Camera",
         "marker": {
          "color": "rgb(47, 138, 196)",
          "pattern": {
           "shape": ""
          }
         },
         "name": "200?MP + 8?MP + 2?MP Triple Rear & 20?MP Front Camera",
         "offsetgroup": "200?MP + 8?MP + 2?MP Triple Rear & 20?MP Front Camera",
         "orientation": "v",
         "showlegend": true,
         "type": "histogram",
         "x": [
          "Xiaomi"
         ],
         "xaxis": "x",
         "yaxis": "y"
        },
        {
         "alignmentgroup": "True",
         "bingroup": "x",
         "hovertemplate": "camera=48?MP + 13?MP + 13?MP Triple Rear & 16?MP Front Camera<br>mobile_model=%{x}<br>count=%{y}<extra></extra>",
         "legendgroup": "48?MP + 13?MP + 13?MP Triple Rear & 16?MP Front Camera",
         "marker": {
          "color": "rgb(118, 78, 159)",
          "pattern": {
           "shape": ""
          }
         },
         "name": "48?MP + 13?MP + 13?MP Triple Rear & 16?MP Front Camera",
         "offsetgroup": "48?MP + 13?MP + 13?MP Triple Rear & 16?MP Front Camera",
         "orientation": "v",
         "showlegend": true,
         "type": "histogram",
         "x": [
          "iQOO",
          "iQOO",
          "iQOO"
         ],
         "xaxis": "x",
         "yaxis": "y"
        },
        {
         "alignmentgroup": "True",
         "bingroup": "x",
         "hovertemplate": "camera=200?MP Quad Rear & 60?MP Front Camera<br>mobile_model=%{x}<br>count=%{y}<extra></extra>",
         "legendgroup": "200?MP Quad Rear & 60?MP Front Camera",
         "marker": {
          "color": "rgb(237, 100, 90)",
          "pattern": {
           "shape": ""
          }
         },
         "name": "200?MP Quad Rear & 60?MP Front Camera",
         "offsetgroup": "200?MP Quad Rear & 60?MP Front Camera",
         "orientation": "v",
         "showlegend": true,
         "type": "histogram",
         "x": [
          "Samsung"
         ],
         "xaxis": "x",
         "yaxis": "y"
        },
        {
         "alignmentgroup": "True",
         "bingroup": "x",
         "hovertemplate": "camera=64?MP Quad Rear & 44?MP + 8?MP Dual Front Camera<br>mobile_model=%{x}<br>count=%{y}<extra></extra>",
         "legendgroup": "64?MP Quad Rear & 44?MP + 8?MP Dual Front Camera",
         "marker": {
          "color": "rgb(165, 170, 153)",
          "pattern": {
           "shape": ""
          }
         },
         "name": "64?MP Quad Rear & 44?MP + 8?MP Dual Front Camera",
         "offsetgroup": "64?MP Quad Rear & 44?MP + 8?MP Dual Front Camera",
         "orientation": "v",
         "showlegend": true,
         "type": "histogram",
         "x": [
          "Vivo"
         ],
         "xaxis": "x",
         "yaxis": "y"
        },
        {
         "alignmentgroup": "True",
         "bingroup": "x",
         "hovertemplate": "camera=16?MP + 12.2?MP Dual Rear & 8?MP + TOF 3D Dual Front Camera<br>mobile_model=%{x}<br>count=%{y}<extra></extra>",
         "legendgroup": "16?MP + 12.2?MP Dual Rear & 8?MP + TOF 3D Dual Front Camera",
         "marker": {
          "color": "rgb(229, 134, 6)",
          "pattern": {
           "shape": ""
          }
         },
         "name": "16?MP + 12.2?MP Dual Rear & 8?MP + TOF 3D Dual Front Camera",
         "offsetgroup": "16?MP + 12.2?MP Dual Rear & 8?MP + TOF 3D Dual Front Camera",
         "orientation": "v",
         "showlegend": true,
         "type": "histogram",
         "x": [
          "Google"
         ],
         "xaxis": "x",
         "yaxis": "y"
        },
        {
         "alignmentgroup": "True",
         "bingroup": "x",
         "hovertemplate": "camera=16?MP + 12?MP + 12?MP Triple Rear & 10?MP + 8?MP Dual Front Camera<br>mobile_model=%{x}<br>count=%{y}<extra></extra>",
         "legendgroup": "16?MP + 12?MP + 12?MP Triple Rear & 10?MP + 8?MP Dual Front Camera",
         "marker": {
          "color": "rgb(93, 105, 177)",
          "pattern": {
           "shape": ""
          }
         },
         "name": "16?MP + 12?MP + 12?MP Triple Rear & 10?MP + 8?MP Dual Front Camera",
         "offsetgroup": "16?MP + 12?MP + 12?MP Triple Rear & 10?MP + 8?MP Dual Front Camera",
         "orientation": "v",
         "showlegend": true,
         "type": "histogram",
         "x": [
          "Samsung"
         ],
         "xaxis": "x",
         "yaxis": "y"
        },
        {
         "alignmentgroup": "True",
         "bingroup": "x",
         "hovertemplate": "camera=64?MP + 12?MP + 12?MP Triple Rear & 10?MP Front Camera<br>mobile_model=%{x}<br>count=%{y}<extra></extra>",
         "legendgroup": "64?MP + 12?MP + 12?MP Triple Rear & 10?MP Front Camera",
         "marker": {
          "color": "rgb(82, 188, 163)",
          "pattern": {
           "shape": ""
          }
         },
         "name": "64?MP + 12?MP + 12?MP Triple Rear & 10?MP Front Camera",
         "offsetgroup": "64?MP + 12?MP + 12?MP Triple Rear & 10?MP Front Camera",
         "orientation": "v",
         "showlegend": true,
         "type": "histogram",
         "x": [
          "Samsung",
          "Samsung",
          "Samsung",
          "Samsung",
          "Samsung"
         ],
         "xaxis": "x",
         "yaxis": "y"
        },
        {
         "alignmentgroup": "True",
         "bingroup": "x",
         "hovertemplate": "camera=50?MP + 2?MP + 2?MP Triple Rear & 5?MP Front Camera<br>mobile_model=%{x}<br>count=%{y}<extra></extra>",
         "legendgroup": "50?MP + 2?MP + 2?MP Triple Rear & 5?MP Front Camera",
         "marker": {
          "color": "rgb(153, 201, 69)",
          "pattern": {
           "shape": ""
          }
         },
         "name": "50?MP + 2?MP + 2?MP Triple Rear & 5?MP Front Camera",
         "offsetgroup": "50?MP + 2?MP + 2?MP Triple Rear & 5?MP Front Camera",
         "orientation": "v",
         "showlegend": true,
         "type": "histogram",
         "x": [
          "Samsung",
          "Samsung",
          "Samsung",
          "Honor"
         ],
         "xaxis": "x",
         "yaxis": "y"
        },
        {
         "alignmentgroup": "True",
         "bingroup": "x",
         "hovertemplate": "camera=64?MP + 20?MP + 2?MP Triple Rear & 16?MP Front Camera<br>mobile_model=%{x}<br>count=%{y}<extra></extra>",
         "legendgroup": "64?MP + 20?MP + 2?MP Triple Rear & 16?MP Front Camera",
         "marker": {
          "color": "rgb(204, 97, 176)",
          "pattern": {
           "shape": ""
          }
         },
         "name": "64?MP + 20?MP + 2?MP Triple Rear & 16?MP Front Camera",
         "offsetgroup": "64?MP + 20?MP + 2?MP Triple Rear & 16?MP Front Camera",
         "orientation": "v",
         "showlegend": true,
         "type": "histogram",
         "x": [
          "Oukitel"
         ],
         "xaxis": "x",
         "yaxis": "y"
        },
        {
         "alignmentgroup": "True",
         "bingroup": "x",
         "hovertemplate": "camera=64?MP + 16?MP + 8?MP Triple Rear & 32?MP Front Camera<br>mobile_model=%{x}<br>count=%{y}<extra></extra>",
         "legendgroup": "64?MP + 16?MP + 8?MP Triple Rear & 32?MP Front Camera",
         "marker": {
          "color": "rgb(36, 121, 108)",
          "pattern": {
           "shape": ""
          }
         },
         "name": "64?MP + 16?MP + 8?MP Triple Rear & 32?MP Front Camera",
         "offsetgroup": "64?MP + 16?MP + 8?MP Triple Rear & 32?MP Front Camera",
         "orientation": "v",
         "showlegend": true,
         "type": "histogram",
         "x": [
          "Asus"
         ],
         "xaxis": "x",
         "yaxis": "y"
        },
        {
         "alignmentgroup": "True",
         "bingroup": "x",
         "hovertemplate": "camera=48?MP + 2?MP Dual Rear & 5?MP Front Camera<br>mobile_model=%{x}<br>count=%{y}<extra></extra>",
         "legendgroup": "48?MP + 2?MP Dual Rear & 5?MP Front Camera",
         "marker": {
          "color": "rgb(218, 165, 27)",
          "pattern": {
           "shape": ""
          }
         },
         "name": "48?MP + 2?MP Dual Rear & 5?MP Front Camera",
         "offsetgroup": "48?MP + 2?MP Dual Rear & 5?MP Front Camera",
         "orientation": "v",
         "showlegend": true,
         "type": "histogram",
         "x": [
          "Samsung",
          "Samsung",
          "Samsung"
         ],
         "xaxis": "x",
         "yaxis": "y"
        },
        {
         "alignmentgroup": "True",
         "bingroup": "x",
         "hovertemplate": "camera=13?MP + 2?MP + 2?MP Triple Rear & 16?MP Front Camera<br>mobile_model=%{x}<br>count=%{y}<extra></extra>",
         "legendgroup": "13?MP + 2?MP + 2?MP Triple Rear & 16?MP Front Camera",
         "marker": {
          "color": "rgb(47, 138, 196)",
          "pattern": {
           "shape": ""
          }
         },
         "name": "13?MP + 2?MP + 2?MP Triple Rear & 16?MP Front Camera",
         "offsetgroup": "13?MP + 2?MP + 2?MP Triple Rear & 16?MP Front Camera",
         "orientation": "v",
         "showlegend": true,
         "type": "histogram",
         "x": [
          "OnePlus",
          "OPPO",
          "OPPO",
          "OPPO",
          "OPPO"
         ],
         "xaxis": "x",
         "yaxis": "y"
        },
        {
         "alignmentgroup": "True",
         "bingroup": "x",
         "hovertemplate": "camera=48?MP + 8?MP + 5?MP Triple Rear & 20?MP Front Camera<br>mobile_model=%{x}<br>count=%{y}<extra></extra>",
         "legendgroup": "48?MP + 8?MP + 5?MP Triple Rear & 20?MP Front Camera",
         "marker": {
          "color": "rgb(118, 78, 159)",
          "pattern": {
           "shape": ""
          }
         },
         "name": "48?MP + 8?MP + 5?MP Triple Rear & 20?MP Front Camera",
         "offsetgroup": "48?MP + 8?MP + 5?MP Triple Rear & 20?MP Front Camera",
         "orientation": "v",
         "showlegend": true,
         "type": "histogram",
         "x": [
          "Xiaomi",
          "Xiaomi",
          "Samsung"
         ],
         "xaxis": "x",
         "yaxis": "y"
        },
        {
         "alignmentgroup": "True",
         "bingroup": "x",
         "hovertemplate": "camera=64?MP Quad Rear & 32?MP + 8?MP Dual Front Camera<br>mobile_model=%{x}<br>count=%{y}<extra></extra>",
         "legendgroup": "64?MP Quad Rear & 32?MP + 8?MP Dual Front Camera",
         "marker": {
          "color": "rgb(237, 100, 90)",
          "pattern": {
           "shape": ""
          }
         },
         "name": "64?MP Quad Rear & 32?MP + 8?MP Dual Front Camera",
         "offsetgroup": "64?MP Quad Rear & 32?MP + 8?MP Dual Front Camera",
         "orientation": "v",
         "showlegend": true,
         "type": "histogram",
         "x": [
          "Realme",
          "Realme"
         ],
         "xaxis": "x",
         "yaxis": "y"
        },
        {
         "alignmentgroup": "True",
         "bingroup": "x",
         "hovertemplate": "camera=54?MP + 50?MP + 2?MP Triple Rear & 32?MP Front Camera<br>mobile_model=%{x}<br>count=%{y}<extra></extra>",
         "legendgroup": "54?MP + 50?MP + 2?MP Triple Rear & 32?MP Front Camera",
         "marker": {
          "color": "rgb(165, 170, 153)",
          "pattern": {
           "shape": ""
          }
         },
         "name": "54?MP + 50?MP + 2?MP Triple Rear & 32?MP Front Camera",
         "offsetgroup": "54?MP + 50?MP + 2?MP Triple Rear & 32?MP Front Camera",
         "orientation": "v",
         "showlegend": true,
         "type": "histogram",
         "x": [
          "Honor",
          "Honor"
         ],
         "xaxis": "x",
         "yaxis": "y"
        },
        {
         "alignmentgroup": "True",
         "bingroup": "x",
         "hovertemplate": "camera=108?MP + 8?MP + 5?MP Triple Rear & 16?MP Front Camera<br>mobile_model=%{x}<br>count=%{y}<extra></extra>",
         "legendgroup": "108?MP + 8?MP + 5?MP Triple Rear & 16?MP Front Camera",
         "marker": {
          "color": "rgb(229, 134, 6)",
          "pattern": {
           "shape": ""
          }
         },
         "name": "108?MP + 8?MP + 5?MP Triple Rear & 16?MP Front Camera",
         "offsetgroup": "108?MP + 8?MP + 5?MP Triple Rear & 16?MP Front Camera",
         "orientation": "v",
         "showlegend": true,
         "type": "histogram",
         "x": [
          "Xiaomi",
          "Xiaomi"
         ],
         "xaxis": "x",
         "yaxis": "y"
        },
        {
         "alignmentgroup": "True",
         "bingroup": "x",
         "hovertemplate": "camera=13?MP Rear & 2.1?MP Front Camera<br>mobile_model=%{x}<br>count=%{y}<extra></extra>",
         "legendgroup": "13?MP Rear & 2.1?MP Front Camera",
         "marker": {
          "color": "rgb(93, 105, 177)",
          "pattern": {
           "shape": ""
          }
         },
         "name": "13?MP Rear & 2.1?MP Front Camera",
         "offsetgroup": "13?MP Rear & 2.1?MP Front Camera",
         "orientation": "v",
         "showlegend": true,
         "type": "histogram",
         "x": [
          "Vertu"
         ],
         "xaxis": "x",
         "yaxis": "y"
        },
        {
         "alignmentgroup": "True",
         "bingroup": "x",
         "hovertemplate": "camera=64?MP + 50?MP + 2?MP Triple Rear & 32?MP Front Camera<br>mobile_model=%{x}<br>count=%{y}<extra></extra>",
         "legendgroup": "64?MP + 50?MP + 2?MP Triple Rear & 32?MP Front Camera",
         "marker": {
          "color": "rgb(82, 188, 163)",
          "pattern": {
           "shape": ""
          }
         },
         "name": "64?MP + 50?MP + 2?MP Triple Rear & 32?MP Front Camera",
         "offsetgroup": "64?MP + 50?MP + 2?MP Triple Rear & 32?MP Front Camera",
         "orientation": "v",
         "showlegend": true,
         "type": "histogram",
         "x": [
          "Tecno",
          "Tecno"
         ],
         "xaxis": "x",
         "yaxis": "y"
        },
        {
         "alignmentgroup": "True",
         "bingroup": "x",
         "hovertemplate": "camera=64?MP + 8?MP + 5?MP Triple Rear & 32?MP Front Camera<br>mobile_model=%{x}<br>count=%{y}<extra></extra>",
         "legendgroup": "64?MP + 8?MP + 5?MP Triple Rear & 32?MP Front Camera",
         "marker": {
          "color": "rgb(153, 201, 69)",
          "pattern": {
           "shape": ""
          }
         },
         "name": "64?MP + 8?MP + 5?MP Triple Rear & 32?MP Front Camera",
         "offsetgroup": "64?MP + 8?MP + 5?MP Triple Rear & 32?MP Front Camera",
         "orientation": "v",
         "showlegend": true,
         "type": "histogram",
         "x": [
          "Poco",
          "Samsung",
          "Samsung",
          "Samsung",
          "Samsung"
         ],
         "xaxis": "x",
         "yaxis": "y"
        },
        {
         "alignmentgroup": "True",
         "bingroup": "x",
         "hovertemplate": "camera=48?MP Quad Rear & 20?MP Front Camera<br>mobile_model=%{x}<br>count=%{y}<extra></extra>",
         "legendgroup": "48?MP Quad Rear & 20?MP Front Camera",
         "marker": {
          "color": "rgb(204, 97, 176)",
          "pattern": {
           "shape": ""
          }
         },
         "name": "48?MP Quad Rear & 20?MP Front Camera",
         "offsetgroup": "48?MP Quad Rear & 20?MP Front Camera",
         "orientation": "v",
         "showlegend": true,
         "type": "histogram",
         "x": [
          "Poco"
         ],
         "xaxis": "x",
         "yaxis": "y"
        },
        {
         "alignmentgroup": "True",
         "bingroup": "x",
         "hovertemplate": "camera=50?MP + 13?MP + 8?MP Triple Rear & 48?MP + 8?MP Dual Front Camera<br>mobile_model=%{x}<br>count=%{y}<extra></extra>",
         "legendgroup": "50?MP + 13?MP + 8?MP Triple Rear & 48?MP + 8?MP Dual Front Camera",
         "marker": {
          "color": "rgb(36, 121, 108)",
          "pattern": {
           "shape": ""
          }
         },
         "name": "50?MP + 13?MP + 8?MP Triple Rear & 48?MP + 8?MP Dual Front Camera",
         "offsetgroup": "50?MP + 13?MP + 8?MP Triple Rear & 48?MP + 8?MP Dual Front Camera",
         "orientation": "v",
         "showlegend": true,
         "type": "histogram",
         "x": [
          "Tecno"
         ],
         "xaxis": "x",
         "yaxis": "y"
        },
        {
         "alignmentgroup": "True",
         "bingroup": "x",
         "hovertemplate": "camera=50?MP + Depth Sensor Dual Rear & 5?MP Front Camera<br>mobile_model=%{x}<br>count=%{y}<extra></extra>",
         "legendgroup": "50?MP + Depth Sensor Dual Rear & 5?MP Front Camera",
         "marker": {
          "color": "rgb(218, 165, 27)",
          "pattern": {
           "shape": ""
          }
         },
         "name": "50?MP + Depth Sensor Dual Rear & 5?MP Front Camera",
         "offsetgroup": "50?MP + Depth Sensor Dual Rear & 5?MP Front Camera",
         "orientation": "v",
         "showlegend": true,
         "type": "histogram",
         "x": [
          "Redmi",
          "Poco"
         ],
         "xaxis": "x",
         "yaxis": "y"
        },
        {
         "alignmentgroup": "True",
         "bingroup": "x",
         "hovertemplate": "camera=50?MP + 12?MP Dual Rear & 12?MP Front Camera<br>mobile_model=%{x}<br>count=%{y}<extra></extra>",
         "legendgroup": "50?MP + 12?MP Dual Rear & 12?MP Front Camera",
         "marker": {
          "color": "rgb(47, 138, 196)",
          "pattern": {
           "shape": ""
          }
         },
         "name": "50?MP + 12?MP Dual Rear & 12?MP Front Camera",
         "offsetgroup": "50?MP + 12?MP Dual Rear & 12?MP Front Camera",
         "orientation": "v",
         "showlegend": true,
         "type": "histogram",
         "x": [
          "Asus"
         ],
         "xaxis": "x",
         "yaxis": "y"
        },
        {
         "alignmentgroup": "True",
         "bingroup": "x",
         "hovertemplate": "camera=13?MP + 5?MP + 2?MP Triple Rear & 8?MP Front Camera<br>mobile_model=%{x}<br>count=%{y}<extra></extra>",
         "legendgroup": "13?MP + 5?MP + 2?MP Triple Rear & 8?MP Front Camera",
         "marker": {
          "color": "rgb(118, 78, 159)",
          "pattern": {
           "shape": ""
          }
         },
         "name": "13?MP + 5?MP + 2?MP Triple Rear & 8?MP Front Camera",
         "offsetgroup": "13?MP + 5?MP + 2?MP Triple Rear & 8?MP Front Camera",
         "orientation": "v",
         "showlegend": true,
         "type": "histogram",
         "x": [
          "Sony",
          "Samsung"
         ],
         "xaxis": "x",
         "yaxis": "y"
        },
        {
         "alignmentgroup": "True",
         "bingroup": "x",
         "hovertemplate": "camera=48?MP Triple Rear & 8?MP Front Camera<br>mobile_model=%{x}<br>count=%{y}<extra></extra>",
         "legendgroup": "48?MP Triple Rear & 8?MP Front Camera",
         "marker": {
          "color": "rgb(237, 100, 90)",
          "pattern": {
           "shape": ""
          }
         },
         "name": "48?MP Triple Rear & 8?MP Front Camera",
         "offsetgroup": "48?MP Triple Rear & 8?MP Front Camera",
         "orientation": "v",
         "showlegend": true,
         "type": "histogram",
         "x": [
          "Tecno"
         ],
         "xaxis": "x",
         "yaxis": "y"
        },
        {
         "alignmentgroup": "True",
         "bingroup": "x",
         "hovertemplate": "camera=64?MP + 50?MP Triple Rear & 16?MP Front Camera<br>mobile_model=%{x}<br>count=%{y}<extra></extra>",
         "legendgroup": "64?MP + 50?MP Triple Rear & 16?MP Front Camera",
         "marker": {
          "color": "rgb(165, 170, 153)",
          "pattern": {
           "shape": ""
          }
         },
         "name": "64?MP + 50?MP Triple Rear & 16?MP Front Camera",
         "offsetgroup": "64?MP + 50?MP Triple Rear & 16?MP Front Camera",
         "orientation": "v",
         "showlegend": true,
         "type": "histogram",
         "x": [
          "Nubia"
         ],
         "xaxis": "x",
         "yaxis": "y"
        },
        {
         "alignmentgroup": "True",
         "bingroup": "x",
         "hovertemplate": "camera=108?MP + 8?MP + 8?MP Triple Rear & 16?MP Front Camera<br>mobile_model=%{x}<br>count=%{y}<extra></extra>",
         "legendgroup": "108?MP + 8?MP + 8?MP Triple Rear & 16?MP Front Camera",
         "marker": {
          "color": "rgb(229, 134, 6)",
          "pattern": {
           "shape": ""
          }
         },
         "name": "108?MP + 8?MP + 8?MP Triple Rear & 16?MP Front Camera",
         "offsetgroup": "108?MP + 8?MP + 8?MP Triple Rear & 16?MP Front Camera",
         "orientation": "v",
         "showlegend": true,
         "type": "histogram",
         "x": [
          "Infinix"
         ],
         "xaxis": "x",
         "yaxis": "y"
        },
        {
         "alignmentgroup": "True",
         "bingroup": "x",
         "hovertemplate": "camera=64?MP + 12?MP + 5?MP Triple Rear & 10?MP Front Camera<br>mobile_model=%{x}<br>count=%{y}<extra></extra>",
         "legendgroup": "64?MP + 12?MP + 5?MP Triple Rear & 10?MP Front Camera",
         "marker": {
          "color": "rgb(93, 105, 177)",
          "pattern": {
           "shape": ""
          }
         },
         "name": "64?MP + 12?MP + 5?MP Triple Rear & 10?MP Front Camera",
         "offsetgroup": "64?MP + 12?MP + 5?MP Triple Rear & 10?MP Front Camera",
         "orientation": "v",
         "showlegend": true,
         "type": "histogram",
         "x": [
          "Samsung",
          "Samsung"
         ],
         "xaxis": "x",
         "yaxis": "y"
        },
        {
         "alignmentgroup": "True",
         "bingroup": "x",
         "hovertemplate": "camera=12?MP + 5?MP Dual Rear & 20?MP Front Camera<br>mobile_model=%{x}<br>count=%{y}<extra></extra>",
         "legendgroup": "12?MP + 5?MP Dual Rear & 20?MP Front Camera",
         "marker": {
          "color": "rgb(82, 188, 163)",
          "pattern": {
           "shape": ""
          }
         },
         "name": "12?MP + 5?MP Dual Rear & 20?MP Front Camera",
         "offsetgroup": "12?MP + 5?MP Dual Rear & 20?MP Front Camera",
         "orientation": "v",
         "showlegend": true,
         "type": "histogram",
         "x": [
          "Xiaomi",
          "Xiaomi"
         ],
         "xaxis": "x",
         "yaxis": "y"
        },
        {
         "alignmentgroup": "True",
         "bingroup": "x",
         "hovertemplate": "camera=50?MP + 48?MP + 13?MP Triple Rear & 13?MP Front Camera<br>mobile_model=%{x}<br>count=%{y}<extra></extra>",
         "legendgroup": "50?MP + 48?MP + 13?MP Triple Rear & 13?MP Front Camera",
         "marker": {
          "color": "rgb(153, 201, 69)",
          "pattern": {
           "shape": ""
          }
         },
         "name": "50?MP + 48?MP + 13?MP Triple Rear & 13?MP Front Camera",
         "offsetgroup": "50?MP + 48?MP + 13?MP Triple Rear & 13?MP Front Camera",
         "orientation": "v",
         "showlegend": true,
         "type": "histogram",
         "x": [
          "Huawei"
         ],
         "xaxis": "x",
         "yaxis": "y"
        },
        {
         "alignmentgroup": "True",
         "bingroup": "x",
         "hovertemplate": "camera=12?MP + 12?MP + 12?MP Triple Rear & 8?MP Front Camera<br>mobile_model=%{x}<br>count=%{y}<extra></extra>",
         "legendgroup": "12?MP + 12?MP + 12?MP Triple Rear & 8?MP Front Camera",
         "marker": {
          "color": "rgb(204, 97, 176)",
          "pattern": {
           "shape": ""
          }
         },
         "name": "12?MP + 12?MP + 12?MP Triple Rear & 8?MP Front Camera",
         "offsetgroup": "12?MP + 12?MP + 12?MP Triple Rear & 8?MP Front Camera",
         "orientation": "v",
         "showlegend": true,
         "type": "histogram",
         "x": [
          "Sony"
         ],
         "xaxis": "x",
         "yaxis": "y"
        },
        {
         "alignmentgroup": "True",
         "bingroup": "x",
         "hovertemplate": "camera=13?MP + 8?MP + 2?MP Triple Rear & 16?MP Front Camera<br>mobile_model=%{x}<br>count=%{y}<extra></extra>",
         "legendgroup": "13?MP + 8?MP + 2?MP Triple Rear & 16?MP Front Camera",
         "marker": {
          "color": "rgb(36, 121, 108)",
          "pattern": {
           "shape": ""
          }
         },
         "name": "13?MP + 8?MP + 2?MP Triple Rear & 16?MP Front Camera",
         "offsetgroup": "13?MP + 8?MP + 2?MP Triple Rear & 16?MP Front Camera",
         "orientation": "v",
         "showlegend": true,
         "type": "histogram",
         "x": [
          "Vivo",
          "Vivo"
         ],
         "xaxis": "x",
         "yaxis": "y"
        },
        {
         "alignmentgroup": "True",
         "bingroup": "x",
         "hovertemplate": "camera=64?MP + 8?MP + 2?MP Triple Rear & 8?MP Front Camera<br>mobile_model=%{x}<br>count=%{y}<extra></extra>",
         "legendgroup": "64?MP + 8?MP + 2?MP Triple Rear & 8?MP Front Camera",
         "marker": {
          "color": "rgb(218, 165, 27)",
          "pattern": {
           "shape": ""
          }
         },
         "name": "64?MP + 8?MP + 2?MP Triple Rear & 8?MP Front Camera",
         "offsetgroup": "64?MP + 8?MP + 2?MP Triple Rear & 8?MP Front Camera",
         "orientation": "v",
         "showlegend": true,
         "type": "histogram",
         "x": [
          "Nubia",
          "Nubia"
         ],
         "xaxis": "x",
         "yaxis": "y"
        },
        {
         "alignmentgroup": "True",
         "bingroup": "x",
         "hovertemplate": "camera=16?MP + 2?MP + 2?MP Triple Rear & 8?MP Front Camera<br>mobile_model=%{x}<br>count=%{y}<extra></extra>",
         "legendgroup": "16?MP + 2?MP + 2?MP Triple Rear & 8?MP Front Camera",
         "marker": {
          "color": "rgb(47, 138, 196)",
          "pattern": {
           "shape": ""
          }
         },
         "name": "16?MP + 2?MP + 2?MP Triple Rear & 8?MP Front Camera",
         "offsetgroup": "16?MP + 2?MP + 2?MP Triple Rear & 8?MP Front Camera",
         "orientation": "v",
         "showlegend": true,
         "type": "histogram",
         "x": [
          "Motorola",
          "Motorola"
         ],
         "xaxis": "x",
         "yaxis": "y"
        },
        {
         "alignmentgroup": "True",
         "bingroup": "x",
         "hovertemplate": "camera=48?MP + 8?MP + 5?MP Triple Rear & 8?MP Front Camera<br>mobile_model=%{x}<br>count=%{y}<extra></extra>",
         "legendgroup": "48?MP + 8?MP + 5?MP Triple Rear & 8?MP Front Camera",
         "marker": {
          "color": "rgb(118, 78, 159)",
          "pattern": {
           "shape": ""
          }
         },
         "name": "48?MP + 8?MP + 5?MP Triple Rear & 8?MP Front Camera",
         "offsetgroup": "48?MP + 8?MP + 5?MP Triple Rear & 8?MP Front Camera",
         "orientation": "v",
         "showlegend": true,
         "type": "histogram",
         "x": [
          "Samsung"
         ],
         "xaxis": "x",
         "yaxis": "y"
        },
        {
         "alignmentgroup": "True",
         "bingroup": "x",
         "hovertemplate": "camera=20?MP + 16?MP Dual Rear & 16?MP Front Camera<br>mobile_model=%{x}<br>count=%{y}<extra></extra>",
         "legendgroup": "20?MP + 16?MP Dual Rear & 16?MP Front Camera",
         "marker": {
          "color": "rgb(237, 100, 90)",
          "pattern": {
           "shape": ""
          }
         },
         "name": "20?MP + 16?MP Dual Rear & 16?MP Front Camera",
         "offsetgroup": "20?MP + 16?MP Dual Rear & 16?MP Front Camera",
         "orientation": "v",
         "showlegend": true,
         "type": "histogram",
         "x": [
          "OnePlus"
         ],
         "xaxis": "x",
         "yaxis": "y"
        },
        {
         "alignmentgroup": "True",
         "bingroup": "x",
         "hovertemplate": "camera=12.2?MP Rear & 8?MP Front Camera<br>mobile_model=%{x}<br>count=%{y}<extra></extra>",
         "legendgroup": "12.2?MP Rear & 8?MP Front Camera",
         "marker": {
          "color": "rgb(165, 170, 153)",
          "pattern": {
           "shape": ""
          }
         },
         "name": "12.2?MP Rear & 8?MP Front Camera",
         "offsetgroup": "12.2?MP Rear & 8?MP Front Camera",
         "orientation": "v",
         "showlegend": true,
         "type": "histogram",
         "x": [
          "Google",
          "Google"
         ],
         "xaxis": "x",
         "yaxis": "y"
        },
        {
         "alignmentgroup": "True",
         "bingroup": "x",
         "hovertemplate": "camera=8?MP + 0.3?MP Dual Rear & 5?MP Front Camera<br>mobile_model=%{x}<br>count=%{y}<extra></extra>",
         "legendgroup": "8?MP + 0.3?MP Dual Rear & 5?MP Front Camera",
         "marker": {
          "color": "rgb(229, 134, 6)",
          "pattern": {
           "shape": ""
          }
         },
         "name": "8?MP + 0.3?MP Dual Rear & 5?MP Front Camera",
         "offsetgroup": "8?MP + 0.3?MP Dual Rear & 5?MP Front Camera",
         "orientation": "v",
         "showlegend": true,
         "type": "histogram",
         "x": [
          "Xiaomi",
          "Xiaomi"
         ],
         "xaxis": "x",
         "yaxis": "y"
        },
        {
         "alignmentgroup": "True",
         "bingroup": "x",
         "hovertemplate": "camera=64?MP + 5?MP + 2?MP Triple Rear & 8?MP Front Camera<br>mobile_model=%{x}<br>count=%{y}<extra></extra>",
         "legendgroup": "64?MP + 5?MP + 2?MP Triple Rear & 8?MP Front Camera",
         "marker": {
          "color": "rgb(93, 105, 177)",
          "pattern": {
           "shape": ""
          }
         },
         "name": "64?MP + 5?MP + 2?MP Triple Rear & 8?MP Front Camera",
         "offsetgroup": "64?MP + 5?MP + 2?MP Triple Rear & 8?MP Front Camera",
         "orientation": "v",
         "showlegend": true,
         "type": "histogram",
         "x": [
          "Samsung",
          "Samsung"
         ],
         "xaxis": "x",
         "yaxis": "y"
        },
        {
         "alignmentgroup": "True",
         "bingroup": "x",
         "hovertemplate": "camera=16?MP + 12.2?MP Dual Rear & 8?MP Front Camera<br>mobile_model=%{x}<br>count=%{y}<extra></extra>",
         "legendgroup": "16?MP + 12.2?MP Dual Rear & 8?MP Front Camera",
         "marker": {
          "color": "rgb(82, 188, 163)",
          "pattern": {
           "shape": ""
          }
         },
         "name": "16?MP + 12.2?MP Dual Rear & 8?MP Front Camera",
         "offsetgroup": "16?MP + 12.2?MP Dual Rear & 8?MP Front Camera",
         "orientation": "v",
         "showlegend": true,
         "type": "histogram",
         "x": [
          "Google",
          "Google"
         ],
         "xaxis": "x",
         "yaxis": "y"
        },
        {
         "alignmentgroup": "True",
         "bingroup": "x",
         "hovertemplate": "camera=64?MP + 8?MP + 2?MP Triple Rear & 44?MP Front Camera<br>mobile_model=%{x}<br>count=%{y}<extra></extra>",
         "legendgroup": "64?MP + 8?MP + 2?MP Triple Rear & 44?MP Front Camera",
         "marker": {
          "color": "rgb(153, 201, 69)",
          "pattern": {
           "shape": ""
          }
         },
         "name": "64?MP + 8?MP + 2?MP Triple Rear & 44?MP Front Camera",
         "offsetgroup": "64?MP + 8?MP + 2?MP Triple Rear & 44?MP Front Camera",
         "orientation": "v",
         "showlegend": true,
         "type": "histogram",
         "x": [
          "Vivo",
          "Vivo",
          "Vivo",
          "Vivo"
         ],
         "xaxis": "x",
         "yaxis": "y"
        },
        {
         "alignmentgroup": "True",
         "bingroup": "x",
         "hovertemplate": "camera=50?MP + Depth Sensor Dual Rear & 8?MP Front Camera<br>mobile_model=%{x}<br>count=%{y}<extra></extra>",
         "legendgroup": "50?MP + Depth Sensor Dual Rear & 8?MP Front Camera",
         "marker": {
          "color": "rgb(204, 97, 176)",
          "pattern": {
           "shape": ""
          }
         },
         "name": "50?MP + Depth Sensor Dual Rear & 8?MP Front Camera",
         "offsetgroup": "50?MP + Depth Sensor Dual Rear & 8?MP Front Camera",
         "orientation": "v",
         "showlegend": true,
         "type": "histogram",
         "x": [
          "Infinix",
          "Infinix",
          "Infinix"
         ],
         "xaxis": "x",
         "yaxis": "y"
        },
        {
         "alignmentgroup": "True",
         "bingroup": "x",
         "hovertemplate": "camera=64?MP + 64?MP + 64?MP Triple Rear & 16?MP Front Camera<br>mobile_model=%{x}<br>count=%{y}<extra></extra>",
         "legendgroup": "64?MP + 64?MP + 64?MP Triple Rear & 16?MP Front Camera",
         "marker": {
          "color": "rgb(36, 121, 108)",
          "pattern": {
           "shape": ""
          }
         },
         "name": "64?MP + 64?MP + 64?MP Triple Rear & 16?MP Front Camera",
         "offsetgroup": "64?MP + 64?MP + 64?MP Triple Rear & 16?MP Front Camera",
         "orientation": "v",
         "showlegend": true,
         "type": "histogram",
         "x": [
          "ZTE"
         ],
         "xaxis": "x",
         "yaxis": "y"
        },
        {
         "alignmentgroup": "True",
         "bingroup": "x",
         "hovertemplate": "camera=64?MP + 13?MP Dual Rear & 16?MP Front Camera<br>mobile_model=%{x}<br>count=%{y}<extra></extra>",
         "legendgroup": "64?MP + 13?MP Dual Rear & 16?MP Front Camera",
         "marker": {
          "color": "rgb(218, 165, 27)",
          "pattern": {
           "shape": ""
          }
         },
         "name": "64?MP + 13?MP Dual Rear & 16?MP Front Camera",
         "offsetgroup": "64?MP + 13?MP Dual Rear & 16?MP Front Camera",
         "orientation": "v",
         "showlegend": true,
         "type": "histogram",
         "x": [
          "Lenovo"
         ],
         "xaxis": "x",
         "yaxis": "y"
        },
        {
         "alignmentgroup": "True",
         "bingroup": "x",
         "hovertemplate": "camera=48?MP + 8?MP + 2?MP Triple Rear & 8?MP Front Camera<br>mobile_model=%{x}<br>count=%{y}<extra></extra>",
         "legendgroup": "48?MP + 8?MP + 2?MP Triple Rear & 8?MP Front Camera",
         "marker": {
          "color": "rgb(47, 138, 196)",
          "pattern": {
           "shape": ""
          }
         },
         "name": "48?MP + 8?MP + 2?MP Triple Rear & 8?MP Front Camera",
         "offsetgroup": "48?MP + 8?MP + 2?MP Triple Rear & 8?MP Front Camera",
         "orientation": "v",
         "showlegend": true,
         "type": "histogram",
         "x": [
          "Poco",
          "Samsung",
          "Realme"
         ],
         "xaxis": "x",
         "yaxis": "y"
        },
        {
         "alignmentgroup": "True",
         "bingroup": "x",
         "hovertemplate": "camera=48?MP + 8?MP + 2?MP Triple Rear & 20?MP Front Camera<br>mobile_model=%{x}<br>count=%{y}<extra></extra>",
         "legendgroup": "48?MP + 8?MP + 2?MP Triple Rear & 20?MP Front Camera",
         "marker": {
          "color": "rgb(118, 78, 159)",
          "pattern": {
           "shape": ""
          }
         },
         "name": "48?MP + 8?MP + 2?MP Triple Rear & 20?MP Front Camera",
         "offsetgroup": "48?MP + 8?MP + 2?MP Triple Rear & 20?MP Front Camera",
         "orientation": "v",
         "showlegend": true,
         "type": "histogram",
         "x": [
          "Xiaomi",
          "Xiaomi"
         ],
         "xaxis": "x",
         "yaxis": "y"
        },
        {
         "alignmentgroup": "True",
         "bingroup": "x",
         "hovertemplate": "camera=64?MP + 13?MP + 5?MP Triple Rear & 24?MP Front Camera<br>mobile_model=%{x}<br>count=%{y}<extra></extra>",
         "legendgroup": "64?MP + 13?MP + 5?MP Triple Rear & 24?MP Front Camera",
         "marker": {
          "color": "rgb(237, 100, 90)",
          "pattern": {
           "shape": ""
          }
         },
         "name": "64?MP + 13?MP + 5?MP Triple Rear & 24?MP Front Camera",
         "offsetgroup": "64?MP + 13?MP + 5?MP Triple Rear & 24?MP Front Camera",
         "orientation": "v",
         "showlegend": true,
         "type": "histogram",
         "x": [
          "Asus"
         ],
         "xaxis": "x",
         "yaxis": "y"
        },
        {
         "alignmentgroup": "True",
         "bingroup": "x",
         "hovertemplate": "camera=Dual Display<br>mobile_model=%{x}<br>count=%{y}<extra></extra>",
         "legendgroup": "Dual Display",
         "marker": {
          "color": "rgb(165, 170, 153)",
          "pattern": {
           "shape": ""
          }
         },
         "name": "Dual Display",
         "offsetgroup": "Dual Display",
         "orientation": "v",
         "showlegend": true,
         "type": "histogram",
         "x": [
          "LG",
          "Oukitel",
          "OPPO"
         ],
         "xaxis": "x",
         "yaxis": "y"
        },
        {
         "alignmentgroup": "True",
         "bingroup": "x",
         "hovertemplate": "camera=50?MP + 13?MP + 2?MP Triple Rear & 16?MP Front Camera<br>mobile_model=%{x}<br>count=%{y}<extra></extra>",
         "legendgroup": "50?MP + 13?MP + 2?MP Triple Rear & 16?MP Front Camera",
         "marker": {
          "color": "rgb(229, 134, 6)",
          "pattern": {
           "shape": ""
          }
         },
         "name": "50?MP + 13?MP + 2?MP Triple Rear & 16?MP Front Camera",
         "offsetgroup": "50?MP + 13?MP + 2?MP Triple Rear & 16?MP Front Camera",
         "orientation": "v",
         "showlegend": true,
         "type": "histogram",
         "x": [
          "Oppo"
         ],
         "xaxis": "x",
         "yaxis": "y"
        },
        {
         "alignmentgroup": "True",
         "bingroup": "x",
         "hovertemplate": "camera=48?MP + 2?MP + 2?MP Triple Rear & 32?MP Front Camera<br>mobile_model=%{x}<br>count=%{y}<extra></extra>",
         "legendgroup": "48?MP + 2?MP + 2?MP Triple Rear & 32?MP Front Camera",
         "marker": {
          "color": "rgb(93, 105, 177)",
          "pattern": {
           "shape": ""
          }
         },
         "name": "48?MP + 2?MP + 2?MP Triple Rear & 32?MP Front Camera",
         "offsetgroup": "48?MP + 2?MP + 2?MP Triple Rear & 32?MP Front Camera",
         "orientation": "v",
         "showlegend": true,
         "type": "histogram",
         "x": [
          "Tecno"
         ],
         "xaxis": "x",
         "yaxis": "y"
        },
        {
         "alignmentgroup": "True",
         "bingroup": "x",
         "hovertemplate": "camera=64?MP + 12?MP + 2?MP Triple Rear & 16?MP Front Camera<br>mobile_model=%{x}<br>count=%{y}<extra></extra>",
         "legendgroup": "64?MP + 12?MP + 2?MP Triple Rear & 16?MP Front Camera",
         "marker": {
          "color": "rgb(82, 188, 163)",
          "pattern": {
           "shape": ""
          }
         },
         "name": "64?MP + 12?MP + 2?MP Triple Rear & 16?MP Front Camera",
         "offsetgroup": "64?MP + 12?MP + 2?MP Triple Rear & 16?MP Front Camera",
         "orientation": "v",
         "showlegend": true,
         "type": "histogram",
         "x": [
          "iQOO"
         ],
         "xaxis": "x",
         "yaxis": "y"
        },
        {
         "alignmentgroup": "True",
         "bingroup": "x",
         "hovertemplate": "camera=50?MP + 50?MP + 16?MP Triple Rear & 16?MP Front Camera<br>mobile_model=%{x}<br>count=%{y}<extra></extra>",
         "legendgroup": "50?MP + 50?MP + 16?MP Triple Rear & 16?MP Front Camera",
         "marker": {
          "color": "rgb(153, 201, 69)",
          "pattern": {
           "shape": ""
          }
         },
         "name": "50?MP + 50?MP + 16?MP Triple Rear & 16?MP Front Camera",
         "offsetgroup": "50?MP + 50?MP + 16?MP Triple Rear & 16?MP Front Camera",
         "orientation": "v",
         "showlegend": true,
         "type": "histogram",
         "x": [
          "iQOO"
         ],
         "xaxis": "x",
         "yaxis": "y"
        },
        {
         "alignmentgroup": "True",
         "bingroup": "x",
         "hovertemplate": "camera=48?MP + 5?MP + 2?MP Triple Rear & 8?MP Front Camera<br>mobile_model=%{x}<br>count=%{y}<extra></extra>",
         "legendgroup": "48?MP + 5?MP + 2?MP Triple Rear & 8?MP Front Camera",
         "marker": {
          "color": "rgb(204, 97, 176)",
          "pattern": {
           "shape": ""
          }
         },
         "name": "48?MP + 5?MP + 2?MP Triple Rear & 8?MP Front Camera",
         "offsetgroup": "48?MP + 5?MP + 2?MP Triple Rear & 8?MP Front Camera",
         "orientation": "v",
         "showlegend": true,
         "type": "histogram",
         "x": [
          "Samsung"
         ],
         "xaxis": "x",
         "yaxis": "y"
        },
        {
         "alignmentgroup": "True",
         "bingroup": "x",
         "hovertemplate": "camera=48?MP + 16?MP + 2?MP Triple Rear & 16?MP Front Camera<br>mobile_model=%{x}<br>count=%{y}<extra></extra>",
         "legendgroup": "48?MP + 16?MP + 2?MP Triple Rear & 16?MP Front Camera",
         "marker": {
          "color": "rgb(36, 121, 108)",
          "pattern": {
           "shape": ""
          }
         },
         "name": "48?MP + 16?MP + 2?MP Triple Rear & 16?MP Front Camera",
         "offsetgroup": "48?MP + 16?MP + 2?MP Triple Rear & 16?MP Front Camera",
         "orientation": "v",
         "showlegend": true,
         "type": "histogram",
         "x": [
          "OnePlus"
         ],
         "xaxis": "x",
         "yaxis": "y"
        },
        {
         "alignmentgroup": "True",
         "bingroup": "x",
         "hovertemplate": "camera=108?MP + 13?MP + 2?MP Triple Rear & 32?MP Front Camera<br>mobile_model=%{x}<br>count=%{y}<extra></extra>",
         "legendgroup": "108?MP + 13?MP + 2?MP Triple Rear & 32?MP Front Camera",
         "marker": {
          "color": "rgb(218, 165, 27)",
          "pattern": {
           "shape": ""
          }
         },
         "name": "108?MP + 13?MP + 2?MP Triple Rear & 32?MP Front Camera",
         "offsetgroup": "108?MP + 13?MP + 2?MP Triple Rear & 32?MP Front Camera",
         "orientation": "v",
         "showlegend": true,
         "type": "histogram",
         "x": [
          "Vivo",
          "Poco"
         ],
         "xaxis": "x",
         "yaxis": "y"
        },
        {
         "alignmentgroup": "True",
         "bingroup": "x",
         "hovertemplate": "camera=12?MP Quad Rear & 8?MP Front Camera<br>mobile_model=%{x}<br>count=%{y}<extra></extra>",
         "legendgroup": "12?MP Quad Rear & 8?MP Front Camera",
         "marker": {
          "color": "rgb(47, 138, 196)",
          "pattern": {
           "shape": ""
          }
         },
         "name": "12?MP Quad Rear & 8?MP Front Camera",
         "offsetgroup": "12?MP Quad Rear & 8?MP Front Camera",
         "orientation": "v",
         "showlegend": true,
         "type": "histogram",
         "x": [
          "Sony"
         ],
         "xaxis": "x",
         "yaxis": "y"
        },
        {
         "alignmentgroup": "True",
         "bingroup": "x",
         "hovertemplate": "camera=108?MP + 16?MP + 8?MP Triple Rear & 25?MP Front Camera<br>mobile_model=%{x}<br>count=%{y}<extra></extra>",
         "legendgroup": "108?MP + 16?MP + 8?MP Triple Rear & 25?MP Front Camera",
         "marker": {
          "color": "rgb(118, 78, 159)",
          "pattern": {
           "shape": ""
          }
         },
         "name": "108?MP + 16?MP + 8?MP Triple Rear & 25?MP Front Camera",
         "offsetgroup": "108?MP + 16?MP + 8?MP Triple Rear & 25?MP Front Camera",
         "orientation": "v",
         "showlegend": true,
         "type": "histogram",
         "x": [
          "Motorola"
         ],
         "xaxis": "x",
         "yaxis": "y"
        },
        {
         "alignmentgroup": "True",
         "bingroup": "x",
         "hovertemplate": "camera=48?MP Quad Rear & 8?MP Front Camera<br>mobile_model=%{x}<br>count=%{y}<extra></extra>",
         "legendgroup": "48?MP Quad Rear & 8?MP Front Camera",
         "marker": {
          "color": "rgb(237, 100, 90)",
          "pattern": {
           "shape": ""
          }
         },
         "name": "48?MP Quad Rear & 8?MP Front Camera",
         "offsetgroup": "48?MP Quad Rear & 8?MP Front Camera",
         "orientation": "v",
         "showlegend": true,
         "type": "histogram",
         "x": [
          "Samsung",
          "Samsung",
          "Xiaomi",
          "Tecno",
          "Samsung",
          "Samsung"
         ],
         "xaxis": "x",
         "yaxis": "y"
        },
        {
         "alignmentgroup": "True",
         "bingroup": "x",
         "hovertemplate": "camera=50?MP + 13?MP + 12?MP Triple Rear & 16?MP Front Camera<br>mobile_model=%{x}<br>count=%{y}<extra></extra>",
         "legendgroup": "50?MP + 13?MP + 12?MP Triple Rear & 16?MP Front Camera",
         "marker": {
          "color": "rgb(165, 170, 153)",
          "pattern": {
           "shape": ""
          }
         },
         "name": "50?MP + 13?MP + 12?MP Triple Rear & 16?MP Front Camera",
         "offsetgroup": "50?MP + 13?MP + 12?MP Triple Rear & 16?MP Front Camera",
         "orientation": "v",
         "showlegend": true,
         "type": "histogram",
         "x": [
          "iQOO"
         ],
         "xaxis": "x",
         "yaxis": "y"
        },
        {
         "alignmentgroup": "True",
         "bingroup": "x",
         "hovertemplate": "camera=8?MP + Depth Sensor Dual Rear & 5?MP Front Camera<br>mobile_model=%{x}<br>count=%{y}<extra></extra>",
         "legendgroup": "8?MP + Depth Sensor Dual Rear & 5?MP Front Camera",
         "marker": {
          "color": "rgb(229, 134, 6)",
          "pattern": {
           "shape": ""
          }
         },
         "name": "8?MP + Depth Sensor Dual Rear & 5?MP Front Camera",
         "offsetgroup": "8?MP + Depth Sensor Dual Rear & 5?MP Front Camera",
         "orientation": "v",
         "showlegend": true,
         "type": "histogram",
         "x": [
          "Letv",
          "Infinix"
         ],
         "xaxis": "x",
         "yaxis": "y"
        },
        {
         "alignmentgroup": "True",
         "bingroup": "x",
         "hovertemplate": "camera=8?MP + 0.08?MP Dual Rear & 5?MP Front Camera<br>mobile_model=%{x}<br>count=%{y}<extra></extra>",
         "legendgroup": "8?MP + 0.08?MP Dual Rear & 5?MP Front Camera",
         "marker": {
          "color": "rgb(93, 105, 177)",
          "pattern": {
           "shape": ""
          }
         },
         "name": "8?MP + 0.08?MP Dual Rear & 5?MP Front Camera",
         "offsetgroup": "8?MP + 0.08?MP Dual Rear & 5?MP Front Camera",
         "orientation": "v",
         "showlegend": true,
         "type": "histogram",
         "x": [
          "itel"
         ],
         "xaxis": "x",
         "yaxis": "y"
        },
        {
         "alignmentgroup": "True",
         "bingroup": "x",
         "hovertemplate": "camera=8?MP Dual Rear & 5?MP Front Camera<br>mobile_model=%{x}<br>count=%{y}<extra></extra>",
         "legendgroup": "8?MP Dual Rear & 5?MP Front Camera",
         "marker": {
          "color": "rgb(82, 188, 163)",
          "pattern": {
           "shape": ""
          }
         },
         "name": "8?MP Dual Rear & 5?MP Front Camera",
         "offsetgroup": "8?MP Dual Rear & 5?MP Front Camera",
         "orientation": "v",
         "showlegend": true,
         "type": "histogram",
         "x": [
          "Infinix",
          "Poco"
         ],
         "xaxis": "x",
         "yaxis": "y"
        },
        {
         "alignmentgroup": "True",
         "bingroup": "x",
         "hovertemplate": "camera=64?MP + 2?MP Triple Rear & 16?MP Front Camera<br>mobile_model=%{x}<br>count=%{y}<extra></extra>",
         "legendgroup": "64?MP + 2?MP Triple Rear & 16?MP Front Camera",
         "marker": {
          "color": "rgb(153, 201, 69)",
          "pattern": {
           "shape": ""
          }
         },
         "name": "64?MP + 2?MP Triple Rear & 16?MP Front Camera",
         "offsetgroup": "64?MP + 2?MP Triple Rear & 16?MP Front Camera",
         "orientation": "v",
         "showlegend": true,
         "type": "histogram",
         "x": [
          "Tecno"
         ],
         "xaxis": "x",
         "yaxis": "y"
        },
        {
         "alignmentgroup": "True",
         "bingroup": "x",
         "hovertemplate": "camera=64?MP + 13?MP + 5?MP Triple Rear & 20?MP Front Camera<br>mobile_model=%{x}<br>count=%{y}<extra></extra>",
         "legendgroup": "64?MP + 13?MP + 5?MP Triple Rear & 20?MP Front Camera",
         "marker": {
          "color": "rgb(204, 97, 176)",
          "pattern": {
           "shape": ""
          }
         },
         "name": "64?MP + 13?MP + 5?MP Triple Rear & 20?MP Front Camera",
         "offsetgroup": "64?MP + 13?MP + 5?MP Triple Rear & 20?MP Front Camera",
         "orientation": "v",
         "showlegend": true,
         "type": "histogram",
         "x": [
          "Xiaomi"
         ],
         "xaxis": "x",
         "yaxis": "y"
        },
        {
         "alignmentgroup": "True",
         "bingroup": "x",
         "hovertemplate": "camera=48?MP + 8?MP + 5?MP Triple Rear & 16?MP Front Camera<br>mobile_model=%{x}<br>count=%{y}<extra></extra>",
         "legendgroup": "48?MP + 8?MP + 5?MP Triple Rear & 16?MP Front Camera",
         "marker": {
          "color": "rgb(36, 121, 108)",
          "pattern": {
           "shape": ""
          }
         },
         "name": "48?MP + 8?MP + 5?MP Triple Rear & 16?MP Front Camera",
         "offsetgroup": "48?MP + 8?MP + 5?MP Triple Rear & 16?MP Front Camera",
         "orientation": "v",
         "showlegend": true,
         "type": "histogram",
         "x": [
          "LG",
          "Samsung"
         ],
         "xaxis": "x",
         "yaxis": "y"
        },
        {
         "alignmentgroup": "True",
         "bingroup": "x",
         "hovertemplate": "camera=12?MP + 12?MP + 12?MP Triple Rear & 32?MP Front Camera<br>mobile_model=%{x}<br>count=%{y}<extra></extra>",
         "legendgroup": "12?MP + 12?MP + 12?MP Triple Rear & 32?MP Front Camera",
         "marker": {
          "color": "rgb(218, 165, 27)",
          "pattern": {
           "shape": ""
          }
         },
         "name": "12?MP + 12?MP + 12?MP Triple Rear & 32?MP Front Camera",
         "offsetgroup": "12?MP + 12?MP + 12?MP Triple Rear & 32?MP Front Camera",
         "orientation": "v",
         "showlegend": true,
         "type": "histogram",
         "x": [
          "Samsung"
         ],
         "xaxis": "x",
         "yaxis": "y"
        },
        {
         "alignmentgroup": "True",
         "bingroup": "x",
         "hovertemplate": "camera=12?MP Quad Rear & 10?MP Front Camera<br>mobile_model=%{x}<br>count=%{y}<extra></extra>",
         "legendgroup": "12?MP Quad Rear & 10?MP Front Camera",
         "marker": {
          "color": "rgb(47, 138, 196)",
          "pattern": {
           "shape": ""
          }
         },
         "name": "12?MP Quad Rear & 10?MP Front Camera",
         "offsetgroup": "12?MP Quad Rear & 10?MP Front Camera",
         "orientation": "v",
         "showlegend": true,
         "type": "histogram",
         "x": [
          "Samsung",
          "Samsung"
         ],
         "xaxis": "x",
         "yaxis": "y"
        },
        {
         "alignmentgroup": "True",
         "bingroup": "x",
         "hovertemplate": "camera=64?MP + 50?MP + 8?MP Triple Rear & 16?MP Front Camera<br>mobile_model=%{x}<br>count=%{y}<extra></extra>",
         "legendgroup": "64?MP + 50?MP + 8?MP Triple Rear & 16?MP Front Camera",
         "marker": {
          "color": "rgb(118, 78, 159)",
          "pattern": {
           "shape": ""
          }
         },
         "name": "64?MP + 50?MP + 8?MP Triple Rear & 16?MP Front Camera",
         "offsetgroup": "64?MP + 50?MP + 8?MP Triple Rear & 16?MP Front Camera",
         "orientation": "v",
         "showlegend": true,
         "type": "histogram",
         "x": [
          "Nubia"
         ],
         "xaxis": "x",
         "yaxis": "y"
        },
        {
         "alignmentgroup": "True",
         "bingroup": "x",
         "hovertemplate": "camera=16?MP Rear & 13?MP Front Camera<br>mobile_model=%{x}<br>count=%{y}<extra></extra>",
         "legendgroup": "16?MP Rear & 13?MP Front Camera",
         "marker": {
          "color": "rgb(237, 100, 90)",
          "pattern": {
           "shape": ""
          }
         },
         "name": "16?MP Rear & 13?MP Front Camera",
         "offsetgroup": "16?MP Rear & 13?MP Front Camera",
         "orientation": "v",
         "showlegend": true,
         "type": "histogram",
         "x": [
          "Gionee"
         ],
         "xaxis": "x",
         "yaxis": "y"
        },
        {
         "alignmentgroup": "True",
         "bingroup": "x",
         "hovertemplate": "camera=13?MP Quad Rear & 8?MP Front Camera<br>mobile_model=%{x}<br>count=%{y}<extra></extra>",
         "legendgroup": "13?MP Quad Rear & 8?MP Front Camera",
         "marker": {
          "color": "rgb(165, 170, 153)",
          "pattern": {
           "shape": ""
          }
         },
         "name": "13?MP Quad Rear & 8?MP Front Camera",
         "offsetgroup": "13?MP Quad Rear & 8?MP Front Camera",
         "orientation": "v",
         "showlegend": true,
         "type": "histogram",
         "x": [
          "Poco"
         ],
         "xaxis": "x",
         "yaxis": "y"
        },
        {
         "alignmentgroup": "True",
         "bingroup": "x",
         "hovertemplate": "camera=48?MP Quad Rear & 16?MP + 2?MP Dual Front Camera<br>mobile_model=%{x}<br>count=%{y}<extra></extra>",
         "legendgroup": "48?MP Quad Rear & 16?MP + 2?MP Dual Front Camera",
         "marker": {
          "color": "rgb(229, 134, 6)",
          "pattern": {
           "shape": ""
          }
         },
         "name": "48?MP Quad Rear & 16?MP + 2?MP Dual Front Camera",
         "offsetgroup": "48?MP Quad Rear & 16?MP + 2?MP Dual Front Camera",
         "orientation": "v",
         "showlegend": true,
         "type": "histogram",
         "x": [
          "OPPO"
         ],
         "xaxis": "x",
         "yaxis": "y"
        },
        {
         "alignmentgroup": "True",
         "bingroup": "x",
         "hovertemplate": "camera=48?MP + 8?MP + 5?MP Triple Rear & 32?MP Front Camera<br>mobile_model=%{x}<br>count=%{y}<extra></extra>",
         "legendgroup": "48?MP + 8?MP + 5?MP Triple Rear & 32?MP Front Camera",
         "marker": {
          "color": "rgb(93, 105, 177)",
          "pattern": {
           "shape": ""
          }
         },
         "name": "48?MP + 8?MP + 5?MP Triple Rear & 32?MP Front Camera",
         "offsetgroup": "48?MP + 8?MP + 5?MP Triple Rear & 32?MP Front Camera",
         "orientation": "v",
         "showlegend": true,
         "type": "histogram",
         "x": [
          "Samsung",
          "Vivo"
         ],
         "xaxis": "x",
         "yaxis": "y"
        },
        {
         "alignmentgroup": "True",
         "bingroup": "x",
         "hovertemplate": "camera=48?MP Quad Rear & 32?MP Front Camera<br>mobile_model=%{x}<br>count=%{y}<extra></extra>",
         "legendgroup": "48?MP Quad Rear & 32?MP Front Camera",
         "marker": {
          "color": "rgb(82, 188, 163)",
          "pattern": {
           "shape": ""
          }
         },
         "name": "48?MP Quad Rear & 32?MP Front Camera",
         "offsetgroup": "48?MP Quad Rear & 32?MP Front Camera",
         "orientation": "v",
         "showlegend": true,
         "type": "histogram",
         "x": [
          "Vivo"
         ],
         "xaxis": "x",
         "yaxis": "y"
        },
        {
         "alignmentgroup": "True",
         "bingroup": "x",
         "hovertemplate": "camera=64?MP + 13?MP Dual Rear & 32?MP Front Camera<br>mobile_model=%{x}<br>count=%{y}<extra></extra>",
         "legendgroup": "64?MP + 13?MP Dual Rear & 32?MP Front Camera",
         "marker": {
          "color": "rgb(153, 201, 69)",
          "pattern": {
           "shape": ""
          }
         },
         "name": "64?MP + 13?MP Dual Rear & 32?MP Front Camera",
         "offsetgroup": "64?MP + 13?MP Dual Rear & 32?MP Front Camera",
         "orientation": "v",
         "showlegend": true,
         "type": "histogram",
         "x": [
          "Motorola"
         ],
         "xaxis": "x",
         "yaxis": "y"
        },
        {
         "alignmentgroup": "True",
         "bingroup": "x",
         "hovertemplate": "camera=108?MP + 8?MP + 2?MP Triple Rear & 20?MP Front Camera<br>mobile_model=%{x}<br>count=%{y}<extra></extra>",
         "legendgroup": "108?MP + 8?MP + 2?MP Triple Rear & 20?MP Front Camera",
         "marker": {
          "color": "rgb(204, 97, 176)",
          "pattern": {
           "shape": ""
          }
         },
         "name": "108?MP + 8?MP + 2?MP Triple Rear & 20?MP Front Camera",
         "offsetgroup": "108?MP + 8?MP + 2?MP Triple Rear & 20?MP Front Camera",
         "orientation": "v",
         "showlegend": true,
         "type": "histogram",
         "x": [
          "Xiaomi",
          "Xiaomi"
         ],
         "xaxis": "x",
         "yaxis": "y"
        },
        {
         "alignmentgroup": "True",
         "bingroup": "x",
         "hovertemplate": "camera=64?MP + 50?MP + 13?MP Triple Rear & 13?MP Front Camera<br>mobile_model=%{x}<br>count=%{y}<extra></extra>",
         "legendgroup": "64?MP + 50?MP + 13?MP Triple Rear & 13?MP Front Camera",
         "marker": {
          "color": "rgb(36, 121, 108)",
          "pattern": {
           "shape": ""
          }
         },
         "name": "64?MP + 50?MP + 13?MP Triple Rear & 13?MP Front Camera",
         "offsetgroup": "64?MP + 50?MP + 13?MP Triple Rear & 13?MP Front Camera",
         "orientation": "v",
         "showlegend": true,
         "type": "histogram",
         "x": [
          "Huawei"
         ],
         "xaxis": "x",
         "yaxis": "y"
        },
        {
         "alignmentgroup": "True",
         "bingroup": "x",
         "hovertemplate": "camera=Foldable Display<br>mobile_model=%{x}<br>count=%{y}<extra></extra>",
         "legendgroup": "Foldable Display",
         "marker": {
          "color": "rgb(218, 165, 27)",
          "pattern": {
           "shape": ""
          }
         },
         "name": "Foldable Display",
         "offsetgroup": "Foldable Display",
         "orientation": "v",
         "showlegend": true,
         "type": "histogram",
         "x": [
          "Huawei"
         ],
         "xaxis": "x",
         "yaxis": "y"
        },
        {
         "alignmentgroup": "True",
         "bingroup": "x",
         "hovertemplate": "camera=50?MP + 13?MP Dual Rear & 13?MP Front Camera<br>mobile_model=%{x}<br>count=%{y}<extra></extra>",
         "legendgroup": "50?MP + 13?MP Dual Rear & 13?MP Front Camera",
         "marker": {
          "color": "rgb(47, 138, 196)",
          "pattern": {
           "shape": ""
          }
         },
         "name": "50?MP + 13?MP Dual Rear & 13?MP Front Camera",
         "offsetgroup": "50?MP + 13?MP Dual Rear & 13?MP Front Camera",
         "orientation": "v",
         "showlegend": true,
         "type": "histogram",
         "x": [
          "Apple"
         ],
         "xaxis": "x",
         "yaxis": "y"
        },
        {
         "alignmentgroup": "True",
         "bingroup": "x",
         "hovertemplate": "camera=16?MP + 2?MP Dual Rear & 8?MP Front Camera<br>mobile_model=%{x}<br>count=%{y}<extra></extra>",
         "legendgroup": "16?MP + 2?MP Dual Rear & 8?MP Front Camera",
         "marker": {
          "color": "rgb(118, 78, 159)",
          "pattern": {
           "shape": ""
          }
         },
         "name": "16?MP + 2?MP Dual Rear & 8?MP Front Camera",
         "offsetgroup": "16?MP + 2?MP Dual Rear & 8?MP Front Camera",
         "orientation": "v",
         "showlegend": true,
         "type": "histogram",
         "x": [
          "Tecno",
          "Tecno",
          "Motorola"
         ],
         "xaxis": "x",
         "yaxis": "y"
        },
        {
         "alignmentgroup": "True",
         "bingroup": "x",
         "hovertemplate": "camera=50?MP Quad Rear & 32?MP Front Camera<br>mobile_model=%{x}<br>count=%{y}<extra></extra>",
         "legendgroup": "50?MP Quad Rear & 32?MP Front Camera",
         "marker": {
          "color": "rgb(237, 100, 90)",
          "pattern": {
           "shape": ""
          }
         },
         "name": "50?MP Quad Rear & 32?MP Front Camera",
         "offsetgroup": "50?MP Quad Rear & 32?MP Front Camera",
         "orientation": "v",
         "showlegend": true,
         "type": "histogram",
         "x": [
          "Huawei",
          "OPPO"
         ],
         "xaxis": "x",
         "yaxis": "y"
        },
        {
         "alignmentgroup": "True",
         "bingroup": "x",
         "hovertemplate": "camera=64?MP Quad Rear & 16?MP + 8?MP Dual Front Camera<br>mobile_model=%{x}<br>count=%{y}<extra></extra>",
         "legendgroup": "64?MP Quad Rear & 16?MP + 8?MP Dual Front Camera",
         "marker": {
          "color": "rgb(165, 170, 153)",
          "pattern": {
           "shape": ""
          }
         },
         "name": "64?MP Quad Rear & 16?MP + 8?MP Dual Front Camera",
         "offsetgroup": "64?MP Quad Rear & 16?MP + 8?MP Dual Front Camera",
         "orientation": "v",
         "showlegend": true,
         "type": "histogram",
         "x": [
          "Motorola",
          "Realme"
         ],
         "xaxis": "x",
         "yaxis": "y"
        },
        {
         "alignmentgroup": "True",
         "bingroup": "x",
         "hovertemplate": "camera=64?MP + 8?MP + 2?MP Triple Rear & 44?MP + 8?MP Dual Front Camera<br>mobile_model=%{x}<br>count=%{y}<extra></extra>",
         "legendgroup": "64?MP + 8?MP + 2?MP Triple Rear & 44?MP + 8?MP Dual Front Camera",
         "marker": {
          "color": "rgb(229, 134, 6)",
          "pattern": {
           "shape": ""
          }
         },
         "name": "64?MP + 8?MP + 2?MP Triple Rear & 44?MP + 8?MP Dual Front Camera",
         "offsetgroup": "64?MP + 8?MP + 2?MP Triple Rear & 44?MP + 8?MP Dual Front Camera",
         "orientation": "v",
         "showlegend": true,
         "type": "histogram",
         "x": [
          "Vivo"
         ],
         "xaxis": "x",
         "yaxis": "y"
        },
        {
         "alignmentgroup": "True",
         "bingroup": "x",
         "hovertemplate": "camera=108?MP + 13?MP + 5?MP Triple Rear & 20?MP Front Camera<br>mobile_model=%{x}<br>count=%{y}<extra></extra>",
         "legendgroup": "108?MP + 13?MP + 5?MP Triple Rear & 20?MP Front Camera",
         "marker": {
          "color": "rgb(93, 105, 177)",
          "pattern": {
           "shape": ""
          }
         },
         "name": "108?MP + 13?MP + 5?MP Triple Rear & 20?MP Front Camera",
         "offsetgroup": "108?MP + 13?MP + 5?MP Triple Rear & 20?MP Front Camera",
         "orientation": "v",
         "showlegend": true,
         "type": "histogram",
         "x": [
          "Xiaomi"
         ],
         "xaxis": "x",
         "yaxis": "y"
        },
        {
         "alignmentgroup": "True",
         "bingroup": "x",
         "hovertemplate": "camera=48?MP Quad Rear & 32?MP + 8?MP Dual Front Camera<br>mobile_model=%{x}<br>count=%{y}<extra></extra>",
         "legendgroup": "48?MP Quad Rear & 32?MP + 8?MP Dual Front Camera",
         "marker": {
          "color": "rgb(82, 188, 163)",
          "pattern": {
           "shape": ""
          }
         },
         "name": "48?MP Quad Rear & 32?MP + 8?MP Dual Front Camera",
         "offsetgroup": "48?MP Quad Rear & 32?MP + 8?MP Dual Front Camera",
         "orientation": "v",
         "showlegend": true,
         "type": "histogram",
         "x": [
          "Vivo"
         ],
         "xaxis": "x",
         "yaxis": "y"
        },
        {
         "alignmentgroup": "True",
         "bingroup": "x",
         "hovertemplate": "camera=16?MP + 8?MP + 2?MP Triple Rear & 16?MP Front Camera<br>mobile_model=%{x}<br>count=%{y}<extra></extra>",
         "legendgroup": "16?MP + 8?MP + 2?MP Triple Rear & 16?MP Front Camera",
         "marker": {
          "color": "rgb(153, 201, 69)",
          "pattern": {
           "shape": ""
          }
         },
         "name": "16?MP + 8?MP + 2?MP Triple Rear & 16?MP Front Camera",
         "offsetgroup": "16?MP + 8?MP + 2?MP Triple Rear & 16?MP Front Camera",
         "orientation": "v",
         "showlegend": true,
         "type": "histogram",
         "x": [
          "Vivo",
          "Vivo",
          "Vivo"
         ],
         "xaxis": "x",
         "yaxis": "y"
        },
        {
         "alignmentgroup": "True",
         "bingroup": "x",
         "hovertemplate": "camera=13?MP + 8?MP + 2?MP Triple Rear & 8?MP Front Camera<br>mobile_model=%{x}<br>count=%{y}<extra></extra>",
         "legendgroup": "13?MP + 8?MP + 2?MP Triple Rear & 8?MP Front Camera",
         "marker": {
          "color": "rgb(204, 97, 176)",
          "pattern": {
           "shape": ""
          }
         },
         "name": "13?MP + 8?MP + 2?MP Triple Rear & 8?MP Front Camera",
         "offsetgroup": "13?MP + 8?MP + 2?MP Triple Rear & 8?MP Front Camera",
         "orientation": "v",
         "showlegend": true,
         "type": "histogram",
         "x": [
          "Vivo"
         ],
         "xaxis": "x",
         "yaxis": "y"
        },
        {
         "alignmentgroup": "True",
         "bingroup": "x",
         "hovertemplate": "camera=20?MP Rear & 13?MP Front Camera<br>mobile_model=%{x}<br>count=%{y}<extra></extra>",
         "legendgroup": "20?MP Rear & 13?MP Front Camera",
         "marker": {
          "color": "rgb(36, 121, 108)",
          "pattern": {
           "shape": ""
          }
         },
         "name": "20?MP Rear & 13?MP Front Camera",
         "offsetgroup": "20?MP Rear & 13?MP Front Camera",
         "orientation": "v",
         "showlegend": true,
         "type": "histogram",
         "x": [
          "iKall",
          "iKall"
         ],
         "xaxis": "x",
         "yaxis": "y"
        },
        {
         "alignmentgroup": "True",
         "bingroup": "x",
         "hovertemplate": "camera=50?MP + 8?MP + 2?MP Triple Rear & 20?MP Front Camera<br>mobile_model=%{x}<br>count=%{y}<extra></extra>",
         "legendgroup": "50?MP + 8?MP + 2?MP Triple Rear & 20?MP Front Camera",
         "marker": {
          "color": "rgb(218, 165, 27)",
          "pattern": {
           "shape": ""
          }
         },
         "name": "50?MP + 8?MP + 2?MP Triple Rear & 20?MP Front Camera",
         "offsetgroup": "50?MP + 8?MP + 2?MP Triple Rear & 20?MP Front Camera",
         "orientation": "v",
         "showlegend": true,
         "type": "histogram",
         "x": [
          "Xiaomi"
         ],
         "xaxis": "x",
         "yaxis": "y"
        },
        {
         "alignmentgroup": "True",
         "bingroup": "x",
         "hovertemplate": "camera=50?MP + 8?MP Dual Rear & 10.1?MP Front Camera<br>mobile_model=%{x}<br>count=%{y}<extra></extra>",
         "legendgroup": "50?MP + 8?MP Dual Rear & 10.1?MP Front Camera",
         "marker": {
          "color": "rgb(47, 138, 196)",
          "pattern": {
           "shape": ""
          }
         },
         "name": "50?MP + 8?MP Dual Rear & 10.1?MP Front Camera",
         "offsetgroup": "50?MP + 8?MP Dual Rear & 10.1?MP Front Camera",
         "orientation": "v",
         "showlegend": true,
         "type": "histogram",
         "x": [
          "Google"
         ],
         "xaxis": "x",
         "yaxis": "y"
        },
        {
         "alignmentgroup": "True",
         "bingroup": "x",
         "hovertemplate": "camera=64?MP Quad Rear & 10?MP Front Camera<br>mobile_model=%{x}<br>count=%{y}<extra></extra>",
         "legendgroup": "64?MP Quad Rear & 10?MP Front Camera",
         "marker": {
          "color": "rgb(118, 78, 159)",
          "pattern": {
           "shape": ""
          }
         },
         "name": "64?MP Quad Rear & 10?MP Front Camera",
         "offsetgroup": "64?MP Quad Rear & 10?MP Front Camera",
         "orientation": "v",
         "showlegend": true,
         "type": "histogram",
         "x": [
          "Samsung"
         ],
         "xaxis": "x",
         "yaxis": "y"
        },
        {
         "alignmentgroup": "True",
         "bingroup": "x",
         "hovertemplate": "camera=13?MP + 2?MP Dual Rear & 20?MP Front Camera<br>mobile_model=%{x}<br>count=%{y}<extra></extra>",
         "legendgroup": "13?MP + 2?MP Dual Rear & 20?MP Front Camera",
         "marker": {
          "color": "rgb(237, 100, 90)",
          "pattern": {
           "shape": ""
          }
         },
         "name": "13?MP + 2?MP Dual Rear & 20?MP Front Camera",
         "offsetgroup": "13?MP + 2?MP Dual Rear & 20?MP Front Camera",
         "orientation": "v",
         "showlegend": true,
         "type": "histogram",
         "x": [
          "Vivo"
         ],
         "xaxis": "x",
         "yaxis": "y"
        },
        {
         "alignmentgroup": "True",
         "bingroup": "x",
         "hovertemplate": "camera=16?MP + 5?MP Dual Rear & 25?MP Front Camera<br>mobile_model=%{x}<br>count=%{y}<extra></extra>",
         "legendgroup": "16?MP + 5?MP Dual Rear & 25?MP Front Camera",
         "marker": {
          "color": "rgb(165, 170, 153)",
          "pattern": {
           "shape": ""
          }
         },
         "name": "16?MP + 5?MP Dual Rear & 25?MP Front Camera",
         "offsetgroup": "16?MP + 5?MP Dual Rear & 25?MP Front Camera",
         "orientation": "v",
         "showlegend": true,
         "type": "histogram",
         "x": [
          "Vivo",
          "Samsung"
         ],
         "xaxis": "x",
         "yaxis": "y"
        },
        {
         "alignmentgroup": "True",
         "bingroup": "x",
         "hovertemplate": "camera=12?MP + 12?MP Dual Rear & 8?MP Front Camera<br>mobile_model=%{x}<br>count=%{y}<extra></extra>",
         "legendgroup": "12?MP + 12?MP Dual Rear & 8?MP Front Camera",
         "marker": {
          "color": "rgb(229, 134, 6)",
          "pattern": {
           "shape": ""
          }
         },
         "name": "12?MP + 12?MP Dual Rear & 8?MP Front Camera",
         "offsetgroup": "12?MP + 12?MP Dual Rear & 8?MP Front Camera",
         "orientation": "v",
         "showlegend": true,
         "type": "histogram",
         "x": [
          "Samsung"
         ],
         "xaxis": "x",
         "yaxis": "y"
        },
        {
         "alignmentgroup": "True",
         "bingroup": "x",
         "hovertemplate": "camera=47.2?MP + 1.9?MP Dual Rear & 12.6?MP Front Camera<br>mobile_model=%{x}<br>count=%{y}<extra></extra>",
         "legendgroup": "47.2?MP + 1.9?MP Dual Rear & 12.6?MP Front Camera",
         "marker": {
          "color": "rgb(93, 105, 177)",
          "pattern": {
           "shape": ""
          }
         },
         "name": "47.2?MP + 1.9?MP Dual Rear & 12.6?MP Front Camera",
         "offsetgroup": "47.2?MP + 1.9?MP Dual Rear & 12.6?MP Front Camera",
         "orientation": "v",
         "showlegend": true,
         "type": "histogram",
         "x": [
          "Leitz"
         ],
         "xaxis": "x",
         "yaxis": "y"
        },
        {
         "alignmentgroup": "True",
         "bingroup": "x",
         "hovertemplate": "camera=64?MP + 2?MP Dual Rear & 16?MP Front Camera<br>mobile_model=%{x}<br>count=%{y}<extra></extra>",
         "legendgroup": "64?MP + 2?MP Dual Rear & 16?MP Front Camera",
         "marker": {
          "color": "rgb(82, 188, 163)",
          "pattern": {
           "shape": ""
          }
         },
         "name": "64?MP + 2?MP Dual Rear & 16?MP Front Camera",
         "offsetgroup": "64?MP + 2?MP Dual Rear & 16?MP Front Camera",
         "orientation": "v",
         "showlegend": true,
         "type": "histogram",
         "x": [
          "Xiaomi"
         ],
         "xaxis": "x",
         "yaxis": "y"
        },
        {
         "alignmentgroup": "True",
         "bingroup": "x",
         "hovertemplate": "camera=48?MP + 2?MP Dual Rear & 16?MP Front Camera<br>mobile_model=%{x}<br>count=%{y}<extra></extra>",
         "legendgroup": "48?MP + 2?MP Dual Rear & 16?MP Front Camera",
         "marker": {
          "color": "rgb(153, 201, 69)",
          "pattern": {
           "shape": ""
          }
         },
         "name": "48?MP + 2?MP Dual Rear & 16?MP Front Camera",
         "offsetgroup": "48?MP + 2?MP Dual Rear & 16?MP Front Camera",
         "orientation": "v",
         "showlegend": true,
         "type": "histogram",
         "x": [
          "OnePlus",
          "Oppo"
         ],
         "xaxis": "x",
         "yaxis": "y"
        },
        {
         "alignmentgroup": "True",
         "bingroup": "x",
         "hovertemplate": "camera=48?MP + 2?MP Triple Rear & 32?MP Front Camera<br>mobile_model=%{x}<br>count=%{y}<extra></extra>",
         "legendgroup": "48?MP + 2?MP Triple Rear & 32?MP Front Camera",
         "marker": {
          "color": "rgb(204, 97, 176)",
          "pattern": {
           "shape": ""
          }
         },
         "name": "48?MP + 2?MP Triple Rear & 32?MP Front Camera",
         "offsetgroup": "48?MP + 2?MP Triple Rear & 32?MP Front Camera",
         "orientation": "v",
         "showlegend": true,
         "type": "histogram",
         "x": [
          "Tecno"
         ],
         "xaxis": "x",
         "yaxis": "y"
        },
        {
         "alignmentgroup": "True",
         "bingroup": "x",
         "hovertemplate": "camera=50?MP + 3?MP + 2?MP Triple Rear & 8?MP Front Camera<br>mobile_model=%{x}<br>count=%{y}<extra></extra>",
         "legendgroup": "50?MP + 3?MP + 2?MP Triple Rear & 8?MP Front Camera",
         "marker": {
          "color": "rgb(36, 121, 108)",
          "pattern": {
           "shape": ""
          }
         },
         "name": "50?MP + 3?MP + 2?MP Triple Rear & 8?MP Front Camera",
         "offsetgroup": "50?MP + 3?MP + 2?MP Triple Rear & 8?MP Front Camera",
         "orientation": "v",
         "showlegend": true,
         "type": "histogram",
         "x": [
          "Realme"
         ],
         "xaxis": "x",
         "yaxis": "y"
        },
        {
         "alignmentgroup": "True",
         "bingroup": "x",
         "hovertemplate": "camera=50?MP + 13?MP + 5?MP Triple Rear & 32?MP Front Camera<br>mobile_model=%{x}<br>count=%{y}<extra></extra>",
         "legendgroup": "50?MP + 13?MP + 5?MP Triple Rear & 32?MP Front Camera",
         "marker": {
          "color": "rgb(218, 165, 27)",
          "pattern": {
           "shape": ""
          }
         },
         "name": "50?MP + 13?MP + 5?MP Triple Rear & 32?MP Front Camera",
         "offsetgroup": "50?MP + 13?MP + 5?MP Triple Rear & 32?MP Front Camera",
         "orientation": "v",
         "showlegend": true,
         "type": "histogram",
         "x": [
          "Xiaomi"
         ],
         "xaxis": "x",
         "yaxis": "y"
        },
        {
         "alignmentgroup": "True",
         "bingroup": "x",
         "hovertemplate": "camera=64?MP + 8?MP + 5?MP Triple Rear & 16?MP Front Camera<br>mobile_model=%{x}<br>count=%{y}<extra></extra>",
         "legendgroup": "64?MP + 8?MP + 5?MP Triple Rear & 16?MP Front Camera",
         "marker": {
          "color": "rgb(47, 138, 196)",
          "pattern": {
           "shape": ""
          }
         },
         "name": "64?MP + 8?MP + 5?MP Triple Rear & 16?MP Front Camera",
         "offsetgroup": "64?MP + 8?MP + 5?MP Triple Rear & 16?MP Front Camera",
         "orientation": "v",
         "showlegend": true,
         "type": "histogram",
         "x": [
          "Xiaomi"
         ],
         "xaxis": "x",
         "yaxis": "y"
        },
        {
         "alignmentgroup": "True",
         "bingroup": "x",
         "hovertemplate": "camera=108?MP + 8?MP + 5?MP Triple Rear & 20?MP Front Camera<br>mobile_model=%{x}<br>count=%{y}<extra></extra>",
         "legendgroup": "108?MP + 8?MP + 5?MP Triple Rear & 20?MP Front Camera",
         "marker": {
          "color": "rgb(118, 78, 159)",
          "pattern": {
           "shape": ""
          }
         },
         "name": "108?MP + 8?MP + 5?MP Triple Rear & 20?MP Front Camera",
         "offsetgroup": "108?MP + 8?MP + 5?MP Triple Rear & 20?MP Front Camera",
         "orientation": "v",
         "showlegend": true,
         "type": "histogram",
         "x": [
          "Xiaomi"
         ],
         "xaxis": "x",
         "yaxis": "y"
        },
        {
         "alignmentgroup": "True",
         "bingroup": "x",
         "hovertemplate": "camera=64?MP + 16?MP Dual Rear & 20?MP Front Camera<br>mobile_model=%{x}<br>count=%{y}<extra></extra>",
         "legendgroup": "64?MP + 16?MP Dual Rear & 20?MP Front Camera",
         "marker": {
          "color": "rgb(237, 100, 90)",
          "pattern": {
           "shape": ""
          }
         },
         "name": "64?MP + 16?MP Dual Rear & 20?MP Front Camera",
         "offsetgroup": "64?MP + 16?MP Dual Rear & 20?MP Front Camera",
         "orientation": "v",
         "showlegend": true,
         "type": "histogram",
         "x": [
          "Lenovo"
         ],
         "xaxis": "x",
         "yaxis": "y"
        },
        {
         "alignmentgroup": "True",
         "bingroup": "x",
         "hovertemplate": "camera=12?MP + 2?MP + 2?MP Triple Rear & 8?MP Front Camera<br>mobile_model=%{x}<br>count=%{y}<extra></extra>",
         "legendgroup": "12?MP + 2?MP + 2?MP Triple Rear & 8?MP Front Camera",
         "marker": {
          "color": "rgb(165, 170, 153)",
          "pattern": {
           "shape": ""
          }
         },
         "name": "12?MP + 2?MP + 2?MP Triple Rear & 8?MP Front Camera",
         "offsetgroup": "12?MP + 2?MP + 2?MP Triple Rear & 8?MP Front Camera",
         "orientation": "v",
         "showlegend": true,
         "type": "histogram",
         "x": [
          "Oppo"
         ],
         "xaxis": "x",
         "yaxis": "y"
        },
        {
         "alignmentgroup": "True",
         "bingroup": "x",
         "hovertemplate": "camera=12?MP + 8?MP + 8?MP Triple Rear & 8?MP Front Camera<br>mobile_model=%{x}<br>count=%{y}<extra></extra>",
         "legendgroup": "12?MP + 8?MP + 8?MP Triple Rear & 8?MP Front Camera",
         "marker": {
          "color": "rgb(229, 134, 6)",
          "pattern": {
           "shape": ""
          }
         },
         "name": "12?MP + 8?MP + 8?MP Triple Rear & 8?MP Front Camera",
         "offsetgroup": "12?MP + 8?MP + 8?MP Triple Rear & 8?MP Front Camera",
         "orientation": "v",
         "showlegend": true,
         "type": "histogram",
         "x": [
          "Sony",
          "Sony"
         ],
         "xaxis": "x",
         "yaxis": "y"
        },
        {
         "alignmentgroup": "True",
         "bingroup": "x",
         "hovertemplate": "camera=12?MP + 2?MP Dual Rear & 8?MP Front Camera<br>mobile_model=%{x}<br>count=%{y}<extra></extra>",
         "legendgroup": "12?MP + 2?MP Dual Rear & 8?MP Front Camera",
         "marker": {
          "color": "rgb(93, 105, 177)",
          "pattern": {
           "shape": ""
          }
         },
         "name": "12?MP + 2?MP Dual Rear & 8?MP Front Camera",
         "offsetgroup": "12?MP + 2?MP Dual Rear & 8?MP Front Camera",
         "orientation": "v",
         "showlegend": true,
         "type": "histogram",
         "x": [
          "Xiaomi"
         ],
         "xaxis": "x",
         "yaxis": "y"
        },
        {
         "alignmentgroup": "True",
         "bingroup": "x",
         "hovertemplate": "camera=16?MP + 12?MP + 12?MP Triple Rear & 10?MP Front Camera<br>mobile_model=%{x}<br>count=%{y}<extra></extra>",
         "legendgroup": "16?MP + 12?MP + 12?MP Triple Rear & 10?MP Front Camera",
         "marker": {
          "color": "rgb(82, 188, 163)",
          "pattern": {
           "shape": ""
          }
         },
         "name": "16?MP + 12?MP + 12?MP Triple Rear & 10?MP Front Camera",
         "offsetgroup": "16?MP + 12?MP + 12?MP Triple Rear & 10?MP Front Camera",
         "orientation": "v",
         "showlegend": true,
         "type": "histogram",
         "x": [
          "Samsung"
         ],
         "xaxis": "x",
         "yaxis": "y"
        },
        {
         "alignmentgroup": "True",
         "bingroup": "x",
         "hovertemplate": "camera=13?MP + 2?MP Dual Rear & 16?MP Front Camera<br>mobile_model=%{x}<br>count=%{y}<extra></extra>",
         "legendgroup": "13?MP + 2?MP Dual Rear & 16?MP Front Camera",
         "marker": {
          "color": "rgb(153, 201, 69)",
          "pattern": {
           "shape": ""
          }
         },
         "name": "13?MP + 2?MP Dual Rear & 16?MP Front Camera",
         "offsetgroup": "13?MP + 2?MP Dual Rear & 16?MP Front Camera",
         "orientation": "v",
         "showlegend": true,
         "type": "histogram",
         "x": [
          "Huawei"
         ],
         "xaxis": "x",
         "yaxis": "y"
        },
        {
         "alignmentgroup": "True",
         "bingroup": "x",
         "hovertemplate": "camera=108?MP + 20?MP + 16?MP Triple Rear & 32?MP Front Camera<br>mobile_model=%{x}<br>count=%{y}<extra></extra>",
         "legendgroup": "108?MP + 20?MP + 16?MP Triple Rear & 32?MP Front Camera",
         "marker": {
          "color": "rgb(204, 97, 176)",
          "pattern": {
           "shape": ""
          }
         },
         "name": "108?MP + 20?MP + 16?MP Triple Rear & 32?MP Front Camera",
         "offsetgroup": "108?MP + 20?MP + 16?MP Triple Rear & 32?MP Front Camera",
         "orientation": "v",
         "showlegend": true,
         "type": "histogram",
         "x": [
          "Doogee"
         ],
         "xaxis": "x",
         "yaxis": "y"
        },
        {
         "alignmentgroup": "True",
         "bingroup": "x",
         "hovertemplate": "camera=50?MP + 2?MP Triple Rear & 5?MP Front Camera<br>mobile_model=%{x}<br>count=%{y}<extra></extra>",
         "legendgroup": "50?MP + 2?MP Triple Rear & 5?MP Front Camera",
         "marker": {
          "color": "rgb(36, 121, 108)",
          "pattern": {
           "shape": ""
          }
         },
         "name": "50?MP + 2?MP Triple Rear & 5?MP Front Camera",
         "offsetgroup": "50?MP + 2?MP Triple Rear & 5?MP Front Camera",
         "orientation": "v",
         "showlegend": true,
         "type": "histogram",
         "x": [
          "Huawei"
         ],
         "xaxis": "x",
         "yaxis": "y"
        },
        {
         "alignmentgroup": "True",
         "bingroup": "x",
         "hovertemplate": "camera=50?MP + 13?MP Dual Rear & 16?MP Front Camera<br>mobile_model=%{x}<br>count=%{y}<extra></extra>",
         "legendgroup": "50?MP + 13?MP Dual Rear & 16?MP Front Camera",
         "marker": {
          "color": "rgb(218, 165, 27)",
          "pattern": {
           "shape": ""
          }
         },
         "name": "50?MP + 13?MP Dual Rear & 16?MP Front Camera",
         "offsetgroup": "50?MP + 13?MP Dual Rear & 16?MP Front Camera",
         "orientation": "v",
         "showlegend": true,
         "type": "histogram",
         "x": [
          "Nokia"
         ],
         "xaxis": "x",
         "yaxis": "y"
        },
        {
         "alignmentgroup": "True",
         "bingroup": "x",
         "hovertemplate": "camera=50?MP + 8?MP + 2?MP Triple Rear & 60?MP Front Camera<br>mobile_model=%{x}<br>count=%{y}<extra></extra>",
         "legendgroup": "50?MP + 8?MP + 2?MP Triple Rear & 60?MP Front Camera",
         "marker": {
          "color": "rgb(47, 138, 196)",
          "pattern": {
           "shape": ""
          }
         },
         "name": "50?MP + 8?MP + 2?MP Triple Rear & 60?MP Front Camera",
         "offsetgroup": "50?MP + 8?MP + 2?MP Triple Rear & 60?MP Front Camera",
         "orientation": "v",
         "showlegend": true,
         "type": "histogram",
         "x": [
          "Huawei"
         ],
         "xaxis": "x",
         "yaxis": "y"
        },
        {
         "alignmentgroup": "True",
         "bingroup": "x",
         "hovertemplate": "camera=48?MP + 12?MP + 5?MP Triple Rear & 16?MP Front Camera<br>mobile_model=%{x}<br>count=%{y}<extra></extra>",
         "legendgroup": "48?MP + 12?MP + 5?MP Triple Rear & 16?MP Front Camera",
         "marker": {
          "color": "rgb(118, 78, 159)",
          "pattern": {
           "shape": ""
          }
         },
         "name": "48?MP + 12?MP + 5?MP Triple Rear & 16?MP Front Camera",
         "offsetgroup": "48?MP + 12?MP + 5?MP Triple Rear & 16?MP Front Camera",
         "orientation": "v",
         "showlegend": true,
         "type": "histogram",
         "x": [
          "Samsung"
         ],
         "xaxis": "x",
         "yaxis": "y"
        },
        {
         "alignmentgroup": "True",
         "bingroup": "x",
         "hovertemplate": "camera=50?MP Quad Rear & 48?MP + 8?MP Dual Front Camera<br>mobile_model=%{x}<br>count=%{y}<extra></extra>",
         "legendgroup": "50?MP Quad Rear & 48?MP + 8?MP Dual Front Camera",
         "marker": {
          "color": "rgb(237, 100, 90)",
          "pattern": {
           "shape": ""
          }
         },
         "name": "50?MP Quad Rear & 48?MP + 8?MP Dual Front Camera",
         "offsetgroup": "50?MP Quad Rear & 48?MP + 8?MP Dual Front Camera",
         "orientation": "v",
         "showlegend": true,
         "type": "histogram",
         "x": [
          "Tecno"
         ],
         "xaxis": "x",
         "yaxis": "y"
        },
        {
         "alignmentgroup": "True",
         "bingroup": "x",
         "hovertemplate": "camera=48?MP + 13?MP + 8?MP Triple Rear & 20?MP Front Camera<br>mobile_model=%{x}<br>count=%{y}<extra></extra>",
         "legendgroup": "48?MP + 13?MP + 8?MP Triple Rear & 20?MP Front Camera",
         "marker": {
          "color": "rgb(165, 170, 153)",
          "pattern": {
           "shape": ""
          }
         },
         "name": "48?MP + 13?MP + 8?MP Triple Rear & 20?MP Front Camera",
         "offsetgroup": "48?MP + 13?MP + 8?MP Triple Rear & 20?MP Front Camera",
         "orientation": "v",
         "showlegend": true,
         "type": "histogram",
         "x": [
          "Xiaomi"
         ],
         "xaxis": "x",
         "yaxis": "y"
        },
        {
         "alignmentgroup": "True",
         "bingroup": "x",
         "hovertemplate": "camera=13?MP Rear & 16?MP Front Camera<br>mobile_model=%{x}<br>count=%{y}<extra></extra>",
         "legendgroup": "13?MP Rear & 16?MP Front Camera",
         "marker": {
          "color": "rgb(229, 134, 6)",
          "pattern": {
           "shape": ""
          }
         },
         "name": "13?MP Rear & 16?MP Front Camera",
         "offsetgroup": "13?MP Rear & 16?MP Front Camera",
         "orientation": "v",
         "showlegend": true,
         "type": "histogram",
         "x": [
          "OPPO"
         ],
         "xaxis": "x",
         "yaxis": "y"
        },
        {
         "alignmentgroup": "True",
         "bingroup": "x",
         "hovertemplate": "camera=13?MP + 2?MP Triple Rear & 8?MP Front Camera<br>mobile_model=%{x}<br>count=%{y}<extra></extra>",
         "legendgroup": "13?MP + 2?MP Triple Rear & 8?MP Front Camera",
         "marker": {
          "color": "rgb(93, 105, 177)",
          "pattern": {
           "shape": ""
          }
         },
         "name": "13?MP + 2?MP Triple Rear & 8?MP Front Camera",
         "offsetgroup": "13?MP + 2?MP Triple Rear & 8?MP Front Camera",
         "orientation": "v",
         "showlegend": true,
         "type": "histogram",
         "x": [
          "Lava"
         ],
         "xaxis": "x",
         "yaxis": "y"
        },
        {
         "alignmentgroup": "True",
         "bingroup": "x",
         "hovertemplate": "camera=50?MP + 20?MP + 2?MP Triple Rear & 32?MP + 32?MP Dual Front Camera<br>mobile_model=%{x}<br>count=%{y}<extra></extra>",
         "legendgroup": "50?MP + 20?MP + 2?MP Triple Rear & 32?MP + 32?MP Dual Front Camera",
         "marker": {
          "color": "rgb(82, 188, 163)",
          "pattern": {
           "shape": ""
          }
         },
         "name": "50?MP + 20?MP + 2?MP Triple Rear & 32?MP + 32?MP Dual Front Camera",
         "offsetgroup": "50?MP + 20?MP + 2?MP Triple Rear & 32?MP + 32?MP Dual Front Camera",
         "orientation": "v",
         "showlegend": true,
         "type": "histogram",
         "x": [
          "Xiaomi"
         ],
         "xaxis": "x",
         "yaxis": "y"
        },
        {
         "alignmentgroup": "True",
         "bingroup": "x",
         "hovertemplate": "camera=50?MP + 12?MP Dual Rear & 16?MP Front Camera<br>mobile_model=%{x}<br>count=%{y}<extra></extra>",
         "legendgroup": "50?MP + 12?MP Dual Rear & 16?MP Front Camera",
         "marker": {
          "color": "rgb(153, 201, 69)",
          "pattern": {
           "shape": ""
          }
         },
         "name": "50?MP + 12?MP Dual Rear & 16?MP Front Camera",
         "offsetgroup": "50?MP + 12?MP Dual Rear & 16?MP Front Camera",
         "orientation": "v",
         "showlegend": true,
         "type": "histogram",
         "x": [
          "Nothing"
         ],
         "xaxis": "x",
         "yaxis": "y"
        },
        {
         "alignmentgroup": "True",
         "bingroup": "x",
         "hovertemplate": "camera=50?MP + 50?MP Triple Rear & 16?MP Front Camera<br>mobile_model=%{x}<br>count=%{y}<extra></extra>",
         "legendgroup": "50?MP + 50?MP Triple Rear & 16?MP Front Camera",
         "marker": {
          "color": "rgb(204, 97, 176)",
          "pattern": {
           "shape": ""
          }
         },
         "name": "50?MP + 50?MP Triple Rear & 16?MP Front Camera",
         "offsetgroup": "50?MP + 50?MP Triple Rear & 16?MP Front Camera",
         "orientation": "v",
         "showlegend": true,
         "type": "histogram",
         "x": [
          "Realme"
         ],
         "xaxis": "x",
         "yaxis": "y"
        },
        {
         "alignmentgroup": "True",
         "bingroup": "x",
         "hovertemplate": "camera=200?MP Quad Rear & 16?MP Front Camera<br>mobile_model=%{x}<br>count=%{y}<extra></extra>",
         "legendgroup": "200?MP Quad Rear & 16?MP Front Camera",
         "marker": {
          "color": "rgb(36, 121, 108)",
          "pattern": {
           "shape": ""
          }
         },
         "name": "200?MP Quad Rear & 16?MP Front Camera",
         "offsetgroup": "200?MP Quad Rear & 16?MP Front Camera",
         "orientation": "v",
         "showlegend": true,
         "type": "histogram",
         "x": [
          "Nokia"
         ],
         "xaxis": "x",
         "yaxis": "y"
        },
        {
         "alignmentgroup": "True",
         "bingroup": "x",
         "hovertemplate": "camera=48?MP + 8?MP + 2?MP Triple Rear & 32?MP Front Camera<br>mobile_model=%{x}<br>count=%{y}<extra></extra>",
         "legendgroup": "48?MP + 8?MP + 2?MP Triple Rear & 32?MP Front Camera",
         "marker": {
          "color": "rgb(218, 165, 27)",
          "pattern": {
           "shape": ""
          }
         },
         "name": "48?MP + 8?MP + 2?MP Triple Rear & 32?MP Front Camera",
         "offsetgroup": "48?MP + 8?MP + 2?MP Triple Rear & 32?MP Front Camera",
         "orientation": "v",
         "showlegend": true,
         "type": "histogram",
         "x": [
          "Vivo"
         ],
         "xaxis": "x",
         "yaxis": "y"
        },
        {
         "alignmentgroup": "True",
         "bingroup": "x",
         "hovertemplate": "camera=108?MP Quad Rear & 20?MP Front Camera<br>mobile_model=%{x}<br>count=%{y}<extra></extra>",
         "legendgroup": "108?MP Quad Rear & 20?MP Front Camera",
         "marker": {
          "color": "rgb(47, 138, 196)",
          "pattern": {
           "shape": ""
          }
         },
         "name": "108?MP Quad Rear & 20?MP Front Camera",
         "offsetgroup": "108?MP Quad Rear & 20?MP Front Camera",
         "orientation": "v",
         "showlegend": true,
         "type": "histogram",
         "x": [
          "Xiaomi"
         ],
         "xaxis": "x",
         "yaxis": "y"
        },
        {
         "alignmentgroup": "True",
         "bingroup": "x",
         "hovertemplate": "camera=13?MP + 2?MP Dual Rear & 13?MP Front Camera<br>mobile_model=%{x}<br>count=%{y}<extra></extra>",
         "legendgroup": "13?MP + 2?MP Dual Rear & 13?MP Front Camera",
         "marker": {
          "color": "rgb(118, 78, 159)",
          "pattern": {
           "shape": ""
          }
         },
         "name": "13?MP + 2?MP Dual Rear & 13?MP Front Camera",
         "offsetgroup": "13?MP + 2?MP Dual Rear & 13?MP Front Camera",
         "orientation": "v",
         "showlegend": true,
         "type": "histogram",
         "x": [
          "Vivo"
         ],
         "xaxis": "x",
         "yaxis": "y"
        },
        {
         "alignmentgroup": "True",
         "bingroup": "x",
         "hovertemplate": "camera=64?MP + 16?MP + 2?MP Triple Rear & 16?MP Front Camera<br>mobile_model=%{x}<br>count=%{y}<extra></extra>",
         "legendgroup": "64?MP + 16?MP + 2?MP Triple Rear & 16?MP Front Camera",
         "marker": {
          "color": "rgb(237, 100, 90)",
          "pattern": {
           "shape": ""
          }
         },
         "name": "64?MP + 16?MP + 2?MP Triple Rear & 16?MP Front Camera",
         "offsetgroup": "64?MP + 16?MP + 2?MP Triple Rear & 16?MP Front Camera",
         "orientation": "v",
         "showlegend": true,
         "type": "histogram",
         "x": [
          "OnePlus"
         ],
         "xaxis": "x",
         "yaxis": "y"
        },
        {
         "alignmentgroup": "True",
         "bingroup": "x",
         "hovertemplate": "camera=48?MP + 12.2?MP + 12.2?MP Triple Rear & 16?MP Front Camera<br>mobile_model=%{x}<br>count=%{y}<extra></extra>",
         "legendgroup": "48?MP + 12.2?MP + 12.2?MP Triple Rear & 16?MP Front Camera",
         "marker": {
          "color": "rgb(165, 170, 153)",
          "pattern": {
           "shape": ""
          }
         },
         "name": "48?MP + 12.2?MP + 12.2?MP Triple Rear & 16?MP Front Camera",
         "offsetgroup": "48?MP + 12.2?MP + 12.2?MP Triple Rear & 16?MP Front Camera",
         "orientation": "v",
         "showlegend": true,
         "type": "histogram",
         "x": [
          "Sharp"
         ],
         "xaxis": "x",
         "yaxis": "y"
        },
        {
         "alignmentgroup": "True",
         "bingroup": "x",
         "hovertemplate": "camera=24?MP + 10?MP + 5?MP Triple Rear & 24?MP Front Camera<br>mobile_model=%{x}<br>count=%{y}<extra></extra>",
         "legendgroup": "24?MP + 10?MP + 5?MP Triple Rear & 24?MP Front Camera",
         "marker": {
          "color": "rgb(229, 134, 6)",
          "pattern": {
           "shape": ""
          }
         },
         "name": "24?MP + 10?MP + 5?MP Triple Rear & 24?MP Front Camera",
         "offsetgroup": "24?MP + 10?MP + 5?MP Triple Rear & 24?MP Front Camera",
         "orientation": "v",
         "showlegend": true,
         "type": "histogram",
         "x": [
          "Samsung"
         ],
         "xaxis": "x",
         "yaxis": "y"
        },
        {
         "alignmentgroup": "True",
         "bingroup": "x",
         "hovertemplate": "camera=24?MP + 8?MP + 5?MP Triple Rear & 24?MP Front Camera<br>mobile_model=%{x}<br>count=%{y}<extra></extra>",
         "legendgroup": "24?MP + 8?MP + 5?MP Triple Rear & 24?MP Front Camera",
         "marker": {
          "color": "rgb(93, 105, 177)",
          "pattern": {
           "shape": ""
          }
         },
         "name": "24?MP + 8?MP + 5?MP Triple Rear & 24?MP Front Camera",
         "offsetgroup": "24?MP + 8?MP + 5?MP Triple Rear & 24?MP Front Camera",
         "orientation": "v",
         "showlegend": true,
         "type": "histogram",
         "x": [
          "Samsung"
         ],
         "xaxis": "x",
         "yaxis": "y"
        },
        {
         "alignmentgroup": "True",
         "bingroup": "x",
         "hovertemplate": "camera=108?MP + 64?MP + 16?MP Triple Rear & 32?MP Front Camera<br>mobile_model=%{x}<br>count=%{y}<extra></extra>",
         "legendgroup": "108?MP + 64?MP + 16?MP Triple Rear & 32?MP Front Camera",
         "marker": {
          "color": "rgb(82, 188, 163)",
          "pattern": {
           "shape": ""
          }
         },
         "name": "108?MP + 64?MP + 16?MP Triple Rear & 32?MP Front Camera",
         "offsetgroup": "108?MP + 64?MP + 16?MP Triple Rear & 32?MP Front Camera",
         "orientation": "v",
         "showlegend": true,
         "type": "histogram",
         "x": [
          "Doogee"
         ],
         "xaxis": "x",
         "yaxis": "y"
        },
        {
         "alignmentgroup": "True",
         "bingroup": "x",
         "hovertemplate": "camera=16?MP + 13?MP + 13?MP Triple Rear & 8?MP Front Camera<br>mobile_model=%{x}<br>count=%{y}<extra></extra>",
         "legendgroup": "16?MP + 13?MP + 13?MP Triple Rear & 8?MP Front Camera",
         "marker": {
          "color": "rgb(153, 201, 69)",
          "pattern": {
           "shape": ""
          }
         },
         "name": "16?MP + 13?MP + 13?MP Triple Rear & 8?MP Front Camera",
         "offsetgroup": "16?MP + 13?MP + 13?MP Triple Rear & 8?MP Front Camera",
         "orientation": "v",
         "showlegend": true,
         "type": "histogram",
         "x": [
          "Oukitel"
         ],
         "xaxis": "x",
         "yaxis": "y"
        },
        {
         "alignmentgroup": "True",
         "bingroup": "x",
         "hovertemplate": "camera=50?MP + 13?MP + 2?MP Triple Rear & 32?MP + 16?MP Dual Front Camera<br>mobile_model=%{x}<br>count=%{y}<extra></extra>",
         "legendgroup": "50?MP + 13?MP + 2?MP Triple Rear & 32?MP + 16?MP Dual Front Camera",
         "marker": {
          "color": "rgb(204, 97, 176)",
          "pattern": {
           "shape": ""
          }
         },
         "name": "50?MP + 13?MP + 2?MP Triple Rear & 32?MP + 16?MP Dual Front Camera",
         "offsetgroup": "50?MP + 13?MP + 2?MP Triple Rear & 32?MP + 16?MP Dual Front Camera",
         "orientation": "v",
         "showlegend": true,
         "type": "histogram",
         "x": [
          "Motorola"
         ],
         "xaxis": "x",
         "yaxis": "y"
        },
        {
         "alignmentgroup": "True",
         "bingroup": "x",
         "hovertemplate": "camera=64?MP + 20?MP + 2?MP Triple Rear & 32?MP + 32?MP Dual Front Camera<br>mobile_model=%{x}<br>count=%{y}<extra></extra>",
         "legendgroup": "64?MP + 20?MP + 2?MP Triple Rear & 32?MP + 32?MP Dual Front Camera",
         "marker": {
          "color": "rgb(36, 121, 108)",
          "pattern": {
           "shape": ""
          }
         },
         "name": "64?MP + 20?MP + 2?MP Triple Rear & 32?MP + 32?MP Dual Front Camera",
         "offsetgroup": "64?MP + 20?MP + 2?MP Triple Rear & 32?MP + 32?MP Dual Front Camera",
         "orientation": "v",
         "showlegend": true,
         "type": "histogram",
         "x": [
          "Xiaomi"
         ],
         "xaxis": "x",
         "yaxis": "y"
        },
        {
         "alignmentgroup": "True",
         "bingroup": "x",
         "hovertemplate": "camera=50?MP + 48?MP + 32?MP Triple Rear & 32?MP Front Camera<br>mobile_model=%{x}<br>count=%{y}<extra></extra>",
         "legendgroup": "50?MP + 48?MP + 32?MP Triple Rear & 32?MP Front Camera",
         "marker": {
          "color": "rgb(218, 165, 27)",
          "pattern": {
           "shape": ""
          }
         },
         "name": "50?MP + 48?MP + 32?MP Triple Rear & 32?MP Front Camera",
         "offsetgroup": "50?MP + 48?MP + 32?MP Triple Rear & 32?MP Front Camera",
         "orientation": "v",
         "showlegend": true,
         "type": "histogram",
         "x": [
          "Oppo"
         ],
         "xaxis": "x",
         "yaxis": "y"
        },
        {
         "alignmentgroup": "True",
         "bingroup": "x",
         "hovertemplate": "camera=50?MP + 50?MP + 50?MP Triple Rear & 12?MP Front Camera<br>mobile_model=%{x}<br>count=%{y}<extra></extra>",
         "legendgroup": "50?MP + 50?MP + 50?MP Triple Rear & 12?MP Front Camera",
         "marker": {
          "color": "rgb(47, 138, 196)",
          "pattern": {
           "shape": ""
          }
         },
         "name": "50?MP + 50?MP + 50?MP Triple Rear & 12?MP Front Camera",
         "offsetgroup": "50?MP + 50?MP + 50?MP Triple Rear & 12?MP Front Camera",
         "orientation": "v",
         "showlegend": true,
         "type": "histogram",
         "x": [
          "Google"
         ],
         "xaxis": "x",
         "yaxis": "y"
        },
        {
         "alignmentgroup": "True",
         "bingroup": "x",
         "hovertemplate": "camera=48?MP + 2?MP + Depth Sensor Triple Rear & 8?MP Front Camera<br>mobile_model=%{x}<br>count=%{y}<extra></extra>",
         "legendgroup": "48?MP + 2?MP + Depth Sensor Triple Rear & 8?MP Front Camera",
         "marker": {
          "color": "rgb(118, 78, 159)",
          "pattern": {
           "shape": ""
          }
         },
         "name": "48?MP + 2?MP + Depth Sensor Triple Rear & 8?MP Front Camera",
         "offsetgroup": "48?MP + 2?MP + Depth Sensor Triple Rear & 8?MP Front Camera",
         "orientation": "v",
         "showlegend": true,
         "type": "histogram",
         "x": [
          "Honor"
         ],
         "xaxis": "x",
         "yaxis": "y"
        }
       ],
       "layout": {
        "barmode": "relative",
        "height": 800,
        "legend": {
         "title": {
          "text": "camera"
         },
         "tracegroupgap": 0
        },
        "template": {
         "data": {
          "bar": [
           {
            "error_x": {
             "color": "#2a3f5f"
            },
            "error_y": {
             "color": "#2a3f5f"
            },
            "marker": {
             "line": {
              "color": "#E5ECF6",
              "width": 0.5
             },
             "pattern": {
              "fillmode": "overlay",
              "size": 10,
              "solidity": 0.2
             }
            },
            "type": "bar"
           }
          ],
          "barpolar": [
           {
            "marker": {
             "line": {
              "color": "#E5ECF6",
              "width": 0.5
             },
             "pattern": {
              "fillmode": "overlay",
              "size": 10,
              "solidity": 0.2
             }
            },
            "type": "barpolar"
           }
          ],
          "carpet": [
           {
            "aaxis": {
             "endlinecolor": "#2a3f5f",
             "gridcolor": "white",
             "linecolor": "white",
             "minorgridcolor": "white",
             "startlinecolor": "#2a3f5f"
            },
            "baxis": {
             "endlinecolor": "#2a3f5f",
             "gridcolor": "white",
             "linecolor": "white",
             "minorgridcolor": "white",
             "startlinecolor": "#2a3f5f"
            },
            "type": "carpet"
           }
          ],
          "choropleth": [
           {
            "colorbar": {
             "outlinewidth": 0,
             "ticks": ""
            },
            "type": "choropleth"
           }
          ],
          "contour": [
           {
            "colorbar": {
             "outlinewidth": 0,
             "ticks": ""
            },
            "colorscale": [
             [
              0,
              "#0d0887"
             ],
             [
              0.1111111111111111,
              "#46039f"
             ],
             [
              0.2222222222222222,
              "#7201a8"
             ],
             [
              0.3333333333333333,
              "#9c179e"
             ],
             [
              0.4444444444444444,
              "#bd3786"
             ],
             [
              0.5555555555555556,
              "#d8576b"
             ],
             [
              0.6666666666666666,
              "#ed7953"
             ],
             [
              0.7777777777777778,
              "#fb9f3a"
             ],
             [
              0.8888888888888888,
              "#fdca26"
             ],
             [
              1,
              "#f0f921"
             ]
            ],
            "type": "contour"
           }
          ],
          "contourcarpet": [
           {
            "colorbar": {
             "outlinewidth": 0,
             "ticks": ""
            },
            "type": "contourcarpet"
           }
          ],
          "heatmap": [
           {
            "colorbar": {
             "outlinewidth": 0,
             "ticks": ""
            },
            "colorscale": [
             [
              0,
              "#0d0887"
             ],
             [
              0.1111111111111111,
              "#46039f"
             ],
             [
              0.2222222222222222,
              "#7201a8"
             ],
             [
              0.3333333333333333,
              "#9c179e"
             ],
             [
              0.4444444444444444,
              "#bd3786"
             ],
             [
              0.5555555555555556,
              "#d8576b"
             ],
             [
              0.6666666666666666,
              "#ed7953"
             ],
             [
              0.7777777777777778,
              "#fb9f3a"
             ],
             [
              0.8888888888888888,
              "#fdca26"
             ],
             [
              1,
              "#f0f921"
             ]
            ],
            "type": "heatmap"
           }
          ],
          "heatmapgl": [
           {
            "colorbar": {
             "outlinewidth": 0,
             "ticks": ""
            },
            "colorscale": [
             [
              0,
              "#0d0887"
             ],
             [
              0.1111111111111111,
              "#46039f"
             ],
             [
              0.2222222222222222,
              "#7201a8"
             ],
             [
              0.3333333333333333,
              "#9c179e"
             ],
             [
              0.4444444444444444,
              "#bd3786"
             ],
             [
              0.5555555555555556,
              "#d8576b"
             ],
             [
              0.6666666666666666,
              "#ed7953"
             ],
             [
              0.7777777777777778,
              "#fb9f3a"
             ],
             [
              0.8888888888888888,
              "#fdca26"
             ],
             [
              1,
              "#f0f921"
             ]
            ],
            "type": "heatmapgl"
           }
          ],
          "histogram": [
           {
            "marker": {
             "pattern": {
              "fillmode": "overlay",
              "size": 10,
              "solidity": 0.2
             }
            },
            "type": "histogram"
           }
          ],
          "histogram2d": [
           {
            "colorbar": {
             "outlinewidth": 0,
             "ticks": ""
            },
            "colorscale": [
             [
              0,
              "#0d0887"
             ],
             [
              0.1111111111111111,
              "#46039f"
             ],
             [
              0.2222222222222222,
              "#7201a8"
             ],
             [
              0.3333333333333333,
              "#9c179e"
             ],
             [
              0.4444444444444444,
              "#bd3786"
             ],
             [
              0.5555555555555556,
              "#d8576b"
             ],
             [
              0.6666666666666666,
              "#ed7953"
             ],
             [
              0.7777777777777778,
              "#fb9f3a"
             ],
             [
              0.8888888888888888,
              "#fdca26"
             ],
             [
              1,
              "#f0f921"
             ]
            ],
            "type": "histogram2d"
           }
          ],
          "histogram2dcontour": [
           {
            "colorbar": {
             "outlinewidth": 0,
             "ticks": ""
            },
            "colorscale": [
             [
              0,
              "#0d0887"
             ],
             [
              0.1111111111111111,
              "#46039f"
             ],
             [
              0.2222222222222222,
              "#7201a8"
             ],
             [
              0.3333333333333333,
              "#9c179e"
             ],
             [
              0.4444444444444444,
              "#bd3786"
             ],
             [
              0.5555555555555556,
              "#d8576b"
             ],
             [
              0.6666666666666666,
              "#ed7953"
             ],
             [
              0.7777777777777778,
              "#fb9f3a"
             ],
             [
              0.8888888888888888,
              "#fdca26"
             ],
             [
              1,
              "#f0f921"
             ]
            ],
            "type": "histogram2dcontour"
           }
          ],
          "mesh3d": [
           {
            "colorbar": {
             "outlinewidth": 0,
             "ticks": ""
            },
            "type": "mesh3d"
           }
          ],
          "parcoords": [
           {
            "line": {
             "colorbar": {
              "outlinewidth": 0,
              "ticks": ""
             }
            },
            "type": "parcoords"
           }
          ],
          "pie": [
           {
            "automargin": true,
            "type": "pie"
           }
          ],
          "scatter": [
           {
            "fillpattern": {
             "fillmode": "overlay",
             "size": 10,
             "solidity": 0.2
            },
            "type": "scatter"
           }
          ],
          "scatter3d": [
           {
            "line": {
             "colorbar": {
              "outlinewidth": 0,
              "ticks": ""
             }
            },
            "marker": {
             "colorbar": {
              "outlinewidth": 0,
              "ticks": ""
             }
            },
            "type": "scatter3d"
           }
          ],
          "scattercarpet": [
           {
            "marker": {
             "colorbar": {
              "outlinewidth": 0,
              "ticks": ""
             }
            },
            "type": "scattercarpet"
           }
          ],
          "scattergeo": [
           {
            "marker": {
             "colorbar": {
              "outlinewidth": 0,
              "ticks": ""
             }
            },
            "type": "scattergeo"
           }
          ],
          "scattergl": [
           {
            "marker": {
             "colorbar": {
              "outlinewidth": 0,
              "ticks": ""
             }
            },
            "type": "scattergl"
           }
          ],
          "scattermapbox": [
           {
            "marker": {
             "colorbar": {
              "outlinewidth": 0,
              "ticks": ""
             }
            },
            "type": "scattermapbox"
           }
          ],
          "scatterpolar": [
           {
            "marker": {
             "colorbar": {
              "outlinewidth": 0,
              "ticks": ""
             }
            },
            "type": "scatterpolar"
           }
          ],
          "scatterpolargl": [
           {
            "marker": {
             "colorbar": {
              "outlinewidth": 0,
              "ticks": ""
             }
            },
            "type": "scatterpolargl"
           }
          ],
          "scatterternary": [
           {
            "marker": {
             "colorbar": {
              "outlinewidth": 0,
              "ticks": ""
             }
            },
            "type": "scatterternary"
           }
          ],
          "surface": [
           {
            "colorbar": {
             "outlinewidth": 0,
             "ticks": ""
            },
            "colorscale": [
             [
              0,
              "#0d0887"
             ],
             [
              0.1111111111111111,
              "#46039f"
             ],
             [
              0.2222222222222222,
              "#7201a8"
             ],
             [
              0.3333333333333333,
              "#9c179e"
             ],
             [
              0.4444444444444444,
              "#bd3786"
             ],
             [
              0.5555555555555556,
              "#d8576b"
             ],
             [
              0.6666666666666666,
              "#ed7953"
             ],
             [
              0.7777777777777778,
              "#fb9f3a"
             ],
             [
              0.8888888888888888,
              "#fdca26"
             ],
             [
              1,
              "#f0f921"
             ]
            ],
            "type": "surface"
           }
          ],
          "table": [
           {
            "cells": {
             "fill": {
              "color": "#EBF0F8"
             },
             "line": {
              "color": "white"
             }
            },
            "header": {
             "fill": {
              "color": "#C8D4E3"
             },
             "line": {
              "color": "white"
             }
            },
            "type": "table"
           }
          ]
         },
         "layout": {
          "annotationdefaults": {
           "arrowcolor": "#2a3f5f",
           "arrowhead": 0,
           "arrowwidth": 1
          },
          "autotypenumbers": "strict",
          "coloraxis": {
           "colorbar": {
            "outlinewidth": 0,
            "ticks": ""
           }
          },
          "colorscale": {
           "diverging": [
            [
             0,
             "#8e0152"
            ],
            [
             0.1,
             "#c51b7d"
            ],
            [
             0.2,
             "#de77ae"
            ],
            [
             0.3,
             "#f1b6da"
            ],
            [
             0.4,
             "#fde0ef"
            ],
            [
             0.5,
             "#f7f7f7"
            ],
            [
             0.6,
             "#e6f5d0"
            ],
            [
             0.7,
             "#b8e186"
            ],
            [
             0.8,
             "#7fbc41"
            ],
            [
             0.9,
             "#4d9221"
            ],
            [
             1,
             "#276419"
            ]
           ],
           "sequential": [
            [
             0,
             "#0d0887"
            ],
            [
             0.1111111111111111,
             "#46039f"
            ],
            [
             0.2222222222222222,
             "#7201a8"
            ],
            [
             0.3333333333333333,
             "#9c179e"
            ],
            [
             0.4444444444444444,
             "#bd3786"
            ],
            [
             0.5555555555555556,
             "#d8576b"
            ],
            [
             0.6666666666666666,
             "#ed7953"
            ],
            [
             0.7777777777777778,
             "#fb9f3a"
            ],
            [
             0.8888888888888888,
             "#fdca26"
            ],
            [
             1,
             "#f0f921"
            ]
           ],
           "sequentialminus": [
            [
             0,
             "#0d0887"
            ],
            [
             0.1111111111111111,
             "#46039f"
            ],
            [
             0.2222222222222222,
             "#7201a8"
            ],
            [
             0.3333333333333333,
             "#9c179e"
            ],
            [
             0.4444444444444444,
             "#bd3786"
            ],
            [
             0.5555555555555556,
             "#d8576b"
            ],
            [
             0.6666666666666666,
             "#ed7953"
            ],
            [
             0.7777777777777778,
             "#fb9f3a"
            ],
            [
             0.8888888888888888,
             "#fdca26"
            ],
            [
             1,
             "#f0f921"
            ]
           ]
          },
          "colorway": [
           "#636efa",
           "#EF553B",
           "#00cc96",
           "#ab63fa",
           "#FFA15A",
           "#19d3f3",
           "#FF6692",
           "#B6E880",
           "#FF97FF",
           "#FECB52"
          ],
          "font": {
           "color": "#2a3f5f"
          },
          "geo": {
           "bgcolor": "white",
           "lakecolor": "white",
           "landcolor": "#E5ECF6",
           "showlakes": true,
           "showland": true,
           "subunitcolor": "white"
          },
          "hoverlabel": {
           "align": "left"
          },
          "hovermode": "closest",
          "mapbox": {
           "style": "light"
          },
          "paper_bgcolor": "white",
          "plot_bgcolor": "#E5ECF6",
          "polar": {
           "angularaxis": {
            "gridcolor": "white",
            "linecolor": "white",
            "ticks": ""
           },
           "bgcolor": "#E5ECF6",
           "radialaxis": {
            "gridcolor": "white",
            "linecolor": "white",
            "ticks": ""
           }
          },
          "scene": {
           "xaxis": {
            "backgroundcolor": "#E5ECF6",
            "gridcolor": "white",
            "gridwidth": 2,
            "linecolor": "white",
            "showbackground": true,
            "ticks": "",
            "zerolinecolor": "white"
           },
           "yaxis": {
            "backgroundcolor": "#E5ECF6",
            "gridcolor": "white",
            "gridwidth": 2,
            "linecolor": "white",
            "showbackground": true,
            "ticks": "",
            "zerolinecolor": "white"
           },
           "zaxis": {
            "backgroundcolor": "#E5ECF6",
            "gridcolor": "white",
            "gridwidth": 2,
            "linecolor": "white",
            "showbackground": true,
            "ticks": "",
            "zerolinecolor": "white"
           }
          },
          "shapedefaults": {
           "line": {
            "color": "#2a3f5f"
           }
          },
          "ternary": {
           "aaxis": {
            "gridcolor": "white",
            "linecolor": "white",
            "ticks": ""
           },
           "baxis": {
            "gridcolor": "white",
            "linecolor": "white",
            "ticks": ""
           },
           "bgcolor": "#E5ECF6",
           "caxis": {
            "gridcolor": "white",
            "linecolor": "white",
            "ticks": ""
           }
          },
          "title": {
           "x": 0.05
          },
          "xaxis": {
           "automargin": true,
           "gridcolor": "white",
           "linecolor": "white",
           "ticks": "",
           "title": {
            "standoff": 15
           },
           "zerolinecolor": "white",
           "zerolinewidth": 2
          },
          "yaxis": {
           "automargin": true,
           "gridcolor": "white",
           "linecolor": "white",
           "ticks": "",
           "title": {
            "standoff": 15
           },
           "zerolinecolor": "white",
           "zerolinewidth": 2
          }
         }
        },
        "title": {
         "font": {
          "size": 20
         },
         "text": "Count of Camera Fixtures for every mobile brand"
        },
        "width": 1400,
        "xaxis": {
         "anchor": "y",
         "domain": [
          0,
          1
         ],
         "title": {
          "text": "mobile_model"
         }
        },
        "yaxis": {
         "anchor": "x",
         "domain": [
          0,
          1
         ],
         "title": {
          "text": "Count of Camera Fixtures"
         }
        }
       }
      }
     },
     "metadata": {},
     "output_type": "display_data"
    }
   ],
   "source": [
    "fig=px.histogram(data,x=\"mobile_model\",color=\"camera\",title=\"Count of Camera Fixtures for every mobile brand\",\n",
    "                color_discrete_sequence=px.colors.qualitative.Vivid,\n",
    "                width=1400, height=800)\n",
    "fig.update_layout(title_font_size=20, yaxis_title= 'Count of Camera Fixtures')\n",
    "fig.show()"
   ]
  },
  {
   "cell_type": "code",
   "execution_count": 38,
   "metadata": {},
   "outputs": [
    {
     "data": {
      "text/html": [
       "<div>\n",
       "<style scoped>\n",
       "    .dataframe tbody tr th:only-of-type {\n",
       "        vertical-align: middle;\n",
       "    }\n",
       "\n",
       "    .dataframe tbody tr th {\n",
       "        vertical-align: top;\n",
       "    }\n",
       "\n",
       "    .dataframe thead th {\n",
       "        text-align: right;\n",
       "    }\n",
       "</style>\n",
       "<table border=\"1\" class=\"dataframe\">\n",
       "  <thead>\n",
       "    <tr style=\"text-align: right;\">\n",
       "      <th></th>\n",
       "      <th>screen_length_inches</th>\n",
       "      <th>pixels</th>\n",
       "      <th>processor_name</th>\n",
       "      <th>processor</th>\n",
       "      <th>core</th>\n",
       "      <th>mobile_model</th>\n",
       "      <th>model_spec_name</th>\n",
       "      <th>price</th>\n",
       "      <th>os</th>\n",
       "      <th>battery</th>\n",
       "      <th>card</th>\n",
       "      <th>camera</th>\n",
       "      <th>sim</th>\n",
       "      <th>rating</th>\n",
       "      <th>ram</th>\n",
       "      <th>rom</th>\n",
       "    </tr>\n",
       "  </thead>\n",
       "  <tbody>\n",
       "    <tr>\n",
       "      <th>0</th>\n",
       "      <td>6.70</td>\n",
       "      <td>120 Hz Display with Punch Hole</td>\n",
       "      <td>Snapdragon 8 Gen2</td>\n",
       "      <td>Snapdragon</td>\n",
       "      <td>3.2?GHz Processor</td>\n",
       "      <td>OnePlus</td>\n",
       "      <td>115G</td>\n",
       "      <td>54999</td>\n",
       "      <td>Android v13</td>\n",
       "      <td>5000?mAh Battery with 100W Fast Charging</td>\n",
       "      <td>Memory Card Not Supported</td>\n",
       "      <td>50?MP + 48?MP + 32?MP Triple Rear &amp; 16?MP Fron...</td>\n",
       "      <td>Dual Sim, 3G, 4G, 5G, VoLTE, Wi-Fi, NFC</td>\n",
       "      <td>89</td>\n",
       "      <td>12</td>\n",
       "      <td>256</td>\n",
       "    </tr>\n",
       "    <tr>\n",
       "      <th>1</th>\n",
       "      <td>6.59</td>\n",
       "      <td>120 Hz Display with Punch Hole</td>\n",
       "      <td>Snapdragon 695</td>\n",
       "      <td>Snapdragon</td>\n",
       "      <td>2.2?GHz Processor</td>\n",
       "      <td>OnePlus</td>\n",
       "      <td>NordCE2Lite5G</td>\n",
       "      <td>19989</td>\n",
       "      <td>Android v12</td>\n",
       "      <td>5000?mAh Battery with 33W Fast Charging</td>\n",
       "      <td>Memory Card (Hybrid), upto 1?TB</td>\n",
       "      <td>64?MP + 2?MP + 2?MP Triple Rear &amp; 16?MP Front ...</td>\n",
       "      <td>Dual Sim, 3G, 4G, 5G, VoLTE, Wi-Fi</td>\n",
       "      <td>81</td>\n",
       "      <td>6</td>\n",
       "      <td>128</td>\n",
       "    </tr>\n",
       "    <tr>\n",
       "      <th>2</th>\n",
       "      <td>6.60</td>\n",
       "      <td>90 Hz Display with Water Drop Notch</td>\n",
       "      <td>Exynos 1330</td>\n",
       "      <td>Exynos</td>\n",
       "      <td>2.4?GHz Processor</td>\n",
       "      <td>Samsung</td>\n",
       "      <td>GalaxyA145G</td>\n",
       "      <td>16499</td>\n",
       "      <td>Android v13</td>\n",
       "      <td>5000?mAh Battery with 15W Fast Charging</td>\n",
       "      <td>Memory Card Supported, upto 1?TB</td>\n",
       "      <td>50?MP + 2?MP + 2?MP Triple Rear &amp; 13?MP Front ...</td>\n",
       "      <td>Dual Sim, 3G, 4G, 5G, VoLTE, Wi-Fi</td>\n",
       "      <td>75</td>\n",
       "      <td>4</td>\n",
       "      <td>64</td>\n",
       "    </tr>\n",
       "    <tr>\n",
       "      <th>3</th>\n",
       "      <td>6.55</td>\n",
       "      <td>120 Hz Display with Punch Hole</td>\n",
       "      <td>Snapdragon  695</td>\n",
       "      <td>Snapdragon</td>\n",
       "      <td>2.2?GHz Processor</td>\n",
       "      <td>Motorola</td>\n",
       "      <td>MotoG625G</td>\n",
       "      <td>14999</td>\n",
       "      <td>Android v12</td>\n",
       "      <td>5000?mAh Battery with Fast Charging</td>\n",
       "      <td>Memory Card (Hybrid), upto 1?TB</td>\n",
       "      <td>50?MP + 8?MP + 2?MP Triple Rear &amp; 16?MP Front ...</td>\n",
       "      <td>Dual Sim, 3G, 4G, 5G, VoLTE, Wi-Fi</td>\n",
       "      <td>81</td>\n",
       "      <td>6</td>\n",
       "      <td>128</td>\n",
       "    </tr>\n",
       "    <tr>\n",
       "      <th>4</th>\n",
       "      <td>6.70</td>\n",
       "      <td>120 Hz Display with Punch Hole</td>\n",
       "      <td>Dimensity 1080</td>\n",
       "      <td>Dimensity</td>\n",
       "      <td>2.6?GHz Processor</td>\n",
       "      <td>Realme</td>\n",
       "      <td>10ProPlus</td>\n",
       "      <td>24999</td>\n",
       "      <td>Android v13</td>\n",
       "      <td>5000?mAh Battery with 67W Fast Charging</td>\n",
       "      <td>Memory Card Not Supported</td>\n",
       "      <td>108?MP + 8?MP + 2?MP Triple Rear &amp; 16?MP Front...</td>\n",
       "      <td>Dual Sim, 3G, 4G, 5G, VoLTE, Wi-Fi</td>\n",
       "      <td>82</td>\n",
       "      <td>6</td>\n",
       "      <td>128</td>\n",
       "    </tr>\n",
       "    <tr>\n",
       "      <th>...</th>\n",
       "      <td>...</td>\n",
       "      <td>...</td>\n",
       "      <td>...</td>\n",
       "      <td>...</td>\n",
       "      <td>...</td>\n",
       "      <td>...</td>\n",
       "      <td>...</td>\n",
       "      <td>...</td>\n",
       "      <td>...</td>\n",
       "      <td>...</td>\n",
       "      <td>...</td>\n",
       "      <td>...</td>\n",
       "      <td>...</td>\n",
       "      <td>...</td>\n",
       "      <td>...</td>\n",
       "      <td>...</td>\n",
       "    </tr>\n",
       "    <tr>\n",
       "      <th>863</th>\n",
       "      <td>6.67</td>\n",
       "      <td>120 Hz Display with Punch Hole</td>\n",
       "      <td>Snapdragon 8 Gen1</td>\n",
       "      <td>Snapdragon</td>\n",
       "      <td>3?GHz Processor</td>\n",
       "      <td>Motorola</td>\n",
       "      <td>MotoEdgeS30Pro</td>\n",
       "      <td>34990</td>\n",
       "      <td>No FM Radio</td>\n",
       "      <td>5000?mAh Battery with 68.2W Fast Charging</td>\n",
       "      <td>Android v12</td>\n",
       "      <td>64?MP + 8?MP + 2?MP Triple Rear &amp; 16?MP Front ...</td>\n",
       "      <td>Dual Sim, 3G, 4G, 5G, VoLTE, Wi-Fi</td>\n",
       "      <td>83</td>\n",
       "      <td>8</td>\n",
       "      <td>128</td>\n",
       "    </tr>\n",
       "    <tr>\n",
       "      <th>864</th>\n",
       "      <td>6.50</td>\n",
       "      <td>720?x?1600?px Display with Water Drop Notch</td>\n",
       "      <td>Snapdragon  480+</td>\n",
       "      <td>Snapdragon</td>\n",
       "      <td>2.2?GHz Processor</td>\n",
       "      <td>Honor</td>\n",
       "      <td>X85G</td>\n",
       "      <td>14990</td>\n",
       "      <td>Android v11</td>\n",
       "      <td>5000?mAh Battery with 22.5W Fast Charging</td>\n",
       "      <td>Memory Card Supported, upto 1?TB</td>\n",
       "      <td>48?MP + 2?MP + Depth Sensor Triple Rear &amp; 8?MP...</td>\n",
       "      <td>Dual Sim, 3G, 4G, 5G, VoLTE, Wi-Fi</td>\n",
       "      <td>75</td>\n",
       "      <td>6</td>\n",
       "      <td>128</td>\n",
       "    </tr>\n",
       "    <tr>\n",
       "      <th>865</th>\n",
       "      <td>6.60</td>\n",
       "      <td>144 Hz Display with Punch Hole</td>\n",
       "      <td>Dimensity 8100</td>\n",
       "      <td>Dimensity</td>\n",
       "      <td>2.85?GHz Processor</td>\n",
       "      <td>POCO</td>\n",
       "      <td>X4GT5G(8GBRAM+256GB)</td>\n",
       "      <td>28990</td>\n",
       "      <td>Android v12</td>\n",
       "      <td>5080?mAh Battery with 67W Fast Charging</td>\n",
       "      <td>Memory Card Not Supported</td>\n",
       "      <td>64?MP + 8?MP + 2?MP Triple Rear &amp; 16?MP Front ...</td>\n",
       "      <td>Dual Sim, 3G, 4G, 5G, VoLTE, Wi-Fi, NFC, IR Bl...</td>\n",
       "      <td>85</td>\n",
       "      <td>8</td>\n",
       "      <td>256</td>\n",
       "    </tr>\n",
       "    <tr>\n",
       "      <th>866</th>\n",
       "      <td>6.80</td>\n",
       "      <td>1080?x?2400?px Display with Punch Hole</td>\n",
       "      <td>Snapdragon 695</td>\n",
       "      <td>Snapdragon</td>\n",
       "      <td>2.2?GHz Processor</td>\n",
       "      <td>Motorola</td>\n",
       "      <td>MotoG915G</td>\n",
       "      <td>19990</td>\n",
       "      <td>Android v12</td>\n",
       "      <td>5000?mAh Battery with Fast Charging</td>\n",
       "      <td>Memory Card Supported, upto 1?TB</td>\n",
       "      <td>108?MP + 8?MP + 2?MP Triple Rear &amp; 32?MP Front...</td>\n",
       "      <td>Dual Sim, 3G, 4G, 5G, VoLTE, Wi-Fi, NFC</td>\n",
       "      <td>80</td>\n",
       "      <td>6</td>\n",
       "      <td>128</td>\n",
       "    </tr>\n",
       "    <tr>\n",
       "      <th>867</th>\n",
       "      <td>6.50</td>\n",
       "      <td>1080?x?2400?px Display with Water Drop Notch</td>\n",
       "      <td>Octa Core Processor</td>\n",
       "      <td>Octa</td>\n",
       "      <td>Octa Core Processor</td>\n",
       "      <td>Samsung</td>\n",
       "      <td>GalaxyM52s5G</td>\n",
       "      <td>24990</td>\n",
       "      <td>Android v12</td>\n",
       "      <td>5000?mAh Battery with Fast Charging</td>\n",
       "      <td>Memory Card Supported, upto 1?TB</td>\n",
       "      <td>64?MP + 8?MP + 5?MP Triple Rear &amp; 32?MP Front ...</td>\n",
       "      <td>Dual Sim, 3G, 4G, 5G, VoLTE, Wi-Fi</td>\n",
       "      <td>74</td>\n",
       "      <td>8</td>\n",
       "      <td>128</td>\n",
       "    </tr>\n",
       "  </tbody>\n",
       "</table>\n",
       "<p>868 rows × 16 columns</p>\n",
       "</div>"
      ],
      "text/plain": [
       "     screen_length_inches                                         pixels  \\\n",
       "0                    6.70                 120 Hz Display with Punch Hole   \n",
       "1                    6.59                 120 Hz Display with Punch Hole   \n",
       "2                    6.60            90 Hz Display with Water Drop Notch   \n",
       "3                    6.55                 120 Hz Display with Punch Hole   \n",
       "4                    6.70                 120 Hz Display with Punch Hole   \n",
       "..                    ...                                            ...   \n",
       "863                  6.67                 120 Hz Display with Punch Hole   \n",
       "864                  6.50    720?x?1600?px Display with Water Drop Notch   \n",
       "865                  6.60                 144 Hz Display with Punch Hole   \n",
       "866                  6.80         1080?x?2400?px Display with Punch Hole   \n",
       "867                  6.50   1080?x?2400?px Display with Water Drop Notch   \n",
       "\n",
       "          processor_name   processor                 core mobile_model  \\\n",
       "0      Snapdragon 8 Gen2  Snapdragon    3.2?GHz Processor      OnePlus   \n",
       "1         Snapdragon 695  Snapdragon    2.2?GHz Processor      OnePlus   \n",
       "2            Exynos 1330      Exynos    2.4?GHz Processor      Samsung   \n",
       "3        Snapdragon  695  Snapdragon    2.2?GHz Processor     Motorola   \n",
       "4         Dimensity 1080   Dimensity    2.6?GHz Processor       Realme   \n",
       "..                   ...         ...                  ...          ...   \n",
       "863    Snapdragon 8 Gen1  Snapdragon      3?GHz Processor     Motorola   \n",
       "864     Snapdragon  480+  Snapdragon    2.2?GHz Processor        Honor   \n",
       "865       Dimensity 8100   Dimensity   2.85?GHz Processor         POCO   \n",
       "866       Snapdragon 695  Snapdragon    2.2?GHz Processor     Motorola   \n",
       "867  Octa Core Processor        Octa  Octa Core Processor      Samsung   \n",
       "\n",
       "          model_spec_name  price           os  \\\n",
       "0                    115G  54999  Android v13   \n",
       "1           NordCE2Lite5G  19989  Android v12   \n",
       "2             GalaxyA145G  16499  Android v13   \n",
       "3               MotoG625G  14999  Android v12   \n",
       "4               10ProPlus  24999  Android v13   \n",
       "..                    ...    ...          ...   \n",
       "863        MotoEdgeS30Pro  34990  No FM Radio   \n",
       "864                  X85G  14990  Android v11   \n",
       "865  X4GT5G(8GBRAM+256GB)  28990  Android v12   \n",
       "866             MotoG915G  19990  Android v12   \n",
       "867          GalaxyM52s5G  24990  Android v12   \n",
       "\n",
       "                                       battery  \\\n",
       "0     5000?mAh Battery with 100W Fast Charging   \n",
       "1      5000?mAh Battery with 33W Fast Charging   \n",
       "2      5000?mAh Battery with 15W Fast Charging   \n",
       "3          5000?mAh Battery with Fast Charging   \n",
       "4      5000?mAh Battery with 67W Fast Charging   \n",
       "..                                         ...   \n",
       "863  5000?mAh Battery with 68.2W Fast Charging   \n",
       "864  5000?mAh Battery with 22.5W Fast Charging   \n",
       "865    5080?mAh Battery with 67W Fast Charging   \n",
       "866        5000?mAh Battery with Fast Charging   \n",
       "867        5000?mAh Battery with Fast Charging   \n",
       "\n",
       "                                 card  \\\n",
       "0           Memory Card Not Supported   \n",
       "1     Memory Card (Hybrid), upto 1?TB   \n",
       "2    Memory Card Supported, upto 1?TB   \n",
       "3     Memory Card (Hybrid), upto 1?TB   \n",
       "4           Memory Card Not Supported   \n",
       "..                                ...   \n",
       "863                       Android v12   \n",
       "864  Memory Card Supported, upto 1?TB   \n",
       "865         Memory Card Not Supported   \n",
       "866  Memory Card Supported, upto 1?TB   \n",
       "867  Memory Card Supported, upto 1?TB   \n",
       "\n",
       "                                                camera  \\\n",
       "0    50?MP + 48?MP + 32?MP Triple Rear & 16?MP Fron...   \n",
       "1    64?MP + 2?MP + 2?MP Triple Rear & 16?MP Front ...   \n",
       "2    50?MP + 2?MP + 2?MP Triple Rear & 13?MP Front ...   \n",
       "3    50?MP + 8?MP + 2?MP Triple Rear & 16?MP Front ...   \n",
       "4    108?MP + 8?MP + 2?MP Triple Rear & 16?MP Front...   \n",
       "..                                                 ...   \n",
       "863  64?MP + 8?MP + 2?MP Triple Rear & 16?MP Front ...   \n",
       "864  48?MP + 2?MP + Depth Sensor Triple Rear & 8?MP...   \n",
       "865  64?MP + 8?MP + 2?MP Triple Rear & 16?MP Front ...   \n",
       "866  108?MP + 8?MP + 2?MP Triple Rear & 32?MP Front...   \n",
       "867  64?MP + 8?MP + 5?MP Triple Rear & 32?MP Front ...   \n",
       "\n",
       "                                                   sim  rating  ram  rom  \n",
       "0              Dual Sim, 3G, 4G, 5G, VoLTE, Wi-Fi, NFC      89   12  256  \n",
       "1                   Dual Sim, 3G, 4G, 5G, VoLTE, Wi-Fi      81    6  128  \n",
       "2                   Dual Sim, 3G, 4G, 5G, VoLTE, Wi-Fi      75    4   64  \n",
       "3                   Dual Sim, 3G, 4G, 5G, VoLTE, Wi-Fi      81    6  128  \n",
       "4                   Dual Sim, 3G, 4G, 5G, VoLTE, Wi-Fi      82    6  128  \n",
       "..                                                 ...     ...  ...  ...  \n",
       "863                 Dual Sim, 3G, 4G, 5G, VoLTE, Wi-Fi      83    8  128  \n",
       "864                 Dual Sim, 3G, 4G, 5G, VoLTE, Wi-Fi      75    6  128  \n",
       "865  Dual Sim, 3G, 4G, 5G, VoLTE, Wi-Fi, NFC, IR Bl...      85    8  256  \n",
       "866            Dual Sim, 3G, 4G, 5G, VoLTE, Wi-Fi, NFC      80    6  128  \n",
       "867                 Dual Sim, 3G, 4G, 5G, VoLTE, Wi-Fi      74    8  128  \n",
       "\n",
       "[868 rows x 16 columns]"
      ]
     },
     "execution_count": 38,
     "metadata": {},
     "output_type": "execute_result"
    }
   ],
   "source": [
    "data_heatmap = pd.read_csv('smartphone_data_cleaned.csv')\n",
    "data_heatmap"
   ]
  },
  {
   "cell_type": "code",
   "execution_count": 39,
   "metadata": {},
   "outputs": [
    {
     "data": {
      "image/png": "[encoded data removed]",
      "text/plain": [
       "<Figure size 700x500 with 2 Axes>"
      ]
     },
     "metadata": {},
     "output_type": "display_data"
    }
   ],
   "source": [
    "import seaborn as sns\n",
    "import matplotlib.pyplot as plt\n",
    "selected_columns = ['screen_length_inches','rating', 'ram', 'rom']\n",
    "# Convert selected columns to float data type\n",
    "data_heatmap[selected_columns] = data_heatmap[selected_columns].astype(float)\n",
    "\n",
    "# Create a correlation matrix\n",
    "correlation_matrix = data_heatmap[selected_columns].corr()\n",
    "\n",
    "# Set up the matplotlib figure\n",
    "plt.figure(figsize=(7, 5))\n",
    "\n",
    "\n",
    "# Create a heatmap using Seaborn\n",
    "sns.heatmap(correlation_matrix, annot=True, cmap=\"viridis\", fmt=\".2f\", xticklabels=True, yticklabels=True, linewidths=.5, annot_kws={\"size\":11 })\n",
    "# Show the plot\n",
    "plt.show()\n"
   ]
  },
  {
   "cell_type": "code",
   "execution_count": 40,
   "metadata": {},
   "outputs": [
    {
     "name": "stdout",
     "output_type": "stream",
     "text": [
      "                      screen_length_inches    rating       ram       rom\n",
      "screen_length_inches              1.000000  0.300052  0.066789  0.224295\n",
      "rating                            0.300052  1.000000  0.120424  0.601387\n",
      "ram                               0.066789  0.120424  1.000000  0.272113\n",
      "rom                               0.224295  0.601387  0.272113  1.000000\n"
     ]
    }
   ],
   "source": [
    "print(correlation_matrix)"
   ]
  }
 ],
 "metadata": {
  "kernelspec": {
   "display_name": "base",
   "language": "python",
   "name": "python3"
  },
  "language_info": {
   "codemirror_mode": {
    "name": "ipython",
    "version": 3
   },
   "file_extension": ".py",
   "mimetype": "text/x-python",
   "name": "python",
   "nbconvert_exporter": "python",
   "pygments_lexer": "ipython3",
   "version": "3.11.5"
  },
  "orig_nbformat": 4
 },
 "nbformat": 4,
 "nbformat_minor": 2
}
